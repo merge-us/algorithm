{
 "cells": [
  {
   "cell_type": "code",
   "execution_count": 4,
   "id": "2788eb58-9b65-47e6-b408-0bcc0eed59a4",
   "metadata": {},
   "outputs": [
    {
     "name": "stdin",
     "output_type": "stream",
     "text": [
      " 26\n"
     ]
    },
    {
     "name": "stdout",
     "output_type": "stream",
     "text": [
      "6\n"
     ]
    }
   ],
   "source": [
    "n = int(input())\n",
    "\n",
    "if n % 5 == 0:\n",
    "    print(int(n / 5))\n",
    "else:\n",
    "    cnt_five = n // 5\n",
    "    \n",
    "    while cnt_five > 0:\n",
    "        if (n - (cnt_five * 5)) % 3 == 0:\n",
    "            n = n - (cnt_five * 5)\n",
    "            break\n",
    "    \n",
    "        cnt_five -= 1\n",
    "\n",
    "    if n % 3 == 0:\n",
    "        print(int(cnt_five + (n / 3)))\n",
    "    else:\n",
    "        print(-1)"
   ]
  },
  {
   "cell_type": "code",
   "execution_count": 6,
   "id": "73cc8851-b0d2-43e1-b750-5362b86610e3",
   "metadata": {},
   "outputs": [
    {
     "name": "stdin",
     "output_type": "stream",
     "text": [
      " 3\n"
     ]
    },
    {
     "name": "stdout",
     "output_type": "stream",
     "text": [
      "1\n"
     ]
    }
   ],
   "source": [
    "n = int(input())\n",
    "\n",
    "for five_count in range(n // 5, -1, -1):\n",
    "    remain = n - (five_count * 5)\n",
    "\n",
    "    if remain % 3 == 0:\n",
    "        three_count = remain // 3\n",
    "        print(five_count + three_count)\n",
    "        break\n",
    "else:\n",
    "    print(-1)"
   ]
  },
  {
   "cell_type": "code",
   "execution_count": null,
   "id": "6ae8b7cd-266b-427e-a27c-edde88f33891",
   "metadata": {},
   "outputs": [],
   "source": []
  }
 ],
 "metadata": {
  "kernelspec": {
   "display_name": "Python 3 (ipykernel)",
   "language": "python",
   "name": "python3"
  },
  "language_info": {
   "codemirror_mode": {
    "name": "ipython",
    "version": 3
   },
   "file_extension": ".py",
   "mimetype": "text/x-python",
   "name": "python",
   "nbconvert_exporter": "python",
   "pygments_lexer": "ipython3",
   "version": "3.12.10"
  }
 },
 "nbformat": 4,
 "nbformat_minor": 5
}
