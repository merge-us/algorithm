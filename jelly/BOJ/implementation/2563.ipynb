{
 "cells": [
  {
   "cell_type": "code",
   "execution_count": null,
   "id": "ab256f0e-a364-4789-ac33-a30b6f4af3fe",
   "metadata": {},
   "outputs": [],
   "source": [
    "size = 100\n",
    "\n",
    "board = [[0] * size for _ in range(size)]\n",
    "\n",
    "n = int(input())\n",
    "\n",
    "for _ in range(n):\n",
    "    x, y = map(int, input().split())\n",
    "\n",
    "    for i in range(10):\n",
    "        for j in range(10):\n",
    "            board[x + i][y + j] = 1\n",
    "\n",
    "result = 0\n",
    "\n",
    "for i in range(size):\n",
    "    for j in range(size):\n",
    "        if board[i][j] == 1:\n",
    "            result += 1\n",
    "\n",
    "print(result)"
   ]
  }
 ],
 "metadata": {
  "kernelspec": {
   "display_name": "Python 3 (ipykernel)",
   "language": "python",
   "name": "python3"
  },
  "language_info": {
   "codemirror_mode": {
    "name": "ipython",
    "version": 3
   },
   "file_extension": ".py",
   "mimetype": "text/x-python",
   "name": "python",
   "nbconvert_exporter": "python",
   "pygments_lexer": "ipython3",
   "version": "3.12.2"
  }
 },
 "nbformat": 4,
 "nbformat_minor": 5
}
