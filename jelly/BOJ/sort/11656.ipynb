{
 "cells": [
  {
   "cell_type": "code",
   "execution_count": 6,
   "id": "d66c149c-0115-48a6-b4b8-f4aec4d9314a",
   "metadata": {},
   "outputs": [
    {
     "name": "stdin",
     "output_type": "stream",
     "text": [
      " baekjoon\n"
     ]
    },
    {
     "name": "stdout",
     "output_type": "stream",
     "text": [
      "aekjoon\n",
      "baekjoon\n",
      "ekjoon\n",
      "joon\n",
      "kjoon\n",
      "n\n",
      "on\n",
      "oon\n"
     ]
    }
   ],
   "source": [
    "word = input()\n",
    "\n",
    "data = []\n",
    "\n",
    "for i in range(0, len(word)):\n",
    "    data.append(word[i:])\n",
    "\n",
    "data.sort()\n",
    "\n",
    "print(\"\\n\".join(data))"
   ]
  },
  {
   "cell_type": "code",
   "execution_count": 8,
   "id": "249a6348-764d-4f15-8fd1-83683c22ae60",
   "metadata": {},
   "outputs": [
    {
     "name": "stdin",
     "output_type": "stream",
     "text": [
      " baekjoon\n"
     ]
    },
    {
     "name": "stdout",
     "output_type": "stream",
     "text": [
      "aekjoon\n",
      "baekjoon\n",
      "ekjoon\n",
      "joon\n",
      "kjoon\n",
      "n\n",
      "on\n",
      "oon\n"
     ]
    }
   ],
   "source": [
    "word = input()\n",
    "\n",
    "print(\"\\n\".join(sorted(word[i:] for i in range(len(word)))))"
   ]
  },
  {
   "cell_type": "code",
   "execution_count": null,
   "id": "31b4a136-a3fd-4d6b-8228-4acc7e09ce8d",
   "metadata": {},
   "outputs": [],
   "source": [
    "."
   ]
  }
 ],
 "metadata": {
  "kernelspec": {
   "display_name": "Python 3 (ipykernel)",
   "language": "python",
   "name": "python3"
  },
  "language_info": {
   "codemirror_mode": {
    "name": "ipython",
    "version": 3
   },
   "file_extension": ".py",
   "mimetype": "text/x-python",
   "name": "python",
   "nbconvert_exporter": "python",
   "pygments_lexer": "ipython3",
   "version": "3.12.2"
  }
 },
 "nbformat": 4,
 "nbformat_minor": 5
}
