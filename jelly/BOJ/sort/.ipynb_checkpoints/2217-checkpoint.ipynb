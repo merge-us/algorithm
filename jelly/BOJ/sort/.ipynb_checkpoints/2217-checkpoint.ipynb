{
 "cells": [
  {
   "cell_type": "code",
   "execution_count": 2,
   "id": "57c2c3ed-2f7b-4eec-b24f-9b017f2d2d4a",
   "metadata": {},
   "outputs": [
    {
     "name": "stdin",
     "output_type": "stream",
     "text": [
      " 2\n",
      " 10\n",
      " 15\n"
     ]
    },
    {
     "name": "stdout",
     "output_type": "stream",
     "text": [
      "20\n"
     ]
    }
   ],
   "source": [
    "import sys\n",
    "input = sys.stdin.readline\n",
    "\n",
    "n = int(input().rstrip())\n",
    "data = []\n",
    "for _ in range(n):\n",
    "    data.append(int(input().rstrip()))\n",
    "\n",
    "data.sort()\n",
    "\n",
    "max_value = data[0] * n\n",
    "for i in range(1, n):\n",
    "    max_value = max(max_value, data[i] * (n - i))\n",
    "\n",
    "print(max_value)"
   ]
  },
  {
   "cell_type": "code",
   "execution_count": null,
   "id": "37330c53-3c40-4bd3-bc18-c8528b8b7a79",
   "metadata": {},
   "outputs": [],
   "source": [
    "import sys\n",
    "input = sys.stdin.readline\n",
    "\n",
    "n = int(input().rstrip())\n",
    "data = []\n",
    "for _ in range(n):\n",
    "    data.append(int(input().rstrip()))\n",
    "\n",
    "data.sort(reverse=True)\n",
    "\n",
    "max_value = 0\n",
    "for i in range(n):\n",
    "    max_value = max(max_value, data[i] * (i + 1))\n",
    "\n",
    "print(max_value)"
   ]
  }
 ],
 "metadata": {
  "kernelspec": {
   "display_name": "Python 3 (ipykernel)",
   "language": "python",
   "name": "python3"
  },
  "language_info": {
   "codemirror_mode": {
    "name": "ipython",
    "version": 3
   },
   "file_extension": ".py",
   "mimetype": "text/x-python",
   "name": "python",
   "nbconvert_exporter": "python",
   "pygments_lexer": "ipython3",
   "version": "3.12.2"
  }
 },
 "nbformat": 4,
 "nbformat_minor": 5
}
