{
 "cells": [
  {
   "cell_type": "code",
   "execution_count": 1,
   "id": "040f9199-3bbf-46af-83f0-a5242d30deb4",
   "metadata": {},
   "outputs": [
    {
     "name": "stdin",
     "output_type": "stream",
     "text": [
      " 3 4\n",
      " ohhenrie\n",
      " charlie\n",
      " baesangwook\n",
      " obama\n",
      " baesangwook\n",
      " ohhenrie\n",
      " clinton\n"
     ]
    },
    {
     "name": "stdout",
     "output_type": "stream",
     "text": [
      "2\n",
      "baesangwook\n",
      "ohhenrie\n"
     ]
    }
   ],
   "source": [
    "import sys\n",
    "input = sys.stdin.readline\n",
    "\n",
    "n, m = map(int, input().rstrip().split())\n",
    "\n",
    "never_heard = set()\n",
    "never_seen = set()\n",
    "\n",
    "for _ in range(n):\n",
    "    never_heard.add(input().rstrip())\n",
    "for _ in range(m):\n",
    "    never_seen.add(input().rstrip())\n",
    "\n",
    "never_both = sorted(list(never_heard & never_seen))\n",
    "print(len(never_both))\n",
    "for ps in never_both:\n",
    "    print(ps)\n"
   ]
  },
  {
   "cell_type": "code",
   "execution_count": null,
   "id": "b6caaaa2-32ab-404d-8456-53b6b4f5cc4f",
   "metadata": {},
   "outputs": [],
   "source": []
  }
 ],
 "metadata": {
  "kernelspec": {
   "display_name": "Python 3 (ipykernel)",
   "language": "python",
   "name": "python3"
  },
  "language_info": {
   "codemirror_mode": {
    "name": "ipython",
    "version": 3
   },
   "file_extension": ".py",
   "mimetype": "text/x-python",
   "name": "python",
   "nbconvert_exporter": "python",
   "pygments_lexer": "ipython3",
   "version": "3.12.2"
  }
 },
 "nbformat": 4,
 "nbformat_minor": 5
}
