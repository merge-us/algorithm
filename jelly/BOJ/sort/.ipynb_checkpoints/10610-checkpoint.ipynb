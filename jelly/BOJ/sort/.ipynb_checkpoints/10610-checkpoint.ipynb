{
 "cells": [
  {
   "cell_type": "code",
   "execution_count": 5,
   "id": "4a6f4ea5-18c3-4685-9c29-aa6a7092566b",
   "metadata": {},
   "outputs": [
    {
     "name": "stdin",
     "output_type": "stream",
     "text": [
      " 80875542\n"
     ]
    },
    {
     "name": "stdout",
     "output_type": "stream",
     "text": [
      "88755420\n"
     ]
    }
   ],
   "source": [
    "n = input()\n",
    "data = [int(c) for c in n]\n",
    "\n",
    "data.sort(reverse=True)\n",
    "\n",
    "if data[-1] != 0 or (sum(data) % 3) != 0:\n",
    "    print(-1)\n",
    "else:\n",
    "    print(\"\".join(map(str, data)))\n",
    "\n"
   ]
  },
  {
   "cell_type": "code",
   "execution_count": 9,
   "id": "8384c083-b756-4a51-816c-0dd85b994e42",
   "metadata": {},
   "outputs": [
    {
     "name": "stdin",
     "output_type": "stream",
     "text": [
      " 80875542\n"
     ]
    },
    {
     "name": "stdout",
     "output_type": "stream",
     "text": [
      "['8', '8', '7', '5', '5', '4', '2', '0']\n",
      "88755420\n"
     ]
    }
   ],
   "source": [
    "n = input()\n",
    "data = sorted(n, reverse=True)\n",
    "total_sum = sum(map(int, data))\n",
    "\n",
    "if total_sum % 3 != 0 or '0' not in data:\n",
    "    print(-1)\n",
    "else:\n",
    "    print(\"\".join(data))\n"
   ]
  },
  {
   "cell_type": "code",
   "execution_count": null,
   "id": "e522a04a-39f4-462a-a665-5f189885274c",
   "metadata": {},
   "outputs": [],
   "source": []
  }
 ],
 "metadata": {
  "kernelspec": {
   "display_name": "Python 3 (ipykernel)",
   "language": "python",
   "name": "python3"
  },
  "language_info": {
   "codemirror_mode": {
    "name": "ipython",
    "version": 3
   },
   "file_extension": ".py",
   "mimetype": "text/x-python",
   "name": "python",
   "nbconvert_exporter": "python",
   "pygments_lexer": "ipython3",
   "version": "3.12.2"
  }
 },
 "nbformat": 4,
 "nbformat_minor": 5
}
