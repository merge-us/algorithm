{
 "cells": [
  {
   "cell_type": "code",
   "execution_count": 6,
   "id": "cb2655dd-673a-4841-8a00-3d8f810b0c8b",
   "metadata": {},
   "outputs": [
    {
     "name": "stdin",
     "output_type": "stream",
     "text": [
      " 6\n",
      " 1000 999 1000 999 1000 999\n"
     ]
    },
    {
     "name": "stdout",
     "output_type": "stream",
     "text": [
      "1 0 1 0 1 0 "
     ]
    }
   ],
   "source": [
    "from bisect import bisect_left\n",
    "\n",
    "n = int(input())\n",
    "data = list(map(int, input().split()))\n",
    "sorted_data = sorted(set(data))\n",
    "\n",
    "for i in data:\n",
    "    print(bisect_left(sorted_data, i), end=' ')"
   ]
  },
  {
   "cell_type": "code",
   "execution_count": 11,
   "id": "32b8cd34-671a-471c-9cdd-f569046385dc",
   "metadata": {},
   "outputs": [
    {
     "name": "stdin",
     "output_type": "stream",
     "text": [
      " 6\n",
      " 1000 999 1000 999 1000 999\n"
     ]
    },
    {
     "name": "stdout",
     "output_type": "stream",
     "text": [
      "1 0 1 0 1 0\n"
     ]
    }
   ],
   "source": [
    "n = int(input())\n",
    "data = list(map(int, input().split()))\n",
    "sorted_data = sorted(set(data))\n",
    "\n",
    "compressed = {value: idx for idx, value in enumerate(sorted_data)}\n",
    "\n",
    "print(\" \".join(map(str, (compressed[num] for num in data))))"
   ]
  },
  {
   "cell_type": "markdown",
   "id": "4b20a982-d58b-47c5-a8b3-f240787fa782",
   "metadata": {},
   "source": [
    "###### "
   ]
  }
 ],
 "metadata": {
  "kernelspec": {
   "display_name": "Python 3 (ipykernel)",
   "language": "python",
   "name": "python3"
  },
  "language_info": {
   "codemirror_mode": {
    "name": "ipython",
    "version": 3
   },
   "file_extension": ".py",
   "mimetype": "text/x-python",
   "name": "python",
   "nbconvert_exporter": "python",
   "pygments_lexer": "ipython3",
   "version": "3.12.2"
  }
 },
 "nbformat": 4,
 "nbformat_minor": 5
}
