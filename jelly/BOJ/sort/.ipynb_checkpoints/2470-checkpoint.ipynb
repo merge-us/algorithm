{
 "cells": [
  {
   "cell_type": "code",
   "execution_count": 7,
   "id": "e6298963-b075-4cb3-b81c-cccb973845f3",
   "metadata": {},
   "outputs": [
    {
     "name": "stdin",
     "output_type": "stream",
     "text": [
      " 5\n",
      " -99 -2 -1 4 98\n"
     ]
    },
    {
     "name": "stdout",
     "output_type": "stream",
     "text": [
      "-99 98\n"
     ]
    }
   ],
   "source": [
    "INF = int(1e9) 1,000,000,000\n",
    "\n",
    "n = int(input())\n",
    "numbers = list((abs(x), x) for x in map(int, input().split()))\n",
    "\n",
    "numbers.sort()\n",
    "\n",
    "closest = INF\n",
    "result = []\n",
    "\n",
    "for i in range(n - 1):\n",
    "    if abs(numbers[i][1] + numbers[i + 1][1]) < closest:\n",
    "        closest = abs(numbers[i][1] + numbers[i + 1][1])\n",
    "        result = sortednumbers[i][1]\n",
    "        min_2 = numbers[i + 1][1]\n",
    "    \n",
    "print(\" \".join(map(str, sorted([min_1, min_2]))))\n",
    "\n"
   ]
  },
  {
   "cell_type": "code",
   "execution_count": 5,
   "id": "721c6a82-ca11-4f6c-a6ef-c4f22534f86f",
   "metadata": {},
   "outputs": [
    {
     "name": "stdin",
     "output_type": "stream",
     "text": [
      " 6\n",
      " -100 -50 -10 1 2 60\n"
     ]
    },
    {
     "name": "stdout",
     "output_type": "stream",
     "text": [
      "[(1, 1), (2, 2), (10, -10), (50, -50), (60, 60), (100, -100)]\n",
      "1 2\n"
     ]
    }
   ],
   "source": [
    "INF = int(1e10)\n",
    "\n",
    "n = int(input())\n",
    "numbers = list((abs(x), x) for x in map(int, input().split()))\n",
    "\n",
    "numbers.sort()\n",
    "\n",
    "closest = INF\n",
    "result = []\n",
    "\n",
    "for i in range(n - 1):\n",
    "    if abs(numbers[i][1] + numbers[i + 1][1]) < closest:\n",
    "        closest = abs(numbers[i][1] + numbers[i + 1][1])\n",
    "        result = sorted([numbers[i][1], numbers[i + 1][1]])\n",
    "    \n",
    "print(\" \".join(map(str, result)))\n"
   ]
  },
  {
   "cell_type": "code",
   "execution_count": 7,
   "id": "4c7cdd42-5bd4-4cec-897d-a38ca9ec01cb",
   "metadata": {},
   "outputs": [
    {
     "name": "stdin",
     "output_type": "stream",
     "text": [
      " 5\n",
      "  -99 -2 -1 4 98\n"
     ]
    },
    {
     "name": "stdout",
     "output_type": "stream",
     "text": [
      "-99 98\n"
     ]
    }
   ],
   "source": [
    "n = int(input())\n",
    "numbers = list(map(int, input().split()))\n",
    "numbers.sort()\n",
    "\n",
    "closest = float('inf')\n",
    "\n",
    "left, right = 0, n - 1\n",
    "result = (numbers[left], numbers[right])\n",
    "\n",
    "while left < right:\n",
    "    current_sum = numbers[left] + numbers[right]\n",
    "\n",
    "    if abs(current_sum) < closest:\n",
    "        closest = abs(current_sum)\n",
    "        result = (numbers[left], numbers[right])\n",
    "\n",
    "    if current_sum < 0:\n",
    "        left += 1\n",
    "    else:\n",
    "        right -= 1\n",
    "\n",
    "print(result[0], result[1])\n",
    "\n"
   ]
  },
  {
   "cell_type": "code",
   "execution_count": null,
   "id": "be640f95-dfdc-4c02-a302-ae0a28ab85b9",
   "metadata": {},
   "outputs": [],
   "source": []
  }
 ],
 "metadata": {
  "kernelspec": {
   "display_name": "Python 3 (ipykernel)",
   "language": "python",
   "name": "python3"
  },
  "language_info": {
   "codemirror_mode": {
    "name": "ipython",
    "version": 3
   },
   "file_extension": ".py",
   "mimetype": "text/x-python",
   "name": "python",
   "nbconvert_exporter": "python",
   "pygments_lexer": "ipython3",
   "version": "3.12.2"
  }
 },
 "nbformat": 4,
 "nbformat_minor": 5
}
