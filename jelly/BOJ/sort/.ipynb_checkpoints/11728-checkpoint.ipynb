{
 "cells": [
  {
   "cell_type": "code",
   "execution_count": 3,
   "id": "8c08d583-428e-44c9-9a76-f045fb8dc378",
   "metadata": {},
   "outputs": [
    {
     "name": "stdin",
     "output_type": "stream",
     "text": [
      " 2 2\n",
      " 1 4\n",
      " 6 2\n"
     ]
    },
    {
     "name": "stdout",
     "output_type": "stream",
     "text": [
      "1 2 4 6\n"
     ]
    }
   ],
   "source": [
    "n, m = map(int, input().split())\n",
    "numbers = list(map(int, input().split())) + list(map(int, input().split()))\n",
    "\n",
    "numbers.sort()\n",
    "print(\" \".join(map(str, numbers)))"
   ]
  },
  {
   "cell_type": "code",
   "execution_count": null,
   "id": "79557d31-3a50-411c-b727-c53627bd0700",
   "metadata": {},
   "outputs": [],
   "source": []
  }
 ],
 "metadata": {
  "kernelspec": {
   "display_name": "Python 3 (ipykernel)",
   "language": "python",
   "name": "python3"
  },
  "language_info": {
   "codemirror_mode": {
    "name": "ipython",
    "version": 3
   },
   "file_extension": ".py",
   "mimetype": "text/x-python",
   "name": "python",
   "nbconvert_exporter": "python",
   "pygments_lexer": "ipython3",
   "version": "3.12.2"
  }
 },
 "nbformat": 4,
 "nbformat_minor": 5
}
