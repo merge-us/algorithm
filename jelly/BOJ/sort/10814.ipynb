{
 "cells": [
  {
   "cell_type": "code",
   "execution_count": 5,
   "id": "d4a8084d-a70b-489d-996f-0ff0d1ba7449",
   "metadata": {},
   "outputs": [
    {
     "name": "stdin",
     "output_type": "stream",
     "text": [
      " 3\n",
      " 21 Junkyu\n",
      " 21 Dohyun\n",
      " 20 Sunyoung\n"
     ]
    },
    {
     "name": "stdout",
     "output_type": "stream",
     "text": [
      "20 Sunyoung\n",
      "21 Junkyu\n",
      "21 Dohyun\n"
     ]
    }
   ],
   "source": [
    "n = int(input())\n",
    "members = []\n",
    "\n",
    "for i in range(n):\n",
    "    age, name = input().split()\n",
    "    members.append((i, int(age), name))\n",
    "\n",
    "members.sort(key=lambda member: (member[1], member[0]))\n",
    "for i, age, name in members:\n",
    "    print(age, name)"
   ]
  },
  {
   "cell_type": "code",
   "execution_count": null,
   "id": "36136ace-d818-48e2-951d-a68cf3662701",
   "metadata": {},
   "outputs": [],
   "source": []
  }
 ],
 "metadata": {
  "kernelspec": {
   "display_name": "Python 3 (ipykernel)",
   "language": "python",
   "name": "python3"
  },
  "language_info": {
   "codemirror_mode": {
    "name": "ipython",
    "version": 3
   },
   "file_extension": ".py",
   "mimetype": "text/x-python",
   "name": "python",
   "nbconvert_exporter": "python",
   "pygments_lexer": "ipython3",
   "version": "3.12.2"
  }
 },
 "nbformat": 4,
 "nbformat_minor": 5
}
