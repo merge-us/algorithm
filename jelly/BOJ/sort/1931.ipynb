{
 "cells": [
  {
   "cell_type": "code",
   "execution_count": 4,
   "id": "6da7324d-8687-4e48-ac59-52bc6080b407",
   "metadata": {},
   "outputs": [
    {
     "name": "stdin",
     "output_type": "stream",
     "text": [
      " 11\n",
      " 1 4\n",
      " 3 5\n",
      " 0 6\n",
      " 5 7\n",
      " 3 8\n",
      " 5 9\n",
      " 6 10\n",
      " 8 11\n",
      " 8 12\n",
      " 2 13\n",
      " 12 14\n"
     ]
    },
    {
     "name": "stdout",
     "output_type": "stream",
     "text": [
      "3\n"
     ]
    }
   ],
   "source": [
    "import sys\n",
    "input = sys.stdin.readline\n",
    "\n",
    "n = int(input().rstrip())\n",
    "meets = [tuple(map(int, input().rstrip().split())) for _ in range(n)]\n",
    "\n",
    "count = 0\n",
    "\n",
    "while len(meets) > 0:\n",
    "    meets.sort(key=lambda meet:(-meet[1]))\n",
    "    _, last_end_time = meets.pop()\n",
    "    meets = [x for x in meets if x[0] >= last_end_time]\n",
    "    count += 1\n",
    "    \n",
    "print(count)\n",
    "\n",
    "##시간초과"
   ]
  },
  {
   "cell_type": "code",
   "execution_count": null,
   "id": "81e185e8-961e-4f1b-9bb7-0201c759a429",
   "metadata": {},
   "outputs": [],
   "source": [
    "import sys\n",
    "input = sys.stdin.readline\n",
    "\n",
    "n = int(input().rstrip())\n",
    "meets = [tuple(map(int, input().rstrip().split())) for _ in range(n)]\n",
    "meets.sort(key=lambda meet:(meet[1], meet[0]))\n",
    "\n",
    "count = 0\n",
    "last_end_time = 0\n",
    "\n",
    "for start, end in meets:\n",
    "    if start >= last_end_time:\n",
    "        last_end_time = end\n",
    "        count += 1\n",
    "        \n",
    "print(count)"
   ]
  }
 ],
 "metadata": {
  "kernelspec": {
   "display_name": "Python 3 (ipykernel)",
   "language": "python",
   "name": "python3"
  },
  "language_info": {
   "codemirror_mode": {
    "name": "ipython",
    "version": 3
   },
   "file_extension": ".py",
   "mimetype": "text/x-python",
   "name": "python",
   "nbconvert_exporter": "python",
   "pygments_lexer": "ipython3",
   "version": "3.12.2"
  }
 },
 "nbformat": 4,
 "nbformat_minor": 5
}
