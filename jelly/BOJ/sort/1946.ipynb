{
 "cells": [
  {
   "cell_type": "code",
   "execution_count": 3,
   "id": "247feea5-c6dd-47db-a63f-519dcb4018bb",
   "metadata": {},
   "outputs": [
    {
     "name": "stdin",
     "output_type": "stream",
     "text": [
      " 1\n",
      " 7\n",
      " 1 4\n",
      " 2 5\n",
      " 3 6\n",
      " 4 2\n",
      " 5 7\n",
      " 6 1\n",
      " 7 3\n"
     ]
    },
    {
     "name": "stdout",
     "output_type": "stream",
     "text": [
      "3\n"
     ]
    }
   ],
   "source": [
    "import sys\n",
    "input = sys.stdin.readline\n",
    "\n",
    "t = int(input().rstrip())\n",
    "for _ in range(t):\n",
    "    n = int(input().rstrip())\n",
    "    data = [tuple(map(int, input().rstrip().split())) for _ in range(n)]\n",
    "    data.sort()\n",
    "    thresold = data[0][1]\n",
    "    count = 1\n",
    "    for i in range(1, n):\n",
    "        if data[i][1] < thresold:\n",
    "            count += 1\n",
    "            thresold = data[i][1]\n",
    "    print(count)"
   ]
  },
  {
   "cell_type": "code",
   "execution_count": null,
   "id": "c429d03a-c573-44b2-a070-2ed57aac0c94",
   "metadata": {},
   "outputs": [],
   "source": []
  }
 ],
 "metadata": {
  "kernelspec": {
   "display_name": "Python 3 (ipykernel)",
   "language": "python",
   "name": "python3"
  },
  "language_info": {
   "codemirror_mode": {
    "name": "ipython",
    "version": 3
   },
   "file_extension": ".py",
   "mimetype": "text/x-python",
   "name": "python",
   "nbconvert_exporter": "python",
   "pygments_lexer": "ipython3",
   "version": "3.12.2"
  }
 },
 "nbformat": 4,
 "nbformat_minor": 5
}
