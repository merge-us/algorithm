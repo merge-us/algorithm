{
 "cells": [
  {
   "cell_type": "code",
   "execution_count": 3,
   "id": "cc6fbc29-413c-4c99-be31-3215bf380acb",
   "metadata": {},
   "outputs": [
    {
     "name": "stdin",
     "output_type": "stream",
     "text": [
      " 9\n",
      " 5 12 7 10 9 1 2 3 11\n",
      " 13\n"
     ]
    },
    {
     "name": "stdout",
     "output_type": "stream",
     "text": [
      "{1, 2, 3, 5, 7, 9, 10, 11, 12}\n",
      "3\n"
     ]
    }
   ],
   "source": [
    "n = int(input())\n",
    "data = set(sorted(map(int, input().split())))\n",
    "x = int(input())\n",
    "\n",
    "count = 0\n",
    "for i in data:\n",
    "    if i >= x:\n",
    "        break\n",
    "    if x - i in data:\n",
    "        count += 1\n",
    "\n",
    "print(count // 2)"
   ]
  },
  {
   "cell_type": "code",
   "execution_count": 5,
   "id": "8bb88b84-e3ad-4da7-8441-4d70d03077d3",
   "metadata": {},
   "outputs": [
    {
     "name": "stdin",
     "output_type": "stream",
     "text": [
      " 9\n",
      "  5 12 7 10 9 1 2 3 11\n",
      " 13\n"
     ]
    },
    {
     "name": "stdout",
     "output_type": "stream",
     "text": [
      "3\n"
     ]
    }
   ],
   "source": [
    "n = int(input())\n",
    "data = list(map(int, input().split()))\n",
    "x = int(input())\n",
    "\n",
    "data.sort()\n",
    "\n",
    "count = 0\n",
    "left, right = 0, n - 1\n",
    "\n",
    "while left < right:\n",
    "    current_sum = data[left] + data[right]\n",
    "\n",
    "    if current_sum == x:\n",
    "        count += 1\n",
    "        left += 1\n",
    "        right -= 1\n",
    "    elif current_sum < x:\n",
    "        left += 1\n",
    "    else:\n",
    "        right -= 1\n",
    "\n",
    "print(count)"
   ]
  },
  {
   "cell_type": "code",
   "execution_count": null,
   "id": "f57aea9f-2108-43e6-82a4-b1dc5b7eefae",
   "metadata": {},
   "outputs": [],
   "source": []
  }
 ],
 "metadata": {
  "kernelspec": {
   "display_name": "Python 3 (ipykernel)",
   "language": "python",
   "name": "python3"
  },
  "language_info": {
   "codemirror_mode": {
    "name": "ipython",
    "version": 3
   },
   "file_extension": ".py",
   "mimetype": "text/x-python",
   "name": "python",
   "nbconvert_exporter": "python",
   "pygments_lexer": "ipython3",
   "version": "3.12.2"
  }
 },
 "nbformat": 4,
 "nbformat_minor": 5
}
