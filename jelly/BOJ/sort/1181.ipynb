{
 "cells": [
  {
   "cell_type": "code",
   "execution_count": 2,
   "id": "00b7de4e-cb51-417f-8daa-bbb48a6bcdcf",
   "metadata": {},
   "outputs": [
    {
     "name": "stdin",
     "output_type": "stream",
     "text": [
      " 3\n",
      " hello\n",
      " array\n",
      " hi\n"
     ]
    },
    {
     "name": "stdout",
     "output_type": "stream",
     "text": [
      "hi\n",
      "array\n",
      "hello\n"
     ]
    }
   ],
   "source": [
    "n = int(input())\n",
    "\n",
    "words = [input() for _ in range(n)]\n",
    "unique_words = {word: True for word in words}\n",
    "words = list(unique_words)\n",
    "\n",
    "words.sort(key=lambda word: (len(word), word))\n",
    "\n",
    "for word in words:\n",
    "    print(word)"
   ]
  },
  {
   "cell_type": "code",
   "execution_count": 3,
   "id": "99edfe3f-5370-45aa-b890-105381cc6572",
   "metadata": {},
   "outputs": [
    {
     "name": "stdin",
     "output_type": "stream",
     "text": [
      " 3\n",
      " hello\n",
      " array\n",
      " hi\n"
     ]
    },
    {
     "name": "stdout",
     "output_type": "stream",
     "text": [
      "hello\n",
      "array\n",
      "hi\n"
     ]
    }
   ],
   "source": [
    "import sys\n",
    "input = sys.stdin.readline\n",
    "\n",
    "n = int(input().rstrip())\n",
    "words = set(input().rstrip() for _ in range(n))\n",
    "sorted_words = sorted(words, key=lambda word: (len(word), word))\n",
    "\n",
    "for word in sorted_words:\n",
    "    print(word)"
   ]
  },
  {
   "cell_type": "code",
   "execution_count": null,
   "id": "c6f0338b-e24e-4b6a-80bc-fa440867651e",
   "metadata": {},
   "outputs": [],
   "source": [
    "import sys\n",
    "input = sys.stdin.readline\n",
    "\n",
    "n = int(input().rstrip())\n",
    "words = set(input().rstrip() for _ in range(n))\n",
    "sorted_words = sorted(words, key=lambda word: (len(word), word))\n",
    "\n",
    "sys.stdout.write(\"\\n\".join(sorted_words) + \"\\n\")"
   ]
  }
 ],
 "metadata": {
  "kernelspec": {
   "display_name": "Python 3 (ipykernel)",
   "language": "python",
   "name": "python3"
  },
  "language_info": {
   "codemirror_mode": {
    "name": "ipython",
    "version": 3
   },
   "file_extension": ".py",
   "mimetype": "text/x-python",
   "name": "python",
   "nbconvert_exporter": "python",
   "pygments_lexer": "ipython3",
   "version": "3.12.2"
  }
 },
 "nbformat": 4,
 "nbformat_minor": 5
}
