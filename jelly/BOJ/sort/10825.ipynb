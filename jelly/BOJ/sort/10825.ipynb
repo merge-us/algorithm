{
 "cells": [
  {
   "cell_type": "code",
   "execution_count": 2,
   "id": "276e461d-7603-42de-87db-e7b2221cbd4f",
   "metadata": {},
   "outputs": [
    {
     "name": "stdin",
     "output_type": "stream",
     "text": [
      " 12\n",
      " Junkyu 50 60 100\n",
      " Sangkeun 80 60 50\n",
      " Sunyoung 80 70 100\n",
      " Soong 50 60 90\n",
      " Haebin 50 60 100\n",
      " Kangsoo 60 80 100\n",
      " Donghyuk 80 60 100\n",
      " Sei 70 70 70\n",
      " Wonseob 70 70 90\n",
      " Sanghyun 70 70 80\n",
      " nsj 80 80 80\n",
      " Taewhan 50 60 90\n"
     ]
    },
    {
     "name": "stdout",
     "output_type": "stream",
     "text": [
      "Donghyuk\n",
      "Sangkeun\n",
      "Sunyoung\n",
      "nsj\n",
      "Wonseob\n",
      "Sanghyun\n",
      "Sei\n",
      "Kangsoo\n",
      "Haebin\n",
      "Junkyu\n",
      "Soong\n",
      "Taewhan\n"
     ]
    }
   ],
   "source": [
    "import sys\n",
    "input = sys.stdin.readline\n",
    "\n",
    "n = int(input().rstrip())\n",
    "students = [tuple(input().rstrip().split()) for _ in range(n)]\n",
    "\n",
    "students.sort(key=lambda student: (-int(student[1]), int(student[2]), -int(student[3]), student[0]))\n",
    "\n",
    "print(\"\\n\".join(student[0] for student in students))"
   ]
  },
  {
   "cell_type": "code",
   "execution_count": null,
   "id": "f484f2ad-6103-42eb-9a6d-7a197d7f7895",
   "metadata": {},
   "outputs": [],
   "source": []
  }
 ],
 "metadata": {
  "kernelspec": {
   "display_name": "Python 3 (ipykernel)",
   "language": "python",
   "name": "python3"
  },
  "language_info": {
   "codemirror_mode": {
    "name": "ipython",
    "version": 3
   },
   "file_extension": ".py",
   "mimetype": "text/x-python",
   "name": "python",
   "nbconvert_exporter": "python",
   "pygments_lexer": "ipython3",
   "version": "3.12.2"
  }
 },
 "nbformat": 4,
 "nbformat_minor": 5
}
