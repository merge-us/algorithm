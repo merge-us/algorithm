{
 "cells": [
  {
   "cell_type": "code",
   "execution_count": 2,
   "id": "ef28830e-778f-4050-ac11-9281e81a1dac",
   "metadata": {},
   "outputs": [
    {
     "name": "stdin",
     "output_type": "stream",
     "text": [
      " 5\n",
      " -1\n",
      " -2\n",
      " -3\n",
      " -1\n",
      " -2\n"
     ]
    },
    {
     "name": "stdout",
     "output_type": "stream",
     "text": [
      "-2\n",
      "-2\n"
     ]
    },
    {
     "ename": "TypeError",
     "evalue": "'int' object is not iterable",
     "output_type": "error",
     "traceback": [
      "\u001b[0;31m---------------------------------------------------------------------------\u001b[0m",
      "\u001b[0;31mTypeError\u001b[0m                                 Traceback (most recent call last)",
      "Cell \u001b[0;32mIn[2], line 21\u001b[0m\n\u001b[1;32m     18\u001b[0m modes \u001b[38;5;241m=\u001b[39m [key \u001b[38;5;28;01mfor\u001b[39;00m key, count \u001b[38;5;129;01min\u001b[39;00m counter\u001b[38;5;241m.\u001b[39mitems() \u001b[38;5;28;01mif\u001b[39;00m count \u001b[38;5;241m==\u001b[39m max_counts]\n\u001b[1;32m     20\u001b[0m \u001b[38;5;28;01mif\u001b[39;00m \u001b[38;5;28mlen\u001b[39m(modes) \u001b[38;5;241m>\u001b[39m \u001b[38;5;241m1\u001b[39m:\n\u001b[0;32m---> 21\u001b[0m     \u001b[38;5;28mprint\u001b[39m(\u001b[38;5;28;43msorted\u001b[39;49m\u001b[43m(\u001b[49m\u001b[43mmodes\u001b[49m\u001b[43m[\u001b[49m\u001b[38;5;241;43m1\u001b[39;49m\u001b[43m]\u001b[49m\u001b[43m)\u001b[49m)\n\u001b[1;32m     22\u001b[0m \u001b[38;5;28;01melse\u001b[39;00m:\n\u001b[1;32m     23\u001b[0m     \u001b[38;5;28mprint\u001b[39m(modes[\u001b[38;5;241m0\u001b[39m])\n",
      "\u001b[0;31mTypeError\u001b[0m: 'int' object is not iterable"
     ]
    }
   ],
   "source": [
    "import sys\n",
    "from collections import Counter\n",
    "\n",
    "input = sys.stdin.readline\n",
    "\n",
    "data = []\n",
    "n = int(input().rstrip())\n",
    "for _ in range(n):\n",
    "    data.append(int(input().rstrip()))\n",
    "\n",
    "print(round(sum(data) / n))\n",
    "\n",
    "data.sort()\n",
    "print(data[n // 2])\n",
    "\n",
    "counter = Counter(data)\n",
    "max_counts = max(counter.values())\n",
    "modes = [key for key, count in counter.items() if count == max_counts]\n",
    "\n",
    "if len(modes) > 1:\n",
    "    print(sorted(modes)[1])\n",
    "else:\n",
    "    print(modes[0])\n",
    "\n",
    "print(data[-1] - data[0])\n"
   ]
  },
  {
   "cell_type": "code",
   "execution_count": 25,
   "id": "f9a13d0c-714e-4f5e-86ec-79f207f12e00",
   "metadata": {},
   "outputs": [
    {
     "name": "stdout",
     "output_type": "stream",
     "text": [
      "3\n"
     ]
    }
   ],
   "source": [
    "import sys\n",
    "from collections import Counter\n",
    "\n",
    "input = sys.stdin.read\n",
    "\n",
    "data = list(map(int, input().split()))\n",
    "n = data[0]\n",
    "data = data[1:]\n",
    "\n",
    "print(round(sum(data) / n))\n",
    "\n",
    "data.sort()\n",
    "print(data[n // 2])\n",
    "\n",
    "counter = Counter(data)\n",
    "modes = counter.most_common()\n",
    "\n",
    "if len(modes) > 1 and modes[0][1] == modes[1][1]:\n",
    "    print(modes[1][0])\n",
    "else:\n",
    "    print(modes[0])\n",
    "\n",
    "print(data[-1] - data[0])\n"
   ]
  },
  {
   "cell_type": "code",
   "execution_count": null,
   "id": "98c1aada-4180-485e-ba0c-9393704e1c16",
   "metadata": {},
   "outputs": [],
   "source": [
    "data = {1"
   ]
  }
 ],
 "metadata": {
  "kernelspec": {
   "display_name": "Python 3 (ipykernel)",
   "language": "python",
   "name": "python3"
  },
  "language_info": {
   "codemirror_mode": {
    "name": "ipython",
    "version": 3
   },
   "file_extension": ".py",
   "mimetype": "text/x-python",
   "name": "python",
   "nbconvert_exporter": "python",
   "pygments_lexer": "ipython3",
   "version": "3.12.2"
  }
 },
 "nbformat": 4,
 "nbformat_minor": 5
}
