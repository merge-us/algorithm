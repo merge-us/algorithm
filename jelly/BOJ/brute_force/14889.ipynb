{
 "cells": [
  {
   "cell_type": "code",
   "execution_count": 18,
   "id": "61219428-ffe8-4367-be5a-4bacd35b4397",
   "metadata": {},
   "outputs": [
    {
     "name": "stdin",
     "output_type": "stream",
     "text": [
      " 8\n",
      " 0 5 4 5 4 5 4 5\n",
      " 4 0 5 1 2 3 4 5\n",
      " 9 8 0 1 2 3 1 2\n",
      " 9 9 9 0 9 9 9 9\n",
      " 1 1 1 1 0 1 1 1\n",
      " 8 7 6 5 4 0 3 2\n",
      " 9 1 9 1 9 1 0 9\n",
      " 6 5 4 3 2 1 9 0\n"
     ]
    },
    {
     "name": "stdout",
     "output_type": "stream",
     "text": [
      "1\n"
     ]
    }
   ],
   "source": [
    "from itertools import combinations\n",
    "\n",
    "def get_sum(subset):\n",
    "    result = 0\n",
    "    subset = combinations(subset, 2)\n",
    "    for i, j in subset:\n",
    "            result += data[i][j] + data[j][i]\n",
    "    return result \n",
    "    \n",
    "n = int(input())\n",
    "nums = set(range(1, n + 1))\n",
    "data = [[0] * (n + 1)]\n",
    "\n",
    "min_gap = int(1e9)\n",
    "\n",
    "for _ in range(n):\n",
    "    data.append([0] + list(map(int, input().split())))\n",
    "\n",
    "for first in combinations(nums, n // 2):\n",
    "    first = set(first)\n",
    "    second = nums - first\n",
    "    min_gap = min(min_gap, abs(get_sum(first) - get_sum(second)))\n",
    "\n",
    "print(min_gap)\n"
   ]
  },
  {
   "cell_type": "markdown",
   "id": "a2c11d30-8310-4212-8b5b-2a62fd551eb5",
   "metadata": {},
   "source": [
    "# "
   ]
  },
  {
   "cell_type": "code",
   "execution_count": 25,
   "id": "ef492508-143f-4ff7-9aea-1c07aa388f3d",
   "metadata": {},
   "outputs": [
    {
     "name": "stdin",
     "output_type": "stream",
     "text": [
      " 6\n",
      " 0 1 2 3 4 5\n",
      " 1 0 2 3 4 5\n",
      " 1 2 0 3 4 5\n",
      " 1 2 3 0 4 5\n",
      " 1 2 3 4 0 5\n",
      " 1 2 3 4 5 0\n"
     ]
    },
    {
     "name": "stdout",
     "output_type": "stream",
     "text": [
      "2\n"
     ]
    }
   ],
   "source": [
    "INF = int(1e9)\n",
    "min_gap = INF\n",
    "\n",
    "def get_sum(team):\n",
    "    total = 0\n",
    "    for i in range(len(team)):\n",
    "        for j in range(i + 1, len(team)):\n",
    "            total += data[team[i]][team[j]] + data[team[j]][team[i]]\n",
    "    return total\n",
    "\n",
    "def dfs(idx, team):\n",
    "    global min_gap\n",
    "\n",
    "    if len(team) == (n // 2):\n",
    "        other_team = [i for i in range(1, n + 1) if i not in team]\n",
    "        gap = abs(get_sum(team) - get_sum(other_team))\n",
    "        min_gap = min(min_gap, gap)\n",
    "        return\n",
    "\n",
    "    for i in range(idx, n + 1):\n",
    "        dfs(i + 1, team + [i])\n",
    "\n",
    "n = int(input())\n",
    "\n",
    "data = [[0] * (n + 1)]\n",
    "for _ in range(n):\n",
    "    data.append([0] + list(map(int, input().split())))\n",
    "\n",
    "dfs(1, [])\n",
    "print(min_gap)"
   ]
  },
  {
   "cell_type": "code",
   "execution_count": 20,
   "id": "aa4ff9fb-8b15-4f9c-bce6-25bd5d739af4",
   "metadata": {},
   "outputs": [],
   "source": [
    "for i in range(4, 4):\n",
    "    print(i)"
   ]
  },
  {
   "cell_type": "code",
   "execution_count": null,
   "id": "66fd8f27-66d9-4e20-af56-e2abad40427c",
   "metadata": {},
   "outputs": [],
   "source": []
  }
 ],
 "metadata": {
  "kernelspec": {
   "display_name": "Python 3 (ipykernel)",
   "language": "python",
   "name": "python3"
  },
  "language_info": {
   "codemirror_mode": {
    "name": "ipython",
    "version": 3
   },
   "file_extension": ".py",
   "mimetype": "text/x-python",
   "name": "python",
   "nbconvert_exporter": "python",
   "pygments_lexer": "ipython3",
   "version": "3.12.2"
  }
 },
 "nbformat": 4,
 "nbformat_minor": 5
}
