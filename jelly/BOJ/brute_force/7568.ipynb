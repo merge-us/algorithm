{
 "cells": [
  {
   "cell_type": "code",
   "execution_count": 4,
   "id": "3bad0a67-5ebe-49a0-a008-689b580ea1b4",
   "metadata": {},
   "outputs": [
    {
     "name": "stdin",
     "output_type": "stream",
     "text": [
      " 5\n",
      " 55 185\n",
      " 58 183\n",
      " 88 186\n",
      " 60 175\n",
      " 46 155\n"
     ]
    },
    {
     "name": "stdout",
     "output_type": "stream",
     "text": [
      "2 2 1 2 5 "
     ]
    }
   ],
   "source": [
    "n = int(input())\n",
    "data = []\n",
    "for _ in range(n):\n",
    "    weight, height = map(int, input().split())\n",
    "    data.append((weight, height))\n",
    "\n",
    "for i in range(n):\n",
    "    rank = 0\n",
    "    for j in range(n):\n",
    "        if data[j][0] > data[i][0] and data[j][1] > data[i][1]:\n",
    "            rank += 1\n",
    "    print(rank + 1, end=' ')\n",
    "        "
   ]
  },
  {
   "cell_type": "code",
   "execution_count": null,
   "id": "48bcd5bb-6127-4fee-8437-e3b15a5d4a4e",
   "metadata": {},
   "outputs": [],
   "source": [
    "n = int(input())\n",
    "people = [tuple(map(int, input().split()) for _ in range(n)]\n",
    "ranks = []\n",
    "\n",
    "for i in range(n):\n",
    "    rank = 1\n",
    "    for j in range(n):\n",
    "        if data[j][0] > data[i][0] and data[j][1] > data[i][1]:\n",
    "            rank += 1\n",
    "    ranks.append(rank)\n",
    "\n",
    "print(' '.join(map(str, ranks)))\n",
    "        "
   ]
  }
 ],
 "metadata": {
  "kernelspec": {
   "display_name": "Python 3 (ipykernel)",
   "language": "python",
   "name": "python3"
  },
  "language_info": {
   "codemirror_mode": {
    "name": "ipython",
    "version": 3
   },
   "file_extension": ".py",
   "mimetype": "text/x-python",
   "name": "python",
   "nbconvert_exporter": "python",
   "pygments_lexer": "ipython3",
   "version": "3.12.2"
  }
 },
 "nbformat": 4,
 "nbformat_minor": 5
}
