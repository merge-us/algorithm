{
 "cells": [
  {
   "cell_type": "code",
   "execution_count": 35,
   "id": "06269378-4d12-4910-bff6-c3f14391ad13",
   "metadata": {},
   "outputs": [
    {
     "name": "stdin",
     "output_type": "stream",
     "text": [
      " 4 6\n",
      " a t c i s w\n"
     ]
    },
    {
     "name": "stdout",
     "output_type": "stream",
     "text": [
      "acis\n",
      "acit\n",
      "aciw\n",
      "acst\n",
      "acsw\n",
      "actw\n",
      "aist\n",
      "aisw\n",
      "aitw\n",
      "astw\n",
      "cist\n",
      "cisw\n",
      "citw\n",
      "istw\n"
     ]
    }
   ],
   "source": [
    "from itertools import combinations\n",
    "\n",
    "l, _ = map(int, input().split())\n",
    "\n",
    "vowel = []\n",
    "consonant = []\n",
    "\n",
    "for c in input().split():\n",
    "    if c in ['a', 'e', 'i', 'o', 'u']:\n",
    "        vowel.append(c)\n",
    "    else:\n",
    "        consonant.append(c)\n",
    "\n",
    "results = []\n",
    "for i in range(1, len(vowel) + 1):\n",
    "    if l - i < 2:\n",
    "        break\n",
    "    for vowels in combinations(vowel, i):\n",
    "        v_result = []\n",
    "        for v in vowels:\n",
    "            v_result.append(v)\n",
    "        for consonants in combinations(consonant, l - i):\n",
    "            c_result = []\n",
    "            for c in consonants:\n",
    "                c_result.append(c)\n",
    "            results.append(sorted(c_result + v_result))\n",
    "\n",
    "\n",
    "for result in sorted(results):\n",
    "    print(\"\".join(result))\n",
    "            \n",
    "            \n",
    "            \n",
    "            "
   ]
  },
  {
   "cell_type": "code",
   "execution_count": 43,
   "id": "5e1ffec2-b63e-44e2-be0d-562788e8ddb6",
   "metadata": {},
   "outputs": [
    {
     "name": "stdin",
     "output_type": "stream",
     "text": [
      " 4 6\n",
      " a t c i s w\n"
     ]
    },
    {
     "name": "stdout",
     "output_type": "stream",
     "text": [
      "acis\n",
      "acit\n",
      "aciw\n",
      "acst\n",
      "acsw\n",
      "actw\n",
      "aist\n",
      "aisw\n",
      "aitw\n",
      "astw\n",
      "cist\n",
      "cisw\n",
      "citw\n",
      "istw\n"
     ]
    }
   ],
   "source": [
    "from itertools import combinations\n",
    "\n",
    "l, _ = map(int, input().split())\n",
    "\n",
    "chars = input().split()\n",
    "vowel = {'a', 'e', 'i', 'o', 'u'}\n",
    "\n",
    "vowel_list = [c for c in chars if c in vowel]\n",
    "consonant_list = [c for c in chars if c not in vowel]\n",
    "\n",
    "\n",
    "results = []\n",
    "for i in range(1, len(vowel) + 1):\n",
    "    if l - i < 2:\n",
    "        break\n",
    "    for vowel_comb in combinations(vowel_list, i):\n",
    "        for consonant_comb in combinations(consonant_list, l - i):\n",
    "            results.append(\"\".join(sorted(vowel_comb + consonant_comb)))\n",
    "\n",
    "print(\"\\n\".join(sorted(results)))\n",
    "            \n",
    "            \n",
    "            \n",
    "            "
   ]
  },
  {
   "cell_type": "code",
   "execution_count": null,
   "id": "22e291d4-db88-4659-b78a-a6c3d137f2f1",
   "metadata": {},
   "outputs": [],
   "source": []
  }
 ],
 "metadata": {
  "kernelspec": {
   "display_name": "Python 3 (ipykernel)",
   "language": "python",
   "name": "python3"
  },
  "language_info": {
   "codemirror_mode": {
    "name": "ipython",
    "version": 3
   },
   "file_extension": ".py",
   "mimetype": "text/x-python",
   "name": "python",
   "nbconvert_exporter": "python",
   "pygments_lexer": "ipython3",
   "version": "3.12.2"
  }
 },
 "nbformat": 4,
 "nbformat_minor": 5
}
