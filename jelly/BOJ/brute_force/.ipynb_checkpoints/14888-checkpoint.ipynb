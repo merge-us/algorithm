{
 "cells": [
  {
   "cell_type": "code",
   "execution_count": 17,
   "id": "866307a4-d646-404c-ac8b-660b80392e7e",
   "metadata": {},
   "outputs": [
    {
     "name": "stdin",
     "output_type": "stream",
     "text": [
      " 6\n",
      " 1 2 3 4 5 6\n",
      " 2 1 1 1\n"
     ]
    },
    {
     "name": "stdout",
     "output_type": "stream",
     "text": [
      "54\n",
      "-24\n"
     ]
    }
   ],
   "source": [
    "from itertools import permutations\n",
    "\n",
    "INF = int(1e9)\n",
    "\n",
    "def calc(x, y, oper):\n",
    "    if oper == '+':\n",
    "        return x + y\n",
    "    elif oper == '-':\n",
    "        return x - y\n",
    "    elif oper == '*':\n",
    "        return x * y\n",
    "    elif oper == \"//\":\n",
    "        if x < 0:\n",
    "            return -((-x) // y)\n",
    "        else:\n",
    "            return x // y\n",
    "\n",
    "n = int(input())\n",
    "operands = list(map(int, input().split()))\n",
    "add, sub, mul, div = map(int, input().split())\n",
    "operators = ['+'] * add + ['-'] * sub + ['*'] * mul + ['//'] * div\n",
    "\n",
    "data = set(permutations(operators, n - 1))\n",
    "\n",
    "max_value = -INF\n",
    "min_value = INF\n",
    "\n",
    "for seq in data:\n",
    "    result = calc(operands[0], operands[1], seq[0])\n",
    "    for i in range(1, n - 1):\n",
    "        result = calc(result, operands[i + 1], seq[i])    \n",
    "    max_value = max(max_value, result)\n",
    "    min_value = min(min_value, result)\n",
    "\n",
    "print(max_value)\n",
    "print(min_value)"
   ]
  },
  {
   "cell_type": "code",
   "execution_count": 4,
   "id": "8c53b9ea-923a-496e-b5d6-978dedb8e41a",
   "metadata": {},
   "outputs": [
    {
     "name": "stdout",
     "output_type": "stream",
     "text": [
      "[(1, 1, 3), (1, 3, 1), (3, 1, 1)]\n"
     ]
    }
   ],
   "source": [
    "from itertools import permutations\n",
    "\n",
    "data = [1, 1, 3]\n",
    "result = set(permutations(data, 3))  # (3개 중 2개 선택하여 순서 다르게)\n",
    "print(sorted(result))\n",
    "# 출력: [(1, 2), (1, 3), (2, 1), (2, 3), (3, 1), (3, 2)]"
   ]
  },
  {
   "cell_type": "code",
   "execution_count": 6,
   "id": "fc292ba7-5ff3-4054-80aa-7304384175e3",
   "metadata": {},
   "outputs": [
    {
     "ename": "AttributeError",
     "evalue": "'list' object has no attribute 'join'",
     "output_type": "error",
     "traceback": [
      "\u001b[0;31m---------------------------------------------------------------------------\u001b[0m",
      "\u001b[0;31mAttributeError\u001b[0m                            Traceback (most recent call last)",
      "Cell \u001b[0;32mIn[6], line 1\u001b[0m\n\u001b[0;32m----> 1\u001b[0m \u001b[38;5;28mprint\u001b[39m(\u001b[43m[\u001b[49m\u001b[38;5;124;43m'\u001b[39;49m\u001b[38;5;124;43m+\u001b[39;49m\u001b[38;5;124;43m'\u001b[39;49m\u001b[43m,\u001b[49m\u001b[43m \u001b[49m\u001b[38;5;124;43m'\u001b[39;49m\u001b[38;5;124;43m-\u001b[39;49m\u001b[38;5;124;43m'\u001b[39;49m\u001b[43m]\u001b[49m\u001b[38;5;241;43m.\u001b[39;49m\u001b[43mjoin\u001b[49m([\u001b[38;5;124m\"\u001b[39m\u001b[38;5;124m5\u001b[39m\u001b[38;5;124m\"\u001b[39m, \u001b[38;5;124m\"\u001b[39m\u001b[38;5;124m3\u001b[39m\u001b[38;5;124m\"\u001b[39m, \u001b[38;5;124m\"\u001b[39m\u001b[38;5;124m2\u001b[39m\u001b[38;5;124m\"\u001b[39m]))\n",
      "\u001b[0;31mAttributeError\u001b[0m: 'list' object has no attribute 'join'"
     ]
    }
   ],
   "source": [
    "print(['+', '-'].join([\"5\", \"3\", \"2\"]))"
   ]
  },
  {
   "cell_type": "code",
   "execution_count": 10,
   "id": "a63dedcc-bb6a-4b0a-93e9-0244f0a3026a",
   "metadata": {},
   "outputs": [],
   "source": []
  },
  {
   "cell_type": "code",
   "execution_count": 17,
   "id": "fa7d78f1-2ce5-4d9e-bc7d-af434ff9b710",
   "metadata": {},
   "outputs": [
    {
     "name": "stdout",
     "output_type": "stream",
     "text": [
      "7\n"
     ]
    }
   ],
   "source": [
    "print(eval('1' + \"+\" + \"3\" + '*' + \"2\"))"
   ]
  },
  {
   "cell_type": "code",
   "execution_count": 15,
   "id": "29d9f823-9f44-423f-8413-d6414d4a1489",
   "metadata": {},
   "outputs": [
    {
     "name": "stdout",
     "output_type": "stream",
     "text": [
      "0\n"
     ]
    }
   ],
   "source": [
    "print(1//3)"
   ]
  },
  {
   "cell_type": "code",
   "execution_count": null,
   "id": "c252edb0-07c1-41e2-951d-35aea22e8b6b",
   "metadata": {},
   "outputs": [],
   "source": []
  }
 ],
 "metadata": {
  "kernelspec": {
   "display_name": "Python 3 (ipykernel)",
   "language": "python",
   "name": "python3"
  },
  "language_info": {
   "codemirror_mode": {
    "name": "ipython",
    "version": 3
   },
   "file_extension": ".py",
   "mimetype": "text/x-python",
   "name": "python",
   "nbconvert_exporter": "python",
   "pygments_lexer": "ipython3",
   "version": "3.12.2"
  }
 },
 "nbformat": 4,
 "nbformat_minor": 5
}
