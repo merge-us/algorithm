{
 "cells": [
  {
   "cell_type": "code",
   "execution_count": 12,
   "id": "fa823604-4eae-49ad-add7-576befb24c7a",
   "metadata": {},
   "outputs": [
    {
     "name": "stdin",
     "output_type": "stream",
     "text": [
      " 8\n",
      " 20 1 15 8 4 10 -3 8\n"
     ]
    },
    {
     "name": "stdout",
     "output_type": "stream",
     "text": [
      "86\n"
     ]
    }
   ],
   "source": [
    "from itertools import permutations\n",
    "\n",
    "n = int(input())\n",
    "data = map(int, input().split())\n",
    "\n",
    "max_sum = -float('inf')\n",
    "\n",
    "for seq in permutations(data, n):\n",
    "    current_sum = 0\n",
    "    for i in range(n - 1):\n",
    "        current_sum += abs(seq[i] - seq[i + 1])\n",
    "    max_sum = max(max_sum, current_sum)\n",
    "\n",
    "print(max_sum)\n",
    "        "
   ]
  },
  {
   "cell_type": "code",
   "execution_count": null,
   "id": "28970d65-fb5e-424f-beb8-c34e8ce426ce",
   "metadata": {},
   "outputs": [],
   "source": []
  }
 ],
 "metadata": {
  "kernelspec": {
   "display_name": "Python 3 (ipykernel)",
   "language": "python",
   "name": "python3"
  },
  "language_info": {
   "codemirror_mode": {
    "name": "ipython",
    "version": 3
   },
   "file_extension": ".py",
   "mimetype": "text/x-python",
   "name": "python",
   "nbconvert_exporter": "python",
   "pygments_lexer": "ipython3",
   "version": "3.12.2"
  }
 },
 "nbformat": 4,
 "nbformat_minor": 5
}
