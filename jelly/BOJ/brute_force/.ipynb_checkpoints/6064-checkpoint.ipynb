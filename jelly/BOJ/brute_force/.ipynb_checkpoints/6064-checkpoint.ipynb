{
 "cells": [
  {
   "cell_type": "markdown",
   "id": "7ea1a1c1-afd6-4889-b11d-7282d7682c6b",
   "metadata": {},
   "source": [
    "T = int(input())\n",
    "\n",
    "for _ in range(T):\n",
    "    m, n, x, y = map(int, input().split())\n",
    "\n",
    "    i = 1\n",
    "    j = 1\n",
    "\n",
    "    count = 1\n",
    "    result = -1\n",
    "\n",
    "    while i != m or j != n:\n",
    "        if i == x and j == y:\n",
    "            result = count\n",
    "            break\n",
    "\n",
    "        i = i + 1 if i < m else 1\n",
    "        j = j + 1 if j < n else 1\n",
    "\n",
    "        count += 1\n",
    "    \n",
    "    print(result)\n",
    "\n",
    "    \n",
    "    \n",
    "    \n",
    "\n"
   ]
  },
  {
   "cell_type": "code",
   "execution_count": null,
   "id": "6816509b-0062-4141-ac06-e1df8f9eb4ac",
   "metadata": {},
   "outputs": [
    {
     "name": "stdin",
     "output_type": "stream",
     "text": [
      " 3\n",
      " 10 12 7 2\n"
     ]
    },
    {
     "name": "stdout",
     "output_type": "stream",
     "text": [
      "-1\n"
     ]
    },
    {
     "name": "stdin",
     "output_type": "stream",
     "text": [
      " 13 11 5 6\n"
     ]
    },
    {
     "name": "stdout",
     "output_type": "stream",
     "text": [
      "83\n"
     ]
    }
   ],
   "source": [
    "import math\n",
    "\n",
    "T = int(input())\n",
    "\n",
    "for _ in range(T):\n",
    "    M, N, x, y = map(int, input().split())\n",
    "\n",
    "    lcm = (M * N) // math.gcd(M, N)\n",
    "    found = -1\n",
    "\n",
    "    for year in range(x, lcm + 1, M):\n",
    "        if (year - 1) % N + 1 == y:\n",
    "            found = year\n",
    "            break\n",
    "\n",
    "    print(found)\n",
    "    \n",
    "    \n",
    "    \n",
    "\n"
   ]
  },
  {
   "cell_type": "code",
   "execution_count": null,
   "id": "77a0c46e-e76f-4add-bb63-c4ba880f5444",
   "metadata": {},
   "outputs": [],
   "source": []
  }
 ],
 "metadata": {
  "kernelspec": {
   "display_name": "Python 3 (ipykernel)",
   "language": "python",
   "name": "python3"
  },
  "language_info": {
   "codemirror_mode": {
    "name": "ipython",
    "version": 3
   },
   "file_extension": ".py",
   "mimetype": "text/x-python",
   "name": "python",
   "nbconvert_exporter": "python",
   "pygments_lexer": "ipython3",
   "version": "3.12.2"
  }
 },
 "nbformat": 4,
 "nbformat_minor": 5
}
