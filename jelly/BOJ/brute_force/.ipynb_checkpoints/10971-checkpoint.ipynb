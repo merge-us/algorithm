{
 "cells": [
  {
   "cell_type": "code",
   "execution_count": 20,
   "id": "c915bae2-b5e9-44ee-916e-510fe9b8800e",
   "metadata": {},
   "outputs": [
    {
     "name": "stdin",
     "output_type": "stream",
     "text": [
      " 4\n",
      " 0 10 15 20\n",
      " 5 0 9 10\n",
      " 6 13 0 12\n",
      " 8 8 9 0\n"
     ]
    },
    {
     "name": "stdout",
     "output_type": "stream",
     "text": [
      "35\n"
     ]
    }
   ],
   "source": [
    "from itertools import permutations\n",
    "\n",
    "n = int(input())\n",
    "board = [[0] * (n + 1)] + [[0] + list(map(int, input().split())) for _ in range(n)]\n",
    "\n",
    "min_total_cost = float('inf')\n",
    "for path in permutations(range(2, n + 1), n - 1):\n",
    "    total_cost = board[1][path[0]]\n",
    "    if total_cost == 0:\n",
    "        continue\n",
    "        \n",
    "    for i in range(n - 2):\n",
    "        cost = board[path[i]][path[i + 1]]\n",
    "        if cost == 0:\n",
    "            total_cost = -1\n",
    "            break\n",
    "        total_cost += cost\n",
    "    \n",
    "    if total_cost == -1 or board[path[-1]][1] == 0:\n",
    "        continue\n",
    "    total_cost += board[path[-1]][1]\n",
    "    min_total_cost = min(min_total_cost, total_cost)\n",
    "    \n",
    "print(min_total_cost)\n",
    "    \n",
    "        \n",
    "    \n"
   ]
  },
  {
   "cell_type": "code",
   "execution_count": 22,
   "id": "114b2ecb-46c4-47bb-975c-bcbe56a71044",
   "metadata": {},
   "outputs": [
    {
     "name": "stdin",
     "output_type": "stream",
     "text": [
      " 4\n",
      " 0 10 15 20\n",
      " 5 0 9 10\n",
      " 6 13 0 12\n",
      " 8 8 9 0\n"
     ]
    },
    {
     "name": "stdout",
     "output_type": "stream",
     "text": [
      "35\n"
     ]
    }
   ],
   "source": [
    "from itertools import permutations\n",
    "\n",
    "n = int(input())\n",
    "board = [list(map(int, input().split())) for _ in range(n)]\n",
    "\n",
    "min_total_cost = float('inf')\n",
    "\n",
    "for path in permutations(range(1, n)):\n",
    "    total_cost = 0\n",
    "    valid = True\n",
    "    \n",
    "    prev = 0\n",
    "    for city in path:\n",
    "        cost = board[prev][city]\n",
    "        if cost == 0:\n",
    "            valid = False\n",
    "            break\n",
    "        total_cost += cost\n",
    "        prev = city\n",
    "    \n",
    "    if valid and board[prev][0] != 0:\n",
    "        total_cost += board[prev][0]\n",
    "        min_total_cost = min(min_total_cost, total_cost)\n",
    "    \n",
    "print(min_total_cost)\n",
    "    \n",
    "        \n",
    "    \n"
   ]
  },
  {
   "cell_type": "code",
   "execution_count": 24,
   "id": "b0083b20-620f-4eee-b539-1922de5e2d9f",
   "metadata": {},
   "outputs": [
    {
     "name": "stdin",
     "output_type": "stream",
     "text": [
      " 4\n",
      " 0 10 15 20\n",
      " 5 0 9 10\n",
      " 6 13 0 12\n",
      " 8 8 9 0\n"
     ]
    },
    {
     "name": "stdout",
     "output_type": "stream",
     "text": [
      "35\n"
     ]
    }
   ],
   "source": [
    "n = int(input())\n",
    "board = [list(map(int, input().split())) for _ in range(n)]\n",
    "\n",
    "def is_connected(x, y):\n",
    "    return board[x][y] != 0\n",
    "\n",
    "def calc_total_cost(path):\n",
    "    total_cost = 0\n",
    "    \n",
    "    prev_city = path[0]\n",
    "    for next_city in path[1:]:\n",
    "        total_cost += board[prev_city][next_city]\n",
    "        prev_city = next_city\n",
    "    \n",
    "    total_cost += board[prev_city][path[0]]\n",
    "    return total_cost\n",
    "\n",
    "min_total_cost = float('inf')\n",
    "\n",
    "def dfs(path):\n",
    "    global min_total_cost\n",
    "\n",
    "    if len(path) == n:\n",
    "        if not is_connected(path[-1], path[0]):\n",
    "            return\n",
    "\n",
    "        min_total_cost = min(min_total_cost, calc_total_cost(path))\n",
    "        return \n",
    "\n",
    "    for i in range(1, n):\n",
    "        if i not in path:\n",
    "            if is_connected(path[-1], i):\n",
    "                dfs(path + [i])\n",
    "\n",
    "dfs([0])\n",
    "print(min_total_cost)\n",
    "    \n",
    "            "
   ]
  },
  {
   "cell_type": "code",
   "execution_count": 28,
   "id": "2c49df6c-35d5-4796-b469-9c659e78c7a4",
   "metadata": {},
   "outputs": [
    {
     "name": "stdin",
     "output_type": "stream",
     "text": [
      " 4\n",
      " 0 10 15 20\n",
      " 5 0 9 10\n",
      " 6 13 0 12\n",
      " 8 8 9 0\n"
     ]
    },
    {
     "name": "stdout",
     "output_type": "stream",
     "text": [
      "35\n"
     ]
    }
   ],
   "source": [
    "n = int(input())\n",
    "board = [list(map(int, input().split())) for _ in range(n)]\n",
    "\n",
    "min_total_cost = float('inf')\n",
    "visited = [False] * n\n",
    "\n",
    "def dfs(city, count, total_cost, start):\n",
    "    global min_total_cost\n",
    "\n",
    "    if total_cost >= min_total_cost:\n",
    "        return\n",
    "        \n",
    "    if count == n:\n",
    "        if board[city][start] != 0:\n",
    "            min_total_cost = min(min_total_cost, total_cost + board[city][start])\n",
    "            return \n",
    "\n",
    "    for next_city in range(n):\n",
    "        if not visited[next_city] and board[city][next_city] != 0:\n",
    "            visited[next_city] = True\n",
    "            dfs(next_city, count + 1, total_cost + board[city][next_city], start)\n",
    "            visited[next_city] = False\n",
    "\n",
    "visited[0] = True\n",
    "dfs(0, 1, 0, 0)\n",
    "\n",
    "print(min_total_cost)\n",
    "    \n",
    "            "
   ]
  },
  {
   "cell_type": "code",
   "execution_count": null,
   "id": "98a7de51-f630-42f7-be1f-50f33f582623",
   "metadata": {},
   "outputs": [],
   "source": []
  }
 ],
 "metadata": {
  "kernelspec": {
   "display_name": "Python 3 (ipykernel)",
   "language": "python",
   "name": "python3"
  },
  "language_info": {
   "codemirror_mode": {
    "name": "ipython",
    "version": 3
   },
   "file_extension": ".py",
   "mimetype": "text/x-python",
   "name": "python",
   "nbconvert_exporter": "python",
   "pygments_lexer": "ipython3",
   "version": "3.12.2"
  }
 },
 "nbformat": 4,
 "nbformat_minor": 5
}
