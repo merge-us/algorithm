{
 "cells": [
  {
   "cell_type": "code",
   "execution_count": 6,
   "id": "07af0c18-7ed4-4a17-b3dd-6ec77369c1c5",
   "metadata": {},
   "outputs": [
    {
     "name": "stdin",
     "output_type": "stream",
     "text": [
      " 3\n"
     ]
    },
    {
     "name": "stdout",
     "output_type": "stream",
     "text": [
      "1 2 3\n",
      "1 3 2\n",
      "2 1 3\n",
      "2 3 1\n",
      "3 1 2\n",
      "3 2 1\n"
     ]
    }
   ],
   "source": [
    "from itertools import permutations\n",
    "\n",
    "n = int(input())\n",
    "\n",
    "print(\"\\n\".join(\" \".join(map(str, seq)) for seq in sorted(permutations([i for i in range(1, n + 1)], n))))"
   ]
  },
  {
   "cell_type": "code",
   "execution_count": null,
   "id": "6537a58b-c4f9-4802-af14-b0a7e9dea907",
   "metadata": {},
   "outputs": [],
   "source": []
  }
 ],
 "metadata": {
  "kernelspec": {
   "display_name": "Python 3 (ipykernel)",
   "language": "python",
   "name": "python3"
  },
  "language_info": {
   "codemirror_mode": {
    "name": "ipython",
    "version": 3
   },
   "file_extension": ".py",
   "mimetype": "text/x-python",
   "name": "python",
   "nbconvert_exporter": "python",
   "pygments_lexer": "ipython3",
   "version": "3.12.2"
  }
 },
 "nbformat": 4,
 "nbformat_minor": 5
}
