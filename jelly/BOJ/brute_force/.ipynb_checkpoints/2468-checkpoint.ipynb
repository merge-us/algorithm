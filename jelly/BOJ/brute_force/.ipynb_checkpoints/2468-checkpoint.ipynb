{
 "cells": [
  {
   "cell_type": "code",
   "execution_count": 2,
   "id": "14d64697-1190-4453-9e85-572194a02035",
   "metadata": {},
   "outputs": [
    {
     "data": {
      "text/plain": [
       "'\\n1. 최대/최소값 저장\\n2. 결국 dx, dy사용해서  진행\\n3. temp만들어서 비 내린 높이 빼고 양수 음수로 구분 -> then 0으로 ? \\n4. max_count = -INF\\n'"
      ]
     },
     "execution_count": 2,
     "metadata": {},
     "output_type": "execute_result"
    }
   ],
   "source": [
    "\"\"\"\n",
    "1. 최대/최소값 저장\n",
    "2. 결국 dx, dy사용해서  진행\n",
    "3. temp만들어서 비 내린 높이 빼고 양수 음수로 구분 -> then 0으로 ? \n",
    "4. max_count = -INF\n",
    "\"\"\""
   ]
  },
  {
   "cell_type": "code",
   "execution_count": 18,
   "id": "624ba932-1a75-4e8f-953c-35af829f4791",
   "metadata": {},
   "outputs": [
    {
     "name": "stdin",
     "output_type": "stream",
     "text": [
      " 7\n",
      " 9 9 9 9 9 9 9\n",
      " 9 2 1 2 1 2 9\n",
      " 9 1 8 7 8 1 9\n",
      " 9 2 7 9 7 2 9\n",
      " 9 1 8 7 8 1 9\n",
      " 9 2 1 2 1 2 9\n",
      " 9 9 9 9 9 9 9\n"
     ]
    },
    {
     "name": "stdout",
     "output_type": "stream",
     "text": [
      "6\n"
     ]
    }
   ],
   "source": [
    "import copy\n",
    "INF = int(1e9)\n",
    "\n",
    "n = int(input())\n",
    "map_array = []\n",
    "\n",
    "max_height = -INF\n",
    "min_height = INF\n",
    "for i in range(n):\n",
    "    map_array.append(list(map(int, input().split())))\n",
    "    max_height = max(max_height, max(map_array[i]))\n",
    "    min_height = min(min_height, min(map_array[i]))\n",
    "\n",
    "dx = [-1, 1, 0, 0]\n",
    "dy = [0, 0, -1, 1]\n",
    "\n",
    "def dfs(x, y, height, temp):\n",
    "    for i in range(4):\n",
    "        nx = x + dx[i]\n",
    "        ny = y + dy[i]\n",
    "        if nx < 0 or nx >= n:\n",
    "            continue\n",
    "        if ny < 0 or ny >= n:\n",
    "            continue\n",
    "        if temp[nx][ny] - height > 0:\n",
    "            temp[nx][ny] = -1\n",
    "            dfs(nx, ny, height, temp)\n",
    "\n",
    "max_count = 0\n",
    "for height in range(min_height, max_height):\n",
    "    count = 0\n",
    "    temp = copy.deepcopy(map_array)\n",
    "    for i in range(n):\n",
    "        for j in range(n):\n",
    "            if temp[i][j] - height > 0:\n",
    "                count += 1\n",
    "                temp[i][j] = -1\n",
    "                dfs(i, j, height, temp)\n",
    "    max_count = max(max_count, count)\n",
    "\n",
    "print(max_count)"
   ]
  },
  {
   "cell_type": "code",
   "execution_count": 21,
   "id": "d9735eef-065a-47fb-905e-f0eadbd7a38f",
   "metadata": {},
   "outputs": [
    {
     "name": "stdin",
     "output_type": "stream",
     "text": [
      " 5\n",
      " 6 8 2 6 2\n",
      " 3 2 3 4 6\n",
      " 6 7 3 3 2\n",
      " 7 2 5 3 6\n",
      " 8 9 5 2 7\n"
     ]
    },
    {
     "name": "stdout",
     "output_type": "stream",
     "text": [
      "5\n"
     ]
    }
   ],
   "source": [
    "import sys\n",
    "sys.setrecursionlimit(10**6)\n",
    "\n",
    "INF = int(1e9)\n",
    "\n",
    "n = int(input())\n",
    "map_array = []\n",
    "\n",
    "max_height = -INF\n",
    "min_height = INF\n",
    "for i in range(n):\n",
    "    map_array.append(list(map(int, input().split())))\n",
    "    max_height = max(max_height, max(map_array[i]))\n",
    "    min_height = min(min_height, min(map_array[i]))\n",
    "\n",
    "dx = [-1, 1, 0, 0]\n",
    "dy = [0, 0, -1, 1]\n",
    "\n",
    "def dfs(x, y, height, visited):\n",
    "    for i in range(4):\n",
    "        nx = x + dx[i]\n",
    "        ny = y + dy[i]\n",
    "        if 0 <= nx < n and 0 <= ny < n and map_array[nx][ny] > height and not visited[nx][ny]:\n",
    "            visited[nx][ny] = True\n",
    "            dfs(nx, ny, height, visited)\n",
    "\n",
    "max_count = 0\n",
    "for height in range(min_height, max_height):\n",
    "    count = 0\n",
    "    visited = [[False] * n for _ in range(n)] \n",
    "    for i in range(n):\n",
    "        for j in range(n):\n",
    "            if map_array[i][j] > height and not visited[i][j]:\n",
    "                count += 1\n",
    "                visited[i][j] = True\n",
    "                dfs(i, j, height, visited)\n",
    "    max_count = max(max_count, count)\n",
    "\n",
    "print(max_count)"
   ]
  },
  {
   "cell_type": "code",
   "execution_count": 24,
   "id": "bb1c34e4-50d3-403b-b48b-fca6ffb9fa5d",
   "metadata": {},
   "outputs": [
    {
     "name": "stdin",
     "output_type": "stream",
     "text": [
      " 7\n",
      " 9 9 9 9 9 9 9\n",
      " 9 2 1 2 1 2 9\n",
      " 9 1 8 7 8 1 9\n",
      " 9 2 7 9 7 2 9\n",
      " 9 1 8 7 8 1 9\n",
      " 9 2 1 2 1 2 9\n",
      " 9 9 9 9 9 9 9\n"
     ]
    },
    {
     "name": "stdout",
     "output_type": "stream",
     "text": [
      "6\n"
     ]
    }
   ],
   "source": [
    "from collections import deque\n",
    "\n",
    "INF = int(1e9)\n",
    "\n",
    "n = int(input())\n",
    "map_array = []\n",
    "\n",
    "max_height = -INF\n",
    "min_height = INF\n",
    "\n",
    "for i in range(n):\n",
    "    map_array.append(list(map(int, input().split())))\n",
    "    max_height = max(max_height, max(map_array[i]))\n",
    "    min_height = min(min_height, min(map_array[i]))\n",
    "\n",
    "visited = [[False] * n for _ in range(n)]\n",
    "\n",
    "dx = [-1, 1, 0, 0]\n",
    "dy = [0, 0, -1, 1]\n",
    "\n",
    "def bfs(x, y, height, visited):\n",
    "    q = deque()\n",
    "    q.append((x, y))\n",
    "    visited[x][y] = True\n",
    "    \n",
    "    while q:\n",
    "        x, y = q.popleft()\n",
    "        for i in range(4):\n",
    "            nx = x + dx[i]\n",
    "            ny = y + dy[i]\n",
    "            if 0 <= nx < n and 0 <= ny < n and not visited[nx][ny] and map_array[nx][ny] > height:\n",
    "                visited[nx][ny] = True\n",
    "                q.append((nx, ny))\n",
    "\n",
    "                \n",
    "max_count = 0\n",
    "for height in range(max_height + 1):\n",
    "    visited = [[False] * n for _ in range(n)] \n",
    "    count = 0\n",
    "    \n",
    "    for i in range(n):\n",
    "        for j in range(n):\n",
    "            if map_array[i][j] > height and not visited[i][j]:\n",
    "                count += 1\n",
    "                bfs(i, j, height, visited)\n",
    "                \n",
    "    max_count = max(max_count, count)\n",
    "\n",
    "print(max_count)"
   ]
  },
  {
   "cell_type": "code",
   "execution_count": null,
   "id": "b1d2a5cf-d0fb-4cc7-b7f8-ac17206fab6f",
   "metadata": {},
   "outputs": [],
   "source": []
  }
 ],
 "metadata": {
  "kernelspec": {
   "display_name": "Python 3 (ipykernel)",
   "language": "python",
   "name": "python3"
  },
  "language_info": {
   "codemirror_mode": {
    "name": "ipython",
    "version": 3
   },
   "file_extension": ".py",
   "mimetype": "text/x-python",
   "name": "python",
   "nbconvert_exporter": "python",
   "pygments_lexer": "ipython3",
   "version": "3.12.2"
  }
 },
 "nbformat": 4,
 "nbformat_minor": 5
}
