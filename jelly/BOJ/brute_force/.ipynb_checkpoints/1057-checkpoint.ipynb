{
 "cells": [
  {
   "cell_type": "code",
   "execution_count": 48,
   "id": "9fd272f7-4dae-46b5-be32-d959b0b291d0",
   "metadata": {},
   "outputs": [
    {
     "name": "stdin",
     "output_type": "stream",
     "text": [
      " 16 8 9\n"
     ]
    },
    {
     "name": "stdout",
     "output_type": "stream",
     "text": [
      "found\n",
      "4\n"
     ]
    }
   ],
   "source": [
    "import math\n",
    "\n",
    "n, x, y = map(int, input().split())\n",
    "\n",
    "players = [i for i in range(1, n + 1)]\n",
    "\n",
    "count = 0\n",
    "found = False\n",
    "\n",
    "while len(players) > 1:\n",
    "    count += 1\n",
    "\n",
    "    next_players = []\n",
    "    for i in range(0, n - 1, 2):\n",
    "        player_a = players[i]\n",
    "        player_b = players[i + 1]\n",
    "\n",
    "        if (player_a == x and player_b == y) or (player_a == y and player_b == x):\n",
    "            found = True\n",
    "            break\n",
    "        else:\n",
    "            if player_a in [x, y]:\n",
    "                next_players.append(player_a)\n",
    "            else :\n",
    "                next_players.append(player_b)\n",
    "\n",
    "    if found:\n",
    "        break\n",
    "        \n",
    "    if n % 2 == 1:\n",
    "        next_players.append(players[-1])\n",
    "        \n",
    "    players = next_players\n",
    "    n = len(players)\n",
    "\n",
    "print(count if found else -1)\n",
    "\n",
    "\n"
   ]
  },
  {
   "cell_type": "code",
   "execution_count": 49,
   "id": "1b4f7152-cffc-4630-b9b1-3baaf5d53f9d",
   "metadata": {},
   "outputs": [
    {
     "name": "stdin",
     "output_type": "stream",
     "text": [
      " 16 1 2\n"
     ]
    },
    {
     "name": "stdout",
     "output_type": "stream",
     "text": [
      "1\n"
     ]
    }
   ],
   "source": [
    "n, x, y = map(int, input().split())\n",
    "\n",
    "round = 0\n",
    "\n",
    "while x != y:\n",
    "    x = (x + 1) // 2\n",
    "    y = (y + 1) // 2\n",
    "    round += 1\n",
    "\n",
    "print(round)\n",
    "\n",
    "\n"
   ]
  },
  {
   "cell_type": "code",
   "execution_count": 27,
   "id": "1f1d2299-3c86-49fe-975d-7c9d4f323d15",
   "metadata": {},
   "outputs": [
    {
     "name": "stdout",
     "output_type": "stream",
     "text": [
      "yes\n"
     ]
    }
   ],
   "source": [
    "\n",
    "\n",
    "if 1 in [a, b]:\n",
    "    print('yes')\n",
    "\n"
   ]
  },
  {
   "cell_type": "code",
   "execution_count": null,
   "id": "d721f592-01e8-4ada-bd1b-c344178d3307",
   "metadata": {},
   "outputs": [],
   "source": []
  }
 ],
 "metadata": {
  "kernelspec": {
   "display_name": "Python 3 (ipykernel)",
   "language": "python",
   "name": "python3"
  },
  "language_info": {
   "codemirror_mode": {
    "name": "ipython",
    "version": 3
   },
   "file_extension": ".py",
   "mimetype": "text/x-python",
   "name": "python",
   "nbconvert_exporter": "python",
   "pygments_lexer": "ipython3",
   "version": "3.12.2"
  }
 },
 "nbformat": 4,
 "nbformat_minor": 5
}
