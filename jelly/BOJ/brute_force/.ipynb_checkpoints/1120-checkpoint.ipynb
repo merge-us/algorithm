{
 "cells": [
  {
   "cell_type": "code",
   "execution_count": 11,
   "id": "78268f65-bd6b-4279-99ff-5d14023c468f",
   "metadata": {},
   "outputs": [
    {
     "name": "stdin",
     "output_type": "stream",
     "text": [
      " adaabc aababbc\n"
     ]
    },
    {
     "name": "stdout",
     "output_type": "stream",
     "text": [
      "2\n"
     ]
    }
   ],
   "source": [
    "a, b = input().split()\n",
    "\n",
    "length_a = len(a)\n",
    "length_b = len(b)\n",
    "\n",
    "total_same_words = 0\n",
    "for i in range(length_b - length_a + 1):\n",
    "    current_same_words = 0\n",
    "    for j in range(length_a):\n",
    "        if a[j] == b[i:i + length_a][j]:\n",
    "            current_same_words += 1\n",
    "        total_same_words = max(total_same_words, current_same_words) \n",
    "\n",
    "print(length_a - total_same_words)"
   ]
  },
  {
   "cell_type": "code",
   "execution_count": null,
   "id": "ea9e3708-aba8-42d2-a200-c781a1f4f14f",
   "metadata": {},
   "outputs": [],
   "source": []
  }
 ],
 "metadata": {
  "kernelspec": {
   "display_name": "Python 3 (ipykernel)",
   "language": "python",
   "name": "python3"
  },
  "language_info": {
   "codemirror_mode": {
    "name": "ipython",
    "version": 3
   },
   "file_extension": ".py",
   "mimetype": "text/x-python",
   "name": "python",
   "nbconvert_exporter": "python",
   "pygments_lexer": "ipython3",
   "version": "3.12.2"
  }
 },
 "nbformat": 4,
 "nbformat_minor": 5
}
