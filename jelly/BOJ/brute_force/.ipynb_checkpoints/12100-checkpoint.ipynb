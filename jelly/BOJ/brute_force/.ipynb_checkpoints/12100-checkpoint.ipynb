{
 "cells": [
  {
   "cell_type": "code",
   "execution_count": 32,
   "id": "4393689c-0eda-4c6a-a45d-968be030a50e",
   "metadata": {},
   "outputs": [
    {
     "name": "stdin",
     "output_type": "stream",
     "text": [
      " 3\n",
      " 2 2 2\n",
      " 4 4 4\n",
      " 8 8 8\n"
     ]
    },
    {
     "name": "stdout",
     "output_type": "stream",
     "text": [
      "16\n"
     ]
    }
   ],
   "source": [
    "from itertools import product\n",
    "\n",
    "n = int(input())\n",
    "\n",
    "board = []\n",
    "for _ in range(n):\n",
    "    board.append(list(map(int,input().split())))\n",
    "\n",
    "direction = [1, 2, 3, 4]\n",
    "\n",
    "def move(board):\n",
    "    for i in range(n - 2, -1, -1):\n",
    "            for j in range(n):\n",
    "                if board[i + 1][j] == board[i][j]:\n",
    "                    board[i + 1][j] += board[i][j]\n",
    "                    board[i][j] = 0\n",
    "                elif board[i + 1][j] == 0:\n",
    "                    k = i + 1\n",
    "                    current = board[i][j]\n",
    "                    while k < 3 and board[k][j] == 0:\n",
    "                        board[k][j] = current\n",
    "                        board[k - 1][j] = 0\n",
    "                        k += 1\n",
    "\n",
    "max_value = -1\n",
    "\n",
    "for seq in list(product(direction, repeat=5)):\n",
    "    temp = board.copy()\n",
    "\n",
    "    for i in seq:\n",
    "        if i == 1:\n",
    "            temp = [[temp[i][j] for j in range(n)] for i in range(n - 1, -1, -1)]\n",
    "            move(temp)\n",
    "            temp = [[temp[i][j] for j in range(n)] for i in range(n - 1, -1, -1)]\n",
    "        elif i == 2:\n",
    "            temp = [[temp[j][i] for j in range(n - 1, -1, -1)] for i in range(n)]\n",
    "            move(temp)\n",
    "            temp = [[temp[j][i] for j in range(n)] for i in range(n - 1, -1, -1)]\n",
    "        elif i == 3:\n",
    "            temp = [[temp[j][i] for j in range(n)] for i in range(n - 1, -1, -1)]\n",
    "            move(temp)\n",
    "            temp = [[temp[j][i] for j in range(n - 1, -1, -1)] for i in range(n)]\n",
    "        else:\n",
    "            move(temp)\n",
    "\n",
    "        max_value = max(max_value, max(map(max, temp)))\n",
    "\n",
    "print(max_value)"
   ]
  },
  {
   "cell_type": "code",
   "execution_count": 21,
   "id": "3bfa1a6e-8ad8-48a1-8dc6-015a0c67dd70",
   "metadata": {},
   "outputs": [
    {
     "name": "stdout",
     "output_type": "stream",
     "text": [
      "[(1, 1, 1, 1), (1, 1, 1, 2), (1, 1, 1, 3), (1, 1, 2, 1), (1, 1, 2, 2), (1, 1, 2, 3), (1, 1, 3, 1), (1, 1, 3, 2), (1, 1, 3, 3), (1, 2, 1, 1), (1, 2, 1, 2), (1, 2, 1, 3), (1, 2, 2, 1), (1, 2, 2, 2), (1, 2, 2, 3), (1, 2, 3, 1), (1, 2, 3, 2), (1, 2, 3, 3), (1, 3, 1, 1), (1, 3, 1, 2), (1, 3, 1, 3), (1, 3, 2, 1), (1, 3, 2, 2), (1, 3, 2, 3), (1, 3, 3, 1), (1, 3, 3, 2), (1, 3, 3, 3), (2, 1, 1, 1), (2, 1, 1, 2), (2, 1, 1, 3), (2, 1, 2, 1), (2, 1, 2, 2), (2, 1, 2, 3), (2, 1, 3, 1), (2, 1, 3, 2), (2, 1, 3, 3), (2, 2, 1, 1), (2, 2, 1, 2), (2, 2, 1, 3), (2, 2, 2, 1), (2, 2, 2, 2), (2, 2, 2, 3), (2, 2, 3, 1), (2, 2, 3, 2), (2, 2, 3, 3), (2, 3, 1, 1), (2, 3, 1, 2), (2, 3, 1, 3), (2, 3, 2, 1), (2, 3, 2, 2), (2, 3, 2, 3), (2, 3, 3, 1), (2, 3, 3, 2), (2, 3, 3, 3), (3, 1, 1, 1), (3, 1, 1, 2), (3, 1, 1, 3), (3, 1, 2, 1), (3, 1, 2, 2), (3, 1, 2, 3), (3, 1, 3, 1), (3, 1, 3, 2), (3, 1, 3, 3), (3, 2, 1, 1), (3, 2, 1, 2), (3, 2, 1, 3), (3, 2, 2, 1), (3, 2, 2, 2), (3, 2, 2, 3), (3, 2, 3, 1), (3, 2, 3, 2), (3, 2, 3, 3), (3, 3, 1, 1), (3, 3, 1, 2), (3, 3, 1, 3), (3, 3, 2, 1), (3, 3, 2, 2), (3, 3, 2, 3), (3, 3, 3, 1), (3, 3, 3, 2), (3, 3, 3, 3)]\n"
     ]
    }
   ],
   "source": [
    "from itertools import product\n",
    "\n",
    "data = [1, 2, 3]\n",
    "\n",
    "result = list(product(data, repeat=4))\n",
    "\n",
    "print(result)\n",
    "\n",
    "\n",
    "\n",
    "\n"
   ]
  },
  {
   "cell_type": "code",
   "execution_count": 30,
   "id": "ee8b0ab1-a945-4ffd-b0e1-7f06ff8f2dc2",
   "metadata": {},
   "outputs": [
    {
     "name": "stdout",
     "output_type": "stream",
     "text": [
      "9\n"
     ]
    }
   ],
   "source": [
    "matrix = [[1, 2, 3],\n",
    "         [4, 5, 6],\n",
    "         [7, 8, 9]]\n",
    "\n",
    "#matrix = [[matrix[j][i] for j in range(len(matrix) - 1, -1, -1)] for i in range(3)]\n",
    "\n",
    "print(max(map(max, matrix)))\n"
   ]
  },
  {
   "cell_type": "code",
   "execution_count": 20,
   "id": "9054a7b5-fce1-47bf-ad5c-2c940407c0fd",
   "metadata": {},
   "outputs": [
    {
     "name": "stdout",
     "output_type": "stream",
     "text": [
      "[[3, 6, 9], [2, 5, 8], [1, 4, 7]]\n",
      "[[7, 8, 9], [4, 5, 6], [1, 2, 3]]\n"
     ]
    }
   ],
   "source": [
    "rotated_reverse = [[matrix[j][i] for j in range(len(matrix))] for i in range(len(matrix[0]) - 1, -1, -1)]\n",
    "print(rotated_reverse)\n",
    "\n",
    "reverse = [[matrix[i][j] for j in range(len(matrix))] for i in range(len(matrix[0]) - 1, -1, -1)]\n",
    "print(reverse)"
   ]
  },
  {
   "cell_type": "code",
   "execution_count": null,
   "id": "ab24ead3-e8a3-43f7-a418-92c877fbc514",
   "metadata": {},
   "outputs": [],
   "source": [
    " "
   ]
  },
  {
   "cell_type": "code",
   "execution_count": 35,
   "id": "d9311e6e-07da-46bb-9e39-c280a2403f7e",
   "metadata": {},
   "outputs": [
    {
     "name": "stdout",
     "output_type": "stream",
     "text": [
      "[[0, 0, 0, 0], [0, 0, 0, 0], [2, 0, 2, 0], [4, 0, 2, 4]]\n"
     ]
    }
   ],
   "source": [
    "n = 4\n",
    "\n",
    "board = [[0, 0, 2, 0],\n",
    "         [4, 0, 0, 0],\n",
    "         [0, 0, 2, 0],\n",
    "         [4, 0, 0, 4]]\n",
    "\n",
    "def move(board):\n",
    "    for i in range(n - 2, -1, -1):\n",
    "            for j in range(n):\n",
    "                while True:\n",
    "                    if \n",
    "                if board[i + 1][j] == board[i][j]:\n",
    "                    board[i + 1][j] += board[i][j]\n",
    "                    board[i][j] = 0\n",
    "                elif board[i + 1][j] == 0:\n",
    "                    k = i + 1\n",
    "                    current = board[i][j]\n",
    "                    while k < n and board[k][j] == 0:\n",
    "                        board[k][j] = current\n",
    "                        board[k - 1][j] = 0\n",
    "                        k += 1\n",
    "\n",
    "move(board)\n",
    "print(board)"
   ]
  },
  {
   "cell_type": "code",
   "execution_count": null,
   "id": "e44e2a33-e305-47b7-9d46-3947cc42f33d",
   "metadata": {},
   "outputs": [],
   "source": []
  }
 ],
 "metadata": {
  "kernelspec": {
   "display_name": "Python 3 (ipykernel)",
   "language": "python",
   "name": "python3"
  },
  "language_info": {
   "codemirror_mode": {
    "name": "ipython",
    "version": 3
   },
   "file_extension": ".py",
   "mimetype": "text/x-python",
   "name": "python",
   "nbconvert_exporter": "python",
   "pygments_lexer": "ipython3",
   "version": "3.12.2"
  }
 },
 "nbformat": 4,
 "nbformat_minor": 5
}
