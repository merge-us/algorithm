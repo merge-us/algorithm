{
 "cells": [
  {
   "cell_type": "code",
   "execution_count": null,
   "id": "cdc5f3ae-a965-460a-a6c1-6004518ad61a",
   "metadata": {},
   "outputs": [
    {
     "name": "stdin",
     "output_type": "stream",
     "text": [
      " 5 7\n"
     ]
    }
   ],
   "source": [
    "from collections import deque\n",
    "\n",
    "n, m = map(int, input().split())\n",
    "\n",
    "board = [list(input()) for _ in range(n)]\n",
    "\n",
    "dx = [-1, 1, 0, 0]\n",
    "dy = [0, 0, -1, 1]\n",
    "\n",
    "def bfs(x, y):\n",
    "    visited = [[-1] * m for _ in range(n)]\n",
    "    visited[x][y] = 0\n",
    "    \n",
    "    q = deque([])\n",
    "    q.append((x, y))\n",
    "\n",
    "    current_max = visited[x][y]\n",
    "    while q:\n",
    "        cx, cy = q.popleft()\n",
    "        for i in range(4):\n",
    "            nx, ny = cx + dx[i], cy + dy[i]\n",
    "            if 0 <= nx < n and 0 <= ny < m and board[nx][ny] == \"L\" and visited[nx][ny] == -1:\n",
    "                visited[nx][ny] = visited[cx][cy] + 1\n",
    "                current_max = max(current_max, visited[nx][ny])\n",
    "                q.append((nx, ny))\n",
    "                \n",
    "    return current_max\n",
    "\n",
    "max_distance = 0\n",
    "for i in range(n):\n",
    "    for j in range(m):\n",
    "        if board[i][j] == \"L\":\n",
    "            max_distance = max(max_distance, bfs(i, j))\n",
    "\n",
    "print(max_distance)"
   ]
  },
  {
   "cell_type": "code",
   "execution_count": 28,
   "id": "7b0a0ab5-e9c1-4b95-9b58-6fe828d1899d",
   "metadata": {},
   "outputs": [
    {
     "name": "stdout",
     "output_type": "stream",
     "text": [
      "['5 7', 'WLLWWWL', 'LLLWLLL', 'LWLWLWW', 'LWLWLLL', 'WLLWLWW']\n"
     ]
    }
   ],
   "source": [
    "from collections import deque\n",
    "\n",
    "n, m = map(int, input().split())\n",
    "\n",
    "board = []\n",
    "for _ in range(n):\n",
    "    row = list(input())\n",
    "    for i in range(m):\n",
    "        row[i] = 0 if row[i] == \"L\" else -1\n",
    "    board.append(row)\n",
    "\n",
    "def bfs(temp_board, x, y):\n",
    "    dx = [-1, 1, 0, 0]\n",
    "    dy = [0, 0, -1, 1]\n",
    "    \n",
    "    q = deque([])\n",
    "    q.append((x, y))\n",
    "    \n",
    "    while q:\n",
    "        cx, cy = q.popleft()\n",
    "        for i in range(4):\n",
    "            nx, ny = cx + dx[i], cy + dy[i]\n",
    "            if 0 <= nx < n and 0 <= ny < m and temp_board[nx][ny] == 0:\n",
    "                temp_board[nx][ny] = temp_board[cx][cy] + 1\n",
    "                q.append((nx, ny))\n",
    "\n",
    "    temp_board[x][y] = 0\n",
    "    return max(max(row) for row in temp_board)\n",
    "\n",
    "max_distance = 0\n",
    "for i in range(n):\n",
    "    for j in range(m):\n",
    "        if board[i][j] == 0:\n",
    "            temp_board = [row[:] for row in board]\n",
    "            max_distance = max(max_distance, bfs(temp_board, i, j))\n",
    "\n",
    "print(max_distance)"
   ]
  },
  {
   "cell_type": "code",
   "execution_count": null,
   "id": "7a9e9dca-041e-41a6-b531-f3d3280cac32",
   "metadata": {},
   "outputs": [],
   "source": []
  }
 ],
 "metadata": {
  "kernelspec": {
   "display_name": "Python 3 (ipykernel)",
   "language": "python",
   "name": "python3"
  },
  "language_info": {
   "codemirror_mode": {
    "name": "ipython",
    "version": 3
   },
   "file_extension": ".py",
   "mimetype": "text/x-python",
   "name": "python",
   "nbconvert_exporter": "python",
   "pygments_lexer": "ipython3",
   "version": "3.12.2"
  }
 },
 "nbformat": 4,
 "nbformat_minor": 5
}
