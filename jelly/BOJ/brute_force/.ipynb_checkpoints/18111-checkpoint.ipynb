{
 "cells": [
  {
   "cell_type": "code",
   "execution_count": 8,
   "id": "40128c2f-7dbe-41fa-9425-5420c9c1de03",
   "metadata": {},
   "outputs": [
    {
     "name": "stdin",
     "output_type": "stream",
     "text": [
      " 3 4 18\n",
      " 1 2 3 4\n",
      " 1 2 3 4\n",
      " 1 2 3 4\n"
     ]
    },
    {
     "name": "stdout",
     "output_type": "stream",
     "text": [
      "\n",
      "time_to_dig: 36\n",
      "time_to_fill: 0\n",
      "\n",
      "\n",
      "time_to_dig: 18\n",
      "time_to_fill: 3\n",
      "\n",
      "\n",
      "time_to_dig: 6\n",
      "time_to_fill: 9\n",
      "\n",
      "\n",
      "time_to_dig: 0\n",
      "time_to_fill: 18\n",
      "\n",
      "15 3\n"
     ]
    }
   ],
   "source": [
    "n, m, B = map(int, input().split())\n",
    "\n",
    "board = []\n",
    "\n",
    "min_height = 257\n",
    "max_height = -1\n",
    "\n",
    "for _ in range(n):\n",
    "    row = list(map(int, input().split()))\n",
    "    min_height = min(min_height, min(row))\n",
    "    max_height = max(max_height, max(row))\n",
    "\n",
    "    board.append(row)\n",
    "\n",
    "def dig_ground(temp_board, temp_inventory, target_height):\n",
    "    time = 0\n",
    "    for i in range(n):\n",
    "        for j in range(m):\n",
    "            if temp_board[i][j] > target_height:\n",
    "                temp_inventory += temp_board[i][j] - target_height\n",
    "                time +=  2 * (temp_board[i][j] - target_height)\n",
    "                temp_board[i][j] = target_height\n",
    "\n",
    "    return (temp_inventory, time)\n",
    "\n",
    "def fill_ground(temp_board, temp_inventory, target_height):\n",
    "    time = 0\n",
    "    for i in range(n):\n",
    "        for j in range(m):\n",
    "            if temp_board[i][j] < target_height:\n",
    "                temp_inventory -= target_height - temp_board[i][j]\n",
    "                if temp_inventory < 0:\n",
    "                    return None\n",
    "                    \n",
    "                time += target_height - temp_board[i][j]\n",
    "                temp_board[i][j] = target_height\n",
    "\n",
    "    return time   \n",
    "\n",
    "min_time_needed = float('inf')\n",
    "max_target_height = -1\n",
    "\n",
    "for current_height in range(min_height, max_height + 1):\n",
    "    inventory = B\n",
    "    temp_board = [row[:] for row in board]\n",
    "\n",
    "    current_time_needed = 0\n",
    "    print()\n",
    "   \n",
    "    inventory, time_to_dig = dig_ground(temp_board, inventory, current_height)\n",
    "    print(f\"time_to_dig: {time_to_dig}\")\n",
    "    #print(temp_board)\n",
    "    time_to_fill = fill_ground(temp_board, inventory, current_height)\n",
    "    print(f\"time_to_fill: {time_to_fill}\")\n",
    "    #print(temp_board)\n",
    "    print()\n",
    "    if time_to_fill is None:\n",
    "        continue\n",
    "        \n",
    "    current_time_needed = time_to_dig + time_to_fill\n",
    "\n",
    "    if current_time_needed <= min_time_needed:\n",
    "        min_time_needed = current_time_needed\n",
    "        max_target_height = current_height\n",
    "\n",
    "print(min_time_needed, max_target_height)"
   ]
  },
  {
   "cell_type": "code",
   "execution_count": 13,
   "id": "6a32c5ec-deba-43af-91ea-d0e816cd14cd",
   "metadata": {},
   "outputs": [
    {
     "name": "stdin",
     "output_type": "stream",
     "text": [
      " 3 4 18\n",
      " 1 2 3 4\n",
      " 1 2 3 4\n",
      " 1 2 3 4\n"
     ]
    },
    {
     "name": "stdout",
     "output_type": "stream",
     "text": [
      "15 3\n"
     ]
    }
   ],
   "source": [
    "n, m, B = map(int, input().split())\n",
    "\n",
    "board = []\n",
    "\n",
    "min_height = 257\n",
    "max_height = -1\n",
    "\n",
    "for _ in range(n):\n",
    "    row = list(map(int, input().split()))\n",
    "    min_height = min(min_height, min(row))\n",
    "    max_height = max(max_height, max(row))\n",
    "\n",
    "    board.append(row)\n",
    "\n",
    "def dig_ground(temp_board, temp_inventory, target_height):\n",
    "    time = 0\n",
    "    for i in range(n):\n",
    "        for j in range(m):\n",
    "            if temp_board[i][j] > target_height:\n",
    "                temp_inventory += temp_board[i][j] - target_height\n",
    "                time +=  2 * (temp_board[i][j] - target_height)\n",
    "                temp_board[i][j] = target_height\n",
    "\n",
    "    return (temp_inventory, time)\n",
    "\n",
    "def fill_ground(temp_board, temp_inventory, target_height):\n",
    "    blocks_needed_counts = (n * m * target_height) - sum(sum(row) for row in temp_board)\n",
    "    return None if temp_inventory < blocks_needed_counts else blocks_needed_counts\n",
    "\n",
    "min_time_needed = float('inf')\n",
    "max_target_height = -1\n",
    "\n",
    "for current_height in range(min_height, max_height + 1):\n",
    "    temp_board = [row[:] for row in board]\n",
    "    inventory = B\n",
    "\n",
    "    current_time_needed = 0\n",
    "   \n",
    "    inventory, time_to_dig = dig_ground(temp_board, inventory, current_height)\n",
    "\n",
    "    time_to_fill = fill_ground(temp_board, inventory, current_height)\n",
    "    if time_to_fill is None:\n",
    "        continue\n",
    "        \n",
    "    current_time_needed = time_to_dig + time_to_fill\n",
    "\n",
    "    if current_time_needed <= min_time_needed:\n",
    "        min_time_needed = current_time_needed\n",
    "        max_target_height = current_height\n",
    "\n",
    "print(min_time_needed, max_target_height)"
   ]
  },
  {
   "cell_type": "code",
   "execution_count": 17,
   "id": "85013ee6-bb78-43de-9efe-1df8d9408028",
   "metadata": {},
   "outputs": [
    {
     "name": "stdin",
     "output_type": "stream",
     "text": [
      " 3 4 18\n",
      " 1 2 3 4\n",
      " 1 2 3 4\n",
      " 1 2 3 4\n"
     ]
    },
    {
     "name": "stdout",
     "output_type": "stream",
     "text": [
      "15 3\n"
     ]
    }
   ],
   "source": [
    "n, m, B = map(int, input().split())\n",
    "\n",
    "blocks = [int(x) for _ in range(n) for x in input().split()]\n",
    "\n",
    "min_height, max_height = min(blocks), max(blocks)\n",
    "\n",
    "min_time = float('inf')\n",
    "max_target_height = -1\n",
    "\n",
    "for target_height in range(min_height, max_height + 1):\n",
    "    remove_blocks = 0\n",
    "    add_blocks = 0\n",
    "\n",
    "    for h in blocks:\n",
    "        if h > target_height:\n",
    "            remove_blocks += h - target_height\n",
    "        else:\n",
    "            add_blocks += target_height - h\n",
    "\n",
    "    if remove_blocks + B < add_blocks:\n",
    "        continue\n",
    "\n",
    "    time = remove_blocks * 2 + add_blocks\n",
    "\n",
    "    if time < min_time or (time == min_time and max_target_height < target_height):\n",
    "        min_time = time\n",
    "        max_target_height = target_height\n",
    "\n",
    "print(min_time, max_target_height)\n",
    "    \n",
    "    "
   ]
  },
  {
   "cell_type": "code",
   "execution_count": 18,
   "id": "61a63f5e-ac98-44d4-9a0a-5312c3826ae3",
   "metadata": {},
   "outputs": [
    {
     "name": "stdin",
     "output_type": "stream",
     "text": [
      " 5\n",
      " 1 2 3 4\n",
      " 1 2 3\n",
      " 1 2 3\n",
      " 1 2 3\n",
      " 1 2 3\n"
     ]
    },
    {
     "name": "stdout",
     "output_type": "stream",
     "text": [
      "[1, 2, 3, 4, 1, 2, 3, 1, 2, 3, 1, 2, 3, 1, 2, 3]\n"
     ]
    }
   ],
   "source": [
    "n = int(input())\n",
    "\n",
    "blocks = [int(x) for _ in range(n) for x in input().split()]\n",
    "\n",
    "print(blocks)"
   ]
  },
  {
   "cell_type": "code",
   "execution_count": null,
   "id": "aead65c0-fbb3-4841-bc97-51fab66652fc",
   "metadata": {},
   "outputs": [],
   "source": []
  }
 ],
 "metadata": {
  "kernelspec": {
   "display_name": "Python 3 (ipykernel)",
   "language": "python",
   "name": "python3"
  },
  "language_info": {
   "codemirror_mode": {
    "name": "ipython",
    "version": 3
   },
   "file_extension": ".py",
   "mimetype": "text/x-python",
   "name": "python",
   "nbconvert_exporter": "python",
   "pygments_lexer": "ipython3",
   "version": "3.12.2"
  }
 },
 "nbformat": 4,
 "nbformat_minor": 5
}
