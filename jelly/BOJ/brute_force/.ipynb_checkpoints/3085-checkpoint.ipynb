{
 "cells": [
  {
   "cell_type": "code",
   "execution_count": 5,
   "id": "7e2eba15-c22d-41f2-bcab-7ad918fe5697",
   "metadata": {},
   "outputs": [
    {
     "name": "stdin",
     "output_type": "stream",
     "text": [
      " 5\n",
      " YCPZY\n",
      " CYZZP\n",
      " CCPPP\n",
      " YCYZC\n",
      " CPPZZ\n"
     ]
    },
    {
     "name": "stdout",
     "output_type": "stream",
     "text": [
      "4\n"
     ]
    }
   ],
   "source": [
    "def count(row):\n",
    "    max_count = 1\n",
    "\n",
    "    current = row[0]\n",
    "    count = 1\n",
    "    \n",
    "    for i in range(1, n):\n",
    "        if row[i] == current:\n",
    "            count += 1\n",
    "            max_count = max(max_count, count)\n",
    "        else:\n",
    "            current = row[i]\n",
    "            count = 1\n",
    "            \n",
    "    return max_count\n",
    "\n",
    "\n",
    "n = int(input())\n",
    "\n",
    "board = [list(input()) for _ in range(n)]\n",
    "rotated_board = [[board[j][i] for j in range(n)] for i in range(n)]\n",
    "\n",
    "\n",
    "max_total_counts = 0\n",
    "\n",
    "for i in range(n):\n",
    "    for j in range(n - 1):\n",
    "        current_max = 0\n",
    "        if board[i][j] != board[i][j + 1]:\n",
    "            board[i][j], board[i][j + 1] = board[i][j + 1], board[i][j]\n",
    "            rotated_board[j][i], rotated_board[j + 1][i] = rotated_board[j + 1][i], rotated_board[j][i]\n",
    "            \n",
    "            for l in range(n):\n",
    "                current_max = max(current_max, count(board[l]), count(rotated_board[l]))\n",
    "        \n",
    "            board[i][j], board[i][j + 1] = board[i][j + 1], board[i][j]\n",
    "            rotated_board[j][i], rotated_board[j + 1][i] = rotated_board[j + 1][i], rotated_board[j][i]\n",
    "            \n",
    "        if rotated_board[i][j] != rotated_board[i][j + 1]:\n",
    "            rotated_board[i][j], rotated_board[i][j + 1] = rotated_board[i][j + 1], rotated_board[i][j]\n",
    "            board[j][i], board[j + 1][i] = board[j + 1][i], board[j][i]\n",
    "            \n",
    "            for l in range(n):\n",
    "                current_max = max(current_max, count(board[l]), count(rotated_board[l]))\n",
    "        \n",
    "            rotated_board[i][j], rotated_board[i][j + 1] = rotated_board[i][j + 1], rotated_board[i][j]\n",
    "            board[j][i], board[j + 1][i] = board[j + 1][i], board[j][i]\n",
    "\n",
    "        max_total_counts = max(max_total_counts, current_max)\n",
    "\n",
    "\n",
    "print(max_total_counts)"
   ]
  },
  {
   "cell_type": "code",
   "execution_count": 15,
   "id": "2e7536f7-2521-4133-8fb6-39a97130ed93",
   "metadata": {},
   "outputs": [
    {
     "name": "stdin",
     "output_type": "stream",
     "text": [
      " 4\n",
      " PPPP\n",
      " CYZY\n",
      " CCPY\n",
      " PPCC\n"
     ]
    },
    {
     "name": "stdout",
     "output_type": "stream",
     "text": [
      "4\n"
     ]
    }
   ],
   "source": [
    "def count_max_candies(board, n):\n",
    "    max_count = 1\n",
    "    \n",
    "    for i in range(n):\n",
    "        count = 1\n",
    "        for j in range(n - 1):\n",
    "            if board[i][j] == board[i][j + 1]:\n",
    "                count += 1\n",
    "                max_count = max(max_count, count)\n",
    "            else:\n",
    "                count = 1\n",
    "\n",
    "    for j in range(n):\n",
    "        count = 1\n",
    "        for i in range(n - 1):\n",
    "            if board[i][j] == board[i + 1][j]:\n",
    "                count += 1\n",
    "                max_count = max(max_count, count)\n",
    "            else:\n",
    "                count = 1\n",
    "                \n",
    "    return max_count\n",
    "\n",
    "\n",
    "n = int(input())\n",
    "board = [list(input()) for _ in range(n)]\n",
    "\n",
    "max_candies = 0\n",
    "\n",
    "for i in range(n):\n",
    "    for j in range(n - 1):\n",
    "        if board[i][j] != board[i][j + 1]:\n",
    "            board[i][j], board[i][j + 1] = board[i][j + 1], board[i][j]\n",
    "            max_candies = max(max_candies, count_max_candies(board, n))\n",
    "            board[i][j], board[i][j + 1] = board[i][j + 1], board[i][j]\n",
    "            \n",
    "        if board[j][i] != board[j + 1][i]:\n",
    "            board[j][i], board[j + 1][i] = board[j + 1][i], board[j][i]\n",
    "            max_candies = max(max_candies, count_max_candies(board, n))\n",
    "            board[j][i], board[j + 1][i] = board[j + 1][i], board[j][i]\n",
    "\n",
    "print(max_candies)"
   ]
  },
  {
   "cell_type": "code",
   "execution_count": 14,
   "id": "1390359b-b0d8-46eb-97bb-29dfa84efe78",
   "metadata": {},
   "outputs": [
    {
     "name": "stdout",
     "output_type": "stream",
     "text": [
      "(1, 2, 1, 1)\n",
      "(3, 4)\n"
     ]
    }
   ],
   "source": [
    "a = (1, 2)\n",
    "b = (3, 4)\n",
    "\n",
    "a = a + (1, 1)\n",
    "print(a)\n",
    "print(b)"
   ]
  },
  {
   "cell_type": "code",
   "execution_count": null,
   "id": "2eaee883-0741-4666-9f1b-0b38483407d7",
   "metadata": {},
   "outputs": [],
   "source": []
  }
 ],
 "metadata": {
  "kernelspec": {
   "display_name": "Python 3 (ipykernel)",
   "language": "python",
   "name": "python3"
  },
  "language_info": {
   "codemirror_mode": {
    "name": "ipython",
    "version": 3
   },
   "file_extension": ".py",
   "mimetype": "text/x-python",
   "name": "python",
   "nbconvert_exporter": "python",
   "pygments_lexer": "ipython3",
   "version": "3.12.2"
  }
 },
 "nbformat": 4,
 "nbformat_minor": 5
}
