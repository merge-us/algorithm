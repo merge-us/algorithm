{
 "cells": [
  {
   "cell_type": "code",
   "execution_count": 9,
   "id": "35f58ef3-2ee6-4ba8-9609-45e18cdfd304",
   "metadata": {},
   "outputs": [
    {
     "name": "stdin",
     "output_type": "stream",
     "text": [
      " 7\n",
      " 3 10\n",
      " 5 20\n",
      " 1 10\n",
      " 1 20\n",
      " 2 15\n",
      " 4 40\n",
      " 2 200\n"
     ]
    },
    {
     "name": "stdout",
     "output_type": "stream",
     "text": [
      "45\n"
     ]
    }
   ],
   "source": [
    "n = int(input())\n",
    "\n",
    "times = [0]\n",
    "pays = [0]\n",
    "\n",
    "for _ in range(n):\n",
    "    time, pay = map(int, input().split())\n",
    "    times.append(time)\n",
    "    pays.append(pay)\n",
    "\n",
    "def f(n):\n",
    "    max_value = 0\n",
    "    for i in range(n, 0, -1):\n",
    "        if i + times[i] <= n + 1:\n",
    "            max_value = max(max_value, pays[i] + f(i - 1))\n",
    "\n",
    "    return max_value\n",
    "\n",
    "print(f(n))"
   ]
  },
  {
   "cell_type": "code",
   "execution_count": null,
   "id": "1f184cf4-29f8-407d-b10d-deda6ecb3df2",
   "metadata": {},
   "outputs": [],
   "source": [
    "n = int(input())\n",
    "consults = [tuple(map(int, input().split())) for _ in range(n)]\n",
    "\n",
    "def f(n):\n",
    "    max_value = 0\n",
    "    for i in range(n, 0, -1):\n",
    "        time, pay = consults[i]\n",
    "        if i + time <= n + 1:\n",
    "            max_value = max(max_value, pay + f(i - 1))\n",
    "\n",
    "    return max_value\n",
    "\n",
    "print(f(n))"
   ]
  },
  {
   "cell_type": "code",
   "execution_count": null,
   "id": "3b0c2611-0afe-4f07-9c89-e3a9b3deb950",
   "metadata": {},
   "outputs": [],
   "source": [
    "n = int(input())\n",
    "consults = [tuple(map(int, input().split())) for _ in range(n)]\n",
    "\n",
    "def f(n):\n",
    "    max_value = 0\n",
    "    for i in range(n, 0, -1):\n",
    "        time, pay = consults[i]\n",
    "        if i + time <= n + 1:\n",
    "            max_value = max(max_value, pay + f(i - 1))\n",
    "\n",
    "    return max_value\n",
    "\n",
    "print(f(n))"
   ]
  },
  {
   "cell_type": "code",
   "execution_count": null,
   "id": "32f932f1-c89d-41c1-8987-84649f6ae97a",
   "metadata": {},
   "outputs": [],
   "source": [
    "n = int(input())\n",
    "consults = [(0, 0)] + [ tuple(map(int, input().split())) for _ in range(n)]\n",
    "\n",
    "dp = [0] * (n + 2)\n",
    "\n",
    "for i in range(n, 0, -1):\n",
    "    time, pay = consults[i]\n",
    "    if i + time <= n + 1:\n",
    "        dp[i] = max(dp[i + 1], pay + dp[i + time])\n",
    "    else:\n",
    "        dp[i] = dp[i + 1]\n",
    "\n",
    "print(dp[1])"
   ]
  }
 ],
 "metadata": {
  "kernelspec": {
   "display_name": "Python 3 (ipykernel)",
   "language": "python",
   "name": "python3"
  },
  "language_info": {
   "codemirror_mode": {
    "name": "ipython",
    "version": 3
   },
   "file_extension": ".py",
   "mimetype": "text/x-python",
   "name": "python",
   "nbconvert_exporter": "python",
   "pygments_lexer": "ipython3",
   "version": "3.12.2"
  }
 },
 "nbformat": 4,
 "nbformat_minor": 5
}
