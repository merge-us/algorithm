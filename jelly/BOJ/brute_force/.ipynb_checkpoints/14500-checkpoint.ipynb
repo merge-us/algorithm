{
 "cells": [
  {
   "cell_type": "code",
   "execution_count": 20,
   "id": "5448b8ea-b4f1-4f1d-b38e-665bd0edcfe6",
   "metadata": {},
   "outputs": [
    {
     "name": "stdin",
     "output_type": "stream",
     "text": [
      " 4 10\n",
      " 1 2 1 2 1 2 1 2 1 2\n",
      " 2 1 2 1 2 1 2 1 2 1\n",
      " 1 2 1 2 1 2 1 2 1 2\n",
      " 2 1 2 1 2 1 2 1 2 1\n"
     ]
    },
    {
     "name": "stdout",
     "output_type": "stream",
     "text": [
      "7\n"
     ]
    }
   ],
   "source": [
    "n, m = map(int, input().split())\n",
    "\n",
    "board = [list(map(int, input().split())) for _ in range(n)]\n",
    "\n",
    "max_sum = -float('inf')\n",
    "\n",
    "t_a = [(0, 1), (0, 2), (0, 3)]\n",
    "\n",
    "t_b = [(0, 1), (1, 0), (1, 1)]\n",
    "\n",
    "t_c = [(1, 0), (2, 0)]\n",
    "t_c_a = t_c + [(2, 1)]\n",
    "t_c_b = t_c + [(2, -1)]\n",
    "\n",
    "t_d = [(1, 0)]\n",
    "t_d_a = t_d + [(1, 1), (2, 1)]\n",
    "t_d_b = t_d + [(1, -1), (2, -1)]\n",
    "\n",
    "t_e = [(0, 1), (0, 2), (1, 1)]\n",
    "\n",
    "block_types = [t_a, t_b, t_c_a, t_c_b, t_d_a, t_d_b, t_e]\n",
    "\n",
    "def calc_area(x, y, block_type, board_type=1):\n",
    "    r_x = n if board_type == 1 else m\n",
    "    r_y = m if board_type == 1 else n\n",
    "    current_sum = board[x][y]\n",
    "    for dx, dy in block_type:\n",
    "        nx, ny = x + dx, y + dy\n",
    "        if 0 > nx or nx >= r_x or 0 > ny or ny >= r_y:\n",
    "            return 0\n",
    "        current_sum += board[nx][ny]\n",
    "    return current_sum\n",
    "\n",
    "\n",
    "for i in range(n):\n",
    "    for j in range(m):\n",
    "        max_sum = max(max_sum, calc_area(i, j, t_a), calc_area(i, j, t_b), calc_area(i, j, t_c_a), calc_area(i, j, t_c_b), calc_area(i, j, t_d_a), calc_area(i, j, t_d_b), calc_area(i, j, t_e))  \n",
    "\n",
    "board = [[board[j][i] for j in range(n - 1, -1, -1)] for i in range(m)]\n",
    "for i in range(m):\n",
    "    for j in range(n):\n",
    "        max_sum = max(max_sum, calc_area(i, j, t_a, 2), calc_area(i, j, t_c_a, 2), calc_area(i, j, t_c_b, 2), calc_area(i, j, t_d_a, 2), calc_area(i, j, t_d_b, 2), calc_area(i, j, t_e, 2))\n",
    "\n",
    "board = [[board[j][i] for j in range(m - 1, -1, -1)] for i in range(n)]\n",
    "for i in range(n):\n",
    "    for j in range(m):\n",
    "        max_sum = max(max_sum, calc_area(i, j, t_c_a), calc_area(i, j, t_c_b), calc_area(i, j, t_d_a), calc_area(i, j, t_d_b), calc_area(i, j, t_e))\n",
    "\n",
    "board = [[board[j][i] for j in range(n - 1, -1, -1)] for i in range(m)]\n",
    "for i in range(m):\n",
    "    for j in range(n):\n",
    "        max_sum = max(max_sum, calc_area(i, j, t_c_a, 2), calc_area(i, j, t_c_b, 2), calc_area(i, j, t_d_a, 2), calc_area(i, j, t_d_b, 2), calc_area(i, j, t_e, 2))  \n",
    "\n",
    "print(max_sum)\n"
   ]
  },
  {
   "cell_type": "code",
   "execution_count": 1,
   "id": "55cd1320-c050-49d4-9183-df46d6ed79b5",
   "metadata": {},
   "outputs": [
    {
     "name": "stdout",
     "output_type": "stream",
     "text": [
      "3\n"
     ]
    }
   ],
   "source": [
    " 5 5\n",
    " 1 2 3 4 5\n",
    " 5 4 3 2 1\n",
    " 2 3 4 5 6\n",
    " 6 5 4 3 2\n",
    " 1 2 1 2 1\n"
   ]
  },
  {
   "cell_type": "code",
   "execution_count": null,
   "id": "a0b5840a-3a1f-42e7-9599-472bdce90c01",
   "metadata": {},
   "outputs": [],
   "source": [
    "    calc_area(i, j, t_a), \n",
    "    calc_area(i, j, t_b), \n",
    "    calc_area(i, j, t_c_a),\n",
    "    calc_area(i, j, t_c_a)\n",
    "    calc_area(i, j, t_c_a)\n",
    "    calc_area(i, j, t_c_a)\n",
    "    calc_area(i, j, t_d_a)\n",
    "    calc_area(i, j, t_d_a)\n",
    "    calc_area(i, j, t_e)\n",
    "\n",
    "\n"
   ]
  },
  {
   "cell_type": "code",
   "execution_count": 6,
   "id": "e4453b39-75a6-48b5-8d3a-40069c1e1bd6",
   "metadata": {},
   "outputs": [
    {
     "name": "stdout",
     "output_type": "stream",
     "text": [
      "[[1, 2, 3], [4, 5, 6], [7, 8, 9]]\n",
      "[[7, 4, 1], [8, 5, 2], [9, 6, 3]]\n"
     ]
    }
   ],
   "source": [
    "data = [[1, 2, 3],\n",
    "        [4, 5, 6],\n",
    "        [7, 8, 9]]\n",
    "\n",
    "print(data)\n",
    "\n",
    "data = [[data[j][i] for j in range(len(data) - 1, -1, -1)] for i in range(len(data))]\n",
    "print(data)"
   ]
  },
  {
   "cell_type": "code",
   "execution_count": null,
   "id": "a4e4dd40-4e5b-43e5-baa7-a70ba3fe130c",
   "metadata": {},
   "outputs": [],
   "source": []
  }
 ],
 "metadata": {
  "kernelspec": {
   "display_name": "Python 3 (ipykernel)",
   "language": "python",
   "name": "python3"
  },
  "language_info": {
   "codemirror_mode": {
    "name": "ipython",
    "version": 3
   },
   "file_extension": ".py",
   "mimetype": "text/x-python",
   "name": "python",
   "nbconvert_exporter": "python",
   "pygments_lexer": "ipython3",
   "version": "3.12.2"
  }
 },
 "nbformat": 4,
 "nbformat_minor": 5
}
