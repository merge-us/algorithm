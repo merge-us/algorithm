{
 "cells": [
  {
   "cell_type": "code",
   "execution_count": 5,
   "id": "ba9145a2-0816-4377-8b7d-f59dc8f79040",
   "metadata": {},
   "outputs": [
    {
     "name": "stdin",
     "output_type": "stream",
     "text": [
      " 15 28 19\n"
     ]
    },
    {
     "name": "stdout",
     "output_type": "stream",
     "text": [
      "7980\n"
     ]
    }
   ],
   "source": [
    "e, s, m = map(int, input().split())\n",
    "\n",
    "d_e, d_s, d_m = 1, 1, 1\n",
    "year = 1\n",
    "\n",
    "while e != d_e or s != d_s or m != d_m:\n",
    "    d_e += 1\n",
    "    if d_e == 16:\n",
    "        d_e = 1\n",
    "    d_s += 1\n",
    "    if d_s == 29:\n",
    "        d_s = 1\n",
    "    d_m += 1\n",
    "    if d_m == 20:\n",
    "        d_m = 1\n",
    "    year += 1\n",
    "\n",
    "print(year)"
   ]
  },
  {
   "cell_type": "code",
   "execution_count": 7,
   "id": "847658fe-5053-4f54-95c5-710ed361ed8a",
   "metadata": {},
   "outputs": [
    {
     "name": "stdin",
     "output_type": "stream",
     "text": [
      " 15 28 19\n"
     ]
    },
    {
     "name": "stdout",
     "output_type": "stream",
     "text": [
      "7980\n"
     ]
    }
   ],
   "source": [
    "e, s, m = map(int, input().split())\n",
    "\n",
    "year = 1\n",
    "while True:\n",
    "    if (year - e) % 15 == 0 and (year - s) % 28 == 0 and (year - m) % 19 == 0:\n",
    "        break\n",
    "    year += 1\n",
    "\n",
    "print(year)"
   ]
  },
  {
   "cell_type": "code",
   "execution_count": null,
   "id": "b4eb47b2-2059-4cb7-b250-9c0402548d94",
   "metadata": {},
   "outputs": [],
   "source": []
  }
 ],
 "metadata": {
  "kernelspec": {
   "display_name": "Python 3 (ipykernel)",
   "language": "python",
   "name": "python3"
  },
  "language_info": {
   "codemirror_mode": {
    "name": "ipython",
    "version": 3
   },
   "file_extension": ".py",
   "mimetype": "text/x-python",
   "name": "python",
   "nbconvert_exporter": "python",
   "pygments_lexer": "ipython3",
   "version": "3.12.2"
  }
 },
 "nbformat": 4,
 "nbformat_minor": 5
}
