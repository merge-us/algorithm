{
 "cells": [
  {
   "cell_type": "code",
   "execution_count": 6,
   "id": "82592a6f-7faa-4dac-bc73-80c9c647ce8d",
   "metadata": {},
   "outputs": [
    {
     "name": "stdin",
     "output_type": "stream",
     "text": [
      " 9 23\n",
      " BBBBBBBBBBBBBBBBBBBBBBB\n",
      " BBBBBBBBBBBBBBBBBBBBBBB\n",
      " BBBBBBBBBBBBBBBBBBBBBBB\n",
      " BBBBBBBBBBBBBBBBBBBBBBB\n",
      " BBBBBBBBBBBBBBBBBBBBBBB\n",
      " BBBBBBBBBBBBBBBBBBBBBBB\n",
      " BBBBBBBBBBBBBBBBBBBBBBB\n",
      " BBBBBBBBBBBBBBBBBBBBBBB\n",
      " BBBBBBBBBBBBBBBBBBBBBBW\n"
     ]
    },
    {
     "name": "stdout",
     "output_type": "stream",
     "text": [
      "31\n"
     ]
    }
   ],
   "source": [
    "def f(x, y):\n",
    "    start = board[x][y]\n",
    "    result = 0\n",
    "    for i in range(8):\n",
    "        for j in range(8):\n",
    "            if i % 2 == j % 2:\n",
    "                if board[x + i][y + j] is not start:\n",
    "                    result += 1\n",
    "            else:\n",
    "                if board[x + i][y + j] is start:\n",
    "                    result += 1\n",
    "    return result\n",
    "\n",
    "n, m = map(int, input().split())\n",
    "board = []\n",
    "for i in range(n):\n",
    "    board.append(list(input()))\n",
    "\n",
    "result = 64\n",
    "for i in range(n - 7):\n",
    "    for j in range(m - 7):\n",
    "        result = min(result, f(i, j))\n",
    "        board[i][j] = 'B' if board[i][j] == 'W' else 'W'\n",
    "        result = min(result, 1 + f(i, j))\n",
    "        board[i][j] = 'B' if board[i][j] == 'W' else 'W'\n",
    "        \n",
    "print(result)"
   ]
  },
  {
   "cell_type": "code",
   "execution_count": 7,
   "id": "ba438b3b-87af-4d0a-8556-8d039af31a98",
   "metadata": {},
   "outputs": [
    {
     "name": "stdin",
     "output_type": "stream",
     "text": [
      " 9 23\n",
      " BBBBBBBBBBBBBBBBBBBBBBB\n",
      " BBBBBBBBBBBBBBBBBBBBBBB\n",
      " BBBBBBBBBBBBBBBBBBBBBBB\n",
      " BBBBBBBBBBBBBBBBBBBBBBB\n",
      " BBBBBBBBBBBBBBBBBBBBBBB\n",
      " BBBBBBBBBBBBBBBBBBBBBBB\n",
      " BBBBBBBBBBBBBBBBBBBBBBB\n",
      " BBBBBBBBBBBBBBBBBBBBBBB\n",
      " BBBBBBBBBBBBBBBBBBBBBBW\n"
     ]
    },
    {
     "name": "stdout",
     "output_type": "stream",
     "text": [
      "31\n"
     ]
    }
   ],
   "source": [
    "INF = int(1e9)\n",
    "\n",
    "def f(x, y, first_color):\n",
    "    changes = 0\n",
    "    for i in range(8):\n",
    "        for j in range(8):\n",
    "            expected_color = first_color if (i + j) % 2 == 0 else ('B' if first_color == 'W' else 'B')\n",
    "            if board[x + i][y + j] != expected_color:\n",
    "                changes += 1\n",
    "    return changes\n",
    "\n",
    "n, m = map(int, input().split())\n",
    "board = []\n",
    "for i in range(n):\n",
    "    board.append(list(input()))\n",
    "\n",
    "result = INF\n",
    "for i in range(n - 7):\n",
    "    for j in range(m - 7):\n",
    "        result = min(result, f(i, j, 'B'), f(i, j, 'W'))\n",
    "        \n",
    "print(result)"
   ]
  },
  {
   "cell_type": "code",
   "execution_count": null,
   "id": "915e295a-937d-4d55-b7a9-3b932793b503",
   "metadata": {},
   "outputs": [],
   "source": []
  }
 ],
 "metadata": {
  "kernelspec": {
   "display_name": "Python 3 (ipykernel)",
   "language": "python",
   "name": "python3"
  },
  "language_info": {
   "codemirror_mode": {
    "name": "ipython",
    "version": 3
   },
   "file_extension": ".py",
   "mimetype": "text/x-python",
   "name": "python",
   "nbconvert_exporter": "python",
   "pygments_lexer": "ipython3",
   "version": "3.12.2"
  }
 },
 "nbformat": 4,
 "nbformat_minor": 5
}
