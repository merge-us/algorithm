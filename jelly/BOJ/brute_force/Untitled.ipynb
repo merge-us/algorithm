{
 "cells": [
  {
   "cell_type": "code",
   "execution_count": 11,
   "id": "802d4dd8-ff36-45da-9945-e46d2dbc3782",
   "metadata": {},
   "outputs": [
    {
     "name": "stdin",
     "output_type": "stream",
     "text": [
      " 23 40\n"
     ]
    },
    {
     "name": "stdout",
     "output_type": "stream",
     "text": [
      "22 55\n"
     ]
    }
   ],
   "source": [
    "def time_to_num(h, m):\n",
    "    num = h * 60 + m\n",
    "    \n",
    "    return num\n",
    "\n",
    "def num_to_time(num):\n",
    "    H = num // 60\n",
    "    M = num % 60\n",
    "\n",
    "    return (H, M)\n",
    "\n",
    "H, M = map(int, input().split())\n",
    "\n",
    "num = time_to_num(H, M)\n",
    "\n",
    "num -= 45\n",
    "\n",
    "if num < 0:\n",
    "    num = 24* 60 + num\n",
    "\n",
    "H, M = num_to_time(num)\n",
    "\n",
    "print(H, end=' ')\n",
    "print(M)\n"
   ]
  },
  {
   "cell_type": "code",
   "execution_count": null,
   "id": "2e7af9b6-9a96-49fa-95be-097fd7b436a5",
   "metadata": {},
   "outputs": [],
   "source": []
  }
 ],
 "metadata": {
  "kernelspec": {
   "display_name": "Python 3 (ipykernel)",
   "language": "python",
   "name": "python3"
  },
  "language_info": {
   "codemirror_mode": {
    "name": "ipython",
    "version": 3
   },
   "file_extension": ".py",
   "mimetype": "text/x-python",
   "name": "python",
   "nbconvert_exporter": "python",
   "pygments_lexer": "ipython3",
   "version": "3.12.2"
  }
 },
 "nbformat": 4,
 "nbformat_minor": 5
}
