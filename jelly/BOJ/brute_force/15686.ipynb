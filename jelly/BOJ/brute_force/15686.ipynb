{
 "cells": [
  {
   "cell_type": "code",
   "execution_count": 19,
   "id": "789d357c-92a3-4f2e-8177-5c17f00eaacb",
   "metadata": {},
   "outputs": [
    {
     "name": "stdin",
     "output_type": "stream",
     "text": [
      " 5 3\n",
      " 0 0 1 0 0\n",
      " 0 0 2 0 1\n",
      " 0 1 2 0 0\n",
      " 0 0 1 0 0\n",
      " 0 0 0 0 2\n"
     ]
    },
    {
     "name": "stdout",
     "output_type": "stream",
     "text": [
      "5\n"
     ]
    }
   ],
   "source": [
    "INF = int(1e9)\n",
    "\n",
    "n, m = map(int, input().split())\n",
    "chickens = []\n",
    "houses = []\n",
    "\n",
    "for i in range(1, n + 1):\n",
    "    row = list(map(int, input().split()))\n",
    "    for j in range(1, n + 1):\n",
    "        if row[j - 1] == 1:\n",
    "            houses.append((i, j))\n",
    "        elif row[j - 1] == 2:\n",
    "            chickens.append((i, j))\n",
    "\n",
    "min_chicken_dist = INF\n",
    "\n",
    "def calc_distance(h, c):\n",
    "    h_r, h_c = h\n",
    "    c_r, c_c = c\n",
    "    return abs(h_r - c_r) + abs(h_c - c_c)\n",
    "\n",
    "def calc_chicken_dist(h, chickens):\n",
    "    return min(calc_distance(h, c) for c in chickens)\n",
    "    \n",
    "def dfs(idx, chickens_temp):\n",
    "    global min_chicken_dist\n",
    "    \n",
    "    if 1 <= len(chickens_temp) <= m:\n",
    "        current_chicken_dist = sum(calc_chicken_dist(house, chickens_temp) for house in houses)\n",
    "        min_chicken_dist = min(min_chicken_dist, current_chicken_dist)\n",
    "\n",
    "    for i in range(idx, len(chickens)):\n",
    "        dfs(i + 1, chickens_temp + [chickens[i]])\n",
    "\n",
    "dfs(0, [])\n",
    "print(min_chicken_dist)"
   ]
  },
  {
   "cell_type": "code",
   "execution_count": 21,
   "id": "f6c32384-550f-4764-b1e7-e77071bac03b",
   "metadata": {},
   "outputs": [
    {
     "name": "stdin",
     "output_type": "stream",
     "text": [
      " 5 1\n",
      " 1 2 0 0 0\n",
      " 1 2 0 0 0\n",
      " 1 2 0 0 0\n",
      " 1 2 0 0 0\n",
      " 1 2 0 0 0\n"
     ]
    },
    {
     "name": "stdout",
     "output_type": "stream",
     "text": [
      "11\n"
     ]
    }
   ],
   "source": [
    "INF = int(1e9)\n",
    "\n",
    "n, m = map(int, input().split())\n",
    "chickens = []\n",
    "houses = []\n",
    "\n",
    "for i in range(1, n + 1):  \n",
    "    row = list(map(int, input().split()))\n",
    "    for j in range(1, n + 1): \n",
    "        if row[j - 1] == 1:\n",
    "            houses.append((i, j)) \n",
    "        elif row[j - 1] == 2:\n",
    "            chickens.append((i, j)) \n",
    "\n",
    "min_chicken_dist = INF\n",
    "\n",
    "def calc_chicken_dist(h, chickens):\n",
    "    \"\"\"집과 선택된 치킨집 간 최소 거리 계산\"\"\"\n",
    "    return min(abs(h[0] - c[0]) + abs(h[1] - c[1]) for c in chickens)\n",
    "\n",
    "def dfs(idx, chickens_temp):\n",
    "    global min_chicken_dist\n",
    "    \n",
    "    if 1 <= len(chickens_temp) <= m:\n",
    "        current_chicken_dist = sum(calc_chicken_dist(house, chickens_temp) for house in houses)\n",
    "        min_chicken_dist = min(min_chicken_dist, current_chicken_dist)\n",
    "\n",
    "    for i in range(idx, len(chickens)):\n",
    "        dfs(i + 1, chickens_temp + [chickens[i]])  \n",
    "\n",
    "dfs(0, [])\n",
    "print(min_chicken_dist)\n"
   ]
  },
  {
   "cell_type": "code",
   "execution_count": 3,
   "id": "5d044138-22aa-4ce5-81bd-549064b2e08f",
   "metadata": {},
   "outputs": [
    {
     "name": "stdin",
     "output_type": "stream",
     "text": [
      " 5 1\n",
      " 1 2 0 2 1\n",
      " 1 2 0 2 1\n",
      " 1 2 0 2 1\n",
      " 1 2 0 2 1\n",
      " 1 2 0 2 1\n"
     ]
    },
    {
     "name": "stdout",
     "output_type": "stream",
     "text": [
      "32\n"
     ]
    }
   ],
   "source": [
    "from itertools import combinations\n",
    "INF = int(1e9)\n",
    "\n",
    "n, m = map(int, input().split())\n",
    "c_locations = []\n",
    "h_locations = []\n",
    "\n",
    "for i in range(1, n + 1):\n",
    "    row = list(map(int, input().split()))\n",
    "    for j in range(1, n + 1):\n",
    "        if row[j - 1] == 1:\n",
    "            h_locations.append((i, j))\n",
    "        elif row[j - 1] == 2:\n",
    "            c_locations.append((i, j))\n",
    "\n",
    "min_chicken_dist = INF\n",
    "\n",
    "def calc_distance(h, c):\n",
    "    h_r, h_c = h\n",
    "    c_r, c_c = c\n",
    "    return abs(h_r - c_r) + abs(h_c - c_c)\n",
    "\n",
    "def calc_chicken_dist(h, selected_c):\n",
    "    return min(calc_distance(h, c) for c in selected_c)\n",
    "    \n",
    "# 최대 m개의 치킨집 선택\n",
    "for i in range(1, m + 1):\n",
    "    for selected_c in combinations(chickens, i):\n",
    "        current_chicken_dist = sum(calc_chicken_dist(h, selected_c) for h in h_locations)\n",
    "        min_chicken_dist = min(min_chicken_dist, current_chicken_dist)\n",
    "\n",
    "print(min_chicken_dist)"
   ]
  },
  {
   "cell_type": "code",
   "execution_count": null,
   "id": "52e97e1e-a9de-4901-89f5-8d91cab65c84",
   "metadata": {},
   "outputs": [],
   "source": []
  }
 ],
 "metadata": {
  "kernelspec": {
   "display_name": "Python 3 (ipykernel)",
   "language": "python",
   "name": "python3"
  },
  "language_info": {
   "codemirror_mode": {
    "name": "ipython",
    "version": 3
   },
   "file_extension": ".py",
   "mimetype": "text/x-python",
   "name": "python",
   "nbconvert_exporter": "python",
   "pygments_lexer": "ipython3",
   "version": "3.12.2"
  }
 },
 "nbformat": 4,
 "nbformat_minor": 5
}
