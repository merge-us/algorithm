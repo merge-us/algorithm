{
 "cells": [
  {
   "cell_type": "code",
   "execution_count": 2,
   "id": "601d2abb-fb3b-41d7-a2cb-86faa0c39d81",
   "metadata": {},
   "outputs": [
    {
     "name": "stdin",
     "output_type": "stream",
     "text": [
      " 10 5\n",
      " 1 2 3 4 2 5 3 1 1 2\n"
     ]
    },
    {
     "name": "stdout",
     "output_type": "stream",
     "text": [
      "3\n"
     ]
    }
   ],
   "source": [
    "n, m = map(int, input().split())\n",
    "data = list(map(int, input().split()))\n",
    "\n",
    "count = 0\n",
    "for i in range(n):\n",
    "    total_sum = data[i]\n",
    "    if total_sum == m:\n",
    "        count += 1\n",
    "        continue\n",
    "    elif total_sum > m:\n",
    "        continue\n",
    "    for j in range(i + 1, n):\n",
    "        total_sum += data[j]\n",
    "        if total_sum == m:\n",
    "            count += 1\n",
    "            continue\n",
    "        elif total_sum > m: \n",
    "            continue\n",
    "\n",
    "print(count)"
   ]
  },
  {
   "cell_type": "code",
   "execution_count": 3,
   "id": "6fa2db57-df25-4ca7-b30e-e6fa85291d7f",
   "metadata": {},
   "outputs": [
    {
     "name": "stdin",
     "output_type": "stream",
     "text": [
      " 10 5\n",
      "  1 2 3 4 2 5 3 1 1 2\n"
     ]
    },
    {
     "name": "stdout",
     "output_type": "stream",
     "text": [
      "3\n"
     ]
    }
   ],
   "source": [
    "n, m = map(int, input().split())\n",
    "data = list(map(int, input().split()))\n",
    "\n",
    "count = 0\n",
    "left, right = 0, 0\n",
    "total_sum = 0\n",
    "\n",
    "while right < n:\n",
    "    total_sum += data[right]\n",
    "\n",
    "    while total_sum > m and left <= right:\n",
    "        total_sum -= data[left]\n",
    "        left += 1\n",
    "        \n",
    "    if total_sum == m:\n",
    "        count += 1\n",
    "\n",
    "    right += 1\n",
    "\n",
    "print(count)"
   ]
  },
  {
   "cell_type": "code",
   "execution_count": null,
   "id": "8469c756-0a05-4d94-ae5c-fb3945f3d3ac",
   "metadata": {},
   "outputs": [],
   "source": []
  }
 ],
 "metadata": {
  "kernelspec": {
   "display_name": "Python 3 (ipykernel)",
   "language": "python",
   "name": "python3"
  },
  "language_info": {
   "codemirror_mode": {
    "name": "ipython",
    "version": 3
   },
   "file_extension": ".py",
   "mimetype": "text/x-python",
   "name": "python",
   "nbconvert_exporter": "python",
   "pygments_lexer": "ipython3",
   "version": "3.12.2"
  }
 },
 "nbformat": 4,
 "nbformat_minor": 5
}
