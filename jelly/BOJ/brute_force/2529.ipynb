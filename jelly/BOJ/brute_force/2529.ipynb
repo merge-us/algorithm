{
 "cells": [
  {
   "cell_type": "code",
   "execution_count": 28,
   "id": "b7d715a2-745c-4773-8d90-b4a2991949ad",
   "metadata": {},
   "outputs": [
    {
     "name": "stdin",
     "output_type": "stream",
     "text": [
      " 2\n",
      " < >\n"
     ]
    },
    {
     "name": "stdout",
     "output_type": "stream",
     "text": [
      "897\n",
      "021\n"
     ]
    }
   ],
   "source": [
    "k = int(input())\n",
    "data = list(input().split())\n",
    "visited = [False] * 10\n",
    "\n",
    "def is_correct(x, y, sign):\n",
    "    if sign == \"<\":\n",
    "        return x < y\n",
    "    else:\n",
    "        return x > y\n",
    "\n",
    "max_value = -float('inf')\n",
    "min_value = float('inf')\n",
    "result = [None, None]\n",
    "\n",
    "def dfs(count, sequence):\n",
    "    global max_value\n",
    "    global min_value\n",
    "    \n",
    "    if count > 1:\n",
    "        if not is_correct(sequence[count - 2], sequence[count - 1], data[count - 2]):\n",
    "            return\n",
    "\n",
    "    if len(sequence) == k + 1:\n",
    "        current_value = \"\".join(map(str, sequence))\n",
    "        if int(current_value) > max_value:\n",
    "            max_value = int(current_value)\n",
    "            result[0] = current_value\n",
    "        if int(current_value) < min_value:\n",
    "            min_value = int(current_value)\n",
    "            result[1] = current_value\n",
    "        return\n",
    "\n",
    "    for i in range(10):\n",
    "        if not visited[i]:\n",
    "            visited[i] = True\n",
    "            dfs(count + 1, sequence + [i])\n",
    "            visited[i] = False\n",
    "\n",
    "\n",
    "dfs(0, [])\n",
    "\n",
    "print(result[0] + \"\\n\" + result[1])\n"
   ]
  },
  {
   "cell_type": "code",
   "execution_count": 33,
   "id": "f32114ec-13f4-40a8-9972-a032892a56bf",
   "metadata": {},
   "outputs": [
    {
     "name": "stdin",
     "output_type": "stream",
     "text": [
      " 2\n",
      " < >\n"
     ]
    },
    {
     "name": "stdout",
     "output_type": "stream",
     "text": [
      "897\n",
      "021\n"
     ]
    }
   ],
   "source": [
    "k = int(input())\n",
    "data = list(input().split())\n",
    "visited = [False] * 10\n",
    "\n",
    "def is_correct(x, y, sign):\n",
    "    return x < y if sign == \"<\" else x > y\n",
    "\n",
    "max_value = \"\"\n",
    "min_value = \"\"\n",
    "\n",
    "def dfs(sequence):\n",
    "    global max_value, min_value\n",
    "    \n",
    "    if len(sequence) == k + 1:\n",
    "        current_value = \"\".join(map(str, sequence))\n",
    "        if not max_value or current_value > max_value:\n",
    "            max_value = current_value\n",
    "        if not min_value or current_value < min_value:\n",
    "            min_value = current_value\n",
    "        return\n",
    "\n",
    "    for i in range(10):\n",
    "        if not visited[i]:\n",
    "            if not sequence or (is_correct(sequence[-1], i, data[len(sequence) - 1])):\n",
    "                visited[i] = True\n",
    "                sequence.append(i)\n",
    "                dfs(sequence)\n",
    "                visited[i] = False\n",
    "                sequence.pop()\n",
    "\n",
    "\n",
    "dfs([])\n",
    "\n",
    "print(max_value)\n",
    "print(min_value)\n"
   ]
  },
  {
   "cell_type": "code",
   "execution_count": null,
   "id": "f0bb7bd5-637b-4690-bf9c-1cf102dba9e0",
   "metadata": {},
   "outputs": [],
   "source": []
  }
 ],
 "metadata": {
  "kernelspec": {
   "display_name": "Python 3 (ipykernel)",
   "language": "python",
   "name": "python3"
  },
  "language_info": {
   "codemirror_mode": {
    "name": "ipython",
    "version": 3
   },
   "file_extension": ".py",
   "mimetype": "text/x-python",
   "name": "python",
   "nbconvert_exporter": "python",
   "pygments_lexer": "ipython3",
   "version": "3.12.2"
  }
 },
 "nbformat": 4,
 "nbformat_minor": 5
}
