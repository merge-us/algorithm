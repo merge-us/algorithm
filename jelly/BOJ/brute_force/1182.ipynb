{
 "cells": [
  {
   "cell_type": "code",
   "execution_count": 1,
   "id": "17694d6a-3654-4f94-9001-394fc69eda8f",
   "metadata": {},
   "outputs": [
    {
     "name": "stdin",
     "output_type": "stream",
     "text": [
      " 5 0\n",
      " -7 -3 -2 5 8\n"
     ]
    },
    {
     "name": "stdout",
     "output_type": "stream",
     "text": [
      "1\n"
     ]
    }
   ],
   "source": [
    "from itertools import combinations\n",
    "\n",
    "n, s = map(int, input().split())\n",
    "seq = list(map(int, input().split()))\n",
    "\n",
    "count = 0\n",
    "\n",
    "for i in range(1, n + 1):\n",
    "    for subseq in combinations(seq, i):\n",
    "        if sum(subseq) == s:\n",
    "            count += 1\n",
    "\n",
    "print(count)"
   ]
  },
  {
   "cell_type": "code",
   "execution_count": 1,
   "id": "b95cfa6d-4b6f-41cb-a81a-583efbfde5c1",
   "metadata": {},
   "outputs": [
    {
     "name": "stdin",
     "output_type": "stream",
     "text": [
      " 5 0\n",
      " -7 -3 -2 5 8\n"
     ]
    },
    {
     "ename": "RecursionError",
     "evalue": "maximum recursion depth exceeded",
     "output_type": "error",
     "traceback": [
      "\u001b[0;31m---------------------------------------------------------------------------\u001b[0m",
      "\u001b[0;31mRecursionError\u001b[0m                            Traceback (most recent call last)",
      "Cell \u001b[0;32mIn[1], line 14\u001b[0m\n\u001b[1;32m     11\u001b[0m     \u001b[38;5;28;01mfor\u001b[39;00m i \u001b[38;5;129;01min\u001b[39;00m \u001b[38;5;28mrange\u001b[39m(idx, \u001b[38;5;28mlen\u001b[39m(seq)):\n\u001b[1;32m     12\u001b[0m         dfs(i, sub_seq \u001b[38;5;241m+\u001b[39m [seq[i]])\n\u001b[0;32m---> 14\u001b[0m \u001b[43mdfs\u001b[49m\u001b[43m(\u001b[49m\u001b[38;5;241;43m0\u001b[39;49m\u001b[43m,\u001b[49m\u001b[43m \u001b[49m\u001b[43m[\u001b[49m\u001b[43m]\u001b[49m\u001b[43m)\u001b[49m\n\u001b[1;32m     15\u001b[0m \u001b[38;5;28mprint\u001b[39m(count)\n",
      "Cell \u001b[0;32mIn[1], line 12\u001b[0m, in \u001b[0;36mdfs\u001b[0;34m(idx, sub_seq)\u001b[0m\n\u001b[1;32m      9\u001b[0m     count \u001b[38;5;241m+\u001b[39m\u001b[38;5;241m=\u001b[39m \u001b[38;5;241m1\u001b[39m\n\u001b[1;32m     11\u001b[0m \u001b[38;5;28;01mfor\u001b[39;00m i \u001b[38;5;129;01min\u001b[39;00m \u001b[38;5;28mrange\u001b[39m(idx, \u001b[38;5;28mlen\u001b[39m(seq)):\n\u001b[0;32m---> 12\u001b[0m     \u001b[43mdfs\u001b[49m\u001b[43m(\u001b[49m\u001b[43mi\u001b[49m\u001b[43m,\u001b[49m\u001b[43m \u001b[49m\u001b[43msub_seq\u001b[49m\u001b[43m \u001b[49m\u001b[38;5;241;43m+\u001b[39;49m\u001b[43m \u001b[49m\u001b[43m[\u001b[49m\u001b[43mseq\u001b[49m\u001b[43m[\u001b[49m\u001b[43mi\u001b[49m\u001b[43m]\u001b[49m\u001b[43m]\u001b[49m\u001b[43m)\u001b[49m\n",
      "Cell \u001b[0;32mIn[1], line 12\u001b[0m, in \u001b[0;36mdfs\u001b[0;34m(idx, sub_seq)\u001b[0m\n\u001b[1;32m      9\u001b[0m     count \u001b[38;5;241m+\u001b[39m\u001b[38;5;241m=\u001b[39m \u001b[38;5;241m1\u001b[39m\n\u001b[1;32m     11\u001b[0m \u001b[38;5;28;01mfor\u001b[39;00m i \u001b[38;5;129;01min\u001b[39;00m \u001b[38;5;28mrange\u001b[39m(idx, \u001b[38;5;28mlen\u001b[39m(seq)):\n\u001b[0;32m---> 12\u001b[0m     \u001b[43mdfs\u001b[49m\u001b[43m(\u001b[49m\u001b[43mi\u001b[49m\u001b[43m,\u001b[49m\u001b[43m \u001b[49m\u001b[43msub_seq\u001b[49m\u001b[43m \u001b[49m\u001b[38;5;241;43m+\u001b[39;49m\u001b[43m \u001b[49m\u001b[43m[\u001b[49m\u001b[43mseq\u001b[49m\u001b[43m[\u001b[49m\u001b[43mi\u001b[49m\u001b[43m]\u001b[49m\u001b[43m]\u001b[49m\u001b[43m)\u001b[49m\n",
      "    \u001b[0;31m[... skipping similar frames: dfs at line 12 (2974 times)]\u001b[0m\n",
      "Cell \u001b[0;32mIn[1], line 12\u001b[0m, in \u001b[0;36mdfs\u001b[0;34m(idx, sub_seq)\u001b[0m\n\u001b[1;32m      9\u001b[0m     count \u001b[38;5;241m+\u001b[39m\u001b[38;5;241m=\u001b[39m \u001b[38;5;241m1\u001b[39m\n\u001b[1;32m     11\u001b[0m \u001b[38;5;28;01mfor\u001b[39;00m i \u001b[38;5;129;01min\u001b[39;00m \u001b[38;5;28mrange\u001b[39m(idx, \u001b[38;5;28mlen\u001b[39m(seq)):\n\u001b[0;32m---> 12\u001b[0m     \u001b[43mdfs\u001b[49m\u001b[43m(\u001b[49m\u001b[43mi\u001b[49m\u001b[43m,\u001b[49m\u001b[43m \u001b[49m\u001b[43msub_seq\u001b[49m\u001b[43m \u001b[49m\u001b[38;5;241;43m+\u001b[39;49m\u001b[43m \u001b[49m\u001b[43m[\u001b[49m\u001b[43mseq\u001b[49m\u001b[43m[\u001b[49m\u001b[43mi\u001b[49m\u001b[43m]\u001b[49m\u001b[43m]\u001b[49m\u001b[43m)\u001b[49m\n",
      "\u001b[0;31mRecursionError\u001b[0m: maximum recursion depth exceeded"
     ]
    }
   ],
   "source": [
    "n, s = map(int, input().split())\n",
    "seq = list(map(int, input().split()))\n",
    "\n",
    "count = 0\n",
    "def dfs(idx, sub_seq):\n",
    "    global count\n",
    "\n",
    "    if sum(sub_seq) == s:\n",
    "        count += 1\n",
    "    \n",
    "    for i in range(idx, len(seq)):\n",
    "        dfs(i, sub_seq + [seq[i]])\n",
    "\n",
    "dfs(0, [])\n",
    "print(count)"
   ]
  },
  {
   "cell_type": "code",
   "execution_count": 3,
   "id": "1abb3f9f-d257-4c21-a2cf-ebebb676dcb4",
   "metadata": {},
   "outputs": [
    {
     "name": "stdin",
     "output_type": "stream",
     "text": [
      " 5 0\n",
      " -7 -3 -2 5 8\n"
     ]
    },
    {
     "name": "stdout",
     "output_type": "stream",
     "text": [
      "1\n"
     ]
    }
   ],
   "source": [
    "n, s = map(int, input().split())\n",
    "seq = list(map(int, input().split()))\n",
    "\n",
    "count = 0\n",
    "def dfs(idx, current_sum):\n",
    "    global count\n",
    "\n",
    "    if idx == n:\n",
    "        return\n",
    "\n",
    "    current_sum += seq[idx]\n",
    "\n",
    "    if current_sum == s:\n",
    "        count += 1\n",
    "    \n",
    "    dfs(idx + 1, current_sum)\n",
    "    dfs(idx + 1, current_sum - seq[idx])\n",
    "\n",
    "dfs(0, 0)\n",
    "print(count)"
   ]
  },
  {
   "cell_type": "code",
   "execution_count": null,
   "id": "e075d3a8-22b8-4396-b3bf-ab15e6da554d",
   "metadata": {},
   "outputs": [],
   "source": []
  }
 ],
 "metadata": {
  "kernelspec": {
   "display_name": "Python 3 (ipykernel)",
   "language": "python",
   "name": "python3"
  },
  "language_info": {
   "codemirror_mode": {
    "name": "ipython",
    "version": 3
   },
   "file_extension": ".py",
   "mimetype": "text/x-python",
   "name": "python",
   "nbconvert_exporter": "python",
   "pygments_lexer": "ipython3",
   "version": "3.12.2"
  }
 },
 "nbformat": 4,
 "nbformat_minor": 5
}
