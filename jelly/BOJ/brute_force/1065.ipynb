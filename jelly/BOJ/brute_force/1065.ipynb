{
 "cells": [
  {
   "cell_type": "code",
   "execution_count": 4,
   "id": "26504ff9-0399-4843-ace7-48172160f1b4",
   "metadata": {},
   "outputs": [
    {
     "name": "stdin",
     "output_type": "stream",
     "text": [
      " 1000\n"
     ]
    },
    {
     "name": "stdout",
     "output_type": "stream",
     "text": [
      "144\n"
     ]
    }
   ],
   "source": [
    "def is_seq(n):\n",
    "    if n < 100:\n",
    "        return True\n",
    "    nums = [int(i) for i in str(n)]\n",
    "    if nums[2] - nums[1] != nums[1] - nums[0]:\n",
    "        return False\n",
    "    return True\n",
    "\n",
    "n = int(input())\n",
    "result = 0\n",
    "for i in range(1, n + 1):\n",
    "    if is_seq(i):\n",
    "        result += 1\n",
    "\n",
    "print(result)"
   ]
  },
  {
   "cell_type": "code",
   "execution_count": 5,
   "id": "9f665e1b-a4ee-4dcf-8527-494f8c3cf7d5",
   "metadata": {},
   "outputs": [
    {
     "name": "stdin",
     "output_type": "stream",
     "text": [
      " 101\n"
     ]
    },
    {
     "name": "stdout",
     "output_type": "stream",
     "text": [
      "99\n"
     ]
    }
   ],
   "source": [
    "def is_han(n):\n",
    "    if n < 100:\n",
    "        return True\n",
    "    a, b, c = n // 100, (n // 10) % 10, n % 10\n",
    "    return (a - b) == (b - c)\n",
    "\n",
    "n = int(input())\n",
    "print(sum(1 for i in range(1, n + 1) if is_han(i)))"
   ]
  },
  {
   "cell_type": "code",
   "execution_count": 10,
   "id": "e39fcba7-b9b9-493a-ab4d-e0863b43bba6",
   "metadata": {},
   "outputs": [
    {
     "name": "stdout",
     "output_type": "stream",
     "text": [
      "20\n",
      "<generator object <genexpr> at 0x1094f7100>\n"
     ]
    }
   ],
   "source": [
    "print(sum(2 for i in range(10)))\n",
    "print(2 for i in range(10))"
   ]
  },
  {
   "cell_type": "raw",
   "id": "973c9bf0-860b-4320-8cb5-7c9285c8317d",
   "metadata": {},
   "source": [
    "print(2 for i in range(10))"
   ]
  }
 ],
 "metadata": {
  "kernelspec": {
   "display_name": "Python 3 (ipykernel)",
   "language": "python",
   "name": "python3"
  },
  "language_info": {
   "codemirror_mode": {
    "name": "ipython",
    "version": 3
   },
   "file_extension": ".py",
   "mimetype": "text/x-python",
   "name": "python",
   "nbconvert_exporter": "python",
   "pygments_lexer": "ipython3",
   "version": "3.12.2"
  }
 },
 "nbformat": 4,
 "nbformat_minor": 5
}
