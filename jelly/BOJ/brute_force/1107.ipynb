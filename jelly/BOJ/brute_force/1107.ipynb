{
 "cells": [
  {
   "cell_type": "code",
   "execution_count": 25,
   "id": "b7de4b18-2ddb-499b-bf3e-d0a9c041abdc",
   "metadata": {},
   "outputs": [
    {
     "name": "stdin",
     "output_type": "stream",
     "text": [
      " 5457\n",
      " 3\n",
      " 6 7 8\n"
     ]
    },
    {
     "name": "stdout",
     "output_type": "stream",
     "text": [
      "3\n",
      "4\n",
      "5\n",
      "5455\n"
     ]
    }
   ],
   "source": [
    "from itertools import product\n",
    "\n",
    "INF = int(1e9)\n",
    "\n",
    "n = input()\n",
    "m = int(input())\n",
    "banned = list(map(int, input().split()))\n",
    "digits = [x for x in range(10) if x not in banned]\n",
    "\n",
    "default = 100\n",
    "\n",
    "min_gap = INF  # 최대 자릿수\n",
    "min_value = INF\n",
    "for r in range(len(n) - 1, len(n) + 2):\n",
    "    print(r)\n",
    "    for perm in product(digits, repeat=r):\n",
    "        current = int(\"\".join(map(str, perm)))\n",
    "        if  current < 10^r - 1:\n",
    "            continue\n",
    "        if abs(int(n) - current) < min_gap:\n",
    "            min_value = current\n",
    "            min_gap = abs(int(n) - current)"
   ]
  },
  {
   "cell_type": "code",
   "execution_count": 42,
   "id": "c9b101c1-6cc3-4b60-b451-109e593bfb56",
   "metadata": {},
   "outputs": [
    {
     "name": "stdin",
     "output_type": "stream",
     "text": [
      " 500000\n",
      " 8\n",
      " 0 2 3 4 6 7 8 9\n"
     ]
    },
    {
     "name": "stdout",
     "output_type": "stream",
     "text": [
      "11117\n"
     ]
    }
   ],
   "source": [
    "n = int(input())\n",
    "m = int(input())\n",
    "banned = set(input().split()) if m > 0 else set()\n",
    "\n",
    "def is_valid(num):\n",
    "    return all(digit not in banned for digit in str(num))\n",
    "\n",
    "min_count = abs(100 - int(n))\n",
    "\n",
    "for i in range(1000000):\n",
    "    if is_valid(i):\n",
    "        min_count = min(min_count, abs(n - i) + len(str(i)))\n",
    "\n",
    "print(min_count)\n",
    "    \n",
    "    "
   ]
  },
  {
   "cell_type": "code",
   "execution_count": null,
   "id": "abe8f455-c03a-4a45-82ba-24235d16332e",
   "metadata": {},
   "outputs": [],
   "source": []
  }
 ],
 "metadata": {
  "kernelspec": {
   "display_name": "Python 3 (ipykernel)",
   "language": "python",
   "name": "python3"
  },
  "language_info": {
   "codemirror_mode": {
    "name": "ipython",
    "version": 3
   },
   "file_extension": ".py",
   "mimetype": "text/x-python",
   "name": "python",
   "nbconvert_exporter": "python",
   "pygments_lexer": "ipython3",
   "version": "3.12.2"
  }
 },
 "nbformat": 4,
 "nbformat_minor": 5
}
