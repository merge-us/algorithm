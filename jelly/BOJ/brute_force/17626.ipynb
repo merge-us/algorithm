{
 "cells": [
  {
   "cell_type": "code",
   "execution_count": 47,
   "id": "0df1133a-2d58-46aa-ae17-d3b1c7a09a20",
   "metadata": {},
   "outputs": [
    {
     "name": "stdin",
     "output_type": "stream",
     "text": [
      " 25\n"
     ]
    },
    {
     "name": "stdout",
     "output_type": "stream",
     "text": [
      "3\n",
      "9\n",
      "16\n",
      "0\n"
     ]
    }
   ],
   "source": [
    "n = int(input())\n",
    "\n",
    "def get_max_square(n):\n",
    "    m = n // 2\n",
    "    i = 1\n",
    "    while True:\n",
    "        if i ** 2. <= m <= (i + 1) ** 2:\n",
    "            break\n",
    "        i += 1\n",
    "    return i\n",
    "\n",
    "i = get_max_square(n)\n",
    "print(i)\n",
    "print(i ** 2)\n",
    "print((i + 1) ** 2)\n",
    "print(n - (i ** 2) - ((i + 1) ** 2))"
   ]
  },
  {
   "cell_type": "code",
   "execution_count": 73,
   "id": "f9974003-47d7-4402-aaa0-120471a66b3e",
   "metadata": {},
   "outputs": [
    {
     "name": "stdin",
     "output_type": "stream",
     "text": [
      " 11339\n"
     ]
    },
    {
     "name": "stdout",
     "output_type": "stream",
     "text": [
      "[0, 1, 4, 9, 16, 25, 36, 49, 64, 81, 100, 121, 144, 169, 196, 225, 256, 289, 324, 361, 400, 441, 484, 529, 576, 625, 676, 729, 784, 841, 900, 961, 1024, 1089, 1156, 1225, 1296, 1369, 1444, 1521, 1600, 1681, 1764, 1849, 1936, 2025, 2116, 2209, 2304, 2401, 2500, 2601, 2704, 2809, 2916, 3025, 3136, 3249, 3364, 3481, 3600, 3721, 3844, 3969, 4096, 4225, 4356, 4489, 4624, 4761, 4900, 5041, 5184, 5329, 5476, 5625, 5776, 5929, 6084, 6241, 6400, 6561, 6724, 6889, 7056, 7225, 7396, 7569, 7744, 7921, 8100, 8281, 8464, 8649, 8836, 9025, 9216, 9409, 9604, 9801, 10000, 10201, 10404, 10609, 10816, 11025, 11236, 11449, 11664, 11881, 12100, 12321, 12544, 12769, 12996, 13225, 13456, 13689, 13924, 14161, 14400, 14641, 14884, 15129, 15376, 15625, 15876, 16129, 16384, 16641, 16900, 17161, 17424, 17689, 17956, 18225, 18496, 18769, 19044, 19321, 19600, 19881, 20164, 20449, 20736, 21025, 21316, 21609, 21904, 22201, 22500, 22801, 23104, 23409, 23716, 24025, 24336, 24649, 24964, 25281, 25600, 25921, 26244, 26569, 26896, 27225, 27556, 27889, 28224, 28561, 28900, 29241, 29584, 29929, 30276, 30625, 30976, 31329, 31684, 32041, 32400, 32761, 33124, 33489, 33856, 34225, 34596, 34969, 35344, 35721, 36100, 36481, 36864, 37249, 37636, 38025, 38416, 38809, 39204, 39601, 40000, 40401, 40804, 41209, 41616, 42025, 42436, 42849, 43264, 43681, 44100, 44521, 44944, 45369, 45796, 46225, 46656, 47089, 47524, 47961, 48400, 48841, 49284, 49729, 50176]\n",
      "11339\n",
      "103\n",
      "3\n",
      "2\n",
      "1\n",
      "5\n"
     ]
    }
   ],
   "source": [
    "n = int(input())\n",
    "\n",
    "data = [ i ** 2 for i in range(225)]\n",
    "print(data)\n",
    "\n",
    "count = 0\n",
    "while n != 0:\n",
    "    print(n)\n",
    "    count += 1\n",
    "    for i in range(224):\n",
    "\n",
    "        if data[i] <= n <= data[i + 1]:\n",
    "            if n == data[i] or n == data[i + 1]:\n",
    "                n  = 0\n",
    "            else:\n",
    "                n -= data[i]\n",
    "            break\n",
    "        \n",
    "print(count)\n"
   ]
  },
  {
   "cell_type": "code",
   "execution_count": 76,
   "id": "ae3e06e5-9756-4a6a-9545-638d41d63d10",
   "metadata": {
    "jp-MarkdownHeadingCollapsed": true
   },
   "outputs": [
    {
     "name": "stdin",
     "output_type": "stream",
     "text": [
      " 11339\n"
     ]
    },
    {
     "name": "stdout",
     "output_type": "stream",
     "text": [
      "3\n"
     ]
    }
   ],
   "source": [
    "n = int(input())\n",
    "\n",
    "data = [(i ** 2) for i in range(225)]\n",
    "\n",
    "if n in data:\n",
    "    print(1)\n",
    "elif n in [data[i] + data[j] for i in range(1, 224) for j in range(1, 224)]:\n",
    "    print(2)\n",
    "else:\n",
    "    count = 0\n",
    "    while n != 0:\n",
    "        count += 1\n",
    "        \n",
    " \n",
    "else:\n",
    "    print(4)"
   ]
  },
  {
   "cell_type": "code",
   "execution_count": 2,
   "id": "966b9a9e-f42b-450e-b1e7-3c6fb1f2fec5",
   "metadata": {},
   "outputs": [
    {
     "name": "stdout",
     "output_type": "stream",
     "text": [
      "193\n"
     ]
    }
   ],
   "source": [
    "print(3481 + 3600 + 3721 - 10609)\n"
   ]
  },
  {
   "cell_type": "code",
   "execution_count": null,
   "id": "3ca0dc5a-2973-4d7f-baec-32f1d3b099c6",
   "metadata": {},
   "outputs": [],
   "source": []
  }
 ],
 "metadata": {
  "kernelspec": {
   "display_name": "Python 3 (ipykernel)",
   "language": "python",
   "name": "python3"
  },
  "language_info": {
   "codemirror_mode": {
    "name": "ipython",
    "version": 3
   },
   "file_extension": ".py",
   "mimetype": "text/x-python",
   "name": "python",
   "nbconvert_exporter": "python",
   "pygments_lexer": "ipython3",
   "version": "3.12.2"
  }
 },
 "nbformat": 4,
 "nbformat_minor": 5
}
