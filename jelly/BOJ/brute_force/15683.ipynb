{
 "cells": [
  {
   "cell_type": "code",
   "execution_count": 12,
   "id": "85850772-ea20-41d9-8266-fb355de22300",
   "metadata": {},
   "outputs": [
    {
     "name": "stdin",
     "output_type": "stream",
     "text": [
      " 4 6\n",
      " 0 0 0 0 0 0\n",
      " 0 0 5 0 0 0\n",
      " 0 0 0 0 0 0\n",
      " 0 1 0 0 0 0\n"
     ]
    },
    {
     "name": "stdout",
     "output_type": "stream",
     "text": [
      "[[0, 0, 0, 0, 0, 0], [0, 0, 5, 0, 0, 0], [0, 0, 0, 0, 0, 0], [0, 1, 0, 0, 0, 0]]\n",
      "5 1 2\n",
      "1 3 1\n",
      "[[0, 0, '#', 0, 0, 0], ['#', '#', 5, '#', '#', '#'], [0, 0, '#', 0, 0, 0], [0, 1, '#', '#', '#', '#']]\n"
     ]
    }
   ],
   "source": [
    "n, m = map(int, input().split())\n",
    "\n",
    "board = []\n",
    "cctvs = []\n",
    "\n",
    "for i in range(n):\n",
    "    row = list(map(int, input().split()))\n",
    "\n",
    "    for j in range(m):\n",
    "        if 0 < row[j] < 6:\n",
    "            cctvs.append((row[j], i, j))\n",
    "\n",
    "    board.append(row)\n",
    "\n",
    "def run_cctv(board, x, y, dx, dy):\n",
    "    nx = x + dx\n",
    "    ny = y + dy\n",
    "    while 0 <= nx < n and 0 <= ny < m and board[nx][ny] != 6:\n",
    "        if board[nx][ny] == 0:\n",
    "            board[nx][ny] = \"#\"\n",
    "        nx += dx\n",
    "        ny += dy\n",
    "\n",
    "\n",
    "for type_num, x, y in cctvs:\n",
    "    if type_num == 1:\n",
    "        run_cctv(board, x, y, 0, 1)\n",
    "\n",
    "    elif type_num == 2:\n",
    "        run_cctv(board, x, y, 0, 1)\n",
    "        run_cctv(board, x, y, 0, -1)\n",
    "\n",
    "    elif type_num == 3:\n",
    "        run_cctv(board, x, y, 0, 1)\n",
    "        run_cctv(board, x, y, -1, 0)\n",
    "\n",
    "    elif type_num == 4:\n",
    "        run_cctv(board, x, y, 0, 1)\n",
    "        run_cctv(board, x, y, 0, -1)\n",
    "        run_cctv(board, x, y, -1, 0)\n",
    "\n",
    "    elif type_num == 5:\n",
    "        run_cctv(board, x, y, 0, 1)\n",
    "        run_cctv(board, x, y, 0, -1)\n",
    "        run_cctv(board, x, y, 1, 0)\n",
    "        run_cctv(board, x, y, -1, 0)       \n",
    "\n",
    "min_invisible = board.count(0)\n"
   ]
  },
  {
   "cell_type": "code",
   "execution_count": 21,
   "id": "9f242fbc-9833-4a5c-9d79-833138a257f3",
   "metadata": {},
   "outputs": [
    {
     "name": "stdin",
     "output_type": "stream",
     "text": [
      " 6 6\n",
      " 0 0 0 0 0 0\n",
      " 0 2 0 0 0 0\n",
      " 0 0 0 0 6 0\n",
      " 0 6 0 0 2 0\n",
      " 0 0 0 0 0 0\n",
      " 0 0 0 0 0 5\n"
     ]
    },
    {
     "name": "stdout",
     "output_type": "stream",
     "text": [
      "15\n"
     ]
    }
   ],
   "source": [
    "n, m = map(int, input().split())\n",
    "\n",
    "board = []\n",
    "cctvs = []\n",
    "\n",
    "for i in range(n):\n",
    "    row = list(map(int, input().split()))\n",
    "\n",
    "    for j in range(m):\n",
    "        if 0 < row[j] < 6:\n",
    "            cctvs.append((row[j], i, j))\n",
    "\n",
    "    board.append(row)\n",
    "\n",
    "directions = [\n",
    "    [],\n",
    "    [[(0, 1)], [(0, -1)], [(1, 0)], [(-1, 0)]],\n",
    "    [[(0, 1), (0, -1)], [(1, 0), (-1, 0)]],\n",
    "    [[(0, 1), (1, 0)], [(0, 1), (-1, 0)], [(0, -1), (1, 0)], [(0, -1), (-1, 0)]],\n",
    "    [[(0, 1), (0, -1), (1, 0)], [(0, 1), (0, -1), (-1, 0)], [(0, 1), (1, 0), (-1, 0)], [(0, -1), (1, 0), (-1, 0)]],\n",
    "    [[(0, 1), (0, -1), (1, 0), (-1, 0)]]   \n",
    "]\n",
    "\n",
    "def watch_area(temp_board, x, y, direction):\n",
    "    for dx, dy in direction:\n",
    "        nx = x + dx\n",
    "        ny = y + dy\n",
    "        while 0 <= nx < n and 0 <= ny < m and temp_board[nx][ny] != 6:\n",
    "            if temp_board[nx][ny] == 0:\n",
    "                temp_board[nx][ny] = \"#\"\n",
    "            nx += dx\n",
    "            ny += dy\n",
    "\n",
    "\n",
    "def dfs(depth, board):\n",
    "    global min_blind_spots\n",
    "\n",
    "    if depth == len(cctvs):\n",
    "        min_blind_spots = min(min_blind_spots, sum(row.count(0) for row in board))\n",
    "        return\n",
    "\n",
    "    cctv_type, x, y = cctvs[depth]\n",
    "\n",
    "    for direction in directions[cctv_type]:\n",
    "        temp_board = [row[:] for row in board]\n",
    "        watch_area(temp_board, x, y, direction)\n",
    "        dfs(depth + 1, temp_board)\n",
    "\n",
    "min_blind_spots = float('inf')\n",
    "\n",
    "dfs(0, board)\n",
    "\n",
    "print(min_blind_spots)\n"
   ]
  },
  {
   "cell_type": "code",
   "execution_count": null,
   "id": "7db60e11-36d9-4cc9-9ab5-0c0188a21575",
   "metadata": {},
   "outputs": [],
   "source": []
  }
 ],
 "metadata": {
  "kernelspec": {
   "display_name": "Python 3 (ipykernel)",
   "language": "python",
   "name": "python3"
  },
  "language_info": {
   "codemirror_mode": {
    "name": "ipython",
    "version": 3
   },
   "file_extension": ".py",
   "mimetype": "text/x-python",
   "name": "python",
   "nbconvert_exporter": "python",
   "pygments_lexer": "ipython3",
   "version": "3.12.2"
  }
 },
 "nbformat": 4,
 "nbformat_minor": 5
}
