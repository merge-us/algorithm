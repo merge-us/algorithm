{
 "cells": [
  {
   "cell_type": "code",
   "execution_count": 21,
   "id": "4d462010-de13-455e-a5cf-37fe95aaf652",
   "metadata": {},
   "outputs": [
    {
     "name": "stdin",
     "output_type": "stream",
     "text": [
      " 10\n",
      " 4\n",
      " 1 2\n",
      " 1 3\n",
      " 1 4\n",
      " 1 5\n",
      " 4\n",
      " 8 D\n",
      " 10 D\n",
      " 11 D\n",
      " 13 L\n"
     ]
    },
    {
     "name": "stdout",
     "output_type": "stream",
     "text": [
      "(1, 1)\n",
      "(1, 2)\n",
      "(1, 3)\n",
      "(1, 4)\n",
      "(1, 5)\n",
      "(1, 6)\n",
      "(1, 7)\n",
      "(1, 8)\n",
      "(1, 9)\n",
      "(2, 9)\n",
      "(3, 9)\n",
      "(3, 10)\n",
      "(4, 10)\n",
      "(5, 10)\n",
      "(5, 9)\n",
      "(5, 8)\n",
      "(5, 7)\n",
      "(5, 6)\n",
      "(5, 5)\n",
      "(5, 4)\n",
      "(5, 3)\n",
      "(5, 2)\n",
      "(5, 1)\n",
      "23\n"
     ]
    }
   ],
   "source": [
    "from collections import deque\n",
    "\n",
    "n = int(input())\n",
    "k = int(input())\n",
    "\n",
    "map_array = [[0] * (n + 1) for _ in range(n + 1)]\n",
    "for _ in range(k):\n",
    "    x, y = map(int, input().split())\n",
    "    map_array[x][y] = 1\n",
    "\n",
    "l = int(input())\n",
    "cmds = [None] * (10001)\n",
    "\n",
    "for _ in range(l):\n",
    "    sec, direction = input().split()\n",
    "    cmds[int(sec)] = direction\n",
    "    \n",
    "play_time = 0\n",
    "\n",
    "body = deque([(1, 1)])\n",
    "map_array[1][1] = -1\n",
    "dx, dy = 0, 1\n",
    "\n",
    "while True:\n",
    "    x, y = body.pop()\n",
    "    print(f\"({x}, {y})\")\n",
    "    \n",
    "    body.append((x, y))\n",
    "    play_time += 1\n",
    "\n",
    "    nx = x + dx\n",
    "    ny = y + dy\n",
    "    if nx <= 0 or nx > n or ny <= 0 or ny > n or map_array[nx][ny] == -1:\n",
    "        break\n",
    "\n",
    "    if map_array[nx][ny] == 0:\n",
    "        tail_x, tail_y = body.popleft()\n",
    "        map_array[tail_x][tail_y] = 0\n",
    "\n",
    "    map_array[nx][ny] = -1  \n",
    "    body.append((nx, ny))\n",
    "\n",
    "    if cmds[play_time] is not None:\n",
    "        if cmds[play_time] == \"L\":\n",
    "                dx, dy = -dy, -dx\n",
    "        elif cmds[play_time] == \"D\":\n",
    "                dx, dy = dy, dx\n",
    "    \n",
    "    \n",
    "print(play_time)"
   ]
  },
  {
   "cell_type": "code",
   "execution_count": 24,
   "id": "f447642c-3ff6-42ab-a7e6-c2581df8c0e9",
   "metadata": {},
   "outputs": [
    {
     "name": "stdin",
     "output_type": "stream",
     "text": [
      " 6\n",
      " 3\n",
      " 3 4\n",
      " 2 5\n",
      " 5 3\n",
      " 3\n",
      " 3 D\n",
      " 15 L\n",
      " 17 D\n"
     ]
    },
    {
     "name": "stdout",
     "output_type": "stream",
     "text": [
      "9\n"
     ]
    }
   ],
   "source": [
    "from collections import deque\n",
    "\n",
    "n = int(input())\n",
    "k = int(input())\n",
    "\n",
    "board = [[0] * (n + 1) for _ in range(n + 1)]\n",
    "for _ in range(k):\n",
    "    x, y = map(int, input().split())\n",
    "    board[x][y] = 1\n",
    "\n",
    "l = int(input())\n",
    "turns = {}\n",
    "for _ in range(l):\n",
    "    sec, direction = input().split()\n",
    "    turns[int(sec)] = direction\n",
    "\n",
    "directions = [(0, 1), (1, 0), (0, -1), (-1, 0)]\n",
    "direction_idx = 0\n",
    "\n",
    "snake = deque([(1, 1)])\n",
    "board[1][1] = -1\n",
    "\n",
    "time = 0\n",
    "\n",
    "while True:\n",
    "    time += 1\n",
    "    \n",
    "    head_x, head_y = snake[-1]\n",
    "    \n",
    "    dx, dy = directions[direction_idx]\n",
    "    nx, ny = head_x + dx, head_y + dy\n",
    "    \n",
    "    if nx <= 0 or nx > n or ny <= 0 or ny > n or board[nx][ny] == -1:\n",
    "        break\n",
    "    \n",
    "    if board[nx][ny] == 0:\n",
    "        tail_x, tail_y = snake.popleft()\n",
    "        board[tail_x][tail_y] = 0\n",
    "\n",
    "    board[nx][ny] = -1\n",
    "    snake.append((nx, ny))\n",
    "\n",
    "    if time in turns:\n",
    "        if turns[time] == \"L\":\n",
    "            direction_idx = (direction_idx - 1) % 4\n",
    "        elif turns[time] == \"D\":\n",
    "            direction_idx = (direction_idx + 1) % 4\n",
    "    \n",
    "    \n",
    "print(time)"
   ]
  },
  {
   "cell_type": "code",
   "execution_count": 26,
   "id": "15fa9114-f82a-4107-b702-10b9bfd04151",
   "metadata": {},
   "outputs": [
    {
     "name": "stdout",
     "output_type": "stream",
     "text": [
      "True\n"
     ]
    }
   ],
   "source": []
  },
  {
   "cell_type": "code",
   "execution_count": null,
   "id": "36294f8f-1ba4-49e2-af07-87eeba8e1849",
   "metadata": {},
   "outputs": [],
   "source": []
  }
 ],
 "metadata": {
  "kernelspec": {
   "display_name": "Python 3 (ipykernel)",
   "language": "python",
   "name": "python3"
  },
  "language_info": {
   "codemirror_mode": {
    "name": "ipython",
    "version": 3
   },
   "file_extension": ".py",
   "mimetype": "text/x-python",
   "name": "python",
   "nbconvert_exporter": "python",
   "pygments_lexer": "ipython3",
   "version": "3.12.2"
  }
 },
 "nbformat": 4,
 "nbformat_minor": 5
}
