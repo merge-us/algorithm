{
 "cells": [
  {
   "cell_type": "code",
   "execution_count": null,
   "id": "46ddbda5-c762-4a41-bc63-d251a09a4af6",
   "metadata": {},
   "outputs": [
    {
     "name": "stdin",
     "output_type": "stream",
     "text": [
      " 14\n",
      " push 14\n",
      " top\n"
     ]
    },
    {
     "name": "stdout",
     "output_type": "stream",
     "text": [
      "14\n"
     ]
    },
    {
     "name": "stdin",
     "output_type": "stream",
     "text": [
      " pop\n"
     ]
    },
    {
     "name": "stdout",
     "output_type": "stream",
     "text": [
      "14\n"
     ]
    },
    {
     "name": "stdin",
     "output_type": "stream",
     "text": [
      " pop\n"
     ]
    },
    {
     "name": "stdout",
     "output_type": "stream",
     "text": [
      "-1\n"
     ]
    }
   ],
   "source": [
    "import sys\n",
    "input = sys.stdin.readline\n",
    "\n",
    "stack = []\n",
    "\n",
    "n = int(input().rstrip())\n",
    "\n",
    "for _ in range(n):\n",
    "    input_data = list(input().rstrip().split())\n",
    "    cmd = input_data[0] \n",
    "    if cmd == \"top\":\n",
    "        if not stack:\n",
    "            print(-1)\n",
    "        else:\n",
    "            print(stack[-1])\n",
    "    elif cmd == \"pop\":\n",
    "        if not stack:\n",
    "            print(-1)\n",
    "        else:\n",
    "            print(stack.pop())\n",
    "    elif cmd == \"size\":\n",
    "        print(len(stack))\n",
    "    elif cmd == \"empty\":\n",
    "        if not stack:\n",
    "            print(1)\n",
    "        else:\n",
    "            print(0)\n",
    "    else:\n",
    "        stack.append(int(input_data[1]))"
   ]
  },
  {
   "cell_type": "code",
   "execution_count": null,
   "id": "df02ae70-2058-4aef-9dea-3732a4196f68",
   "metadata": {},
   "outputs": [],
   "source": [
    "import sys\n",
    "input = sys.stdin.readline\n",
    "\n",
    "stack = []\n",
    "\n",
    "n = int(input().rstrip())\n",
    "\n",
    "for _ in range(n):\n",
    "    cmd = input().rstrip().split()\n",
    "    if cmd[0] == \"push\":\n",
    "        stack.append(int(cmd[1]))\n",
    "    elif cmd[0] == \"pop\":\n",
    "        print(stack.pop() if stack else -1)\n",
    "    elif cmd[0] == \"size\":\n",
    "        print(len(stack))\n",
    "    elif cmd[0] == \"empty\":\n",
    "        print(0 if stack else 1)\n",
    "    elif cmd[0] == \"top\":\n",
    "        print(stack[-1] if stack else -1)\n",
    "\n",
    "       "
   ]
  }
 ],
 "metadata": {
  "kernelspec": {
   "display_name": "Python 3 (ipykernel)",
   "language": "python",
   "name": "python3"
  },
  "language_info": {
   "codemirror_mode": {
    "name": "ipython",
    "version": 3
   },
   "file_extension": ".py",
   "mimetype": "text/x-python",
   "name": "python",
   "nbconvert_exporter": "python",
   "pygments_lexer": "ipython3",
   "version": "3.12.2"
  }
 },
 "nbformat": 4,
 "nbformat_minor": 5
}
