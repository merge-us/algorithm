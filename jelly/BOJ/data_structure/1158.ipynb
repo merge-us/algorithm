{
 "cells": [
  {
   "cell_type": "code",
   "execution_count": 28,
   "id": "81f154a4-c5ed-4924-bbbf-ef2894ce81a7",
   "metadata": {},
   "outputs": [
    {
     "name": "stdin",
     "output_type": "stream",
     "text": [
      " 9 4\n"
     ]
    },
    {
     "name": "stdout",
     "output_type": "stream",
     "text": [
      "<4, 8, 3, 9, 6, 5, 7, 2, 1>"
     ]
    }
   ],
   "source": [
    "class Node:\n",
    "    def __init__(self, value):\n",
    "        self.value = value\n",
    "        self.next = None\n",
    "        self.prev = None\n",
    "\n",
    "class LinkedList:\n",
    "    def __init__(self):\n",
    "        self.head = None\n",
    "        self.current_seq = 1\n",
    "        self.size = 0\n",
    "        \n",
    "    def append(self, value):\n",
    "        new_node = Node(value)\n",
    "        if not self.head:\n",
    "            self.head = new_node\n",
    "            self.head.next = self.head\n",
    "            self.head.prev = self.head\n",
    "        else:\n",
    "            tail = self.head.prev\n",
    "            tail.next = new_node\n",
    "            new_node.prev = tail\n",
    "            new_node.next = self.head\n",
    "            self.head.prev = new_node\n",
    "        self.size += 1\n",
    "        \n",
    "    def delete(self, node):\n",
    "        if self.size > 0:\n",
    "            node.prev.next = node.next\n",
    "            node.next.prev = node.prev\n",
    "            self.size -= 1\n",
    "            return node.value\n",
    "        return None\n",
    "        \n",
    "    def process(self, k):\n",
    "        if self.size > 0:\n",
    "            self.head = self.head.next\n",
    "            self.current_seq += 1\n",
    "            if self.current_seq % k == 0:\n",
    "                current = self.head\n",
    "                current.prev.next = current.next\n",
    "                current.next.prev = current.prev\n",
    "                self.head = current.next\n",
    "                self.current_seq = 1\n",
    "                return self.delete(current)\n",
    "            return None\n",
    "        return -1\n",
    "        \n",
    "n, k = map(int, input().split())\n",
    "seq = []\n",
    "\n",
    "data = LinkedList()\n",
    "for i in range(1, n + 1):\n",
    "    data.append(i)\n",
    "\n",
    "while True:\n",
    "    result = data.process(k)\n",
    "    if result == -1:\n",
    "        break\n",
    "    if result != None:\n",
    "        seq.append(result)\n",
    "\n",
    "print('<', end='')\n",
    "print(\", \".join(map(str, seq)), end='')\n",
    "print('>', end='')"
   ]
  },
  {
   "cell_type": "code",
   "execution_count": 35,
   "id": "1ad3f008-89fd-4257-a9d6-0734539d41f1",
   "metadata": {},
   "outputs": [
    {
     "name": "stdin",
     "output_type": "stream",
     "text": [
      " 7 3\n"
     ]
    },
    {
     "name": "stdout",
     "output_type": "stream",
     "text": [
      "<3, 6, 2, 7, 5, 1, 4>\n"
     ]
    }
   ],
   "source": [
    "from collections import deque\n",
    "\n",
    "n, k = map(int, input().split())\n",
    "q = deque(i for i in range(1, n + 1))\n",
    "result = []\n",
    "\n",
    "while q:\n",
    "    q.rotate(-(k - 1))\n",
    "    result.append(q.popleft())\n",
    "\n",
    "print(\"<\" + \", \".join(map(str, result)) + \">\")"
   ]
  },
  {
   "cell_type": "code",
   "execution_count": 39,
   "id": "3b19665f-5350-4799-9c68-d0d5ab09794d",
   "metadata": {},
   "outputs": [
    {
     "name": "stdout",
     "output_type": "stream",
     "text": [
      "deque([10, 20, 30, 40, 50])\n",
      "deque([40, 50, 10, 20, 30])\n",
      "deque([20, 30, 40, 50, 10])\n",
      "deque([50, 10, 20, 30, 40])\n"
     ]
    }
   ],
   "source": [
    "from collections import deque\n",
    "\n",
    "q = deque([10, 20, 30, 40, 50])\n",
    "print(q)\n",
    "# 2칸씩 오른쪽 이동하며 윈도우 탐색\n",
    "for _ in range(3):\n",
    "    q.rotate(2)  # 2칸 오른쪽 이동\n",
    "    print(q)"
   ]
  },
  {
   "cell_type": "code",
   "execution_count": null,
   "id": "cf2b6eb8-4656-405a-b68e-ed9d0452b942",
   "metadata": {},
   "outputs": [],
   "source": []
  }
 ],
 "metadata": {
  "kernelspec": {
   "display_name": "Python 3 (ipykernel)",
   "language": "python",
   "name": "python3"
  },
  "language_info": {
   "codemirror_mode": {
    "name": "ipython",
    "version": 3
   },
   "file_extension": ".py",
   "mimetype": "text/x-python",
   "name": "python",
   "nbconvert_exporter": "python",
   "pygments_lexer": "ipython3",
   "version": "3.12.2"
  }
 },
 "nbformat": 4,
 "nbformat_minor": 5
}
