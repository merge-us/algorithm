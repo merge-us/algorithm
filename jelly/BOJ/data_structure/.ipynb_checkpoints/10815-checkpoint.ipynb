{
 "cells": [
  {
   "cell_type": "code",
   "execution_count": 3,
   "id": "a8b42c6b-7e20-45df-b3f2-94f336fdcfb5",
   "metadata": {},
   "outputs": [
    {
     "name": "stdin",
     "output_type": "stream",
     "text": [
      " 5\n",
      " 6 3 2 10 -10\n",
      " 8\n",
      " 10 9 -5 2 3 4 5 -10\n"
     ]
    },
    {
     "name": "stdout",
     "output_type": "stream",
     "text": [
      "1 0 0 1 1 0 0 1 "
     ]
    }
   ],
   "source": [
    "import sys\n",
    "input = sys.stdin.readline\n",
    "\n",
    "n = int(input().rstrip())\n",
    "nums = set(map(int, input().rstrip().split()))\n",
    "\n",
    "m = int(input())\n",
    "for i in map(int, input().split()):\n",
    "    print(1 if i in nums else 0, end=' ')"
   ]
  },
  {
   "cell_type": "code",
   "execution_count": 1,
   "id": "4b53a290-83f8-4b1b-9099-b17310e1921f",
   "metadata": {},
   "outputs": [
    {
     "name": "stdin",
     "output_type": "stream",
     "text": [
      " 5\n",
      " 6 3 2 10 -10\n",
      " 8\n",
      " 10 9 -5 2 3 4 5 -10\n"
     ]
    },
    {
     "name": "stdout",
     "output_type": "stream",
     "text": [
      "1 0 0 1 1 0 0 1 "
     ]
    }
   ],
   "source": [
    "import sys\n",
    "input = sys.stdin.readline\n",
    "\n",
    "def binary_search(array, target, start, end):\n",
    "    if start > end:\n",
    "        return None\n",
    "    mid = (start + end) // 2\n",
    "    if array[mid] == target:\n",
    "        return mid\n",
    "    elif array[mid] > target:\n",
    "        return binary_search(array, target, start, mid - 1)\n",
    "    else:\n",
    "        return binary_search(array, target, mid + 1, end)\n",
    "\n",
    "n = int(input())\n",
    "nums = list(map(int, input().rstrip().split()))\n",
    "nums.sort()\n",
    "\n",
    "m = int(input())\n",
    "for i in map(int, input().rstrip().split()):\n",
    "    print(1 if binary_search(nums, i, 0, n - 1) != None else 0, end=' ')"
   ]
  },
  {
   "cell_type": "code",
   "execution_count": 4,
   "id": "b357c8b1-6fde-46f9-a6c1-ce8992731b61",
   "metadata": {},
   "outputs": [
    {
     "name": "stdin",
     "output_type": "stream",
     "text": [
      " 10\n",
      " 6 3 2 10 10 10 -10 -10 7 3\n",
      " 8\n",
      " 10 9 -5 2 3 4 5 -10\n"
     ]
    },
    {
     "name": "stdout",
     "output_type": "stream",
     "text": [
      "3 0 0 1 2 0 0 2\n"
     ]
    }
   ],
   "source": [
    "import sys\n",
    "from collections import Counter\n",
    "\n",
    "inputs = sys.stdin.readlines()\n",
    "cnt = Counter(inputs[1].split())\n",
    "\n",
    "print(\" \".join(str(cnt[key]) for key in inputs[3].split()))"
   ]
  },
  {
   "cell_type": "code",
   "execution_count": 8,
   "id": "d0c7b1fc-b599-4172-952d-f69348a1e03f",
   "metadata": {},
   "outputs": [
    {
     "name": "stdout",
     "output_type": "stream",
     "text": [
      "0\n",
      "2\n"
     ]
    }
   ],
   "source": [
    "from collections import Counter\n",
    "\n",
    "counter = Counter([1, 2, 3, 4, 5, 1])\n",
    "\n",
    "print(counter[10])\n",
    "print(counter[1])"
   ]
  },
  {
   "cell_type": "code",
   "execution_count": null,
   "id": "f1fc460e-9e77-45c5-bc04-da639b219eff",
   "metadata": {},
   "outputs": [],
   "source": []
  }
 ],
 "metadata": {
  "kernelspec": {
   "display_name": "Python 3 (ipykernel)",
   "language": "python",
   "name": "python3"
  },
  "language_info": {
   "codemirror_mode": {
    "name": "ipython",
    "version": 3
   },
   "file_extension": ".py",
   "mimetype": "text/x-python",
   "name": "python",
   "nbconvert_exporter": "python",
   "pygments_lexer": "ipython3",
   "version": "3.12.2"
  }
 },
 "nbformat": 4,
 "nbformat_minor": 5
}
