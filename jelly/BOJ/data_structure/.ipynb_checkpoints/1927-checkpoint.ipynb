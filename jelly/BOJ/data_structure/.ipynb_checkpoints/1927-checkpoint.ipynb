{
 "cells": [
  {
   "cell_type": "code",
   "execution_count": 1,
   "id": "679595a9-07de-4ec0-94bf-0edcd824c1c5",
   "metadata": {},
   "outputs": [
    {
     "name": "stdin",
     "output_type": "stream",
     "text": [
      " 9\n",
      " 0\n"
     ]
    },
    {
     "name": "stdout",
     "output_type": "stream",
     "text": [
      "0\n"
     ]
    },
    {
     "name": "stdin",
     "output_type": "stream",
     "text": [
      " 123456\n",
      " 1\n",
      " 2\n",
      " 0\n"
     ]
    },
    {
     "name": "stdout",
     "output_type": "stream",
     "text": [
      "1\n"
     ]
    },
    {
     "name": "stdin",
     "output_type": "stream",
     "text": [
      " 0\n"
     ]
    },
    {
     "name": "stdout",
     "output_type": "stream",
     "text": [
      "2\n"
     ]
    },
    {
     "name": "stdin",
     "output_type": "stream",
     "text": [
      " 0\n"
     ]
    },
    {
     "name": "stdout",
     "output_type": "stream",
     "text": [
      "123456\n"
     ]
    },
    {
     "name": "stdin",
     "output_type": "stream",
     "text": [
      " 0\n"
     ]
    },
    {
     "name": "stdout",
     "output_type": "stream",
     "text": [
      "0\n"
     ]
    },
    {
     "name": "stdin",
     "output_type": "stream",
     "text": [
      " 0\n"
     ]
    },
    {
     "name": "stdout",
     "output_type": "stream",
     "text": [
      "0\n"
     ]
    }
   ],
   "source": [
    "import sys\n",
    "import heapq\n",
    "\n",
    "\n",
    "input = sys.stdin.readline\n",
    "heap = []\n",
    "\n",
    "n = int(input().rstrip())\n",
    "for _ in range(n):\n",
    "    i = int(input().rstrip())\n",
    "    if i == 0:\n",
    "        if len(heap) == 0:\n",
    "            print(0)\n",
    "        else:\n",
    "            print(heapq.heappop(heap))\n",
    "    else:\n",
    "        heapq.heappush(heap, i)\n",
    "        "
   ]
  },
  {
   "cell_type": "code",
   "execution_count": null,
   "id": "d65fe3b2-3b5e-408a-ab70-39c691c26c9b",
   "metadata": {},
   "outputs": [],
   "source": [
    "import sys\n",
    "import heapq\n",
    "\n",
    "\n",
    "input = sys.stdin.read\n",
    "data = list(map(int, input().split()))\n",
    "heap = []\n",
    "\n",
    "output = []\n",
    "\n",
    "for x data[1:]:\n",
    "    if x == 0:\n",
    "        if not heap:\n",
    "            output.append(\"0\")\n",
    "        else:\n",
    "            output.append(str(heapq.heappop(heap)))\n",
    "    else:\n",
    "        heapq.heappush(heap, x)\n",
    "\n",
    "sys.stdout.write(\"\\n\".join(output) + \"\\n\")\n",
    "        "
   ]
  }
 ],
 "metadata": {
  "kernelspec": {
   "display_name": "Python 3 (ipykernel)",
   "language": "python",
   "name": "python3"
  },
  "language_info": {
   "codemirror_mode": {
    "name": "ipython",
    "version": 3
   },
   "file_extension": ".py",
   "mimetype": "text/x-python",
   "name": "python",
   "nbconvert_exporter": "python",
   "pygments_lexer": "ipython3",
   "version": "3.12.2"
  }
 },
 "nbformat": 4,
 "nbformat_minor": 5
}
