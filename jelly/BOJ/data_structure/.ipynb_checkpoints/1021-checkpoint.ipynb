{
 "cells": [
  {
   "cell_type": "code",
   "execution_count": 31,
   "id": "8a1e1209-81bf-4877-9fd8-19f8f68db0b3",
   "metadata": {},
   "outputs": [
    {
     "name": "stdin",
     "output_type": "stream",
     "text": [
      " 10 10\n",
      " 1 6 3 2 7 9 8 4 10 5\n"
     ]
    },
    {
     "name": "stdout",
     "output_type": "stream",
     "text": [
      "14\n"
     ]
    }
   ],
   "source": [
    "from collections import deque\n",
    "\n",
    "n, m = map(int, input().split())\n",
    "targets = map(int, input().split())\n",
    "\n",
    "q = deque([x for x in range(1, n + 1)])\n",
    "total_counts = 0\n",
    "\n",
    "for target in targets:\n",
    "    if q[0] == target:\n",
    "        q.popleft()\n",
    "        continue\n",
    "        \n",
    "    count = 1\n",
    "    for i in range(n - 1):\n",
    "        q.rotate(1)\n",
    "        if q[0] == target:\n",
    "            break\n",
    "        count += 1\n",
    "    min_count = count\n",
    "    \n",
    "    q.rotate(-count)\n",
    "    \n",
    "    count = 1\n",
    "    for i in range(n - 1):\n",
    "        q.rotate(-1)\n",
    "        if q[0] == target:\n",
    "            break\n",
    "        count += 1\n",
    "\n",
    "    min_count = min(min_count, count)\n",
    "    total_counts += min_count\n",
    "    q.popleft()\n",
    "\n",
    "print(total_counts)\n",
    "        \n",
    "    "
   ]
  },
  {
   "cell_type": "code",
   "execution_count": 33,
   "id": "a8379804-87b8-494d-8259-4ef039fe06cc",
   "metadata": {},
   "outputs": [
    {
     "name": "stdin",
     "output_type": "stream",
     "text": [
      " 10 10\n",
      "  1 6 3 2 7 9 8 4 10 5\n"
     ]
    },
    {
     "name": "stdout",
     "output_type": "stream",
     "text": [
      "14\n"
     ]
    }
   ],
   "source": [
    "from collections import deque\n",
    "\n",
    "n, m = map(int, input().split())\n",
    "targets = map(int, input().split())\n",
    "\n",
    "q = deque(range(1, n + 1))\n",
    "total_moves = 0\n",
    "\n",
    "for target in targets:\n",
    "    idx = q.index(target)\n",
    "\n",
    "    left_moves = idx\n",
    "    right_moves = len(q) - idx\n",
    "\n",
    "    min_moves = min(left_moves, right_moves)\n",
    "    total_moves += min_moves\n",
    "    \n",
    "    q.rotate(-left_moves)\n",
    "    q.popleft()\n",
    "\n",
    "print(total_moves)\n",
    "        \n",
    "    "
   ]
  },
  {
   "cell_type": "code",
   "execution_count": 35,
   "id": "64416f31-8a49-44dd-8cf7-1d7d90352eb4",
   "metadata": {},
   "outputs": [
    {
     "name": "stdout",
     "output_type": "stream",
     "text": [
      "1\n",
      "2\n"
     ]
    }
   ],
   "source": []
  },
  {
   "cell_type": "code",
   "execution_count": null,
   "id": "77745d60-6041-4ddb-8c7a-d91fc5b5dd68",
   "metadata": {},
   "outputs": [],
   "source": []
  }
 ],
 "metadata": {
  "kernelspec": {
   "display_name": "Python 3 (ipykernel)",
   "language": "python",
   "name": "python3"
  },
  "language_info": {
   "codemirror_mode": {
    "name": "ipython",
    "version": 3
   },
   "file_extension": ".py",
   "mimetype": "text/x-python",
   "name": "python",
   "nbconvert_exporter": "python",
   "pygments_lexer": "ipython3",
   "version": "3.12.2"
  }
 },
 "nbformat": 4,
 "nbformat_minor": 5
}
