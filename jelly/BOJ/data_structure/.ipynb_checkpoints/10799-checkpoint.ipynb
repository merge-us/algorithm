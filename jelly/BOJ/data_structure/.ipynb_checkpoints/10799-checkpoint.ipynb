{
 "cells": [
  {
   "cell_type": "code",
   "execution_count": 3,
   "id": "a48900d2-84cc-4a58-b617-c32d6d286ce9",
   "metadata": {},
   "outputs": [
    {
     "name": "stdin",
     "output_type": "stream",
     "text": [
      " (((()(()()))(())()))(()())\n"
     ]
    },
    {
     "name": "stdout",
     "output_type": "stream",
     "text": [
      "24\n"
     ]
    }
   ],
   "source": [
    "data = input()\n",
    "\n",
    "stack = [\"(\"]\n",
    "count = 0\n",
    "\n",
    "for i in range(1, len(data)):\n",
    "    current = data[i]\n",
    "    last = data[i - 1]\n",
    "    if current == \")\":\n",
    "        if last == \"(\":\n",
    "            stack.pop()\n",
    "            count += len(stack)\n",
    "        else:\n",
    "            stack.pop()\n",
    "            count += 1\n",
    "    else:\n",
    "         stack.append(current)       \n",
    "\n",
    "print(count)"
   ]
  },
  {
   "cell_type": "code",
   "execution_count": 2,
   "id": "b93b08f4-3db1-4100-8917-e8b8b81c49ec",
   "metadata": {},
   "outputs": [
    {
     "ename": "SyntaxError",
     "evalue": "cannot assign to subscript here. Maybe you meant '==' instead of '='? (1376007800.py, line 11)",
     "output_type": "error",
     "traceback": [
      "\u001b[0;36m  Cell \u001b[0;32mIn[2], line 11\u001b[0;36m\u001b[0m\n\u001b[0;31m    if data[i - 1] =- \"(\":\u001b[0m\n\u001b[0m       ^\u001b[0m\n\u001b[0;31mSyntaxError\u001b[0m\u001b[0;31m:\u001b[0m cannot assign to subscript here. Maybe you meant '==' instead of '='?\n"
     ]
    }
   ],
   "source": [
    "data = input()\n",
    "\n",
    "stack = []\n",
    "count = 0\n",
    "\n",
    "for i in range(len(data)):\n",
    "    if data[i] == \"(\":\n",
    "        stack.append(data[i])\n",
    "    else:\n",
    "        stack.pop()\n",
    "        if data[i - 1] =- \"(\":\n",
    "            count += len(stack)\n",
    "        else:\n",
    "            count += 1\n",
    "\n",
    "print(count)"
   ]
  },
  {
   "cell_type": "code",
   "execution_count": null,
   "id": "dd666c77-6966-4eff-bfd6-3e4266cf9466",
   "metadata": {},
   "outputs": [],
   "source": []
  }
 ],
 "metadata": {
  "kernelspec": {
   "display_name": "Python 3 (ipykernel)",
   "language": "python",
   "name": "python3"
  },
  "language_info": {
   "codemirror_mode": {
    "name": "ipython",
    "version": 3
   },
   "file_extension": ".py",
   "mimetype": "text/x-python",
   "name": "python",
   "nbconvert_exporter": "python",
   "pygments_lexer": "ipython3",
   "version": "3.12.2"
  }
 },
 "nbformat": 4,
 "nbformat_minor": 5
}
