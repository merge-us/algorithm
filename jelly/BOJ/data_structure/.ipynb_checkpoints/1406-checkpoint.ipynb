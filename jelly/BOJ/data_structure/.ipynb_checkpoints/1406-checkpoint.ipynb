{
 "cells": [
  {
   "cell_type": "code",
   "execution_count": 9,
   "id": "fb577f2e-5ae9-4c86-bcd2-3353ff76dd61",
   "metadata": {},
   "outputs": [
    {
     "name": "stdin",
     "output_type": "stream",
     "text": [
      " abcd\n",
      " 3\n",
      " P x\n",
      " L\n",
      " P y\n"
     ]
    },
    {
     "name": "stdout",
     "output_type": "stream",
     "text": [
      "abcdyx\n"
     ]
    }
   ],
   "source": [
    "import sys\n",
    "input = sys.stdin.readline\n",
    "\n",
    "data = input().rstrip()\n",
    "length = len(data)\n",
    "cursor = length\n",
    "\n",
    "n = int(input().rstrip())\n",
    "\n",
    "for _ in range(n):\n",
    "    command = input().rstrip().split()\n",
    "    if command[0] == \"L\":\n",
    "        if cursor == 0:\n",
    "            continue\n",
    "        cursor -= 1\n",
    "    elif command[0] == \"D\":\n",
    "        if cursor == length:\n",
    "            continue\n",
    "        cursor += 1\n",
    "    elif command[0] == \"B\":\n",
    "        if cursor == 0:\n",
    "            continue\n",
    "        cursor -= 1\n",
    "        data = data[0:cursor] + data[cursor + 1:length]\n",
    "        length -= 1\n",
    "    elif command[0] == \"P\":\n",
    "        if cursor != 0:\n",
    "            data = data[0:cursor] + command[1] + data[cursor: length]\n",
    "        else:\n",
    "            data = command[1] + data\n",
    "        cursor += 1\n",
    "        length += 1\n",
    "            \n",
    "print(data)"
   ]
  },
  {
   "cell_type": "code",
   "execution_count": 10,
   "id": "a4869adc-fcb2-4959-a063-4afb2bd55341",
   "metadata": {},
   "outputs": [
    {
     "ename": "ValueError",
     "evalue": "invalid literal for int() with base 10: ''",
     "output_type": "error",
     "traceback": [
      "\u001b[0;31m---------------------------------------------------------------------------\u001b[0m",
      "\u001b[0;31mValueError\u001b[0m                                Traceback (most recent call last)",
      "Cell \u001b[0;32mIn[10], line 7\u001b[0m\n\u001b[1;32m      4\u001b[0m data \u001b[38;5;241m=\u001b[39m \u001b[38;5;28minput\u001b[39m()\u001b[38;5;241m.\u001b[39mrstrip()\n\u001b[1;32m      5\u001b[0m cursor_stack \u001b[38;5;241m=\u001b[39m []\n\u001b[0;32m----> 7\u001b[0m n \u001b[38;5;241m=\u001b[39m \u001b[38;5;28;43mint\u001b[39;49m\u001b[43m(\u001b[49m\u001b[38;5;28;43minput\u001b[39;49m\u001b[43m(\u001b[49m\u001b[43m)\u001b[49m\u001b[38;5;241;43m.\u001b[39;49m\u001b[43mrstrip\u001b[49m\u001b[43m(\u001b[49m\u001b[43m)\u001b[49m\u001b[43m)\u001b[49m\n\u001b[1;32m      9\u001b[0m \u001b[38;5;28;01mfor\u001b[39;00m _ \u001b[38;5;129;01min\u001b[39;00m \u001b[38;5;28mrange\u001b[39m(n):\n\u001b[1;32m     10\u001b[0m     command \u001b[38;5;241m=\u001b[39m \u001b[38;5;28minput\u001b[39m()\u001b[38;5;241m.\u001b[39mrstrip()\u001b[38;5;241m.\u001b[39msplit()\n",
      "\u001b[0;31mValueError\u001b[0m: invalid literal for int() with base 10: ''"
     ]
    }
   ],
   "source": [
    "import sys\n",
    "input = sys.stdin.readline\n",
    "\n",
    "data = list(input().rstrip())\n",
    "cursor_stack = []\n",
    "\n",
    "n = int(input().rstrip())\n",
    "\n",
    "for _ in range(n):\n",
    "    command = input().rstrip().split()\n",
    "    if command[0] == \"L\":\n",
    "        if data:\n",
    "            cursor_stack.append(data.pop())\n",
    "    elif command[0] == \"D\":\n",
    "        if cursor_stack:\n",
    "            data.append(cursor_stack.pop())\n",
    "    elif command[0] == \"B\":\n",
    "        if data:\n",
    "            data.pop()\n",
    "    elif command[0] == \"P\":\n",
    "        data.append(command[1])\n",
    "            \n",
    "print(\"\".join(data + cursor_stack[::-1]))"
   ]
  },
  {
   "cell_type": "code",
   "execution_count": null,
   "id": "b56584fd-ec89-4017-bed7-269c5f663b11",
   "metadata": {},
   "outputs": [],
   "source": []
  }
 ],
 "metadata": {
  "kernelspec": {
   "display_name": "Python 3 (ipykernel)",
   "language": "python",
   "name": "python3"
  },
  "language_info": {
   "codemirror_mode": {
    "name": "ipython",
    "version": 3
   },
   "file_extension": ".py",
   "mimetype": "text/x-python",
   "name": "python",
   "nbconvert_exporter": "python",
   "pygments_lexer": "ipython3",
   "version": "3.12.2"
  }
 },
 "nbformat": 4,
 "nbformat_minor": 5
}
