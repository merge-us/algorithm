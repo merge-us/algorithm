{
 "cells": [
  {
   "cell_type": "code",
   "execution_count": 1,
   "id": "c121b933-047b-419f-a929-07e6698cfc21",
   "metadata": {},
   "outputs": [
    {
     "name": "stdin",
     "output_type": "stream",
     "text": [
      " 5 11\n",
      " baekjoononlinejudge\n",
      " startlink\n",
      " codeplus\n",
      " sundaycoding\n",
      " codingsh\n",
      " baekjoon\n",
      " codeplus\n",
      " \n",
      " codeminus\n",
      " startlink\n",
      " starlink\n",
      " sundaycoding\n",
      " codingsh\n",
      " codinghs\n",
      " sondaycoding\n",
      " startrink\n"
     ]
    },
    {
     "name": "stdout",
     "output_type": "stream",
     "text": [
      "4\n"
     ]
    }
   ],
   "source": [
    "import sys\n",
    "input = sys.stdin.readline\n",
    "\n",
    "n, m = map(int, input().rstrip().split())\n",
    "data = set()\n",
    "\n",
    "for _ in range(n):\n",
    "    data.add(input().rstrip())\n",
    "\n",
    "result = 0\n",
    "for _ in range(m):\n",
    "    if input().rstrip() in data:\n",
    "        result += 1\n",
    "\n",
    "print(result)"
   ]
  },
  {
   "cell_type": "code",
   "execution_count": null,
   "id": "795d51e0-cbb6-488a-9c0a-6aabdfde97c3",
   "metadata": {},
   "outputs": [],
   "source": []
  }
 ],
 "metadata": {
  "kernelspec": {
   "display_name": "Python 3 (ipykernel)",
   "language": "python",
   "name": "python3"
  },
  "language_info": {
   "codemirror_mode": {
    "name": "ipython",
    "version": 3
   },
   "file_extension": ".py",
   "mimetype": "text/x-python",
   "name": "python",
   "nbconvert_exporter": "python",
   "pygments_lexer": "ipython3",
   "version": "3.12.2"
  }
 },
 "nbformat": 4,
 "nbformat_minor": 5
}
