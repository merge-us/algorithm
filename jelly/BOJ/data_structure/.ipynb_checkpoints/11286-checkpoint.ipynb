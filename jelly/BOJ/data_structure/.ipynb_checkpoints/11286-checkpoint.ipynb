{
 "cells": [
  {
   "cell_type": "code",
   "execution_count": 6,
   "id": "43982ba3-57c2-4b09-9a2d-ad7090b6df8f",
   "metadata": {},
   "outputs": [
    {
     "name": "stdin",
     "output_type": "stream",
     "text": [
      " 5\n",
      " 1\n",
      " -1\n",
      " 0\n",
      " 0\n",
      " 2\n"
     ]
    },
    {
     "name": "stdout",
     "output_type": "stream",
     "text": [
      "-1\n",
      "1\n"
     ]
    }
   ],
   "source": [
    "import sys\n",
    "import heapq\n",
    "\n",
    "input = sys.stdin.readline\n",
    "\n",
    "heap = []\n",
    "output = []\n",
    "\n",
    "n = int(input().rstrip())\n",
    "for _ in range(n):\n",
    "    x = int(input().rstrip())\n",
    "    if x == 0:\n",
    "        if not heap:\n",
    "            output.append(\"0\")\n",
    "        else:\n",
    "            output.append(str(heapq.heappop(heap)[1]))\n",
    "    else:\n",
    "        heapq.heappush(heap, (abs(x), x))\n",
    "\n",
    "print(\"\\n\".join(output))"
   ]
  },
  {
   "cell_type": "code",
   "execution_count": null,
   "id": "446ba4c9-54c1-47d9-9a7e-0f7c4540e674",
   "metadata": {},
   "outputs": [],
   "source": [
    "import sys\n",
    "import heapq\n",
    "\n",
    "input = sys.stdin.readline\n",
    "\n",
    "heap = []\n",
    "output = []\n",
    "\n",
    "n = int(input().rstrip())\n",
    "for _ in range(n):\n",
    "    x = int(input().rstrip())\n",
    "    if x == 0:\n",
    "        output.append(str(heapq.heappop(heap)[1]) if heap else \"0\")\n",
    "    else:\n",
    "        heapq.heappush(heap, (abs(x), x))\n",
    "\n",
    "print(\"\\n\".join(output))"
   ]
  }
 ],
 "metadata": {
  "kernelspec": {
   "display_name": "Python 3 (ipykernel)",
   "language": "python",
   "name": "python3"
  },
  "language_info": {
   "codemirror_mode": {
    "name": "ipython",
    "version": 3
   },
   "file_extension": ".py",
   "mimetype": "text/x-python",
   "name": "python",
   "nbconvert_exporter": "python",
   "pygments_lexer": "ipython3",
   "version": "3.12.2"
  }
 },
 "nbformat": 4,
 "nbformat_minor": 5
}
