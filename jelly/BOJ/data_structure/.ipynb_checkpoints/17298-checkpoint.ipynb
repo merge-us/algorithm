{
 "cells": [
  {
   "cell_type": "code",
   "execution_count": 41,
   "id": "a4c7d4bd-89fe-480d-9771-c61c5b9f4b27",
   "metadata": {},
   "outputs": [
    {
     "name": "stdin",
     "output_type": "stream",
     "text": [
      " 4\n",
      " 9 5 4 8\n"
     ]
    },
    {
     "name": "stdout",
     "output_type": "stream",
     "text": [
      "-1 8 8 -1\n"
     ]
    }
   ],
   "source": [
    "n = int(input())\n",
    "seq = list(map(int, input().split()))\n",
    "result = [-1] * n\n",
    "\n",
    "for i in range(n - 2, -1, -1):\n",
    "    if seq[i] <  seq[i + 1]:\n",
    "        result[n - i - 1] = seq[i + 1]\n",
    "        continue\n",
    "\n",
    "    for j in range(n - i - 2, -1, -1):\n",
    "        if seq[i] < result[j]:\n",
    "            result[n - i - 1] = result[j]\n",
    "            break\n",
    "        else:\n",
    "            if result[j] == -1:\n",
    "                result[n - i - 1] = -1\n",
    "                break\n",
    "\n",
    "print(\" \".join(map(str, reversed(result))))"
   ]
  },
  {
   "cell_type": "code",
   "execution_count": 44,
   "id": "d140b6ef-35b6-4e7b-b9ac-b6c4bd02b18f",
   "metadata": {},
   "outputs": [
    {
     "name": "stdin",
     "output_type": "stream",
     "text": [
      " 4\n",
      " 3 5 2 7\n"
     ]
    },
    {
     "name": "stdout",
     "output_type": "stream",
     "text": [
      "5 7 7 -1\n"
     ]
    }
   ],
   "source": [
    "n = int(input())\n",
    "seq = list(map(int, input().split()))\n",
    "\n",
    "result = [-1] * n\n",
    "stack = []\n",
    "\n",
    "for i in range(n):\n",
    "    while stack and seq[stack[-1]] < seq[i]:\n",
    "        idx = stack.pop()\n",
    "        result[idx] = seq[i]\n",
    "\n",
    "    stack.append(i)\n",
    "\n",
    "print(\" \".join(map(str, result)))"
   ]
  },
  {
   "cell_type": "code",
   "execution_count": null,
   "id": "23feff4a-04c3-49a7-b99e-5dc2d6af817e",
   "metadata": {},
   "outputs": [],
   "source": []
  }
 ],
 "metadata": {
  "kernelspec": {
   "display_name": "Python 3 (ipykernel)",
   "language": "python",
   "name": "python3"
  },
  "language_info": {
   "codemirror_mode": {
    "name": "ipython",
    "version": 3
   },
   "file_extension": ".py",
   "mimetype": "text/x-python",
   "name": "python",
   "nbconvert_exporter": "python",
   "pygments_lexer": "ipython3",
   "version": "3.12.2"
  }
 },
 "nbformat": 4,
 "nbformat_minor": 5
}
