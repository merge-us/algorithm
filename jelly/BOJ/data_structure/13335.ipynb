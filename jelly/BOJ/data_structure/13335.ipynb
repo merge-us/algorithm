{
 "cells": [
  {
   "cell_type": "code",
   "execution_count": 20,
   "id": "30629541-03b8-4570-b876-6e81049ba137",
   "metadata": {},
   "outputs": [
    {
     "name": "stdin",
     "output_type": "stream",
     "text": [
      " 10 100 100\n",
      " 10 10 10 10 10 10 10 10 10 10\n"
     ]
    },
    {
     "name": "stdout",
     "output_type": "stream",
     "text": [
      "110\n"
     ]
    }
   ],
   "source": [
    "from collections import deque\n",
    "\n",
    "n, w, l = map(int, input().split())\n",
    "\n",
    "bridge = deque([0]* w)\n",
    "\n",
    "trucks = deque(map(int, input().split()))\n",
    "\n",
    "time = 0\n",
    "count = 0 \n",
    "\n",
    "while True:\n",
    "    if not trucks and sum(bridge) == 0:\n",
    "        break\n",
    "        \n",
    "    time += 1\n",
    "    bridge[0] = 0\n",
    "    if count > 0:\n",
    "        count -= 1\n",
    "    bridge.rotate(-1)\n",
    "\n",
    "    if trucks and count <= w and sum(bridge) + trucks[0] <= l:\n",
    "        bridge[-1] = trucks.popleft()\n",
    "        count += 1\n",
    "    \n",
    "print(time)"
   ]
  },
  {
   "cell_type": "code",
   "execution_count": 1,
   "id": "028e3617-c17c-4c62-a1d6-7de47175f603",
   "metadata": {},
   "outputs": [
    {
     "name": "stdin",
     "output_type": "stream",
     "text": [
      " 10 100 100\n",
      "  10 10 10 10 10 10 10 10 10 10\n"
     ]
    },
    {
     "name": "stdout",
     "output_type": "stream",
     "text": [
      "110\n"
     ]
    }
   ],
   "source": [
    "from collections import deque\n",
    "\n",
    "n, w, l = map(int, input().split())\n",
    "trucks = deque(map(int, input().split()))\n",
    "\n",
    "bridge = deque([0]* w)\n",
    "\n",
    "time = 0\n",
    "current_weight = 0\n",
    "\n",
    "while trucks or current_weight > 0:\n",
    "    time += 1\n",
    "\n",
    "    outgoing_truck = bridge.popleft()\n",
    "    current_weight -= outgoing_truck\n",
    "    \n",
    "    if trucks and current_weight + trucks[0] <= l:\n",
    "        incoming_truck = trucks.popleft()\n",
    "        bridge.append(incoming_truck)\n",
    "        current_weight += incoming_truck\n",
    "    else:\n",
    "        bridge.append(0)\n",
    "        \n",
    "print(time)\n"
   ]
  },
  {
   "cell_type": "code",
   "execution_count": null,
   "id": "362a14f6-2b61-4be2-b598-a7d46d6c0917",
   "metadata": {},
   "outputs": [],
   "source": []
  }
 ],
 "metadata": {
  "kernelspec": {
   "display_name": "Python 3 (ipykernel)",
   "language": "python",
   "name": "python3"
  },
  "language_info": {
   "codemirror_mode": {
    "name": "ipython",
    "version": 3
   },
   "file_extension": ".py",
   "mimetype": "text/x-python",
   "name": "python",
   "nbconvert_exporter": "python",
   "pygments_lexer": "ipython3",
   "version": "3.12.2"
  }
 },
 "nbformat": 4,
 "nbformat_minor": 5
}
