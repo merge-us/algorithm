{
 "cells": [
  {
   "cell_type": "code",
   "execution_count": 21,
   "id": "8db781e4-9aa4-49ba-9a2f-02fb0560019c",
   "metadata": {},
   "outputs": [
    {
     "ename": "ValueError",
     "evalue": "invalid literal for int() with base 10: ''",
     "output_type": "error",
     "traceback": [
      "\u001b[0;31m---------------------------------------------------------------------------\u001b[0m",
      "\u001b[0;31mValueError\u001b[0m                                Traceback (most recent call last)",
      "Cell \u001b[0;32mIn[21], line 6\u001b[0m\n\u001b[1;32m      2\u001b[0m \u001b[38;5;28;01mfrom\u001b[39;00m\u001b[38;5;250m \u001b[39m\u001b[38;5;21;01mcollections\u001b[39;00m\u001b[38;5;250m \u001b[39m\u001b[38;5;28;01mimport\u001b[39;00m deque\n\u001b[1;32m      4\u001b[0m \u001b[38;5;28minput\u001b[39m \u001b[38;5;241m=\u001b[39m sys\u001b[38;5;241m.\u001b[39mstdin\u001b[38;5;241m.\u001b[39mreadline\n\u001b[0;32m----> 6\u001b[0m t \u001b[38;5;241m=\u001b[39m \u001b[38;5;28;43mint\u001b[39;49m\u001b[43m(\u001b[49m\u001b[38;5;28;43minput\u001b[39;49m\u001b[43m(\u001b[49m\u001b[43m)\u001b[49m\u001b[38;5;241;43m.\u001b[39;49m\u001b[43mrstrip\u001b[49m\u001b[43m(\u001b[49m\u001b[43m)\u001b[49m\u001b[43m)\u001b[49m\n\u001b[1;32m      8\u001b[0m \u001b[38;5;28;01mfor\u001b[39;00m _ \u001b[38;5;129;01min\u001b[39;00m \u001b[38;5;28mrange\u001b[39m(t):\n\u001b[1;32m      9\u001b[0m     q \u001b[38;5;241m=\u001b[39m deque()\n",
      "\u001b[0;31mValueError\u001b[0m: invalid literal for int() with base 10: ''"
     ]
    }
   ],
   "source": [
    "import sys\n",
    "from collections import deque\n",
    "\n",
    "input = sys.stdin.readline\n",
    "\n",
    "t = int(input().rstrip())\n",
    "\n",
    "for _ in range(t):\n",
    "    q = deque()\n",
    "    p = input().rstrip()\n",
    "    n = int(input().rstrip())\n",
    "    for i in input().rstrip()[1: -1].split(\",\"):\n",
    "        if not i:\n",
    "            break\n",
    "        q.append(i)\n",
    "    for c in p:\n",
    "        is_reversed = False\n",
    "        if c == \"R\":\n",
    "            is_reversed = !is_reversed\n",
    "        else:\n",
    "            if not q:\n",
    "                print(\"error\")\n",
    "                break\n",
    "            else:\n",
    "                if not is_reversed:\n",
    "                    q.popleft()\n",
    "                else:\n",
    "                    q.pop()\n",
    "                \n",
    "    if q:\n",
    "        print(\"[\" + \",\".join(q) +\"]\" )\n"
   ]
  },
  {
   "cell_type": "code",
   "execution_count": 13,
   "id": "b6454370-40f7-40fe-af88-29a73863af23",
   "metadata": {},
   "outputs": [
    {
     "name": "stdin",
     "output_type": "stream",
     "text": [
      " [1,1,2,3,5,8]\n"
     ]
    },
    {
     "name": "stdout",
     "output_type": "stream",
     "text": [
      "['1', '1', '2', '3', '5', '8']\n",
      "1\n",
      "1\n",
      "2\n",
      "3\n",
      "5\n",
      "8\n"
     ]
    }
   ],
   "source": [
    "data = input()[1: -1].split(\",\")\n",
    "print(data)\n",
    "for x in data:\n",
    "    print(x)"
   ]
  },
  {
   "cell_type": "code",
   "execution_count": 6,
   "id": "daa30fc5-c26d-4bc3-8982-e9c68814b993",
   "metadata": {},
   "outputs": [
    {
     "name": "stdin",
     "output_type": "stream",
     "text": [
      " 1\n",
      " DD\n",
      " 0\n",
      " []\n"
     ]
    },
    {
     "name": "stdout",
     "output_type": "stream",
     "text": [
      "error\n"
     ]
    }
   ],
   "source": [
    "from collections import deque\n",
    "\n",
    "\n",
    "t = int(input())\n",
    "\n",
    "for _ in range(t):\n",
    "    p = input()\n",
    "    n = int(input())\n",
    "    arr = input()[1:-1]\n",
    "    q = deque(arr.split(\",\")) if arr else deque()\n",
    "\n",
    "    is_reversed = False\n",
    "    for c in p:\n",
    "        if c == \"R\":\n",
    "            is_reversed = not is_reversed\n",
    "        else:\n",
    "            if not q:\n",
    "                print(\"error\")\n",
    "                break\n",
    "            else:\n",
    "                if is_reversed == False:\n",
    "                    q.popleft()\n",
    "                else:\n",
    "                    q.pop()\n",
    "                \n",
    "    if q:\n",
    "        print(\"[\" + \",\".join(q if not is_reversed else reversed(q)) +\"]\" )"
   ]
  },
  {
   "cell_type": "code",
   "execution_count": null,
   "id": "414e688a-d80b-4c11-beb8-f5ccc8229d41",
   "metadata": {},
   "outputs": [],
   "source": []
  }
 ],
 "metadata": {
  "kernelspec": {
   "display_name": "Python 3 (ipykernel)",
   "language": "python",
   "name": "python3"
  },
  "language_info": {
   "codemirror_mode": {
    "name": "ipython",
    "version": 3
   },
   "file_extension": ".py",
   "mimetype": "text/x-python",
   "name": "python",
   "nbconvert_exporter": "python",
   "pygments_lexer": "ipython3",
   "version": "3.12.2"
  }
 },
 "nbformat": 4,
 "nbformat_minor": 5
}
