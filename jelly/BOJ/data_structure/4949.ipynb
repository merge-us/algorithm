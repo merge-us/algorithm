{
 "cells": [
  {
   "cell_type": "code",
   "execution_count": 4,
   "id": "e4424389-cb30-4718-9967-96597d192da9",
   "metadata": {},
   "outputs": [
    {
     "name": "stdin",
     "output_type": "stream",
     "text": [
      " So when I die (the [first] I will see in (heaven) is a score list).\n"
     ]
    },
    {
     "name": "stdout",
     "output_type": "stream",
     "text": [
      "yes\n"
     ]
    },
    {
     "name": "stdin",
     "output_type": "stream",
     "text": [
      " [ first in ] ( first out ).\n"
     ]
    },
    {
     "name": "stdout",
     "output_type": "stream",
     "text": [
      "yes\n"
     ]
    },
    {
     "name": "stdin",
     "output_type": "stream",
     "text": [
      " Half Moon tonight (At least it is better than no Moon at all].\n"
     ]
    },
    {
     "name": "stdout",
     "output_type": "stream",
     "text": [
      "no\n"
     ]
    },
    {
     "name": "stdin",
     "output_type": "stream",
     "text": [
      " A rope may form )( a trail in a maze.\n"
     ]
    },
    {
     "name": "stdout",
     "output_type": "stream",
     "text": [
      "no\n"
     ]
    },
    {
     "name": "stdin",
     "output_type": "stream",
     "text": [
      " Help( I[m being held prisoner in a fortune cookie factory)].\n"
     ]
    },
    {
     "name": "stdout",
     "output_type": "stream",
     "text": [
      "no\n"
     ]
    },
    {
     "name": "stdin",
     "output_type": "stream",
     "text": [
      " ([ (([( [ ] ) ( ) (( ))] )) ]).\n"
     ]
    },
    {
     "name": "stdout",
     "output_type": "stream",
     "text": [
      "yes\n"
     ]
    },
    {
     "name": "stdin",
     "output_type": "stream",
     "text": [
      "  .\n"
     ]
    },
    {
     "name": "stdout",
     "output_type": "stream",
     "text": [
      "yes\n"
     ]
    },
    {
     "name": "stdin",
     "output_type": "stream",
     "text": [
      " .\n"
     ]
    }
   ],
   "source": [
    "import sys\n",
    "\n",
    "input = sys.stdin.readline\n",
    "\n",
    "while True:\n",
    "    stk = []\n",
    "\n",
    "    sentence = input().rstrip()\n",
    "    if sentence == \".\":\n",
    "        break\n",
    "\n",
    "    check = True\n",
    "    for char in sentence:\n",
    "        if char == \"(\" or char == \"[\":\n",
    "            stk.append(char)\n",
    "            continue\n",
    "        elif char == \")\":\n",
    "            if len(stk) < 1 or stk.pop() != \"(\":\n",
    "                check = False\n",
    "                break #fail\n",
    "        elif char == \"]\":\n",
    "            if len(stk) < 1 or stk.pop() != \"[\":\n",
    "                check = False\n",
    "                break #fail\n",
    "\n",
    "    if len(stk) > 0:\n",
    "        print('no')\n",
    "        continue\n",
    "\n",
    "    print('yes' if check else 'no')\n"
   ]
  },
  {
   "cell_type": "code",
   "execution_count": null,
   "id": "db886aa9-9b86-498f-882b-60cd0ca5b5de",
   "metadata": {},
   "outputs": [],
   "source": [
    "import sys\n",
    "\n",
    "input = sys.stdin.readline\n",
    "\n",
    "while True:\n",
    "    sentence = input().rstrip()\n",
    "    if sentence == \".\":\n",
    "        break\n",
    "        \n",
    "    stk = []\n",
    "    check = True\n",
    "    \n",
    "    for char in sentence:\n",
    "        if char in \"([\":\n",
    "            stk.append(char)\n",
    "        elif char == \")\":\n",
    "            if not stk or stk.pop() != \"(\":\n",
    "                check = False\n",
    "                break #fail\n",
    "        elif char == \"]\":\n",
    "            if not stk or stk.pop() != \"[\":\n",
    "                check = False\n",
    "                break #fail\n",
    "\n",
    "    print('no' if stk else 'yes' if check else 'no')\n"
   ]
  }
 ],
 "metadata": {
  "kernelspec": {
   "display_name": "Python 3 (ipykernel)",
   "language": "python",
   "name": "python3"
  },
  "language_info": {
   "codemirror_mode": {
    "name": "ipython",
    "version": 3
   },
   "file_extension": ".py",
   "mimetype": "text/x-python",
   "name": "python",
   "nbconvert_exporter": "python",
   "pygments_lexer": "ipython3",
   "version": "3.12.2"
  }
 },
 "nbformat": 4,
 "nbformat_minor": 5
}
