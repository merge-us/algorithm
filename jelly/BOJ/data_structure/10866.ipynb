{
 "cells": [
  {
   "cell_type": "code",
   "execution_count": null,
   "id": "b9d04370-7ae4-4a69-bf63-0c1be0a92b74",
   "metadata": {},
   "outputs": [
    {
     "name": "stdin",
     "output_type": "stream",
     "text": [
      " 13\n",
      " front 12\n"
     ]
    },
    {
     "name": "stdout",
     "output_type": "stream",
     "text": [
      "-1\n"
     ]
    },
    {
     "name": "stdin",
     "output_type": "stream",
     "text": [
      " push_front 12\n",
      " pop_back\n"
     ]
    },
    {
     "name": "stdout",
     "output_type": "stream",
     "text": [
      "12\n"
     ]
    }
   ],
   "source": [
    "import sys\n",
    "from collections import deque\n",
    "\n",
    "input = sys.stdin.readline\n",
    "\n",
    "deq = deque()\n",
    "\n",
    "n = int(input().rstrip())\n",
    "\n",
    "for _ in range(n):\n",
    "    cmd = input().rstrip().split()\n",
    "    if cmd[0] == \"push_front\":\n",
    "        deq.appendleft(int(cmd[1]))\n",
    "    elif cmd[0] == \"push_back\":\n",
    "        deq.append(int(cmd[1]))\n",
    "    elif cmd[0] == \"pop_front\":\n",
    "        print(-1 if len(deq) == 0 else deq.popleft())\n",
    "    elif cmd[0] == \"pop_back\":\n",
    "        print(-1 if len(deq) == 0 else deq.pop())    \n",
    "    elif cmd[0] == \"size\":\n",
    "        print(len(deq))\n",
    "    elif cmd[0] == \"empty\":\n",
    "        print(1 if len(deq) == 0 else 0)\n",
    "    elif cmd[0] == \"front\":\n",
    "        print(-1 if len(deq) == 0 else deq[0])\n",
    "    elif cmd[0] == \"back\":\n",
    "        print(-1 if len(deq) == 0 else deq[-1])"
   ]
  },
  {
   "cell_type": "code",
   "execution_count": null,
   "id": "5e175a54-995a-4f72-822b-e6e5afadfd15",
   "metadata": {},
   "outputs": [],
   "source": []
  }
 ],
 "metadata": {
  "kernelspec": {
   "display_name": "Python 3 (ipykernel)",
   "language": "python",
   "name": "python3"
  },
  "language_info": {
   "codemirror_mode": {
    "name": "ipython",
    "version": 3
   },
   "file_extension": ".py",
   "mimetype": "text/x-python",
   "name": "python",
   "nbconvert_exporter": "python",
   "pygments_lexer": "ipython3",
   "version": "3.12.2"
  }
 },
 "nbformat": 4,
 "nbformat_minor": 5
}
