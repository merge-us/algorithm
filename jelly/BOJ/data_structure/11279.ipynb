{
 "cells": [
  {
   "cell_type": "code",
   "execution_count": null,
   "id": "6d09efa5-0322-4e07-8e39-e0b778b5d07a",
   "metadata": {},
   "outputs": [],
   "source": []
  }
 ],
 "metadata": {
  "kernelspec": {
   "display_name": "",
   "name": ""
  },
  "language_info": {
   "name": ""
  }
 },
 "nbformat": 4,
 "nbformat_minor": 5
}
