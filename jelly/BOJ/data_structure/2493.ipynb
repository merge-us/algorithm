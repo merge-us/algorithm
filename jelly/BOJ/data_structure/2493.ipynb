{
 "cells": [
  {
   "cell_type": "code",
   "execution_count": 6,
   "id": "f056c286-7663-4483-8ff1-356369efad71",
   "metadata": {},
   "outputs": [
    {
     "name": "stdin",
     "output_type": "stream",
     "text": [
      " 5\n",
      " 6 9 5 7 4\n"
     ]
    },
    {
     "name": "stdout",
     "output_type": "stream",
     "text": [
      "0 0 2 2 4\n"
     ]
    }
   ],
   "source": [
    "n = int(input())\n",
    "heights = list(map(int, input().split()))\n",
    "\n",
    "idx = n - 1\n",
    "stack = []\n",
    "\n",
    "result = [0] * n\n",
    "\n",
    "while idx > 0:\n",
    "    if heights[idx] < heights[idx - 1]:\n",
    "        result[idx] = idx #(idx - 1) + 1\n",
    "\n",
    "        while stack and heights[stack[-1]] < heights[idx - 1]:\n",
    "            result[stack[-1]] = idx #(idx - 1) + 1\n",
    "            stack.pop()\n",
    "    else:\n",
    "        stack.append(idx)\n",
    "    idx -= 1\n",
    "\n",
    "print(\" \".join(map(str, result)))"
   ]
  },
  {
   "cell_type": "code",
   "execution_count": 8,
   "id": "85f50f67-ba98-4a0f-abd1-6bce59828c58",
   "metadata": {},
   "outputs": [
    {
     "name": "stdin",
     "output_type": "stream",
     "text": [
      " 5\n",
      " 6 9 5 7 4\n"
     ]
    },
    {
     "name": "stdout",
     "output_type": "stream",
     "text": [
      "0 0 1 1 3\n"
     ]
    }
   ],
   "source": [
    "n = int(input())\n",
    "heights = list(map(int, input().split()))\n",
    "\n",
    "idx = n - 1\n",
    "stack = []\n",
    "\n",
    "result = [0] * n\n",
    "\n",
    "for i in range(n - 1, -1, -1):\n",
    "    while stack and heights[stack[-1]] < heights[i]:\n",
    "        result[stack.pop()] = i + 1\n",
    "\n",
    "    stack.append(i)\n",
    "\n",
    "print(\" \".join(map(str, result)))"
   ]
  },
  {
   "cell_type": "code",
   "execution_count": null,
   "id": "c38e105c-e65f-4a86-b01d-3ebc65c3ceaf",
   "metadata": {},
   "outputs": [],
   "source": []
  }
 ],
 "metadata": {
  "kernelspec": {
   "display_name": "Python 3 (ipykernel)",
   "language": "python",
   "name": "python3"
  },
  "language_info": {
   "codemirror_mode": {
    "name": "ipython",
    "version": 3
   },
   "file_extension": ".py",
   "mimetype": "text/x-python",
   "name": "python",
   "nbconvert_exporter": "python",
   "pygments_lexer": "ipython3",
   "version": "3.12.2"
  }
 },
 "nbformat": 4,
 "nbformat_minor": 5
}
