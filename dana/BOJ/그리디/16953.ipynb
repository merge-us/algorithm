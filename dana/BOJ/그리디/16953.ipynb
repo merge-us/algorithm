{
 "cells": [
  {
   "cell_type": "code",
   "execution_count": 27,
   "id": "8447569d-2cfa-4a0c-b04b-036700250976",
   "metadata": {},
   "outputs": [
    {
     "name": "stdin",
     "output_type": "stream",
     "text": [
      " 100 40021\n"
     ]
    },
    {
     "name": "stdout",
     "output_type": "stream",
     "text": [
      "5\n"
     ]
    }
   ],
   "source": [
    "#dfs\n",
    "\n",
    "a,b = map(int,input().split())\n",
    "found = False\n",
    "\n",
    "def findValue(current, depth):\n",
    "\n",
    "    global found\n",
    "    \n",
    "    if found:\n",
    "        return\n",
    "\n",
    "    if current==b:\n",
    "        print(depth)\n",
    "        found = True\n",
    "        return\n",
    "\n",
    "    elif current>b:\n",
    "        return\n",
    "        \n",
    "    findValue(current*2, depth+1)\n",
    "    findValue(current*10+1,depth+1)\n",
    "\n",
    "findValue(a,1)\n",
    "\n",
    "if not found:\n",
    "    print(-1)"
   ]
  },
  {
   "cell_type": "code",
   "execution_count": null,
   "id": "c6c5d5d2-be6e-41f4-8eb5-6e600709bef8",
   "metadata": {},
   "outputs": [],
   "source": [
    "#bfs\n",
    "\n",
    "from collections import deque\n",
    "\n",
    "a,b = map(int,input().split())\n",
    "\n",
    "def bfs(start):\n",
    "    queue = deque()\n",
    "    queue.append((start,1)) #현재 숫자, 연산 횟수\n",
    "\n",
    "    while queue:\n",
    "        current, depth = queue.popleft() #가장 앞의 요소 꺼냄\n",
    "\n",
    "        if current == b: #목표 숫자에 도달하면 연산 횟수 출력\n",
    "            print(depth)\n",
    "            return\n",
    "\n",
    "        if current*2 <=b:\n",
    "            queue.append((current *2, depth+1))\n",
    "        if current*10+1<=b:\n",
    "            queue.append((current*10+1, depth+1))\n",
    "\n",
    "    print(-1)\n",
    "bfs(a)"
   ]
  }
 ],
 "metadata": {
  "kernelspec": {
   "display_name": "Python 3 (ipykernel)",
   "language": "python",
   "name": "python3"
  },
  "language_info": {
   "codemirror_mode": {
    "name": "ipython",
    "version": 3
   },
   "file_extension": ".py",
   "mimetype": "text/x-python",
   "name": "python",
   "nbconvert_exporter": "python",
   "pygments_lexer": "ipython3",
   "version": "3.13.3"
  }
 },
 "nbformat": 4,
 "nbformat_minor": 5
}
