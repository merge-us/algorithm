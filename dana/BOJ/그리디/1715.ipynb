{
 "cells": [
  {
   "cell_type": "code",
   "execution_count": 8,
   "id": "b3c5c63f-bb6e-4491-8afb-8b1d7ae853be",
   "metadata": {},
   "outputs": [
    {
     "name": "stdin",
     "output_type": "stream",
     "text": [
      " 3\n",
      " 10\n",
      " 20\n",
      " 40\n"
     ]
    },
    {
     "name": "stdout",
     "output_type": "stream",
     "text": [
      "100\n"
     ]
    }
   ],
   "source": [
    "# 힙: 이진트리 우선순위 큐\n",
    "\n",
    "import heapq\n",
    "\n",
    "n = int(input())\n",
    "sizes = [int(input()) for _ in range(n)]\n",
    "heapq.heapify(sizes) #힙으로 변환\n",
    "\n",
    "sum = 0\n",
    "\n",
    "while len(sizes)>1:\n",
    "    x = heapq.heappop(sizes) #가작은값 꺼내기 \n",
    "    y = heapq.heappop(sizes)\n",
    "    cost = x+y\n",
    "    sum+=cost\n",
    "    heapq.heappush(sizes,cost) #새 값 넣기\n",
    "    \n",
    "print(sum)"
   ]
  },
  {
   "cell_type": "code",
   "execution_count": null,
   "id": "d524b84d-40b0-4cde-9af3-8727b35d79b8",
   "metadata": {},
   "outputs": [],
   "source": []
  }
 ],
 "metadata": {
  "kernelspec": {
   "display_name": "Python 3 (ipykernel)",
   "language": "python",
   "name": "python3"
  },
  "language_info": {
   "codemirror_mode": {
    "name": "ipython",
    "version": 3
   },
   "file_extension": ".py",
   "mimetype": "text/x-python",
   "name": "python",
   "nbconvert_exporter": "python",
   "pygments_lexer": "ipython3",
   "version": "3.13.3"
  }
 },
 "nbformat": 4,
 "nbformat_minor": 5
}
