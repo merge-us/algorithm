{
 "cells": [
  {
   "cell_type": "code",
   "execution_count": 15,
   "id": "7c3ab511-7f67-44f9-b98b-a7fc04a22c9d",
   "metadata": {},
   "outputs": [
    {
     "name": "stdin",
     "output_type": "stream",
     "text": [
      " 11101101\n"
     ]
    },
    {
     "name": "stdout",
     "output_type": "stream",
     "text": [
      "2\n"
     ]
    }
   ],
   "source": [
    "from collections import deque\n",
    "\n",
    "S = input()\n",
    "queue = deque(S)\n",
    "start = queue.popleft()\n",
    "count0, count1 =0,0\n",
    "\n",
    "if start==\"0\":\n",
    "    count0=1\n",
    "else:\n",
    "    count1=1\n",
    "\n",
    "while queue:\n",
    "    next = queue.popleft()\n",
    "    if next != start:\n",
    "        if next==\"0\":\n",
    "            count0+=1\n",
    "        else:\n",
    "            count1+=1\n",
    "    start=next\n",
    "print(min(count0,count1))"
   ]
  },
  {
   "cell_type": "code",
   "execution_count": null,
   "id": "652033e5-ec45-4a17-810d-cebc55844298",
   "metadata": {},
   "outputs": [],
   "source": [
    "S = input()\n",
    "groups = [S[0]] #첫글자만 넣어둠 \n",
    "\n",
    "for c in S[1:]: #두 번째 문자부터 끝까지 순회\n",
    "    if c!=groups[-1]:\n",
    "        groups.append(c)\n",
    "print(min(groups.count('0'), groups.count('1')))"
   ]
  }
 ],
 "metadata": {
  "kernelspec": {
   "display_name": "Python 3 (ipykernel)",
   "language": "python",
   "name": "python3"
  },
  "language_info": {
   "codemirror_mode": {
    "name": "ipython",
    "version": 3
   },
   "file_extension": ".py",
   "mimetype": "text/x-python",
   "name": "python",
   "nbconvert_exporter": "python",
   "pygments_lexer": "ipython3",
   "version": "3.13.3"
  }
 },
 "nbformat": 4,
 "nbformat_minor": 5
}
