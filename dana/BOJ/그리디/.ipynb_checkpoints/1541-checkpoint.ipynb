{
 "cells": [
  {
   "cell_type": "code",
   "execution_count": 12,
   "id": "ea9188f0-268d-4982-9c94-afa06d81b385",
   "metadata": {},
   "outputs": [
    {
     "name": "stdin",
     "output_type": "stream",
     "text": [
      " 00009-00009\n"
     ]
    },
    {
     "name": "stdout",
     "output_type": "stream",
     "text": [
      "['00009', '00009']\n",
      "0\n"
     ]
    }
   ],
   "source": [
    "#첫번째 - 가 나오면 그 뒤로 괄호 묶기\n",
    "operation = input()\n",
    "parts = operation.split('-')\n",
    "\n",
    "total = sum(map(int,parts[0].split('+')))\n",
    "for part in parts[1:]:\n",
    "    total-=sum(map(int,part.split('+')))\n",
    "print(total)"
   ]
  },
  {
   "cell_type": "code",
   "execution_count": null,
   "id": "c72bc0a3-d20a-48f4-bfce-03dd9ca8b4e8",
   "metadata": {},
   "outputs": [],
   "source": []
  }
 ],
 "metadata": {
  "kernelspec": {
   "display_name": "Python 3 (ipykernel)",
   "language": "python",
   "name": "python3"
  },
  "language_info": {
   "codemirror_mode": {
    "name": "ipython",
    "version": 3
   },
   "file_extension": ".py",
   "mimetype": "text/x-python",
   "name": "python",
   "nbconvert_exporter": "python",
   "pygments_lexer": "ipython3",
   "version": "3.13.1"
  }
 },
 "nbformat": 4,
 "nbformat_minor": 5
}
