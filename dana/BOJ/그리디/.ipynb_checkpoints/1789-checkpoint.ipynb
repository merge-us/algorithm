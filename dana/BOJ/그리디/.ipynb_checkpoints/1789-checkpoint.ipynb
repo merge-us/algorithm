{
 "cells": [
  {
   "cell_type": "code",
   "execution_count": 10,
   "id": "dafcd626-6ce8-404f-a215-0d37f8aa87c0",
   "metadata": {},
   "outputs": [
    {
     "name": "stdin",
     "output_type": "stream",
     "text": [
      " 200\n"
     ]
    },
    {
     "name": "stdout",
     "output_type": "stream",
     "text": [
      "19\n"
     ]
    }
   ],
   "source": [
    "s = int(input())\n",
    "n = 0\n",
    "\n",
    "while n*(n+1)<= 2*s:\n",
    "    n+=1\n",
    "    if n*(n+1)> 2*s:\n",
    "        n-=1\n",
    "        break\n",
    "    \n",
    "print(n)"
   ]
  },
  {
   "cell_type": "code",
   "execution_count": 11,
   "id": "6934e142-5eb0-4133-ae22-36a150945cec",
   "metadata": {},
   "outputs": [
    {
     "name": "stdin",
     "output_type": "stream",
     "text": [
      " 200\n"
     ]
    },
    {
     "name": "stdout",
     "output_type": "stream",
     "text": [
      "19\n"
     ]
    }
   ],
   "source": [
    "s = int(input())\n",
    "n = 0\n",
    "\n",
    "while n*(n+1)<= 2*s:\n",
    "    n+=1\n",
    "    \n",
    "print(n-1)"
   ]
  },
  {
   "cell_type": "code",
   "execution_count": null,
   "id": "a2a04528-7e03-4b33-9998-fc2e280225ba",
   "metadata": {},
   "outputs": [],
   "source": []
  }
 ],
 "metadata": {
  "kernelspec": {
   "display_name": "Python 3 (ipykernel)",
   "language": "python",
   "name": "python3"
  },
  "language_info": {
   "codemirror_mode": {
    "name": "ipython",
    "version": 3
   },
   "file_extension": ".py",
   "mimetype": "text/x-python",
   "name": "python",
   "nbconvert_exporter": "python",
   "pygments_lexer": "ipython3",
   "version": "3.13.3"
  }
 },
 "nbformat": 4,
 "nbformat_minor": 5
}
