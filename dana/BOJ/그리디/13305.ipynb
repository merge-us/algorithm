{
 "cells": [
  {
   "cell_type": "code",
   "execution_count": 11,
   "id": "f83fea7e-d43a-47b5-87cb-109c28625731",
   "metadata": {},
   "outputs": [
    {
     "name": "stdin",
     "output_type": "stream",
     "text": [
      " 4\n",
      " 2 3 1\n",
      " 5 2 4 1\n"
     ]
    },
    {
     "name": "stdout",
     "output_type": "stream",
     "text": [
      "18\n"
     ]
    }
   ],
   "source": [
    "n = int(input())\n",
    "distance = list(map(int,input().split()))\n",
    "gas = list(map(int,input().split()))\n",
    "\n",
    "result = 0\n",
    "min_price = gas[0]\n",
    "\n",
    "for i in range(n-1):\n",
    "    if gas[i]<min_price:\n",
    "        min_price=gas[i]\n",
    "    result+=min_price*distance[i]\n",
    "\n",
    "print(result)"
   ]
  },
  {
   "cell_type": "code",
   "execution_count": null,
   "id": "3d0f8a0a-9582-4696-baa4-6bad596379d9",
   "metadata": {},
   "outputs": [],
   "source": []
  }
 ],
 "metadata": {
  "kernelspec": {
   "display_name": "Python 3 (ipykernel)",
   "language": "python",
   "name": "python3"
  },
  "language_info": {
   "codemirror_mode": {
    "name": "ipython",
    "version": 3
   },
   "file_extension": ".py",
   "mimetype": "text/x-python",
   "name": "python",
   "nbconvert_exporter": "python",
   "pygments_lexer": "ipython3",
   "version": "3.13.1"
  }
 },
 "nbformat": 4,
 "nbformat_minor": 5
}
