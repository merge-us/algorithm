{
 "cells": [
  {
   "cell_type": "code",
   "execution_count": 3,
   "id": "fc3427ac-ebdf-407b-a890-e287677a6c22",
   "metadata": {},
   "outputs": [
    {
     "name": "stdin",
     "output_type": "stream",
     "text": [
      " 3\n",
      " 6\n",
      " 20\n",
      " 100\n"
     ]
    },
    {
     "name": "stdout",
     "output_type": "stream",
     "text": [
      "7\n",
      "23\n",
      "101\n"
     ]
    }
   ],
   "source": [
    "n = int(input())\n",
    "nums = [int(input()) for _ in range(n)]\n",
    "\n",
    "        \n",
    "def is_prime_number(x):\n",
    "    if x<2:\n",
    "        return False\n",
    "    for i in range(2, int(x ** 0.5) + 1):\n",
    "        if x % i == 0:\n",
    "            return False\n",
    "    return True\n",
    "\n",
    "for num in nums :\n",
    "    i = num\n",
    "    while True:\n",
    "        if is_prime_number(i) == True:\n",
    "            print(i)\n",
    "            break\n",
    "        i+=1"
   ]
  },
  {
   "cell_type": "code",
   "execution_count": null,
   "id": "e4083cc6-c722-44e6-90c4-3b16d6879d88",
   "metadata": {},
   "outputs": [],
   "source": []
  }
 ],
 "metadata": {
  "kernelspec": {
   "display_name": "Python 3 (ipykernel)",
   "language": "python",
   "name": "python3"
  },
  "language_info": {
   "codemirror_mode": {
    "name": "ipython",
    "version": 3
   },
   "file_extension": ".py",
   "mimetype": "text/x-python",
   "name": "python",
   "nbconvert_exporter": "python",
   "pygments_lexer": "ipython3",
   "version": "3.13.1"
  }
 },
 "nbformat": 4,
 "nbformat_minor": 5
}
