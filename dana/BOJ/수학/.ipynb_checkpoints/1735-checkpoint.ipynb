{
 "cells": [
  {
   "cell_type": "code",
   "execution_count": 5,
   "id": "33945081-d3a8-419c-abaa-e0e87732211a",
   "metadata": {},
   "outputs": [
    {
     "name": "stdin",
     "output_type": "stream",
     "text": [
      " 2 7\n",
      " 3 5\n"
     ]
    },
    {
     "name": "stdout",
     "output_type": "stream",
     "text": [
      "31 35\n"
     ]
    }
   ],
   "source": [
    "import math\n",
    "\n",
    "a1,b1 = map(int,input().split())\n",
    "a2,b2 = map(int,input().split())\n",
    "\n",
    "a3 = a1*b2+a2*b1\n",
    "b3 = b1*b2\n",
    "\n",
    "print(a3//(math.gcd(a3,b3)),b3//(math.gcd(a3,b3)))"
   ]
  },
  {
   "cell_type": "code",
   "execution_count": null,
   "id": "33063ca8-8151-42e1-ac92-32ecd6136c1e",
   "metadata": {},
   "outputs": [],
   "source": [
    "#지피티 최적화\n",
    "import math\n",
    "a1,b1,a2,b2 = map(int,input().split())\n",
    "\n",
    "numerator = a1*b2+a2*b1\n",
    "denominator = b1 * b2\n",
    "\n",
    "gcd = math.gcd(numerator,denominator)\n",
    "print(numerator//gcd,denominator//gcd)"
   ]
  }
 ],
 "metadata": {
  "kernelspec": {
   "display_name": "Python 3 (ipykernel)",
   "language": "python",
   "name": "python3"
  },
  "language_info": {
   "codemirror_mode": {
    "name": "ipython",
    "version": 3
   },
   "file_extension": ".py",
   "mimetype": "text/x-python",
   "name": "python",
   "nbconvert_exporter": "python",
   "pygments_lexer": "ipython3",
   "version": "3.13.1"
  }
 },
 "nbformat": 4,
 "nbformat_minor": 5
}
