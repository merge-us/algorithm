{
 "cells": [
  {
   "cell_type": "code",
   "execution_count": 5,
   "id": "791ad0dd-bf67-4d1e-9516-b183ea175153",
   "metadata": {},
   "outputs": [
    {
     "name": "stdin",
     "output_type": "stream",
     "text": [
      " 23 40\n"
     ]
    },
    {
     "name": "stdout",
     "output_type": "stream",
     "text": [
      "22 55\n"
     ]
    }
   ],
   "source": [
    "h,m = map(int,input().split())\n",
    "\n",
    "if m<45:\n",
    "    if h==0:\n",
    "        nh = 23\n",
    "    else:\n",
    "        nh = h-1\n",
    "    nm = 15+m\n",
    "else:\n",
    "    nh = h\n",
    "    nm = m-45\n",
    "print(nh,nm)"
   ]
  },
  {
   "cell_type": "code",
   "execution_count": null,
   "id": "5f0392df-7d61-45c4-900e-3936d80ee1c0",
   "metadata": {},
   "outputs": [],
   "source": [
    "h, m = map(int, input().split())\n",
    "\n",
    "# 45분 빼기\n",
    "m -= 45\n",
    "\n",
    "# 분이 음수가 되면, 시간을 한 시간 줄이고 분을 조정\n",
    "if m < 0:\n",
    "    h = (h - 1) % 24  # 0에서 -1 되면 23으로 가도록 처리\n",
    "    m += 60\n",
    "\n",
    "print(h, m)"
   ]
  }
 ],
 "metadata": {
  "kernelspec": {
   "display_name": "Python 3 (ipykernel)",
   "language": "python",
   "name": "python3"
  },
  "language_info": {
   "codemirror_mode": {
    "name": "ipython",
    "version": 3
   },
   "file_extension": ".py",
   "mimetype": "text/x-python",
   "name": "python",
   "nbconvert_exporter": "python",
   "pygments_lexer": "ipython3",
   "version": "3.13.1"
  }
 },
 "nbformat": 4,
 "nbformat_minor": 5
}
