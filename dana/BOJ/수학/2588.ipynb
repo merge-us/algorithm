{
 "cells": [
  {
   "cell_type": "code",
   "execution_count": 1,
   "id": "61ea8d42-45a4-4912-a98a-8e31770c3579",
   "metadata": {},
   "outputs": [
    {
     "name": "stdin",
     "output_type": "stream",
     "text": [
      " 472\n",
      " 385\n"
     ]
    },
    {
     "name": "stdout",
     "output_type": "stream",
     "text": [
      "2360 3776 1416 181720\n"
     ]
    }
   ],
   "source": [
    "n = input()\n",
    "m = input()\n",
    "\n",
    "print(int(n)*int(m[2]),int(n)*int(m[1]),int(n)*int(m[0]), int(n)*int(m))"
   ]
  },
  {
   "cell_type": "code",
   "execution_count": null,
   "id": "735c8166-9525-4dad-9c07-0733b177448d",
   "metadata": {},
   "outputs": [],
   "source": []
  }
 ],
 "metadata": {
  "kernelspec": {
   "display_name": "Python 3 (ipykernel)",
   "language": "python",
   "name": "python3"
  },
  "language_info": {
   "codemirror_mode": {
    "name": "ipython",
    "version": 3
   },
   "file_extension": ".py",
   "mimetype": "text/x-python",
   "name": "python",
   "nbconvert_exporter": "python",
   "pygments_lexer": "ipython3",
   "version": "3.13.1"
  }
 },
 "nbformat": 4,
 "nbformat_minor": 5
}
