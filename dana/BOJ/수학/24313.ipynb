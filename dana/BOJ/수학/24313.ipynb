{
 "cells": [
  {
   "cell_type": "code",
   "execution_count": 12,
   "id": "505339c4-10e5-466e-8619-708ae08e7122",
   "metadata": {},
   "outputs": [
    {
     "name": "stdin",
     "output_type": "stream",
     "text": [
      " 7 7\n",
      " 8 \n",
      " 10\n"
     ]
    },
    {
     "name": "stdout",
     "output_type": "stream",
     "text": [
      "1\n"
     ]
    }
   ],
   "source": [
    "a1,a0 = map(int,input().split())\n",
    "c = int(input())\n",
    "n0 = int(input())\n",
    "\n",
    "#f = a1*n+a0\n",
    "#g = c*n\n",
    "\n",
    "if a1*n0+a0>c*n0 :\n",
    "    print(0)\n",
    "elif a1*n0+a0<=c*n0 :\n",
    "    \n",
    "    print(1)"
   ]
  },
  {
   "cell_type": "code",
   "execution_count": null,
   "id": "1954ffa2-0284-45ab-a56c-83b09d94c973",
   "metadata": {},
   "outputs": [],
   "source": []
  }
 ],
 "metadata": {
  "kernelspec": {
   "display_name": "Python 3 (ipykernel)",
   "language": "python",
   "name": "python3"
  },
  "language_info": {
   "codemirror_mode": {
    "name": "ipython",
    "version": 3
   },
   "file_extension": ".py",
   "mimetype": "text/x-python",
   "name": "python",
   "nbconvert_exporter": "python",
   "pygments_lexer": "ipython3",
   "version": "3.13.1"
  }
 },
 "nbformat": 4,
 "nbformat_minor": 5
}
