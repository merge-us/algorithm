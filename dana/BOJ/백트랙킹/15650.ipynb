{
 "cells": [
  {
   "cell_type": "code",
   "execution_count": 5,
   "id": "89c9da32-36a8-44bb-898f-f79737cbc4a4",
   "metadata": {},
   "outputs": [
    {
     "name": "stdin",
     "output_type": "stream",
     "text": [
      " 4 4\n"
     ]
    },
    {
     "name": "stdout",
     "output_type": "stream",
     "text": [
      "1 2 3 4\n"
     ]
    }
   ],
   "source": [
    "#백트랙킹 x\n",
    "from itertools import combinations\n",
    "\n",
    "n,m = map(int,input().split())\n",
    "for comb in combinations([i for i in range(1,n+1)],m):\n",
    "    print(' '.join(map(str,comb)))"
   ]
  },
  {
   "cell_type": "code",
   "execution_count": 13,
   "id": "cbcc8ac0-ee26-41d9-aa6c-136b9a8f3bff",
   "metadata": {},
   "outputs": [
    {
     "name": "stdin",
     "output_type": "stream",
     "text": [
      " 4 2\n"
     ]
    },
    {
     "name": "stdout",
     "output_type": "stream",
     "text": [
      "1 2\n",
      "1 3\n",
      "1 4\n",
      "2 3\n",
      "2 4\n",
      "3 4\n"
     ]
    }
   ],
   "source": [
    "#백트랙킹 o\n",
    "n,m = map(int,input().split())\n",
    "visited = [False]*(n+1)\n",
    "result = []\n",
    "\n",
    "def dfs(depth):\n",
    "    if depth == m :\n",
    "        print(' '.join(map(str,result)))\n",
    "        return\n",
    "    for i in range(1,n+1):\n",
    "        if not visited[i]:\n",
    "            if result :\n",
    "                if i>result[-1]:\n",
    "                    visited[i] = True\n",
    "                    result.append(i)\n",
    "                    dfs(depth+1)\n",
    "                    result.pop()\n",
    "                    visited[i]=False\n",
    "            else:\n",
    "                visited[i] = True\n",
    "                result.append(i)\n",
    "                dfs(depth+1)\n",
    "                result.pop()\n",
    "                visited[i]=False\n",
    "dfs(0)"
   ]
  },
  {
   "cell_type": "code",
   "execution_count": null,
   "id": "9bc24dd1-002c-48cc-b9a9-f0f2acd11f68",
   "metadata": {},
   "outputs": [],
   "source": [
    "# 지피티 답 - visited 필요 x \n",
    "# 중복 선택이 불가하면 visited 만들필요 없음\n",
    "n,m = map(int,input().split())\n",
    "result = []\n",
    "\n",
    "def dfs(start,depth):\n",
    "    if depth == m:\n",
    "        print(' '.join(map(str,result)))\n",
    "        return\n",
    "    for i in range(start,n+1):\n",
    "        result.append(i)\n",
    "        dfs(i+1,depth+1)\n",
    "        result.pop()\n",
    "dfs(1,0)"
   ]
  }
 ],
 "metadata": {
  "kernelspec": {
   "display_name": "Python 3 (ipykernel)",
   "language": "python",
   "name": "python3"
  },
  "language_info": {
   "codemirror_mode": {
    "name": "ipython",
    "version": 3
   },
   "file_extension": ".py",
   "mimetype": "text/x-python",
   "name": "python",
   "nbconvert_exporter": "python",
   "pygments_lexer": "ipython3",
   "version": "3.13.1"
  }
 },
 "nbformat": 4,
 "nbformat_minor": 5
}
