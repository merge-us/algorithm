{
 "cells": [
  {
   "cell_type": "code",
   "execution_count": null,
   "id": "b7534f5c-00ff-497a-819c-366253eb05f0",
   "metadata": {},
   "outputs": [],
   "source": [
    "# 내 답 \n",
    "from itertools import permutations\n",
    "\n",
    "n,m = map(int,input().split())\n",
    "for comb in permutations([str(i) for i in range(1,n+1)],m) :\n",
    "    print(' '.join(comb))"
   ]
  },
  {
   "cell_type": "code",
   "execution_count": 15,
   "id": "9ff3cc3b-dc33-48bf-8423-d103fa9da8c1",
   "metadata": {},
   "outputs": [
    {
     "name": "stdin",
     "output_type": "stream",
     "text": [
      " 4 4\n"
     ]
    },
    {
     "name": "stdout",
     "output_type": "stream",
     "text": [
      "1 2 3 4\n",
      "1 2 4 3\n",
      "1 3 2 4\n",
      "1 3 4 2\n",
      "1 4 2 3\n",
      "1 4 3 2\n",
      "2 1 3 4\n",
      "2 1 4 3\n",
      "2 3 1 4\n",
      "2 3 4 1\n",
      "2 4 1 3\n",
      "2 4 3 1\n",
      "3 1 2 4\n",
      "3 1 4 2\n",
      "3 2 1 4\n",
      "3 2 4 1\n",
      "3 4 1 2\n",
      "3 4 2 1\n",
      "4 1 2 3\n",
      "4 1 3 2\n",
      "4 2 1 3\n",
      "4 2 3 1\n",
      "4 3 1 2\n",
      "4 3 2 1\n"
     ]
    }
   ],
   "source": [
    "#백트랙킹 사용\n",
    "n,m = map(int,input().split())\n",
    "visited = [False]*(n+1) #방문 체크\n",
    "result = [] #선택된 수열 저장\n",
    "\n",
    "def dfs(depth):\n",
    "    if depth == m:\n",
    "        print(' '.join(map(str,result)))\n",
    "        return\n",
    "    for i in range(1,n+1):\n",
    "        if not visited[i] : #i가 아직 선택 안됐다면 \n",
    "            visited[i]=True #방문 표시하고\n",
    "            result.append(i) #결과 리스트에 추가\n",
    "            dfs(depth+1) #재귀호출 ; 다음 숫자 선택 \n",
    "            result.pop() #추가한 숫자 제거\n",
    "            visited[i] = False #방문 해제 \n",
    "dfs(0)"
   ]
  },
  {
   "cell_type": "code",
   "execution_count": null,
   "id": "de469638-1dc2-402f-8a0b-327d3fcbc0a4",
   "metadata": {},
   "outputs": [],
   "source": []
  }
 ],
 "metadata": {
  "kernelspec": {
   "display_name": "Python 3 (ipykernel)",
   "language": "python",
   "name": "python3"
  },
  "language_info": {
   "codemirror_mode": {
    "name": "ipython",
    "version": 3
   },
   "file_extension": ".py",
   "mimetype": "text/x-python",
   "name": "python",
   "nbconvert_exporter": "python",
   "pygments_lexer": "ipython3",
   "version": "3.13.1"
  }
 },
 "nbformat": 4,
 "nbformat_minor": 5
}
