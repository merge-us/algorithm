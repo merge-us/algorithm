{
 "cells": [
  {
   "cell_type": "code",
   "execution_count": 36,
   "id": "0a03b248-03de-459c-a3e0-4d59a254a136",
   "metadata": {},
   "outputs": [
    {
     "name": "stdin",
     "output_type": "stream",
     "text": [
      " 0 3 5 4 6 9 2 7 8\n",
      " 7 8 2 1 0 5 6 0 9\n",
      " 0 6 0 2 7 8 1 3 5\n",
      " 3 2 1 0 4 6 8 9 7\n",
      " 8 0 4 9 1 3 5 0 6\n",
      " 5 9 6 8 2 0 4 1 3\n",
      " 9 1 7 6 5 2 0 8 0\n",
      " 6 0 3 7 0 1 9 5 2\n",
      " 2 5 8 3 9 4 7 6 0\n"
     ]
    },
    {
     "name": "stdout",
     "output_type": "stream",
     "text": [
      "1 3 5 4 6 9 2 7 8\n",
      "7 8 2 1 3 5 6 4 9\n",
      "4 6 9 2 7 8 1 3 5\n",
      "3 2 1 5 4 6 8 9 7\n",
      "8 7 4 9 1 3 5 2 6\n",
      "5 9 6 8 2 7 4 1 3\n",
      "9 1 7 6 5 2 3 8 4\n",
      "6 4 3 7 8 1 9 5 2\n",
      "2 5 8 3 9 4 7 6 1\n"
     ]
    }
   ],
   "source": [
    "grid = [list(map(int,input().split())) for _ in range(9)]\n",
    "\n",
    "def dfs():\n",
    "    #0 위치 저장\n",
    "    zeros = [(i,j) for i in range(9) for j in range(9) if grid[i][j]==0]\n",
    "    \n",
    "    #종료조건 : 0이 안남아있음\n",
    "    if len(zeros)==0:\n",
    "        return\n",
    "\n",
    "    #0 하나 꺼내기\n",
    "    i,j = zeros.pop()\n",
    "\n",
    "    leftovers = [n for n in range(1,10)]\n",
    "    \n",
    "    #가로세로 확인\n",
    "    for k in range(0,9):\n",
    "        if grid[i][k] in leftovers:\n",
    "            leftovers.remove(grid[i][k])\n",
    "        if grid[k][j] in leftovers:\n",
    "            leftovers.remove(grid[k][j])\n",
    "    #속해있는 9칸 확인\n",
    "    for n in range((i//3)*3,(i//3)*3+3):\n",
    "        for m in range((j//3)*3,(j//3)*3+3):\n",
    "            if grid[n][m] in leftovers:\n",
    "                leftovers.remove(grid[n][m])\n",
    "        \n",
    "    for l in leftovers:\n",
    "        grid[i][j]=l\n",
    "        #dfs해보고\n",
    "        dfs()\n",
    "        #다시 0 으로 만들기\n",
    "        grid[i][j]==0\n",
    "\n",
    "dfs()\n",
    "\n",
    "for numbers in grid:\n",
    "    print(' '.join(map(str,numbers)))"
   ]
  },
  {
   "cell_type": "code",
   "execution_count": 1,
   "id": "1a9c4487-442e-44e8-b96d-3313662d24f5",
   "metadata": {},
   "outputs": [
    {
     "name": "stdin",
     "output_type": "stream",
     "text": [
      " 0 3 5 4 6 9 2 7 8\n",
      " 7 8 2 1 0 5 6 0 9\n",
      " 0 6 0 2 7 8 1 3 5\n",
      " 3 2 1 0 4 6 8 9 7\n",
      " 8 0 4 9 1 3 5 0 6\n",
      " 5 9 6 8 2 0 4 1 3\n",
      " 9 1 7 6 5 2 0 8 0\n",
      " 6 0 3 7 0 1 9 5 2\n",
      " 2 5 8 3 9 4 7 6 0\n"
     ]
    },
    {
     "name": "stdout",
     "output_type": "stream",
     "text": [
      "1 3 5 4 6 9 2 7 8\n",
      "7 8 2 1 3 5 6 4 9\n",
      "4 6 9 2 7 8 1 3 5\n",
      "3 2 1 5 4 6 8 9 7\n",
      "8 7 4 9 1 3 5 2 6\n",
      "5 9 6 8 2 7 4 1 3\n",
      "9 1 7 6 5 2 3 8 4\n",
      "6 4 3 7 8 1 9 5 2\n",
      "2 5 8 3 9 4 7 6 1\n"
     ]
    },
    {
     "ename": "IndexError",
     "evalue": "list index out of range",
     "output_type": "error",
     "traceback": [
      "\u001b[0;31m---------------------------------------------------------------------------\u001b[0m",
      "\u001b[0;31mIndexError\u001b[0m                                Traceback (most recent call last)",
      "Cell \u001b[0;32mIn[1], line 31\u001b[0m\n\u001b[1;32m     28\u001b[0m         \u001b[38;5;66;03m#다시 0 으로 만들기\u001b[39;00m\n\u001b[1;32m     29\u001b[0m         grid[i][j]\u001b[38;5;241m=\u001b[39m\u001b[38;5;241m0\u001b[39m\n\u001b[0;32m---> 31\u001b[0m \u001b[43mdfs\u001b[49m\u001b[43m(\u001b[49m\u001b[38;5;241;43m0\u001b[39;49m\u001b[43m)\u001b[49m\n",
      "Cell \u001b[0;32mIn[1], line 27\u001b[0m, in \u001b[0;36mdfs\u001b[0;34m(depth)\u001b[0m\n\u001b[1;32m     25\u001b[0m grid[i][j]\u001b[38;5;241m=\u001b[39ml\n\u001b[1;32m     26\u001b[0m \u001b[38;5;66;03m#dfs해보고\u001b[39;00m\n\u001b[0;32m---> 27\u001b[0m \u001b[43mdfs\u001b[49m\u001b[43m(\u001b[49m\u001b[43mdepth\u001b[49m\u001b[38;5;241;43m+\u001b[39;49m\u001b[38;5;241;43m1\u001b[39;49m\u001b[43m)\u001b[49m\n\u001b[1;32m     28\u001b[0m \u001b[38;5;66;03m#다시 0 으로 만들기\u001b[39;00m\n\u001b[1;32m     29\u001b[0m grid[i][j]\u001b[38;5;241m=\u001b[39m\u001b[38;5;241m0\u001b[39m\n",
      "Cell \u001b[0;32mIn[1], line 27\u001b[0m, in \u001b[0;36mdfs\u001b[0;34m(depth)\u001b[0m\n\u001b[1;32m     25\u001b[0m grid[i][j]\u001b[38;5;241m=\u001b[39ml\n\u001b[1;32m     26\u001b[0m \u001b[38;5;66;03m#dfs해보고\u001b[39;00m\n\u001b[0;32m---> 27\u001b[0m \u001b[43mdfs\u001b[49m\u001b[43m(\u001b[49m\u001b[43mdepth\u001b[49m\u001b[38;5;241;43m+\u001b[39;49m\u001b[38;5;241;43m1\u001b[39;49m\u001b[43m)\u001b[49m\n\u001b[1;32m     28\u001b[0m \u001b[38;5;66;03m#다시 0 으로 만들기\u001b[39;00m\n\u001b[1;32m     29\u001b[0m grid[i][j]\u001b[38;5;241m=\u001b[39m\u001b[38;5;241m0\u001b[39m\n",
      "    \u001b[0;31m[... skipping similar frames: dfs at line 27 (11 times)]\u001b[0m\n",
      "Cell \u001b[0;32mIn[1], line 27\u001b[0m, in \u001b[0;36mdfs\u001b[0;34m(depth)\u001b[0m\n\u001b[1;32m     25\u001b[0m grid[i][j]\u001b[38;5;241m=\u001b[39ml\n\u001b[1;32m     26\u001b[0m \u001b[38;5;66;03m#dfs해보고\u001b[39;00m\n\u001b[0;32m---> 27\u001b[0m \u001b[43mdfs\u001b[49m\u001b[43m(\u001b[49m\u001b[43mdepth\u001b[49m\u001b[38;5;241;43m+\u001b[39;49m\u001b[38;5;241;43m1\u001b[39;49m\u001b[43m)\u001b[49m\n\u001b[1;32m     28\u001b[0m \u001b[38;5;66;03m#다시 0 으로 만들기\u001b[39;00m\n\u001b[1;32m     29\u001b[0m grid[i][j]\u001b[38;5;241m=\u001b[39m\u001b[38;5;241m0\u001b[39m\n",
      "Cell \u001b[0;32mIn[1], line 15\u001b[0m, in \u001b[0;36mdfs\u001b[0;34m(depth)\u001b[0m\n\u001b[1;32m     12\u001b[0m     exit()\n\u001b[1;32m     14\u001b[0m \u001b[38;5;66;03m#0 하나 꺼내기\u001b[39;00m\n\u001b[0;32m---> 15\u001b[0m i,j \u001b[38;5;241m=\u001b[39m \u001b[43mzeros\u001b[49m\u001b[43m[\u001b[49m\u001b[43mdepth\u001b[49m\u001b[43m]\u001b[49m\n\u001b[1;32m     17\u001b[0m leftovers \u001b[38;5;241m=\u001b[39m \u001b[38;5;28mset\u001b[39m(\u001b[38;5;28mrange\u001b[39m(\u001b[38;5;241m1\u001b[39m,\u001b[38;5;241m10\u001b[39m))\n\u001b[1;32m     19\u001b[0m \u001b[38;5;66;03m#가로세로 확인\u001b[39;00m\n",
      "\u001b[0;31mIndexError\u001b[0m: list index out of range"
     ]
    }
   ],
   "source": [
    "import sys\n",
    "grid = [list(map(int,input().split())) for _ in range(9)]\n",
    "\n",
    "#0 위치 저장\n",
    "zeros = [(i,j) for i in range(9) for j in range(9) if grid[i][j]==0]\n",
    "\n",
    "def dfs(depth):\n",
    "\n",
    "    #종료조건 : 0이 안남아있음\n",
    "    if depth>=len(zeros):\n",
    "        for numbers in grid:\n",
    "            print(' '.join(map(str,numbers)))\n",
    "        sys.exit()\n",
    "\n",
    "    #0 하나 꺼내기\n",
    "    i,j = zeros[depth]\n",
    "\n",
    "    leftovers = set(range(1,10))\n",
    "    \n",
    "    #가로세로 확인\n",
    "    leftovers-=set(grid[i])\n",
    "    leftovers-={grid[k][j] for k in range(0,9)}\n",
    "    leftovers -= {grid[n][m] for n in range((i//3)*3, (i//3)*3+3) for m in range((j//3)*3, (j//3)*3+3)}\n",
    "        \n",
    "    for l in leftovers:\n",
    "        grid[i][j]=l\n",
    "        #dfs해보고\n",
    "        dfs(depth+1)\n",
    "        #다시 0 으로 만들기\n",
    "        grid[i][j]=0\n",
    "\n",
    "dfs(0)"
   ]
  },
  {
   "cell_type": "code",
   "execution_count": null,
   "id": "4e4fc9ef-3639-47fa-8b77-0fd49eda7e3e",
   "metadata": {},
   "outputs": [],
   "source": []
  }
 ],
 "metadata": {
  "kernelspec": {
   "display_name": "Python 3 (ipykernel)",
   "language": "python",
   "name": "python3"
  },
  "language_info": {
   "codemirror_mode": {
    "name": "ipython",
    "version": 3
   },
   "file_extension": ".py",
   "mimetype": "text/x-python",
   "name": "python",
   "nbconvert_exporter": "python",
   "pygments_lexer": "ipython3",
   "version": "3.13.1"
  }
 },
 "nbformat": 4,
 "nbformat_minor": 5
}
