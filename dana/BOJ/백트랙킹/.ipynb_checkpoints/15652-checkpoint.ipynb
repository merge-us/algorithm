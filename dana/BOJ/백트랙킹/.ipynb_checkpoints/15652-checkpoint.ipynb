{
 "cells": [
  {
   "cell_type": "code",
   "execution_count": 3,
   "id": "ede89e4a-97b8-42f8-9d68-00195bbf4aee",
   "metadata": {},
   "outputs": [
    {
     "name": "stdin",
     "output_type": "stream",
     "text": [
      " 4 2\n"
     ]
    },
    {
     "name": "stdout",
     "output_type": "stream",
     "text": [
      "1 1\n",
      "1 2\n",
      "1 3\n",
      "1 4\n",
      "2 2\n",
      "2 3\n",
      "2 4\n",
      "3 3\n",
      "3 4\n",
      "4 4\n"
     ]
    }
   ],
   "source": [
    "#내 답 \n",
    "n,m = map(int,input().split())\n",
    "\n",
    "result = []\n",
    "def dfs(k):\n",
    "    if len(result)==m:\n",
    "        print(' '.join(map(str,result)))\n",
    "        return\n",
    "    for i in range(k,n+1):\n",
    "        result.append(i)\n",
    "        dfs(i)\n",
    "        result.pop()\n",
    "dfs(1)"
   ]
  },
  {
   "cell_type": "code",
   "execution_count": null,
   "id": "8ef5acd8-5dcd-445a-934a-a0284dfc668e",
   "metadata": {},
   "outputs": [],
   "source": [
    "#지피티\n",
    "n,m = map(int,input().split())\n",
    "\n",
    "def dfs(start,depth):\n",
    "    if depth==m:\n",
    "        print(' '.join(map(str,result)))\n",
    "        return\n",
    "    for i in range(start,n+1):\n",
    "        result.append(i)\n",
    "        dfs(i,depth+1)\n",
    "        result.pop()\n",
    "result = []\n",
    "dfs(1,0)"
   ]
  }
 ],
 "metadata": {
  "kernelspec": {
   "display_name": "Python 3 (ipykernel)",
   "language": "python",
   "name": "python3"
  },
  "language_info": {
   "codemirror_mode": {
    "name": "ipython",
    "version": 3
   },
   "file_extension": ".py",
   "mimetype": "text/x-python",
   "name": "python",
   "nbconvert_exporter": "python",
   "pygments_lexer": "ipython3",
   "version": "3.13.1"
  }
 },
 "nbformat": 4,
 "nbformat_minor": 5
}
