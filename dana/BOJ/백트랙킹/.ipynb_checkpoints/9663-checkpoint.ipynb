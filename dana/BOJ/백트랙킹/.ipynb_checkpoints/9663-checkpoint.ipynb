{
 "cells": [
  {
   "cell_type": "code",
   "execution_count": 16,
   "id": "b08bd2f2-6ea1-43f5-8fff-ae4e306586ca",
   "metadata": {},
   "outputs": [
    {
     "name": "stdin",
     "output_type": "stream",
     "text": [
      " 8\n"
     ]
    },
    {
     "name": "stdout",
     "output_type": "stream",
     "text": [
      "40320\n"
     ]
    }
   ],
   "source": [
    "n = int(input())\n",
    "visited = [[False]*n for _ in range(n)]\n",
    "queens = []\n",
    "\n",
    "count = 0\n",
    "\n",
    "def dfs(queen):\n",
    "    global count\n",
    "    #종료조건 : 퀸 n개 다 놨을때 \n",
    "    if queen == n:\n",
    "        count+=1\n",
    "        return\n",
    "\n",
    "    #[i][j]에 놓기위한 ..\n",
    "    for i in range(n):\n",
    "        for j in range(n):\n",
    "            if not visited[i][j]:\n",
    "                visited[i][j]=True\n",
    "                #위아래 visit 상태로 \n",
    "                for k in range(n):\n",
    "                    visited[k][j]=True\n",
    "                    visited[i][k]=True\n",
    "\n",
    "                #대각선도 visit 상태로 \n",
    "                for m in range(n):\n",
    "                    for h in range(n):\n",
    "                        if abs(i-j)==abs(m-h):\n",
    "                            visited[m][h]==True\n",
    "                            visited[h][m]==True\n",
    "                \n",
    "                dfs(queen+1)\n",
    "                visited[i][j]=False\n",
    "dfs(0)\n",
    "print(count)"
   ]
  },
  {
   "cell_type": "code",
   "execution_count": 40,
   "id": "e595035e-1932-48f0-8910-96200db30106",
   "metadata": {},
   "outputs": [
    {
     "name": "stdin",
     "output_type": "stream",
     "text": [
      " 8\n"
     ]
    },
    {
     "name": "stdout",
     "output_type": "stream",
     "text": [
      "0\n"
     ]
    }
   ],
   "source": [
    "n = int(input())\n",
    "queens = []\n",
    "\n",
    "count = 0\n",
    "\n",
    "def dfs(depth):\n",
    "    global count\n",
    "    global queens\n",
    "    #종료조건 : 퀸 n개 다 놨을때 \n",
    "    if depth == n:\n",
    "        if len(queens) == n:\n",
    "            count+=1\n",
    "            return \n",
    "            \n",
    "    #[i][j]에 놓기위한 확인\n",
    "    for i in range(n):\n",
    "        if depth == 0:\n",
    "            queens.append([depth,i])\n",
    "            dfs(depth+1)\n",
    "            queens.pop()\n",
    "        #queens 행,대각선 확인\n",
    "        else:\n",
    "            is_valid = True\n",
    "            for k in range(len(queens)):\n",
    "                if queens[k][1] == i or abs(queens[k][0] - depth) == abs(queens[k][1] - i):\n",
    "                    is_valid = False  \n",
    "                    break  \n",
    "\n",
    "            if is_valid:\n",
    "                queens.append([depth, i])\n",
    "                dfs(depth + 1)\n",
    "                queens.pop() \n",
    "dfs(0)\n",
    "print(count)"
   ]
  },
  {
   "cell_type": "code",
   "execution_count": null,
   "id": "c2f3dc3f-a356-47a7-9b1f-c90d4b0738f9",
   "metadata": {},
   "outputs": [],
   "source": []
  }
 ],
 "metadata": {
  "kernelspec": {
   "display_name": "Python 3 (ipykernel)",
   "language": "python",
   "name": "python3"
  },
  "language_info": {
   "codemirror_mode": {
    "name": "ipython",
    "version": 3
   },
   "file_extension": ".py",
   "mimetype": "text/x-python",
   "name": "python",
   "nbconvert_exporter": "python",
   "pygments_lexer": "ipython3",
   "version": "3.13.1"
  }
 },
 "nbformat": 4,
 "nbformat_minor": 5
}
