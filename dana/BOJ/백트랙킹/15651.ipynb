{
 "cells": [
  {
   "cell_type": "code",
   "execution_count": 4,
   "id": "639f55f6-dd82-4d34-aafd-50a387ea2770",
   "metadata": {},
   "outputs": [
    {
     "name": "stdin",
     "output_type": "stream",
     "text": [
      " 3 3\n"
     ]
    },
    {
     "name": "stdout",
     "output_type": "stream",
     "text": [
      "1 1 1\n",
      "1 1 2\n",
      "1 1 3\n",
      "1 2 1\n",
      "1 2 2\n",
      "1 2 3\n",
      "1 3 1\n",
      "1 3 2\n",
      "1 3 3\n",
      "2 1 1\n",
      "2 1 2\n",
      "2 1 3\n",
      "2 2 1\n",
      "2 2 2\n",
      "2 2 3\n",
      "2 3 1\n",
      "2 3 2\n",
      "2 3 3\n",
      "3 1 1\n",
      "3 1 2\n",
      "3 1 3\n",
      "3 2 1\n",
      "3 2 2\n",
      "3 2 3\n",
      "3 3 1\n",
      "3 3 2\n",
      "3 3 3\n"
     ]
    }
   ],
   "source": [
    "#내 답 \n",
    "n,m = map(int,input().split())\n",
    "result = []\n",
    "\n",
    "def dfs(depth):\n",
    "    if depth == m:\n",
    "        print(' '.join(map(str,result)))\n",
    "        return\n",
    "    for i in range(1,n+1):\n",
    "        result.append(i)\n",
    "        dfs(depth+1)\n",
    "        result.pop()\n",
    "dfs(0)"
   ]
  },
  {
   "cell_type": "code",
   "execution_count": 6,
   "id": "5fc45ce5-d8fa-4cc6-b495-eaf16f0e409a",
   "metadata": {},
   "outputs": [
    {
     "name": "stdin",
     "output_type": "stream",
     "text": [
      " 3 3\n"
     ]
    },
    {
     "name": "stdout",
     "output_type": "stream",
     "text": [
      "1 1 1\n",
      "1 1 2\n",
      "1 1 3\n",
      "1 2 1\n",
      "1 2 2\n",
      "1 2 3\n",
      "1 3 1\n",
      "1 3 2\n",
      "1 3 3\n",
      "2 1 1\n",
      "2 1 2\n",
      "2 1 3\n",
      "2 2 1\n",
      "2 2 2\n",
      "2 2 3\n",
      "2 3 1\n",
      "2 3 2\n",
      "2 3 3\n",
      "3 1 1\n",
      "3 1 2\n",
      "3 1 3\n",
      "3 2 1\n",
      "3 2 2\n",
      "3 2 3\n",
      "3 3 1\n",
      "3 3 2\n",
      "3 3 3\n"
     ]
    }
   ],
   "source": [
    "#여기서는 굳이 depth 필요없음\n",
    "n,m = map(int,input().split())\n",
    "result = []\n",
    "\n",
    "def dfs():\n",
    "    if len(result) == m:\n",
    "        print(' '.join(map(str,result)))\n",
    "        return\n",
    "    for i in range(1,n+1):\n",
    "        result.append(i)\n",
    "        dfs()\n",
    "        result.pop()\n",
    "dfs()"
   ]
  },
  {
   "cell_type": "code",
   "execution_count": null,
   "id": "99c2e74f-4e2d-4b91-b9fd-4a1d45030030",
   "metadata": {},
   "outputs": [],
   "source": []
  }
 ],
 "metadata": {
  "kernelspec": {
   "display_name": "Python 3 (ipykernel)",
   "language": "python",
   "name": "python3"
  },
  "language_info": {
   "codemirror_mode": {
    "name": "ipython",
    "version": 3
   },
   "file_extension": ".py",
   "mimetype": "text/x-python",
   "name": "python",
   "nbconvert_exporter": "python",
   "pygments_lexer": "ipython3",
   "version": "3.13.1"
  }
 },
 "nbformat": 4,
 "nbformat_minor": 5
}
