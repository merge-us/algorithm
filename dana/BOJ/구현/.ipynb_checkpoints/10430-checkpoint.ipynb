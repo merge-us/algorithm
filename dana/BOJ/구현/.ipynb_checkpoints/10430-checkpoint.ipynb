{
 "cells": [
  {
   "cell_type": "code",
   "execution_count": 5,
   "id": "8c2bf709-e9f0-4234-a656-ff6bf05b434d",
   "metadata": {},
   "outputs": [
    {
     "name": "stdin",
     "output_type": "stream",
     "text": [
      " 5 8 4\n"
     ]
    },
    {
     "name": "stdout",
     "output_type": "stream",
     "text": [
      "1 1 0 0\n"
     ]
    }
   ],
   "source": [
    "a,b,c = map(int,input().split())\n",
    "\n",
    "print((a+b)%c, ((a%c) + (b%c))%c, (a*b)%c, ((a%c)*(b%c))%c)"
   ]
  },
  {
   "cell_type": "code",
   "execution_count": null,
   "id": "bfa381c1-077c-490c-82ee-bec62301e296",
   "metadata": {},
   "outputs": [],
   "source": []
  },
  {
   "cell_type": "code",
   "execution_count": null,
   "id": "d110723d-947f-4fa2-bb19-70ce0f1de1ea",
   "metadata": {},
   "outputs": [],
   "source": []
  }
 ],
 "metadata": {
  "kernelspec": {
   "display_name": "Python 3 (ipykernel)",
   "language": "python",
   "name": "python3"
  },
  "language_info": {
   "codemirror_mode": {
    "name": "ipython",
    "version": 3
   },
   "file_extension": ".py",
   "mimetype": "text/x-python",
   "name": "python",
   "nbconvert_exporter": "python",
   "pygments_lexer": "ipython3",
   "version": "3.13.1"
  }
 },
 "nbformat": 4,
 "nbformat_minor": 5
}
