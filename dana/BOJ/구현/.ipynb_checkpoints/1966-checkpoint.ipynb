{
 "cells": [
  {
   "cell_type": "code",
   "execution_count": 5,
   "id": "6d9fdb1f-c099-49ce-9236-fc9c9f8cf004",
   "metadata": {},
   "outputs": [
    {
     "name": "stdin",
     "output_type": "stream",
     "text": [
      " 3\n",
      " 1 0\n",
      " 5\n"
     ]
    },
    {
     "name": "stdout",
     "output_type": "stream",
     "text": [
      "1\n"
     ]
    },
    {
     "name": "stdin",
     "output_type": "stream",
     "text": [
      " 4 2\n",
      " 1 2 3 4\n"
     ]
    },
    {
     "name": "stdout",
     "output_type": "stream",
     "text": [
      "2\n"
     ]
    },
    {
     "name": "stdin",
     "output_type": "stream",
     "text": [
      " 6 0\n",
      " 1 1 9 1 1 1\n"
     ]
    },
    {
     "name": "stdout",
     "output_type": "stream",
     "text": [
      "5\n"
     ]
    }
   ],
   "source": [
    "from collections import deque\n",
    "\n",
    "t = int(input())\n",
    "for _ in range(t):\n",
    "    n,m = map(int,input().split())\n",
    "    priorities = list(map(int, input().split()))\n",
    "    \n",
    "    queue = deque((priority,idx) for idx, priority in enumerate(priorities))\n",
    "\n",
    "    count = 0\n",
    "\n",
    "    while queue : \n",
    "        max_p = max(queue,key=lambda x:x[0])[0]\n",
    "        priority,index = queue.popleft()\n",
    "\n",
    "        if priority == max_p :\n",
    "            count+=1\n",
    "            if index == m:\n",
    "                print(count)\n",
    "                break\n",
    "        else:\n",
    "            queue.append((priority, index))"
   ]
  },
  {
   "cell_type": "code",
   "execution_count": 8,
   "id": "3f946d51-2647-49c1-a58a-e419af40225e",
   "metadata": {},
   "outputs": [
    {
     "name": "stdin",
     "output_type": "stream",
     "text": [
      " 3\n",
      " 1 0\n",
      " 5\n"
     ]
    },
    {
     "name": "stdout",
     "output_type": "stream",
     "text": [
      "1\n"
     ]
    },
    {
     "name": "stdin",
     "output_type": "stream",
     "text": [
      " 4 2\n",
      " 1 2 3 4\n"
     ]
    },
    {
     "name": "stdout",
     "output_type": "stream",
     "text": [
      "2\n"
     ]
    },
    {
     "name": "stdin",
     "output_type": "stream",
     "text": [
      " 6 0\n",
      " 1 1 9 1 1 1\n"
     ]
    },
    {
     "name": "stdout",
     "output_type": "stream",
     "text": [
      "5\n"
     ]
    }
   ],
   "source": [
    "from collections import deque\n",
    "t = int(input())\n",
    "for _ in range(t):\n",
    "    n,m = map(int,input().split())\n",
    "    priorities = list(map(int,input().split()))\n",
    "\n",
    "    #우선순위, 초기 인덱스 순서로 큐 생성\n",
    "    queue = deque((priority,idx) for idx, priority in enumerate(priorities))\n",
    "\n",
    "    count = 0 #인쇄 순서\n",
    "\n",
    "    while queue:\n",
    "        #현재 큐에서 가장 높은 우선순위 값\n",
    "        max_p = max(queue,key=lambda x:x[0])[0]\n",
    "        #맨 앞의 문서 꺼내서\n",
    "        priority,index = queue.popleft()\n",
    "\n",
    "        #가장 높은 우선순위일 경우\n",
    "        if priority == max_p :\n",
    "            #인쇄 카운트 증가\n",
    "            count+=1\n",
    "            if index == m :\n",
    "                print(count)\n",
    "                break\n",
    "        else:\n",
    "            queue.append((priority,index))"
   ]
  },
  {
   "cell_type": "code",
   "execution_count": null,
   "id": "f7298a50-f6f9-46d9-8fb2-0bed25cc8c4f",
   "metadata": {},
   "outputs": [],
   "source": []
  }
 ],
 "metadata": {
  "kernelspec": {
   "display_name": "Python 3 (ipykernel)",
   "language": "python",
   "name": "python3"
  },
  "language_info": {
   "codemirror_mode": {
    "name": "ipython",
    "version": 3
   },
   "file_extension": ".py",
   "mimetype": "text/x-python",
   "name": "python",
   "nbconvert_exporter": "python",
   "pygments_lexer": "ipython3",
   "version": "3.13.1"
  }
 },
 "nbformat": 4,
 "nbformat_minor": 5
}
