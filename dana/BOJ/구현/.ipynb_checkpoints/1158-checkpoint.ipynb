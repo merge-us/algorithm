{
 "cells": [
  {
   "cell_type": "code",
   "execution_count": 29,
   "id": "5bcafbfe-00f4-46e8-98af-40e7d0959d47",
   "metadata": {},
   "outputs": [
    {
     "name": "stdin",
     "output_type": "stream",
     "text": [
      " 7 3\n"
     ]
    },
    {
     "name": "stdout",
     "output_type": "stream",
     "text": [
      "<3, 6, 2, 7, 5, 1, 4>\n"
     ]
    }
   ],
   "source": [
    "from collections import deque\n",
    "n,k = map(int,input().split())\n",
    "queue = deque()\n",
    "for i in range(1,n+1):\n",
    "    queue.append(i)\n",
    "stack = []\n",
    "\n",
    "while queue:\n",
    "    queue.rotate(-(k-1))\n",
    "    stack.append(queue.popleft())\n",
    "\n",
    "result = \"<\"+\", \".join(map(str,stack))+\">\"\n",
    "print(result)\n"
   ]
  },
  {
   "cell_type": "code",
   "execution_count": 30,
   "id": "3a30f690-8b85-4ce0-a329-227b686858ab",
   "metadata": {},
   "outputs": [
    {
     "name": "stdin",
     "output_type": "stream",
     "text": [
      " 7 3\n"
     ]
    },
    {
     "name": "stdout",
     "output_type": "stream",
     "text": [
      "<3, 6, 2, 7, 5, 1, 4>\n"
     ]
    }
   ],
   "source": [
    "from collections import deque\n",
    "\n",
    "n,k = map(int,input().split())\n",
    "queue = deque()\n",
    "for i in range(1,n+1):\n",
    "    queue.append(i)\n",
    "stack = []\n",
    "while queue:\n",
    "    queue.rotate(-(k-1))\n",
    "    stack.append(queue.popleft())\n",
    "result = \"<\"+\", \".join(map(str,stack))+\">\"\n",
    "print(result)"
   ]
  },
  {
   "cell_type": "code",
   "execution_count": null,
   "id": "33f73e6c-a7f8-4f6f-9dca-f13c25683adf",
   "metadata": {},
   "outputs": [],
   "source": []
  }
 ],
 "metadata": {
  "kernelspec": {
   "display_name": "Python 3 (ipykernel)",
   "language": "python",
   "name": "python3"
  },
  "language_info": {
   "codemirror_mode": {
    "name": "ipython",
    "version": 3
   },
   "file_extension": ".py",
   "mimetype": "text/x-python",
   "name": "python",
   "nbconvert_exporter": "python",
   "pygments_lexer": "ipython3",
   "version": "3.13.1"
  }
 },
 "nbformat": 4,
 "nbformat_minor": 5
}
