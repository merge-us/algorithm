{
 "cells": [
  {
   "cell_type": "code",
   "execution_count": 26,
   "id": "c441e818-de35-4a51-b821-2ef1aa98b7d8",
   "metadata": {},
   "outputs": [
    {
     "name": "stdin",
     "output_type": "stream",
     "text": [
      " 14\n"
     ]
    },
    {
     "name": "stdout",
     "output_type": "stream",
     "text": [
      "2/4\n"
     ]
    }
   ],
   "source": [
    "n = int(input())\n",
    "#i번째 대각선에 포함\n",
    "i=1\n",
    "while i*(i+1)/2<n:\n",
    "    i+=1\n",
    "\n",
    "#그 대각선에서 몇번째인지\n",
    "j=int(n-i*(i-1)/2)\n",
    "\n",
    "#짝수 대각선\n",
    "if i%2==0:\n",
    "    num = str(j)\n",
    "    denom = str(i-j+1)\n",
    "#홀수 대각선\n",
    "else: \n",
    "    num = str(i-j+1)\n",
    "    denom = str(j)\n",
    "\n",
    "print(num+\"/\"+denom)"
   ]
  },
  {
   "cell_type": "code",
   "execution_count": 27,
   "id": "9590bdf6-bedd-4f4c-8dd4-a5ea494ef842",
   "metadata": {},
   "outputs": [
    {
     "name": "stdin",
     "output_type": "stream",
     "text": [
      " 14\n"
     ]
    },
    {
     "name": "stdout",
     "output_type": "stream",
     "text": [
      "2/4\n"
     ]
    }
   ],
   "source": [
    "#지피티 답\n",
    "import math\n",
    "\n",
    "n = int(input())\n",
    "\n",
    "# 등차수열 공식 활용하여 i 찾기: n * (n + 1) / 2 >= X를 만족하는 최소 i 찾기\n",
    "i = math.ceil((-1+math.sqrt(1+8*n))/2)\n",
    "\n",
    "#그 대각선에서 몇번째인지\n",
    "j=int(n-i*(i-1)/2)\n",
    "\n",
    "#짝수 대각선\n",
    "if i % 2 == 0:\n",
    "    num, denom = j, i - j + 1\n",
    "#홀수 대각선\n",
    "else:\n",
    "    num, denom = i - j + 1, j\n",
    "print(f\"{num}/{denom}\")"
   ]
  },
  {
   "cell_type": "code",
   "execution_count": null,
   "id": "46cf22a9-0d1b-4a3e-8c74-59ff8eec5996",
   "metadata": {},
   "outputs": [],
   "source": []
  }
 ],
 "metadata": {
  "kernelspec": {
   "display_name": "Python 3 (ipykernel)",
   "language": "python",
   "name": "python3"
  },
  "language_info": {
   "codemirror_mode": {
    "name": "ipython",
    "version": 3
   },
   "file_extension": ".py",
   "mimetype": "text/x-python",
   "name": "python",
   "nbconvert_exporter": "python",
   "pygments_lexer": "ipython3",
   "version": "3.13.1"
  }
 },
 "nbformat": 4,
 "nbformat_minor": 5
}
