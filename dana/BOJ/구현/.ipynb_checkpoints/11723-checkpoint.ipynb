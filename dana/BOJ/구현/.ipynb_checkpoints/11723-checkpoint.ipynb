{
 "cells": [
  {
   "cell_type": "code",
   "execution_count": null,
   "id": "3775ff2e-d1ac-4ce5-96bb-99ad6c4a86a8",
   "metadata": {},
   "outputs": [],
   "source": [
    "S = set()\n",
    "command = []\n",
    "\n",
    "m = int(input())\n",
    "for _ in range(m):\n",
    "    cmd = input().split()\n",
    "    if cmd[0] == 'all':\n",
    "        S = {i for i in range(1,21)}\n",
    "    elif cmd[0] == 'empty':\n",
    "        S.clear()        \n",
    "    elif cmd[0] == 'add':\n",
    "        S.add(int(cmd[1]))\n",
    "    elif cmd[0] == 'remove':\n",
    "        if int(cmd[1]) in S :\n",
    "            S.remove(int(cmd[1]))\n",
    "    elif cmd[0]=='check':\n",
    "        print(1 if int(cmd[1]) in S else 0)\n",
    "    elif cmd[0] == 'toggle':\n",
    "        if int(cmd[1]) in S :\n",
    "            S.remove(int(cmd[1]))\n",
    "        else:\n",
    "            S.add(int(cmd[1]))"
   ]
  },
  {
   "cell_type": "markdown",
   "id": "791d3a64-1ad8-466c-90cf-580ab6fe17fe",
   "metadata": {},
   "source": [
    "import sys\n",
    "\n",
    "S = set()\n",
    "m = int(sys.stdin.readline().strip()) \n",
    "\n",
    "for _ in range(m):\n",
    "    cmd = sys.stdin.readline().strip().split() \n",
    "\n",
    "    if cmd[0] == 'all':\n",
    "        S = {i for i in range(1, 21)} \n",
    "    elif cmd[0] == 'empty':\n",
    "        S.clear()\n",
    "    elif cmd[0] == 'add':\n",
    "        S.add(int(cmd[1])) \n",
    "    elif cmd[0] == 'remove':\n",
    "        S.discard(int(cmd[1]))  \n",
    "    elif cmd[0] == 'check':\n",
    "        print(1 if int(cmd[1]) in S else 0) \n",
    "    elif cmd[0] == 'toggle':\n",
    "        num = int(cmd[1])\n",
    "        S.remove(num) if num in S else S.add(num)  "
   ]
  }
 ],
 "metadata": {
  "kernelspec": {
   "display_name": "Python 3 (ipykernel)",
   "language": "python",
   "name": "python3"
  },
  "language_info": {
   "codemirror_mode": {
    "name": "ipython",
    "version": 3
   },
   "file_extension": ".py",
   "mimetype": "text/x-python",
   "name": "python",
   "nbconvert_exporter": "python",
   "pygments_lexer": "ipython3",
   "version": "3.13.1"
  }
 },
 "nbformat": 4,
 "nbformat_minor": 5
}
