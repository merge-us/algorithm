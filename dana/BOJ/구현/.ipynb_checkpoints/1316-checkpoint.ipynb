{
 "cells": [
  {
   "cell_type": "code",
   "execution_count": null,
   "id": "d1468259-0f2e-41ce-b24d-de5f88ec80b1",
   "metadata": {},
   "outputs": [],
   "source": [
    "#내 답 - 맞음\n",
    "n = int(input())\n",
    "words = [input() for _ in range (n)]\n",
    "count = 0\n",
    "\n",
    "def group(n):\n",
    "    global count\n",
    "    stack=[]\n",
    "    for i in range(len(n)):\n",
    "        if i==0:\n",
    "            stack.append(n[0])\n",
    "        elif n[i]!=n[i-1]:\n",
    "            stack.append(n[i])\n",
    "    #중복 확인\n",
    "    if len(stack)==len(set(stack)):\n",
    "        count+=1\n",
    "\n",
    "for word in words:\n",
    "    group(word)\n",
    "print(count)"
   ]
  },
  {
   "cell_type": "code",
   "execution_count": null,
   "id": "351a3ffc-4833-433a-8f4e-efbb5bbca406",
   "metadata": {},
   "outputs": [],
   "source": [
    "#지피티 최적화한 답\n",
    "#1.stack list 제거\n",
    "#2. set을 활용한 중복검사\n",
    "\n",
    "n = int(input())\n",
    "words = [input().strip() for _ in range(n)]\n",
    "count = 0\n",
    "\n",
    "for word in words:\n",
    "    seen = set()\n",
    "    last_char = ''\n",
    "    is_group = True #그룹 단어 여부 체크\n",
    "\n",
    "    for char in word : \n",
    "        if char!= last_char:\n",
    "            if char in seen :\n",
    "                is_group = False\n",
    "                break\n",
    "            seen.add(char)\n",
    "        last_char = char\n",
    "    if is_group :\n",
    "        count+=1\n",
    "print(count)"
   ]
  }
 ],
 "metadata": {
  "kernelspec": {
   "display_name": "Python 3 (ipykernel)",
   "language": "python",
   "name": "python3"
  },
  "language_info": {
   "codemirror_mode": {
    "name": "ipython",
    "version": 3
   },
   "file_extension": ".py",
   "mimetype": "text/x-python",
   "name": "python",
   "nbconvert_exporter": "python",
   "pygments_lexer": "ipython3",
   "version": "3.13.1"
  }
 },
 "nbformat": 4,
 "nbformat_minor": 5
}
