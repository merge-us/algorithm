{
 "cells": [
  {
   "cell_type": "code",
   "execution_count": 22,
   "id": "fa6882da-3a9a-4be5-ac63-430d3e6a247a",
   "metadata": {},
   "outputs": [
    {
     "name": "stdin",
     "output_type": "stream",
     "text": [
      " 22\n",
      " front\n",
      " back\n",
      " pop_front\n",
      " pop_back\n",
      " push_front 1\n",
      " front\n",
      " pop_back\n",
      " push_back 2\n",
      " back\n",
      " pop_front\n",
      " push_front 10\n",
      " push_front 333\n",
      " front\n",
      " back\n",
      " pop_back\n",
      " pop_back\n",
      " push_back 20\n",
      " push_back 1234\n",
      " front\n",
      " back\n",
      " pop_back\n",
      " pop_back\n"
     ]
    },
    {
     "name": "stdout",
     "output_type": "stream",
     "text": [
      "-1\n",
      "-1\n",
      "-1\n",
      "-1\n",
      "1\n",
      "1\n",
      "2\n",
      "2\n",
      "333\n",
      "10\n",
      "10\n",
      "333\n",
      "20\n",
      "1234\n",
      "1234\n",
      "20\n"
     ]
    }
   ],
   "source": [
    "#내 답\n",
    "from collections import deque\n",
    "\n",
    "n = int(input())\n",
    "command = list(input() for _ in range(n))\n",
    "queue = deque()\n",
    "\n",
    "for cmd in command : \n",
    "    if 'push_front' in cmd :\n",
    "        queue.appendleft(cmd[11:])\n",
    "    elif 'push_back' in cmd : \n",
    "        queue.append(cmd[10:])\n",
    "    elif 'pop_front' in cmd :\n",
    "        print(queue.popleft() if queue else -1)\n",
    "    elif 'pop_back' in cmd :\n",
    "        print(queue.pop() if queue else -1)\n",
    "    elif 'size' in cmd :\n",
    "        print(len(queue))\n",
    "    elif 'empty' in cmd :\n",
    "        print(0 if queue else 1)\n",
    "    elif 'front' in cmd :\n",
    "        print(queue[0] if queue else -1)\n",
    "    elif 'back' in cmd :\n",
    "        print(queue[-1] if queue else -1)"
   ]
  },
  {
   "cell_type": "code",
   "execution_count": 23,
   "id": "b539b5ca-e5e9-4b71-bf82-515181513639",
   "metadata": {},
   "outputs": [
    {
     "ename": "ValueError",
     "evalue": "invalid literal for int() with base 10: ''",
     "output_type": "error",
     "traceback": [
      "\u001b[0;31m---------------------------------------------------------------------------\u001b[0m",
      "\u001b[0;31mValueError\u001b[0m                                Traceback (most recent call last)",
      "Cell \u001b[0;32mIn[23], line 5\u001b[0m\n\u001b[1;32m      2\u001b[0m \u001b[38;5;28;01mimport\u001b[39;00m\u001b[38;5;250m \u001b[39m\u001b[38;5;21;01msys\u001b[39;00m\n\u001b[1;32m      3\u001b[0m \u001b[38;5;28;01mfrom\u001b[39;00m\u001b[38;5;250m \u001b[39m\u001b[38;5;21;01mcollections\u001b[39;00m\u001b[38;5;250m \u001b[39m\u001b[38;5;28;01mimport\u001b[39;00m deque\n\u001b[0;32m----> 5\u001b[0m n \u001b[38;5;241m=\u001b[39m \u001b[38;5;28;43mint\u001b[39;49m\u001b[43m(\u001b[49m\u001b[43msys\u001b[49m\u001b[38;5;241;43m.\u001b[39;49m\u001b[43mstdin\u001b[49m\u001b[38;5;241;43m.\u001b[39;49m\u001b[43mreadline\u001b[49m\u001b[43m(\u001b[49m\u001b[43m)\u001b[49m\u001b[38;5;241;43m.\u001b[39;49m\u001b[43mstrip\u001b[49m\u001b[43m(\u001b[49m\u001b[43m)\u001b[49m\u001b[43m)\u001b[49m  \u001b[38;5;66;03m# 입력 최적화\u001b[39;00m\n\u001b[1;32m      6\u001b[0m commands \u001b[38;5;241m=\u001b[39m sys\u001b[38;5;241m.\u001b[39mstdin\u001b[38;5;241m.\u001b[39mread()\u001b[38;5;241m.\u001b[39msplitlines()  \u001b[38;5;66;03m# 한 번에 입력 받아 리스트로 저장\u001b[39;00m\n\u001b[1;32m      7\u001b[0m queue \u001b[38;5;241m=\u001b[39m deque()\n",
      "\u001b[0;31mValueError\u001b[0m: invalid literal for int() with base 10: ''"
     ]
    }
   ],
   "source": [
    "#지피티 최적화\n",
    "import sys\n",
    "from collections import deque\n",
    "\n",
    "n = int(sys.stdin.readline().strip())  # 입력 최적화\n",
    "commands = sys.stdin.read().splitlines()  # 한 번에 입력 받아 리스트로 저장\n",
    "queue = deque()\n",
    "\n",
    "for cmd in commands:\n",
    "    cmd_parts = cmd.split()  # 명령어와 숫자를 분리\n",
    "    operation = cmd_parts[0]  # 명령어 부분\n",
    "\n",
    "    match operation:\n",
    "        case \"push_front\":\n",
    "            queue.appendleft(cmd_parts[1])  # 숫자 삽입\n",
    "        case \"push_back\":\n",
    "            queue.append(cmd_parts[1])\n",
    "        case \"pop_front\":\n",
    "            print(queue.popleft() if queue else -1)\n",
    "        case \"pop_back\":\n",
    "            print(queue.pop() if queue else -1)\n",
    "        case \"size\":\n",
    "            print(len(queue))\n",
    "        case \"empty\":\n",
    "            print(0 if queue else 1)\n",
    "        case \"front\":\n",
    "            print(queue[0] if queue else -1)\n",
    "        case \"back\":\n",
    "            print(queue[-1] if queue else -1)"
   ]
  },
  {
   "cell_type": "code",
   "execution_count": null,
   "id": "15cbdcff-b3d3-4b3f-bcf8-cf2b069914e6",
   "metadata": {},
   "outputs": [],
   "source": [
    "from collections import deque\n",
    "\n",
    "n = int(input().strip())  # 개별 입력 받기\n",
    "commands = [input().strip() for _ in range(n)]  # 여러 줄 입력 받기\n",
    "queue = deque()\n",
    "\n",
    "for cmd in commands:\n",
    "    cmd_parts = cmd.split()  # 명령어와 숫자를 분리\n",
    "    operation = cmd_parts[0]\n",
    "\n",
    "    if operation == \"push_front\":\n",
    "        queue.appendleft(cmd_parts[1])\n",
    "    elif operation == \"push_back\":\n",
    "        queue.append(cmd_parts[1])\n",
    "    elif operation == \"pop_front\":\n",
    "        print(queue.popleft() if queue else -1)\n",
    "    elif operation == \"pop_back\":\n",
    "        print(queue.pop() if queue else -1)\n",
    "    elif operation == \"size\":\n",
    "        print(len(queue))\n",
    "    elif operation == \"empty\":\n",
    "        print(0 if queue else 1)\n",
    "    elif operation == \"front\":\n",
    "        print(queue[0] if queue else -1)\n",
    "    elif operation == \"back\":\n",
    "        print(queue[-1] if queue else -1)"
   ]
  }
 ],
 "metadata": {
  "kernelspec": {
   "display_name": "Python 3 (ipykernel)",
   "language": "python",
   "name": "python3"
  },
  "language_info": {
   "codemirror_mode": {
    "name": "ipython",
    "version": 3
   },
   "file_extension": ".py",
   "mimetype": "text/x-python",
   "name": "python",
   "nbconvert_exporter": "python",
   "pygments_lexer": "ipython3",
   "version": "3.13.1"
  }
 },
 "nbformat": 4,
 "nbformat_minor": 5
}
