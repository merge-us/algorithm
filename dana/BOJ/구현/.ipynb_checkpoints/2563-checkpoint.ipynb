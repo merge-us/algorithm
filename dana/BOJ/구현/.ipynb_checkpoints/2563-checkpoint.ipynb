{
 "cells": [
  {
   "cell_type": "code",
   "execution_count": 9,
   "id": "c73c3b88-7d57-469f-a525-5b54a916cffc",
   "metadata": {},
   "outputs": [
    {
     "name": "stdin",
     "output_type": "stream",
     "text": [
      " 3\n",
      " 3 7\n",
      " 15 7\n",
      " 5 2\n"
     ]
    },
    {
     "name": "stdout",
     "output_type": "stream",
     "text": [
      "260\n"
     ]
    }
   ],
   "source": [
    "n = int(input())\n",
    "black = [tuple(map(int,input().split())) for _ in range(n)]\n",
    "#도화지를 2차원 리스트로 초기화\n",
    "grid = [[0] * 100 for _ in range(100)]\n",
    "\n",
    "#검정 칠한곳은 1로\n",
    "for x,y in black:\n",
    "    for i in range(x,x+10):\n",
    "        for j in range(y,y+10):\n",
    "            grid[i][j]=1\n",
    "\n",
    "print(sum(row.count(1) for row in grid))  "
   ]
  },
  {
   "cell_type": "code",
   "execution_count": null,
   "id": "6516fb41-86fb-47a3-b97a-b5a3445a97cb",
   "metadata": {},
   "outputs": [],
   "source": [
    "n = int(input())\n",
    "black = [tuple(map(int,input().split())) for _ in range(n)]\n",
    "grid = [[0]*100 for _ in range(100)]\n",
    "\n",
    "for x,y in black:\n",
    "    for i in range(x,x+10):\n",
    "        for j in range(y,y+10):\n",
    "            grid[i][j]=1\n",
    "print(sum(row.count(1) for row in grid))"
   ]
  },
  {
   "cell_type": "code",
   "execution_count": null,
   "id": "61d53e4a-1815-47ca-9369-4d5cd2cb6d4d",
   "metadata": {},
   "outputs": [],
   "source": [
    "print(sum(row.count(1) for row in grid))\n",
    "gird = [[0]*100 for _ in range(100)]"
   ]
  }
 ],
 "metadata": {
  "kernelspec": {
   "display_name": "Python 3 (ipykernel)",
   "language": "python",
   "name": "python3"
  },
  "language_info": {
   "codemirror_mode": {
    "name": "ipython",
    "version": 3
   },
   "file_extension": ".py",
   "mimetype": "text/x-python",
   "name": "python",
   "nbconvert_exporter": "python",
   "pygments_lexer": "ipython3",
   "version": "3.13.1"
  }
 },
 "nbformat": 4,
 "nbformat_minor": 5
}
