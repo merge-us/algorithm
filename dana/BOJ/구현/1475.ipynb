{
 "cells": [
  {
   "cell_type": "code",
   "execution_count": 19,
   "id": "3fb926d6-be5a-4cdf-9e7b-4abb85da1ecf",
   "metadata": {},
   "outputs": [
    {
     "name": "stdin",
     "output_type": "stream",
     "text": [
      " 999\n"
     ]
    },
    {
     "name": "stdout",
     "output_type": "stream",
     "text": [
      "2\n"
     ]
    }
   ],
   "source": [
    "from collections import Counter\n",
    "\n",
    "n = list(map(int, input()))\n",
    "counter = Counter(n)\n",
    "\n",
    "# 6과 9를 같은 숫자로 취급하여 합산한 후 절반으로 계산 (올림)\n",
    "counter[6] = counter[9] = (counter.get(6, 0) + counter.get(9, 0) + 1) // 2\n",
    "\n",
    "print(max(counter.values()))"
   ]
  },
  {
   "cell_type": "code",
   "execution_count": null,
   "id": "806c437f-ec07-4a01-bd3c-49e18cd23588",
   "metadata": {},
   "outputs": [],
   "source": [
    "#ceil 사용해서 올림\n",
    "from collections import Counter\n",
    "import math\n",
    "\n",
    "n = list(map(int, input()))\n",
    "counter = Counter(n)\n",
    "\n",
    "# 6과 9를 같은 숫자로 취급하여 합산한 후 절반으로 계산 (올림)\n",
    "counter[6] = counter[9] = math.ceil((counter.get(6, 0) + counter.get(9, 0)) / 2)\n",
    "\n",
    "print(max(counter.values()))"
   ]
  },
  {
   "cell_type": "code",
   "execution_count": null,
   "id": "62e20af0-39f7-406c-bd27-6bd856f2eafa",
   "metadata": {},
   "outputs": [],
   "source": []
  }
 ],
 "metadata": {
  "kernelspec": {
   "display_name": "Python 3 (ipykernel)",
   "language": "python",
   "name": "python3"
  },
  "language_info": {
   "codemirror_mode": {
    "name": "ipython",
    "version": 3
   },
   "file_extension": ".py",
   "mimetype": "text/x-python",
   "name": "python",
   "nbconvert_exporter": "python",
   "pygments_lexer": "ipython3",
   "version": "3.13.1"
  }
 },
 "nbformat": 4,
 "nbformat_minor": 5
}
