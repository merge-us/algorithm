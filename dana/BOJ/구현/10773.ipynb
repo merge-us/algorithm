{
 "cells": [
  {
   "cell_type": "code",
   "execution_count": 6,
   "id": "daa9b266-0d43-4a60-9f8e-15d198797122",
   "metadata": {},
   "outputs": [
    {
     "name": "stdin",
     "output_type": "stream",
     "text": [
      " 10\n",
      " 1\n",
      " 3\n",
      " 5\n",
      " 4\n",
      " 0\n",
      " 0\n",
      " 7\n",
      " 0\n",
      " 0\n",
      " 6\n"
     ]
    },
    {
     "name": "stdout",
     "output_type": "stream",
     "text": [
      "7\n"
     ]
    }
   ],
   "source": [
    "#내 답 - 한번에 맞춤\n",
    "k = int(input())\n",
    "list = [int(input()) for _ in range(k)]\n",
    "stack = []\n",
    "sum=0\n",
    "\n",
    "for data in list :\n",
    "    if data!=0:\n",
    "        stack.append(data)\n",
    "    else:\n",
    "        stack.pop()\n",
    "for i in stack:\n",
    "    sum+=i\n",
    "print(sum)"
   ]
  },
  {
   "cell_type": "code",
   "execution_count": null,
   "id": "ecaf5c69-8b9e-45c2-8cf7-f502e093ebdd",
   "metadata": {},
   "outputs": [],
   "source": [
    "#지피티 답\n",
    "k = int(input())\n",
    "numbers = [int(input()) for _ in range(k)]\n",
    "stack = []\n",
    "\n",
    "for num in numbers:\n",
    "    if num != 0:\n",
    "        stack.append(num)\n",
    "    elif stack:  # 스택이 비어있지 않을 때만 pop 실행 조건 추가\n",
    "        stack.pop()\n",
    "\n",
    "print(sum(stack))  # sum() 내장 함수 활용"
   ]
  }
 ],
 "metadata": {
  "kernelspec": {
   "display_name": "Python 3 (ipykernel)",
   "language": "python",
   "name": "python3"
  },
  "language_info": {
   "codemirror_mode": {
    "name": "ipython",
    "version": 3
   },
   "file_extension": ".py",
   "mimetype": "text/x-python",
   "name": "python",
   "nbconvert_exporter": "python",
   "pygments_lexer": "ipython3",
   "version": "3.13.1"
  }
 },
 "nbformat": 4,
 "nbformat_minor": 5
}
