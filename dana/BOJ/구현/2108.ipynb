{
 "cells": [
  {
   "cell_type": "code",
   "execution_count": 10,
   "id": "f29b21f0-02e2-4c69-a4b5-f70b4c08f2ec",
   "metadata": {},
   "outputs": [
    {
     "name": "stdin",
     "output_type": "stream",
     "text": [
      " 3\n",
      " 0\n",
      " 0\n",
      " -1\n"
     ]
    },
    {
     "name": "stdout",
     "output_type": "stream",
     "text": [
      "0\n",
      "0\n",
      "0\n",
      "1\n"
     ]
    }
   ],
   "source": [
    "#내 답 = 틀림 \n",
    "\n",
    "from collections import Counter\n",
    "\n",
    "n = int(input())\n",
    "numbers = [int(input()) for _ in range(n)]\n",
    "\n",
    "#산술평균\n",
    "print(int(round(sum(numbers)/n)))\n",
    "#중앙값\n",
    "numbers2 = sorted(numbers)\n",
    "print(numbers2[n//2])\n",
    "#최빈값\n",
    "print(Counter(numbers).most_common(1)[0][0])\n",
    "#범위\n",
    "print(numbers2[-1]-numbers2[0])"
   ]
  },
  {
   "cell_type": "code",
   "execution_count": null,
   "id": "4745fbd3-754c-4119-b109-2baaefb658db",
   "metadata": {},
   "outputs": [],
   "source": [
    "#지피티답..\n",
    "\n",
    "from collections import Counter\n",
    "\n",
    "n = int(input())\n",
    "numbers = [int(input()) for _ in range(n)]\n",
    "\n",
    "# 산술평균 (반올림 후 정수 변환)\n",
    "print(int(round(sum(numbers)/n)))  # `, 0` 제거하여 `0.0` 방지\n",
    "\n",
    "# 중앙값\n",
    "numbers.sort()\n",
    "print(numbers[n//2])\n",
    "\n",
    "# 최빈값 (여러 개일 경우 두 번째로 작은 값 출력)\n",
    "counter = Counter(numbers)\n",
    "most_common_list = counter.most_common()\n",
    "\n",
    "if len(most_common_list) > 1 and most_common_list[0][1] == most_common_list[1][1]:\n",
    "    print(most_common_list[1][0])  # 두 번째로 작은 최빈값 출력\n",
    "else:\n",
    "    print(most_common_list[0][0])  # 최빈값이 하나라면 그대로 출력\n",
    "\n",
    "# 범위 (최댓값 - 최솟값)\n",
    "print(numbers[-1] - numbers[0])"
   ]
  }
 ],
 "metadata": {
  "kernelspec": {
   "display_name": "Python 3 (ipykernel)",
   "language": "python",
   "name": "python3"
  },
  "language_info": {
   "codemirror_mode": {
    "name": "ipython",
    "version": 3
   },
   "file_extension": ".py",
   "mimetype": "text/x-python",
   "name": "python",
   "nbconvert_exporter": "python",
   "pygments_lexer": "ipython3",
   "version": "3.13.1"
  }
 },
 "nbformat": 4,
 "nbformat_minor": 5
}
