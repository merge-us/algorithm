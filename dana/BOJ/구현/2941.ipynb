{
 "cells": [
  {
   "cell_type": "code",
   "execution_count": 15,
   "id": "162b4120-cd02-46a2-8308-370a7a279ec3",
   "metadata": {},
   "outputs": [
    {
     "name": "stdin",
     "output_type": "stream",
     "text": [
      " dz=ak\n"
     ]
    },
    {
     "name": "stdout",
     "output_type": "stream",
     "text": [
      "3\n"
     ]
    }
   ],
   "source": [
    "#내가 짠 코드 - 런타임 에러\n",
    "word = list(input().strip())\n",
    "count =0\n",
    "i=0\n",
    "while i<(len(word)):\n",
    "    if word[i+1]:\n",
    "        if word[i]=='d':\n",
    "            if word[i+1]=='z':\n",
    "                count+=1\n",
    "                i+=3\n",
    "            elif word[i+1]=='-' : \n",
    "                count+=1\n",
    "                i+=2\n",
    "            else:\n",
    "                count+=1\n",
    "                i+=1\n",
    "        elif word[i]=='c':\n",
    "            if word[i+1]=='=':\n",
    "                count+=1\n",
    "                i+=2\n",
    "            elif word[i+1]=='-' : \n",
    "                count+=1\n",
    "                i+=2\n",
    "            else:\n",
    "                count+=1\n",
    "                i+=1\n",
    "        elif word[i]=='s':\n",
    "            if word[i+1]=='=':\n",
    "                count+=1\n",
    "                i+=2\n",
    "            else:\n",
    "                count+=1\n",
    "                i+=1\n",
    "        elif word[i]=='z':\n",
    "            if word[i+1]=='=':\n",
    "                count+=1\n",
    "                i+=2\n",
    "            else:\n",
    "                count+=1\n",
    "                i+=1\n",
    "        elif word[i]=='l':\n",
    "            if word[i+1]=='j':\n",
    "                count+=1\n",
    "                i+=2\n",
    "            else:\n",
    "                count+=1\n",
    "                i+=1\n",
    "        elif word[i]=='n':\n",
    "            if word[i+1]=='j':\n",
    "                count+=1\n",
    "                i+=2\n",
    "            else:\n",
    "                count+=1\n",
    "                i+=1\n",
    "        else:\n",
    "            count+=1\n",
    "            i+=1\n",
    "print(count)"
   ]
  },
  {
   "cell_type": "code",
   "execution_count": 17,
   "id": "cb32156f-2594-4bbd-b083-744c6892d4c3",
   "metadata": {},
   "outputs": [
    {
     "name": "stdin",
     "output_type": "stream",
     "text": [
      " ddz=z=\n"
     ]
    },
    {
     "name": "stdout",
     "output_type": "stream",
     "text": [
      "3\n"
     ]
    }
   ],
   "source": [
    "#지피티 코드\n",
    "word = input().strip()\n",
    "patterns = [\"dz=\",\"c=\",\"c-\",\"d-\",\"lj\",\"nj\",\"s=\",\"z=\"]\n",
    "\n",
    "for pattern in patterns:\n",
    "    #replace 함수 : replace(찾을 문자열, 바꿀 문자열)\n",
    "    word = word.replace(pattern,\"X\")\n",
    "\n",
    "print(len(word))"
   ]
  },
  {
   "cell_type": "code",
   "execution_count": null,
   "id": "d0899d2f-f502-46be-899c-32be86376b6b",
   "metadata": {},
   "outputs": [],
   "source": []
  }
 ],
 "metadata": {
  "kernelspec": {
   "display_name": "Python 3 (ipykernel)",
   "language": "python",
   "name": "python3"
  },
  "language_info": {
   "codemirror_mode": {
    "name": "ipython",
    "version": 3
   },
   "file_extension": ".py",
   "mimetype": "text/x-python",
   "name": "python",
   "nbconvert_exporter": "python",
   "pygments_lexer": "ipython3",
   "version": "3.13.1"
  }
 },
 "nbformat": 4,
 "nbformat_minor": 5
}
