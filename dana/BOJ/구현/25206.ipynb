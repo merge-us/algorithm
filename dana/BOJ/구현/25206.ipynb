{
 "cells": [
  {
   "cell_type": "code",
   "execution_count": 23,
   "id": "1665b0a7-dc2a-4705-94c3-cfd8ff3929d6",
   "metadata": {},
   "outputs": [
    {
     "ename": "KeyboardInterrupt",
     "evalue": "Interrupted by user",
     "output_type": "error",
     "traceback": [
      "\u001b[0;31m---------------------------------------------------------------------------\u001b[0m",
      "\u001b[0;31mKeyboardInterrupt\u001b[0m                         Traceback (most recent call last)",
      "Cell \u001b[0;32mIn[23], line 6\u001b[0m\n\u001b[1;32m      3\u001b[0m credit_sum \u001b[38;5;241m=\u001b[39m \u001b[38;5;241m0\u001b[39m\n\u001b[1;32m      5\u001b[0m \u001b[38;5;28;01mfor\u001b[39;00m _ \u001b[38;5;129;01min\u001b[39;00m \u001b[38;5;28mrange\u001b[39m(\u001b[38;5;241m20\u001b[39m):\n\u001b[0;32m----> 6\u001b[0m     data \u001b[38;5;241m=\u001b[39m \u001b[38;5;28;43minput\u001b[39;49m\u001b[43m(\u001b[49m\u001b[43m)\u001b[49m\n\u001b[1;32m      7\u001b[0m     \u001b[38;5;28;01mif\u001b[39;00m data[\u001b[38;5;241m-\u001b[39m\u001b[38;5;241m1\u001b[39m]\u001b[38;5;241m!=\u001b[39m\u001b[38;5;124m'\u001b[39m\u001b[38;5;124mP\u001b[39m\u001b[38;5;124m'\u001b[39m:\n\u001b[1;32m      8\u001b[0m         credit \u001b[38;5;241m=\u001b[39m \u001b[38;5;28mfloat\u001b[39m(data[\u001b[38;5;241m-\u001b[39m\u001b[38;5;241m6\u001b[39m:\u001b[38;5;241m-\u001b[39m\u001b[38;5;241m3\u001b[39m])\n",
      "File \u001b[0;32m/opt/homebrew/Cellar/jupyterlab/4.3.5/libexec/lib/python3.13/site-packages/ipykernel/kernelbase.py:1282\u001b[0m, in \u001b[0;36mKernel.raw_input\u001b[0;34m(self, prompt)\u001b[0m\n\u001b[1;32m   1280\u001b[0m     msg \u001b[38;5;241m=\u001b[39m \u001b[38;5;124m\"\u001b[39m\u001b[38;5;124mraw_input was called, but this frontend does not support input requests.\u001b[39m\u001b[38;5;124m\"\u001b[39m\n\u001b[1;32m   1281\u001b[0m     \u001b[38;5;28;01mraise\u001b[39;00m StdinNotImplementedError(msg)\n\u001b[0;32m-> 1282\u001b[0m \u001b[38;5;28;01mreturn\u001b[39;00m \u001b[38;5;28;43mself\u001b[39;49m\u001b[38;5;241;43m.\u001b[39;49m\u001b[43m_input_request\u001b[49m\u001b[43m(\u001b[49m\n\u001b[1;32m   1283\u001b[0m \u001b[43m    \u001b[49m\u001b[38;5;28;43mstr\u001b[39;49m\u001b[43m(\u001b[49m\u001b[43mprompt\u001b[49m\u001b[43m)\u001b[49m\u001b[43m,\u001b[49m\n\u001b[1;32m   1284\u001b[0m \u001b[43m    \u001b[49m\u001b[38;5;28;43mself\u001b[39;49m\u001b[38;5;241;43m.\u001b[39;49m\u001b[43m_parent_ident\u001b[49m\u001b[43m[\u001b[49m\u001b[38;5;124;43m\"\u001b[39;49m\u001b[38;5;124;43mshell\u001b[39;49m\u001b[38;5;124;43m\"\u001b[39;49m\u001b[43m]\u001b[49m\u001b[43m,\u001b[49m\n\u001b[1;32m   1285\u001b[0m \u001b[43m    \u001b[49m\u001b[38;5;28;43mself\u001b[39;49m\u001b[38;5;241;43m.\u001b[39;49m\u001b[43mget_parent\u001b[49m\u001b[43m(\u001b[49m\u001b[38;5;124;43m\"\u001b[39;49m\u001b[38;5;124;43mshell\u001b[39;49m\u001b[38;5;124;43m\"\u001b[39;49m\u001b[43m)\u001b[49m\u001b[43m,\u001b[49m\n\u001b[1;32m   1286\u001b[0m \u001b[43m    \u001b[49m\u001b[43mpassword\u001b[49m\u001b[38;5;241;43m=\u001b[39;49m\u001b[38;5;28;43;01mFalse\u001b[39;49;00m\u001b[43m,\u001b[49m\n\u001b[1;32m   1287\u001b[0m \u001b[43m\u001b[49m\u001b[43m)\u001b[49m\n",
      "File \u001b[0;32m/opt/homebrew/Cellar/jupyterlab/4.3.5/libexec/lib/python3.13/site-packages/ipykernel/kernelbase.py:1325\u001b[0m, in \u001b[0;36mKernel._input_request\u001b[0;34m(self, prompt, ident, parent, password)\u001b[0m\n\u001b[1;32m   1322\u001b[0m \u001b[38;5;28;01mexcept\u001b[39;00m \u001b[38;5;167;01mKeyboardInterrupt\u001b[39;00m:\n\u001b[1;32m   1323\u001b[0m     \u001b[38;5;66;03m# re-raise KeyboardInterrupt, to truncate traceback\u001b[39;00m\n\u001b[1;32m   1324\u001b[0m     msg \u001b[38;5;241m=\u001b[39m \u001b[38;5;124m\"\u001b[39m\u001b[38;5;124mInterrupted by user\u001b[39m\u001b[38;5;124m\"\u001b[39m\n\u001b[0;32m-> 1325\u001b[0m     \u001b[38;5;28;01mraise\u001b[39;00m \u001b[38;5;167;01mKeyboardInterrupt\u001b[39;00m(msg) \u001b[38;5;28;01mfrom\u001b[39;00m\u001b[38;5;250m \u001b[39m\u001b[38;5;28;01mNone\u001b[39;00m\n\u001b[1;32m   1326\u001b[0m \u001b[38;5;28;01mexcept\u001b[39;00m \u001b[38;5;167;01mException\u001b[39;00m:\n\u001b[1;32m   1327\u001b[0m     \u001b[38;5;28mself\u001b[39m\u001b[38;5;241m.\u001b[39mlog\u001b[38;5;241m.\u001b[39mwarning(\u001b[38;5;124m\"\u001b[39m\u001b[38;5;124mInvalid Message:\u001b[39m\u001b[38;5;124m\"\u001b[39m, exc_info\u001b[38;5;241m=\u001b[39m\u001b[38;5;28;01mTrue\u001b[39;00m)\n",
      "\u001b[0;31mKeyboardInterrupt\u001b[0m: Interrupted by user"
     ]
    }
   ],
   "source": [
    "#내답 - 맞긴함\n",
    "result = 0\n",
    "credit_sum = 0\n",
    "\n",
    "for _ in range(20):\n",
    "    data = input()\n",
    "    if data[-1]!='P':\n",
    "        credit = float(data[-6:-3])\n",
    "        credit_sum+=credit\n",
    "        if data[-2:] == 'A+':\n",
    "            result+=4.5*credit\n",
    "        elif data[-2:] == 'A0':\n",
    "            result+=4.0*credit\n",
    "        elif data[-2:] == 'B+':\n",
    "            result+=3.5*credit\n",
    "        elif data[-2:] == 'B0' :\n",
    "            result+=3.0*credit\n",
    "        elif data[-2:] == 'C+':\n",
    "            result+=2.5*credit\n",
    "        elif data[-2:] == 'C0':\n",
    "            result+=2.0*credit\n",
    "        elif data[-2:] == 'D+':\n",
    "            result+=1.5*credit\n",
    "        elif data[-2:] == 'D0':\n",
    "            result+=1.0*credit\n",
    "\n",
    "print(result/credit_sum)"
   ]
  },
  {
   "cell_type": "code",
   "execution_count": 24,
   "id": "60658a48-5f70-4deb-9fb3-41f193573120",
   "metadata": {},
   "outputs": [
    {
     "name": "stdin",
     "output_type": "stream",
     "text": [
      " ObjectOrientedProgramming1 3.0 A+\n",
      " IntroductiontoComputerEngineering 3.0 A+\n",
      " ObjectOrientedProgramming2 3.0 A0\n",
      " CreativeComputerEngineeringDesign 3.0 A+\n",
      " AssemblyLanguage 3.0 A+\n",
      " InternetProgramming 3.0 B0\n",
      " ApplicationProgramminginJava 3.0 A0\n",
      " SystemProgramming 3.0 B0\n",
      " OperatingSystem 3.0 B0\n",
      " WirelessCommunicationsandNetworking 3.0 C+\n",
      " LogicCircuits 3.0 B0\n",
      " DataStructure 4.0 A+\n",
      " MicroprocessorApplication 3.0 B+\n",
      " EmbeddedSoftware 3.0 C0\n",
      " ComputerSecurity 3.0 D+\n",
      " Database 3.0 C+\n",
      " Algorithm 3.0 B0\n",
      " CapstoneDesigninCSE 3.0 B+\n",
      " CompilerDesign 3.0 D0\n",
      " ProblemSolving 4.0 P\n"
     ]
    },
    {
     "name": "stdout",
     "output_type": "stream",
     "text": [
      "3.2844827586206895\n"
     ]
    }
   ],
   "source": [
    "#제발 split이랑 딕셔너리 사용하자 !\n",
    "grade_to_gpa = {\"A+\":4.5,\"A0\":4.0,\"B+\":3.5,\"B0\":3.0,\"C+\":2.5,\"C0\":2.0,\"D+\":1.5,\"D0\":1.0,\"F\":0.0}\n",
    "credit_sum = 0\n",
    "result = 0\n",
    "\n",
    "for _ in range(20):\n",
    "    name, credit, grade = input().split()\n",
    "    if grade == 'P':\n",
    "        continue\n",
    "    credit_sum += float(credit)\n",
    "    result += float(credit)*grade_to_gpa[grade]\n",
    "print(result/credit_sum)"
   ]
  },
  {
   "cell_type": "code",
   "execution_count": null,
   "id": "21bc13f4-7463-402e-a39f-25fdd445f448",
   "metadata": {},
   "outputs": [],
   "source": []
  }
 ],
 "metadata": {
  "kernelspec": {
   "display_name": "Python 3 (ipykernel)",
   "language": "python",
   "name": "python3"
  },
  "language_info": {
   "codemirror_mode": {
    "name": "ipython",
    "version": 3
   },
   "file_extension": ".py",
   "mimetype": "text/x-python",
   "name": "python",
   "nbconvert_exporter": "python",
   "pygments_lexer": "ipython3",
   "version": "3.13.1"
  }
 },
 "nbformat": 4,
 "nbformat_minor": 5
}
