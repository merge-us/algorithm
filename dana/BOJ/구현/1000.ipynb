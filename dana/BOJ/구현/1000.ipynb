{
 "cells": [
  {
   "cell_type": "code",
   "execution_count": null,
   "id": "36465d76-6135-4de8-9128-63bfb70d604d",
   "metadata": {},
   "outputs": [],
   "source": [
    "a,b = map(int,input().split())\n",
    "print(a+b)"
   ]
  }
 ],
 "metadata": {
  "kernelspec": {
   "display_name": "Python 3 (ipykernel)",
   "language": "python",
   "name": "python3"
  },
  "language_info": {
   "codemirror_mode": {
    "name": "ipython",
    "version": 3
   },
   "file_extension": ".py",
   "mimetype": "text/x-python",
   "name": "python",
   "nbconvert_exporter": "python",
   "pygments_lexer": "ipython3",
   "version": "3.13.1"
  }
 },
 "nbformat": 4,
 "nbformat_minor": 5
}
