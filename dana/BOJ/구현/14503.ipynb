{
 "cells": [
  {
   "cell_type": "code",
   "execution_count": 22,
   "id": "3895eaa6-1518-40f4-a19c-f62fac1050c0",
   "metadata": {},
   "outputs": [
    {
     "name": "stdin",
     "output_type": "stream",
     "text": [
      " 11 10\n",
      " 7 4 0\n",
      " 1 1 1 1 1 1 1 1 1 1\n",
      " 1 0 0 0 0 0 0 0 0 1\n",
      " 1 0 0 0 1 1 1 1 0 1\n",
      " 1 0 0 1 1 0 0 0 0 1\n",
      " 1 0 1 1 0 0 0 0 0 1\n",
      " 1 0 0 0 0 0 0 0 0 1\n",
      " 1 0 0 0 0 0 0 1 0 1\n",
      " 1 0 0 0 0 0 1 1 0 1\n",
      " 1 0 0 0 0 0 1 1 0 1\n",
      " 1 0 0 0 0 0 0 0 0 1\n",
      " 1 1 1 1 1 1 1 1 1 1\n"
     ]
    },
    {
     "name": "stdout",
     "output_type": "stream",
     "text": [
      "57\n"
     ]
    }
   ],
   "source": [
    "n,m = map(int,input().split())\n",
    "r,c,d = map(int,input().split())\n",
    "grid = [list(map(int,input().split())) for _ in range(n)]\n",
    "count = 0\n",
    "visited = [[False] * m for _ in range(n)]\n",
    "\n",
    "def clean(r,c,d):\n",
    "    global count \n",
    "    #상우하좌\n",
    "    dx = [-1,0,1,0]\n",
    "    dy = [0,1,0,-1]\n",
    "\n",
    "    if grid[r][c]==0 and not visited[r][c]:\n",
    "        visited[r][c] = True\n",
    "        count+=1\n",
    "    for _ in range(4):\n",
    "        #반시계방향으로 90도 회전\n",
    "        d = (d-1) % 4\n",
    "        nx, ny = r + dx[d], c + dy[d]\n",
    "        #바라보는 방향으로 기준으로 앞쪽 칸이 청소되지 않은 빈 칸인 경우 한 칸 전진하고 1번으로 돌아감 \n",
    "        if grid[nx][ny]==0 and visited[nx][ny] == False and 0<=nx<n and 0<=ny<m:\n",
    "            clean(nx,ny,d)\n",
    "            return\n",
    "    back = (d+2)%4\n",
    "    bx,by = r + dx[back], c + dy[back]\n",
    "    if 0<=bx<n and 0<=by<m and grid[bx][by]==0 :\n",
    "        clean(bx,by,d)\n",
    "\n",
    "clean(r,c,d)\n",
    "print(count)"
   ]
  },
  {
   "cell_type": "code",
   "execution_count": null,
   "id": "fac1df3f-6d89-40f2-9f2e-ebc7fef1ddc1",
   "metadata": {},
   "outputs": [],
   "source": [
    "#"
   ]
  }
 ],
 "metadata": {
  "kernelspec": {
   "display_name": "Python 3 (ipykernel)",
   "language": "python",
   "name": "python3"
  },
  "language_info": {
   "codemirror_mode": {
    "name": "ipython",
    "version": 3
   },
   "file_extension": ".py",
   "mimetype": "text/x-python",
   "name": "python",
   "nbconvert_exporter": "python",
   "pygments_lexer": "ipython3",
   "version": "3.13.1"
  }
 },
 "nbformat": 4,
 "nbformat_minor": 5
}
