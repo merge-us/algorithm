{
 "cells": [
  {
   "cell_type": "code",
   "execution_count": null,
   "id": "d2b5608e-9caf-4f20-b1bc-61105d23a50b",
   "metadata": {},
   "outputs": [
    {
     "name": "stdin",
     "output_type": "stream",
     "text": [
      " 6\n"
     ]
    }
   ],
   "source": [
    "#bottom-up\n",
    "\n",
    "n = int(input())\n",
    "wine = [int(input()) for _ in range(n)]\n",
    "\n",
    "dp = [0]*n\n",
    "dp[0] = wine[0]\n",
    "if n>1:\n",
    "    dp[1] = wine[0]+wine[1]\n",
    "    if n>2:\n",
    "        dp[2] = max(dp[1], dp[0] + wine[2], wine[1] + wine[2])\n",
    "\n",
    "for i in range(3,n):\n",
    "    #선택 안하는 경우, 선택하고 그 전에꺼 선택 안하는 경우, 선택하고 2개전꺼 선택하는경우\n",
    "    dp[i] = max(dp[i-1],dp[i-2]+wine[i],dp[i-3]+wine[i-1]+wine[i])\n",
    "print(dp[n-1])"
   ]
  },
  {
   "cell_type": "code",
   "execution_count": null,
   "id": "e88dfa25-ef23-4f49-80cf-3e0718d4f90a",
   "metadata": {},
   "outputs": [],
   "source": [
    "n = int(input())\n",
    "wine = [int(input()) for _ in range(n)]\n",
    "\n",
    "if n == 1:\n",
    "    print(wine[0])\n",
    "elif n == 2:\n",
    "    print(wine[0] + wine[1])\n",
    "else:\n",
    "    dp = [0] * 3\n",
    "    dp[0] = wine[0]\n",
    "    dp[1] = wine[0] + wine[1]\n",
    "    dp[2] = max(dp[1], dp[0] + wine[2], wine[1] + wine[2])\n",
    "\n",
    "    for i in range(3, n):\n",
    "        dp[i % 3] = max(dp[(i - 1) % 3], dp[(i - 2) % 3] + wine[i], dp[(i - 3) % 3] + wine[i - 1] + wine[i])\n",
    "\n",
    "    print(dp[(n - 1) % 3])"
   ]
  }
 ],
 "metadata": {
  "kernelspec": {
   "display_name": "Python 3 (ipykernel)",
   "language": "python",
   "name": "python3"
  },
  "language_info": {
   "codemirror_mode": {
    "name": "ipython",
    "version": 3
   },
   "file_extension": ".py",
   "mimetype": "text/x-python",
   "name": "python",
   "nbconvert_exporter": "python",
   "pygments_lexer": "ipython3",
   "version": "3.13.1"
  }
 },
 "nbformat": 4,
 "nbformat_minor": 5
}
