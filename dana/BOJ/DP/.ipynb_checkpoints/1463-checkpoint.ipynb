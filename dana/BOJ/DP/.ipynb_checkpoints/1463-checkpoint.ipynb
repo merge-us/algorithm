{
 "cells": [
  {
   "cell_type": "code",
   "execution_count": 10,
   "id": "e18df847-a86b-422f-8626-4bceef41cb23",
   "metadata": {},
   "outputs": [
    {
     "name": "stdin",
     "output_type": "stream",
     "text": [
      " 10\n"
     ]
    },
    {
     "name": "stdout",
     "output_type": "stream",
     "text": [
      "3\n"
     ]
    }
   ],
   "source": [
    "#bottom-up\n",
    "n = int(input())\n",
    "\n",
    "dp = [0]*(n+1)\n",
    "dp[0] = 0\n",
    "dp[1] = 0\n",
    "\n",
    "for i in range(2,n+1):\n",
    "    dp[i] = dp[i-1]+1\n",
    "    if i%2 == 0 :\n",
    "        dp[i] = min(dp[i],dp[i//2]+1)\n",
    "    if i%3 == 0:\n",
    "        dp[i] = min(dp[i],dp[i//3]+1)\n",
    "    \n",
    "print(dp[n])"
   ]
  },
  {
   "cell_type": "code",
   "execution_count": 13,
   "id": "f8b01946-090f-46be-b23c-0d3a6b268694",
   "metadata": {},
   "outputs": [
    {
     "name": "stdin",
     "output_type": "stream",
     "text": [
      " 10\n"
     ]
    },
    {
     "name": "stdout",
     "output_type": "stream",
     "text": [
      "3\n"
     ]
    }
   ],
   "source": [
    "n = int(input())\n",
    "\n",
    "dp = [0]*(n+1)\n",
    "dp[0],dp[1] = 0,0\n",
    "\n",
    "for i in range(2,n+1):\n",
    "    dp[i] = dp[i-1]+1\n",
    "    if i%2 == 0:\n",
    "        dp[i]=min(dp[i],dp[i//2]+1)\n",
    "    if i%3 == 0:\n",
    "        dp[i] = min(dp[i],dp[i//3]+1)\n",
    "print(dp[n])"
   ]
  },
  {
   "cell_type": "code",
   "execution_count": 15,
   "id": "593be24e-2141-4200-a4c4-04cae9c45eef",
   "metadata": {},
   "outputs": [
    {
     "name": "stdin",
     "output_type": "stream",
     "text": [
      " 10\n"
     ]
    },
    {
     "name": "stdout",
     "output_type": "stream",
     "text": [
      "3\n"
     ]
    }
   ],
   "source": [
    "n = int(input())\n",
    "\n",
    "dp = [0]*n\n",
    "dp[0]=0\n",
    "\n",
    "for i in range(1,n):\n",
    "    dp[i] = dp[i-1]+1\n",
    "    if i%2 == 0:\n",
    "        dp[i]=min(dp[i],dp[i//2]+1)\n",
    "    if i%3 == 0:\n",
    "        dp[i] = min(dp[i],dp[i//3]+1)\n",
    "print(dp[n-1])"
   ]
  },
  {
   "cell_type": "code",
   "execution_count": null,
   "id": "3497b6e2-e939-470e-8c17-ead89cf31316",
   "metadata": {},
   "outputs": [],
   "source": []
  }
 ],
 "metadata": {
  "kernelspec": {
   "display_name": "Python 3 (ipykernel)",
   "language": "python",
   "name": "python3"
  },
  "language_info": {
   "codemirror_mode": {
    "name": "ipython",
    "version": 3
   },
   "file_extension": ".py",
   "mimetype": "text/x-python",
   "name": "python",
   "nbconvert_exporter": "python",
   "pygments_lexer": "ipython3",
   "version": "3.13.1"
  }
 },
 "nbformat": 4,
 "nbformat_minor": 5
}
