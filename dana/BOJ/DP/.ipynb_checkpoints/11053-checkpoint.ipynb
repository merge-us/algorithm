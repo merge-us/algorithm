{
 "cells": [
  {
   "cell_type": "code",
   "execution_count": 15,
   "id": "8d0dc19a-1ef7-4991-a379-69c1d68af892",
   "metadata": {},
   "outputs": [
    {
     "name": "stdin",
     "output_type": "stream",
     "text": [
      " 6\n",
      " 10 20 10 30 20 50\n"
     ]
    },
    {
     "name": "stdout",
     "output_type": "stream",
     "text": [
      "4\n"
     ]
    }
   ],
   "source": [
    "n = int(input())\n",
    "numbers = list(map(int,input().split()))\n",
    "\n",
    "dp = [1]*n\n",
    "\n",
    "for i in range(1,n):\n",
    "    for j in range(i):\n",
    "        if numbers[i]>numbers[j]:\n",
    "            dp[i]=max(dp[i], dp[j] + 1)\n",
    "        \n",
    "print(max(dp))"
   ]
  },
  {
   "cell_type": "code",
   "execution_count": null,
   "id": "aefa3da2-67ad-42d8-b70e-1cbff0dd80bc",
   "metadata": {},
   "outputs": [],
   "source": [
    "n = int(input())\n",
    "numbers = list(map(int,input().split()))\n",
    "\n",
    "dp = [1]*n\n",
    "\n",
    "for i in range(1,n):\n",
    "    for j in range(i):\n",
    "        if numbers[i]>numbers[j]:\n",
    "            dp[i]=dp[j]+1\n",
    "\n",
    "print(max(dp))"
   ]
  },
  {
   "cell_type": "code",
   "execution_count": null,
   "id": "cb897a1f-5f9e-4e8a-995d-2e64d69d61ee",
   "metadata": {},
   "outputs": [],
   "source": []
  }
 ],
 "metadata": {
  "kernelspec": {
   "display_name": "Python 3 (ipykernel)",
   "language": "python",
   "name": "python3"
  },
  "language_info": {
   "codemirror_mode": {
    "name": "ipython",
    "version": 3
   },
   "file_extension": ".py",
   "mimetype": "text/x-python",
   "name": "python",
   "nbconvert_exporter": "python",
   "pygments_lexer": "ipython3",
   "version": "3.13.1"
  }
 },
 "nbformat": 4,
 "nbformat_minor": 5
}
