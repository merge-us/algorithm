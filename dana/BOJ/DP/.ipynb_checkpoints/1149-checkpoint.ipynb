{
 "cells": [
  {
   "cell_type": "code",
   "execution_count": 13,
   "id": "f80ec2fa-4a8a-4ae0-9822-17c8ada3b2e8",
   "metadata": {},
   "outputs": [
    {
     "name": "stdin",
     "output_type": "stream",
     "text": [
      " 3\n",
      " 26 40 83\n",
      " 49 60 57\n",
      " 13 89 99\n"
     ]
    },
    {
     "name": "stdout",
     "output_type": "stream",
     "text": [
      "96\n"
     ]
    }
   ],
   "source": [
    "#bottom-up\n",
    "\n",
    "n = int(input())\n",
    "costs = [list(map(int,input().split())) for _ in range(n)]\n",
    "\n",
    "#dp[i][j] 리스트 초기화 : i번째 집을 j색으로 칠했을때 최소 비용\n",
    "dp = [[0]*3 for _ in range(n)]\n",
    "dp[0]= costs[0]\n",
    "\n",
    "#점화식\n",
    "for i in range(1,n):\n",
    "    for j in range(3):\n",
    "        #빨강으로 칠할 경우 = 이전 집 초록, 파랑 중 더 저렴한 비용 + 현재 집 빨강색으로 칠하는 비용\n",
    "        if j == 0:\n",
    "            dp[i][j] = min(dp[i-1][1],dp[i-1][2]) + costs[i][j]\n",
    "        if j == 1:\n",
    "            dp[i][j] = min(dp[i-1][0],dp[i-1][2]) + costs[i][j]\n",
    "        if j == 2:\n",
    "            dp[i][j] = min(dp[i-1][0],dp[i-1][1]) + costs[i][j]\n",
    "        \n",
    "print(min(dp[n-1]))"
   ]
  }
 ],
 "metadata": {
  "kernelspec": {
   "display_name": "Python 3 (ipykernel)",
   "language": "python",
   "name": "python3"
  },
  "language_info": {
   "codemirror_mode": {
    "name": "ipython",
    "version": 3
   },
   "file_extension": ".py",
   "mimetype": "text/x-python",
   "name": "python",
   "nbconvert_exporter": "python",
   "pygments_lexer": "ipython3",
   "version": "3.13.1"
  }
 },
 "nbformat": 4,
 "nbformat_minor": 5
}
