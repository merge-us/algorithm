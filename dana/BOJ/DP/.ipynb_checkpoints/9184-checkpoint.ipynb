{
 "cells": [
  {
   "cell_type": "code",
   "execution_count": 22,
   "id": "9565a5e0-0873-416e-b1fd-75c2cce82862",
   "metadata": {},
   "outputs": [
    {
     "name": "stdin",
     "output_type": "stream",
     "text": [
      " 1 1 1\n",
      " 2 2 2\n",
      " 10 4 6\n",
      " 50 50 50\n",
      " -1 7 18\n",
      " -1 -1 -1\n"
     ]
    },
    {
     "name": "stdout",
     "output_type": "stream",
     "text": [
      "w(1, 1, 1) = 2\n",
      "w(2, 2, 2) = 4\n",
      "w(10, 4, 6) = 523\n",
      "w(50, 50, 50) = 1048576\n",
      "w(-1, 7, 18) = 1\n"
     ]
    }
   ],
   "source": [
    "# 내답 - 답은 나오는데 틀렸다고함 \n",
    "datas = []\n",
    "while True:\n",
    "    numbers = list(map(int,input().split()))\n",
    "    if numbers == [-1,-1,-1]:\n",
    "        break\n",
    "    datas.append(numbers)\n",
    "\n",
    "def w(a,b,c):\n",
    "    #base case \n",
    "    if a<=0 or b<=0 or c<=0 :\n",
    "        return 1\n",
    "    #dp 테이블 초기화\n",
    "    f = [[[0] * 51 for _ in range(51)] for _ in range(51)]\n",
    "    #base case 설정\n",
    "    for i in range(-50,1):\n",
    "        for j in range(-50,1):\n",
    "            for k in range(-50,1):\n",
    "                f[i][j][k]=1\n",
    "    #점화식 사용\n",
    "    for i in range(1,21):\n",
    "        for j in range(1,21):\n",
    "            for k in range(1,21):\n",
    "                if i<j and j<k:\n",
    "                    f[i][j][k]=f[i][j][k-1] + f[i][j-1][k-1] - f[i][j-1][k]\n",
    "                else:\n",
    "                    f[i][j][k]= f[i-1][j][k] + f[i-1][j-1][k] + f[i-1][j][k-1] - f[i-1][j-1][k-1]\n",
    "    for i in range(20,51):\n",
    "        for j in range(20,51):\n",
    "            for k in range(20,51):\n",
    "                f[i][j][k]= f[20][20][20]\n",
    "    return f[a][b][c]\n",
    "\n",
    "for data in datas :\n",
    "    a,b,c = data\n",
    "    print(f\"w({a}, {b}, {c}) = {w(a,b,c)}\")"
   ]
  },
  {
   "cell_type": "code",
   "execution_count": 25,
   "id": "577d1b71-a23d-4dd0-aeb5-c8ca86b8be4e",
   "metadata": {},
   "outputs": [
    {
     "name": "stdin",
     "output_type": "stream",
     "text": [
      " 1 1 1\n",
      " 2 2 2\n",
      " 10 4 6\n",
      " 50 50 50\n",
      " -1 7 18\n",
      " -1 -1 -1\n"
     ]
    },
    {
     "name": "stdout",
     "output_type": "stream",
     "text": [
      "w(1, 1, 1) = 2\n",
      "w(2, 2, 2) = 4\n",
      "w(10, 4, 6) = 523\n",
      "w(50, 50, 50) = 1048576\n",
      "w(-1, 7, 18) = 1\n"
     ]
    }
   ],
   "source": [
    "# 지피티답 \n",
    "datas = []\n",
    "while True:\n",
    "    numbers = list(map(int,input().split()))\n",
    "    if numbers == [-1,-1,-1]:\n",
    "        break\n",
    "    datas.append(numbers)\n",
    "\n",
    "#dp 테이블 초기화\n",
    "f = [[[0] * 101 for _ in range(101)] for _ in range(101)]\n",
    "    \n",
    "def w(a,b,c):\n",
    "    #base case \n",
    "    if a<=0 or b<=0 or c<=0 :\n",
    "        return 1\n",
    "    if a>20 or b>20 or c>20:\n",
    "        return w(20,20,20)\n",
    "\n",
    "    #이미 찾은 답이면 그거 return 해주기 \n",
    "    if f[a][b][c] != 0:\n",
    "        return f[a][b][c]\n",
    "        \n",
    "    #점화식 사용\n",
    "    if a<b and b<c:\n",
    "        f[a][b][c] = w(a, b, c-1) + w(a, b-1, c-1) - w(a, b-1, c)\n",
    "    else:\n",
    "        f[a][b][c] =  w(a-1, b, c) + w(a-1, b-1, c) + w(a-1, b, c-1) - w(a-1, b-1, c-1)\n",
    "    \n",
    "    return f[a][b][c]\n",
    "\n",
    "for data in datas :\n",
    "    a,b,c = data\n",
    "    print(f\"w({a}, {b}, {c}) = {w(a,b,c)}\")"
   ]
  },
  {
   "cell_type": "code",
   "execution_count": null,
   "id": "5af0bce9-319a-46e0-adcb-e4f9326234dc",
   "metadata": {},
   "outputs": [],
   "source": []
  }
 ],
 "metadata": {
  "kernelspec": {
   "display_name": "Python 3 (ipykernel)",
   "language": "python",
   "name": "python3"
  },
  "language_info": {
   "codemirror_mode": {
    "name": "ipython",
    "version": 3
   },
   "file_extension": ".py",
   "mimetype": "text/x-python",
   "name": "python",
   "nbconvert_exporter": "python",
   "pygments_lexer": "ipython3",
   "version": "3.13.1"
  }
 },
 "nbformat": 4,
 "nbformat_minor": 5
}
