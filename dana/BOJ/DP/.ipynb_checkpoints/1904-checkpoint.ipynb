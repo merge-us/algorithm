{
 "cells": [
  {
   "cell_type": "code",
   "execution_count": 7,
   "id": "6f40c9c2-1924-460d-9e06-274d98b104c9",
   "metadata": {},
   "outputs": [
    {
     "name": "stdin",
     "output_type": "stream",
     "text": [
      " 4\n"
     ]
    },
    {
     "name": "stdout",
     "output_type": "stream",
     "text": [
      "5\n"
     ]
    }
   ],
   "source": [
    "#bottom-up : 반복문으로 미리 채우기 \n",
    "#메모리 초과 \n",
    "\n",
    "n = int(input())\n",
    "\n",
    "#dp 테이블\n",
    "dp = [0]*(n+1)\n",
    "\n",
    "\n",
    "def find(n):\n",
    "    if n==1:\n",
    "        return 1\n",
    "    if n==2:\n",
    "        return 2\n",
    "    #base case\n",
    "    dp[1], dp[2] = 1,2\n",
    "    \n",
    "    #점화식으로 반복문으로 테이블 채우기 \n",
    "    for i in range(3,n+1):\n",
    "        dp[i] = dp[i-1]+dp[i-2]\n",
    "    return dp[n]\n",
    "    \n",
    "print(find(n)%15746)"
   ]
  },
  {
   "cell_type": "code",
   "execution_count": 9,
   "id": "68b53b57-bd5c-48ac-b39c-be0008bf4c5d",
   "metadata": {},
   "outputs": [
    {
     "name": "stdin",
     "output_type": "stream",
     "text": [
      " 4\n"
     ]
    },
    {
     "name": "stdout",
     "output_type": "stream",
     "text": [
      "5\n"
     ]
    }
   ],
   "source": [
    "#bottom-up : 반복문으로 미리 채우기 \n",
    "#배열 말고 prev,curr 쓰기 (저장 x)\n",
    "#시간초과뜸..\n",
    "\n",
    "n = int(input())\n",
    "\n",
    "def find(n):\n",
    "    if n==1:\n",
    "        return 1\n",
    "    if n==2:\n",
    "        return 2\n",
    "    #base case\n",
    "    prev, curr = 1,2\n",
    "    \n",
    "    #점화식으로 반복문으로 테이블 채우기 \n",
    "    for i in range(3,n+1):\n",
    "        prev, curr = curr, prev + curr\n",
    "    return curr\n",
    "    \n",
    "print(find(n)%15746)"
   ]
  },
  {
   "cell_type": "code",
   "execution_count": 10,
   "id": "28733751-e884-4696-98d7-e3cbd2ba8966",
   "metadata": {},
   "outputs": [
    {
     "name": "stdin",
     "output_type": "stream",
     "text": [
      " 4\n"
     ]
    },
    {
     "name": "stdout",
     "output_type": "stream",
     "text": [
      "5\n"
     ]
    }
   ],
   "source": [
    "#bottom-up : 반복문으로 미리 채우기 \n",
    "#배열 말고 prev,curr 쓰기 (저장 x)\n",
    "# %15746 연산을 미리 해주기\n",
    "\n",
    "n = int(input())\n",
    "\n",
    "def find(n):\n",
    "    if n==1:\n",
    "        return 1\n",
    "    if n==2:\n",
    "        return 2\n",
    "    #base case\n",
    "    prev, curr = 1,2\n",
    "    \n",
    "    #점화식으로 반복문으로 테이블 채우기 \n",
    "    for i in range(3,n+1):\n",
    "        prev, curr = curr, (prev + curr)%15746\n",
    "    return curr\n",
    "    \n",
    "print(find(n))"
   ]
  },
  {
   "cell_type": "code",
   "execution_count": null,
   "id": "1debd21e-f3e1-42c0-acde-ee873947864f",
   "metadata": {},
   "outputs": [],
   "source": []
  }
 ],
 "metadata": {
  "kernelspec": {
   "display_name": "Python 3 (ipykernel)",
   "language": "python",
   "name": "python3"
  },
  "language_info": {
   "codemirror_mode": {
    "name": "ipython",
    "version": 3
   },
   "file_extension": ".py",
   "mimetype": "text/x-python",
   "name": "python",
   "nbconvert_exporter": "python",
   "pygments_lexer": "ipython3",
   "version": "3.13.1"
  }
 },
 "nbformat": 4,
 "nbformat_minor": 5
}
