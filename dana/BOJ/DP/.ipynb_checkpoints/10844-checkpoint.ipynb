{
 "cells": [
  {
   "cell_type": "code",
   "execution_count": 8,
   "id": "240c8c74-15cb-4642-ba18-ef8e15a02b41",
   "metadata": {},
   "outputs": [
    {
     "name": "stdin",
     "output_type": "stream",
     "text": [
      " 1\n"
     ]
    },
    {
     "name": "stdout",
     "output_type": "stream",
     "text": [
      "9\n"
     ]
    }
   ],
   "source": [
    "#틀림. \n",
    "n = int(input())\n",
    "\n",
    "dp = [0]*(n+1)\n",
    "dp[0] = 0\n",
    "dp[1] = 9\n",
    "\n",
    "for i in range(2,n+1):\n",
    "    dp[i] = dp[i-1]*2-(i-1)\n",
    "\n",
    "print(dp[n]%1000000000)"
   ]
  },
  {
   "cell_type": "code",
   "execution_count": 21,
   "id": "d72db5a3-73a4-4119-9eda-143db7961537",
   "metadata": {},
   "outputs": [
    {
     "name": "stdin",
     "output_type": "stream",
     "text": [
      " 2\n"
     ]
    },
    {
     "name": "stdout",
     "output_type": "stream",
     "text": [
      "19\n"
     ]
    }
   ],
   "source": [
    "n = int(input())\n",
    "\n",
    "dp = [[0]*10 for _ in range(n+1)]\n",
    "dp[0] = [0]*10\n",
    "dp[1] = [1]*10\n",
    "\n",
    "for i in range(2,n+1):\n",
    "    dp[i] = dp[i-1]\n",
    "    for j in range(1,10):\n",
    "        dp[i][j] = dp[i-1][j]*2\n",
    "            \n",
    "\n",
    "print(sum(dp[n])%1000000000)"
   ]
  },
  {
   "cell_type": "code",
   "execution_count": null,
   "id": "1d4e3048-2cc1-47d6-9523-b8b11f009097",
   "metadata": {},
   "outputs": [],
   "source": []
  }
 ],
 "metadata": {
  "kernelspec": {
   "display_name": "Python 3 (ipykernel)",
   "language": "python",
   "name": "python3"
  },
  "language_info": {
   "codemirror_mode": {
    "name": "ipython",
    "version": 3
   },
   "file_extension": ".py",
   "mimetype": "text/x-python",
   "name": "python",
   "nbconvert_exporter": "python",
   "pygments_lexer": "ipython3",
   "version": "3.13.1"
  }
 },
 "nbformat": 4,
 "nbformat_minor": 5
}
