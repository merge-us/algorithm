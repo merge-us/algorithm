{
 "cells": [
  {
   "cell_type": "code",
   "execution_count": 7,
   "id": "0f3b61a6-deeb-4678-87b0-a014b29e9418",
   "metadata": {},
   "outputs": [
    {
     "name": "stdin",
     "output_type": "stream",
     "text": [
      " 5\n",
      " 7\n",
      " 3 8\n",
      " 8 1 0\n",
      " 2 7 4 4\n",
      " 4 5 2 6 5\n"
     ]
    },
    {
     "name": "stdout",
     "output_type": "stream",
     "text": [
      "30\n"
     ]
    }
   ],
   "source": [
    "#bottom-up : 내 답 : 맞음 !\n",
    "\n",
    "n = int(input())\n",
    "\n",
    "numbers = [list(map(int,input().split())) for _ in range(n)]\n",
    "\n",
    "dp = [[0]*n for _ in range(n)]\n",
    "dp[0][0] = numbers[0][0]\n",
    "\n",
    "for i in range(1,n):\n",
    "    for j in range(len(numbers[i])):\n",
    "        dp[i][j] = max(dp[i-1][j-1],dp[i-1][j])+numbers[i][j]\n",
    "print(max(dp[n-1]))\n"
   ]
  },
  {
   "cell_type": "code",
   "execution_count": null,
   "id": "91f5b634-753d-4ab6-9b27-f55bd65857b6",
   "metadata": {},
   "outputs": [],
   "source": [
    "#지피티 최적화\n",
    "\n",
    "n = int(input())\n",
    "\n",
    "# 삼각형 구조 입력 받기\n",
    "numbers = [list(map(int, input().split())) for _ in range(n)]\n",
    "\n",
    "# DP 진행 (numbers 배열을 직접 활용하여 메모리 절약)\n",
    "for i in range(1, n):\n",
    "    for j in range(i + 1):\n",
    "        if j == 0:  # 첫 번째 요소는 위에서 왼쪽만 가능\n",
    "            numbers[i][j] += numbers[i-1][j]\n",
    "        elif j == i:  # 마지막 요소는 위에서 오른쪽만 가능\n",
    "            numbers[i][j] += numbers[i-1][j-1]\n",
    "        else:  # 중간 요소는 왼쪽 대각선과 오른쪽 대각선 중 큰 값 선택\n",
    "            numbers[i][j] += max(numbers[i-1][j-1], numbers[i-1][j])\n",
    "\n",
    "# 최대값 출력 (마지막 행에서 최댓값 찾기)\n",
    "print(max(numbers[-1]))"
   ]
  }
 ],
 "metadata": {
  "kernelspec": {
   "display_name": "Python 3 (ipykernel)",
   "language": "python",
   "name": "python3"
  },
  "language_info": {
   "codemirror_mode": {
    "name": "ipython",
    "version": 3
   },
   "file_extension": ".py",
   "mimetype": "text/x-python",
   "name": "python",
   "nbconvert_exporter": "python",
   "pygments_lexer": "ipython3",
   "version": "3.13.1"
  }
 },
 "nbformat": 4,
 "nbformat_minor": 5
}
