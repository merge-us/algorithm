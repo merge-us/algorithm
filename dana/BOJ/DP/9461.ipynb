{
 "cells": [
  {
   "cell_type": "code",
   "execution_count": 6,
   "id": "96bf43bc-e3ad-4c80-a863-7587c7336d63",
   "metadata": {},
   "outputs": [
    {
     "name": "stdin",
     "output_type": "stream",
     "text": [
      " 2\n",
      " 6\n",
      " 12\n"
     ]
    },
    {
     "name": "stdout",
     "output_type": "stream",
     "text": [
      "3\n",
      "16\n"
     ]
    }
   ],
   "source": [
    "# bottom-up\n",
    "#내답 - 맞음\n",
    "\n",
    "t = int(input())\n",
    "numbers = [int(input()) for _ in range(t)]\n",
    "\n",
    "#dp 테이블 생성\n",
    "dp = [0]*(max(numbers)+1)\n",
    "\n",
    "def p(n):\n",
    "    #base case \n",
    "    if n in (1,2,3) :\n",
    "        return 1\n",
    "    if n in (4,5) :\n",
    "        return 2\n",
    "    \n",
    "    #base case\n",
    "    dp[1] = 1\n",
    "    dp[2] = 1\n",
    "    dp[3] = 1\n",
    "    dp[4] = 2\n",
    "    dp[5] = 2\n",
    "\n",
    "    if dp[n]!=0:\n",
    "        return dp[n]\n",
    "    \n",
    "    # 점화식 사용, 반복문으로 채우기 \n",
    "    for i in range(6,n+1):\n",
    "        dp[i] = dp[i-1]+dp[i-5]\n",
    "        \n",
    "    return dp[n]\n",
    "    \n",
    "for number in numbers:\n",
    "    print(p(number))"
   ]
  },
  {
   "cell_type": "code",
   "execution_count": null,
   "id": "efc8ed9b-22c6-4f6c-93cb-4add8b2a57d7",
   "metadata": {},
   "outputs": [],
   "source": [
    "#지피티 최적화\n",
    "t = int(input())\n",
    "numbers = [int(input()) for _ in range(t)]\n",
    "\n",
    "dp = [0]*(max(numbers)+1)\n",
    "\n",
    "dp[1],dp[2],dp[3] = 1,1,1\n",
    "if max(numbers)>=4:\n",
    "    dp[4],dp[5] = 2,2\n",
    "\n",
    "for i in range(6,max(numbers)+1):\n",
    "    dp[i] = dp[i-1]+dp[i-5]\n",
    "\n",
    "for number in numbers:\n",
    "    print(dp[number])"
   ]
  }
 ],
 "metadata": {
  "kernelspec": {
   "display_name": "Python 3 (ipykernel)",
   "language": "python",
   "name": "python3"
  },
  "language_info": {
   "codemirror_mode": {
    "name": "ipython",
    "version": 3
   },
   "file_extension": ".py",
   "mimetype": "text/x-python",
   "name": "python",
   "nbconvert_exporter": "python",
   "pygments_lexer": "ipython3",
   "version": "3.13.1"
  }
 },
 "nbformat": 4,
 "nbformat_minor": 5
}
