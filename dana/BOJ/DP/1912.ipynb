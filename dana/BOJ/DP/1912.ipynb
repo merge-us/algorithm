{
 "cells": [
  {
   "cell_type": "code",
   "execution_count": 9,
   "id": "fdc38567-2e9c-4d25-a315-2289e01912a3",
   "metadata": {},
   "outputs": [
    {
     "name": "stdin",
     "output_type": "stream",
     "text": [
      " 10\n",
      " 10 -4 3 1 5 6 -35 12 21 -1\n"
     ]
    },
    {
     "name": "stdout",
     "output_type": "stream",
     "text": [
      "33\n"
     ]
    }
   ],
   "source": [
    "# 답은 맞는데 시간초과\n",
    "\n",
    "n = int(input())\n",
    "numbers = list(map(int,input().split()))\n",
    "\n",
    "max_sum = max(numbers)\n",
    "\n",
    "def maxsum():\n",
    "    global max_sum\n",
    "    sum = 0\n",
    "\n",
    "    #연속순열 시작점\n",
    "    for i in range(0,n):\n",
    "        sum = numbers[i]\n",
    "        #끝점 \n",
    "        for j in range(i+1,n):\n",
    "            sum+=numbers[j]\n",
    "            if sum>max_sum :\n",
    "                max_sum = sum\n",
    "\n",
    "maxsum()\n",
    "print(max_sum)"
   ]
  },
  {
   "cell_type": "code",
   "execution_count": 16,
   "id": "2e1f3676-3d0c-46dd-97a8-58b97902a04e",
   "metadata": {},
   "outputs": [
    {
     "name": "stdin",
     "output_type": "stream",
     "text": [
      " 10\n",
      "  10 -4 3 1 5 6 -35 12 21 -1\n"
     ]
    },
    {
     "name": "stdout",
     "output_type": "stream",
     "text": [
      "33\n"
     ]
    }
   ],
   "source": [
    "# bottom-up\n",
    "n = int(input())\n",
    "arr = list(map(int,input().split()))\n",
    "\n",
    "#dp 수열 만들기\n",
    "dp = [0]*n\n",
    "dp[0] = arr[0]\n",
    "\n",
    "def max_sum():\n",
    "    for i in range(1,n):\n",
    "        dp[i] = max(arr[i],dp[i-1]+arr[i])\n",
    "max_sum()\n",
    "print(max(dp))"
   ]
  },
  {
   "cell_type": "code",
   "execution_count": null,
   "id": "c1158d4b-ef42-4dde-9d87-2a11bb7e1ea0",
   "metadata": {},
   "outputs": [],
   "source": []
  }
 ],
 "metadata": {
  "kernelspec": {
   "display_name": "Python 3 (ipykernel)",
   "language": "python",
   "name": "python3"
  },
  "language_info": {
   "codemirror_mode": {
    "name": "ipython",
    "version": 3
   },
   "file_extension": ".py",
   "mimetype": "text/x-python",
   "name": "python",
   "nbconvert_exporter": "python",
   "pygments_lexer": "ipython3",
   "version": "3.13.1"
  }
 },
 "nbformat": 4,
 "nbformat_minor": 5
}
