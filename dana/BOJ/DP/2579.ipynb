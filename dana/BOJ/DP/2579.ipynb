{
 "cells": [
  {
   "cell_type": "code",
   "execution_count": 14,
   "id": "cb081354-75ed-455a-a6fa-01fc174bf889",
   "metadata": {},
   "outputs": [
    {
     "name": "stdin",
     "output_type": "stream",
     "text": [
      " 6\n",
      " 10\n",
      " 20\n",
      " 15\n",
      " 25\n",
      " 10\n",
      " 20\n"
     ]
    },
    {
     "name": "stdout",
     "output_type": "stream",
     "text": [
      "75\n"
     ]
    }
   ],
   "source": [
    "n = int(input())\n",
    "stairs = [int(input()) for _ in range(n)]\n",
    "\n",
    "def solvestairs():\n",
    "    if n == 1:\n",
    "        return stairs[0]\n",
    "    if n==2:\n",
    "        return stairs[0] + stairs[1]\n",
    "        \n",
    "    dp = [0]*n\n",
    "    dp[0], dp[1] = stairs[0], stairs[0]+stairs[1]\n",
    "    dp[2] = max(stairs[0]+stairs[2],stairs[1]+stairs[2])\n",
    "    \n",
    "    for i in range(3,n):\n",
    "        #연속 아닌경우 : , 연속인 경우 : \n",
    "        dp[i] = max(dp[i-2]+stairs[i],dp[i-3]+stairs[i-1]+stairs[i])\n",
    "    return dp[n-1]\n",
    "\n",
    "print(solvestairs())"
   ]
  },
  {
   "cell_type": "code",
   "execution_count": null,
   "id": "6e7b05b1-c370-46c1-a8d0-16ec25c30135",
   "metadata": {},
   "outputs": [],
   "source": []
  }
 ],
 "metadata": {
  "kernelspec": {
   "display_name": "Python 3 (ipykernel)",
   "language": "python",
   "name": "python3"
  },
  "language_info": {
   "codemirror_mode": {
    "name": "ipython",
    "version": 3
   },
   "file_extension": ".py",
   "mimetype": "text/x-python",
   "name": "python",
   "nbconvert_exporter": "python",
   "pygments_lexer": "ipython3",
   "version": "3.13.1"
  }
 },
 "nbformat": 4,
 "nbformat_minor": 5
}
