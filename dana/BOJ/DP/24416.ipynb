{
 "cells": [
  {
   "cell_type": "code",
   "execution_count": 16,
   "id": "4aa55ead-3be9-40ba-8ad7-96749b9890d7",
   "metadata": {},
   "outputs": [
    {
     "name": "stdin",
     "output_type": "stream",
     "text": [
      " 30\n"
     ]
    },
    {
     "name": "stdout",
     "output_type": "stream",
     "text": [
      "832040\n",
      "28\n"
     ]
    }
   ],
   "source": [
    "#내답 - 맞음 \n",
    "n = int(input())\n",
    "\n",
    "def fib_recursive(n):\n",
    "    if n==1 or n==2 :\n",
    "        return 1\n",
    "    else:\n",
    "        return (fib_recursive(n-1)+fib_recursive(n-2))\n",
    "\n",
    "count = 0\n",
    "    \n",
    "def fibonacci(n):\n",
    "    global count\n",
    "    f[1]=f[2]=1\n",
    "    for i in range(3,n+1):\n",
    "        f[i]=f[i - 1] + f[i - 2]\n",
    "        count+=1\n",
    "    return f[n]\n",
    "\n",
    "print(fib_recursive(n))\n",
    "fibonacci(n)\n",
    "print(count)"
   ]
  },
  {
   "cell_type": "code",
   "execution_count": null,
   "id": "82e1b8f1-b359-4475-976f-07ee5a74617e",
   "metadata": {},
   "outputs": [],
   "source": [
    "#지피티\n",
    "def fibonacci(n):\n",
    "    global count\n",
    "    \n",
    "    #base case 설정 \n",
    "    if n==1 or n==2:\n",
    "        return 1\n",
    "    #dp 테이블 초기화\n",
    "    f = [0]*(n+1)\n",
    "    #base case 설정 \n",
    "    f[1],f[2] = 1,1\n",
    "\n",
    "    #3부터 n까지 점화식 적용\n",
    "    for i in range(3,n+1):\n",
    "        f[i] = f[i-1]+f[i-2]\n",
    "        count+=1\n",
    "\n",
    "    return f[n]"
   ]
  }
 ],
 "metadata": {
  "kernelspec": {
   "display_name": "Python 3 (ipykernel)",
   "language": "python",
   "name": "python3"
  },
  "language_info": {
   "codemirror_mode": {
    "name": "ipython",
    "version": 3
   },
   "file_extension": ".py",
   "mimetype": "text/x-python",
   "name": "python",
   "nbconvert_exporter": "python",
   "pygments_lexer": "ipython3",
   "version": "3.13.1"
  }
 },
 "nbformat": 4,
 "nbformat_minor": 5
}
