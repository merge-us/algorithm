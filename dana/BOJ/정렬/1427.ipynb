{
 "cells": [
  {
   "cell_type": "code",
   "execution_count": 6,
   "id": "a4b415af-23c6-4e0e-af78-ad8ab3b86b21",
   "metadata": {},
   "outputs": [
    {
     "name": "stdin",
     "output_type": "stream",
     "text": [
      " 9999989999\n"
     ]
    },
    {
     "name": "stdout",
     "output_type": "stream",
     "text": [
      "9999999998\n"
     ]
    }
   ],
   "source": [
    "#str은 append 안되고 + 이용해서 문자열 잇기!\n",
    "#내 답- 정답\n",
    "n = list(map(int,input()))\n",
    "n.sort(reverse=True)\n",
    "\n",
    "num=str(n[0])\n",
    "for i in range(1,len(n)):\n",
    "    num+=str(n[i])\n",
    "print(num)"
   ]
  },
  {
   "cell_type": "code",
   "execution_count": null,
   "id": "213306d1-bce8-4100-adee-ba6e3536c417",
   "metadata": {},
   "outputs": [],
   "source": [
    "print(\"\".join(sorted(input(),reverse=True)))\n",
    "#지피티 코드 \n",
    "#sorted(input(),reverse=True) : 각 문자를 리스트로 변환하고 내림차순 정렬\n",
    "#\"\".join : 문자 리스트를 문자열로 합침"
   ]
  }
 ],
 "metadata": {
  "kernelspec": {
   "display_name": "Python 3 (ipykernel)",
   "language": "python",
   "name": "python3"
  },
  "language_info": {
   "codemirror_mode": {
    "name": "ipython",
    "version": 3
   },
   "file_extension": ".py",
   "mimetype": "text/x-python",
   "name": "python",
   "nbconvert_exporter": "python",
   "pygments_lexer": "ipython3",
   "version": "3.13.1"
  }
 },
 "nbformat": 4,
 "nbformat_minor": 5
}
