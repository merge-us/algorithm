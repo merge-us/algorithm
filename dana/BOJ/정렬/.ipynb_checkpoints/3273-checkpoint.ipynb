{
 "cells": [
  {
   "cell_type": "code",
   "execution_count": 3,
   "id": "80e31740-56c6-4499-bcb5-f5abfaece3fd",
   "metadata": {},
   "outputs": [
    {
     "name": "stdin",
     "output_type": "stream",
     "text": [
      " 9\n",
      " 5 12 7 10 9 1 2 3 11\n",
      " 13\n"
     ]
    },
    {
     "name": "stdout",
     "output_type": "stream",
     "text": [
      "3\n"
     ]
    }
   ],
   "source": [
    "#시간초과 \n",
    "n = int(input())\n",
    "numbers = sorted(list(map(int,input().split())),reverse=True)\n",
    "x = int(input())\n",
    "\n",
    "count=0\n",
    "\n",
    "for i in range(n):\n",
    "    for j in range(i+1,n):\n",
    "        sum = numbers[i]+numbers[j]\n",
    "        if sum == x:\n",
    "            count+=1\n",
    "print(count)"
   ]
  },
  {
   "cell_type": "code",
   "execution_count": 7,
   "id": "bb290aa6-2c05-4c0f-89ae-064c661a4444",
   "metadata": {},
   "outputs": [
    {
     "name": "stdin",
     "output_type": "stream",
     "text": [
      " 9\n",
      " 5 12 7 10 9 1 2 3 11\n",
      " 13\n"
     ]
    },
    {
     "name": "stdout",
     "output_type": "stream",
     "text": [
      "3\n"
     ]
    }
   ],
   "source": [
    "n = int(input())\n",
    "numbers = sorted(list(map(int,input().split())))\n",
    "x = int(input())\n",
    "\n",
    "count=0\n",
    "left,right = 0,n-1\n",
    "\n",
    "while left<right : \n",
    "    sum = numbers[left]+numbers[right]\n",
    "    if sum == x:\n",
    "        count+=1\n",
    "        left+=1\n",
    "        right-=1\n",
    "    elif sum > x:\n",
    "        right-=1\n",
    "    elif sum<x :\n",
    "        left+=1\n",
    "\n",
    "print(count)"
   ]
  },
  {
   "cell_type": "code",
   "execution_count": null,
   "id": "094cd264-6903-45ab-ba36-d5e6ab723b82",
   "metadata": {},
   "outputs": [],
   "source": []
  }
 ],
 "metadata": {
  "kernelspec": {
   "display_name": "Python 3 (ipykernel)",
   "language": "python",
   "name": "python3"
  },
  "language_info": {
   "codemirror_mode": {
    "name": "ipython",
    "version": 3
   },
   "file_extension": ".py",
   "mimetype": "text/x-python",
   "name": "python",
   "nbconvert_exporter": "python",
   "pygments_lexer": "ipython3",
   "version": "3.13.1"
  }
 },
 "nbformat": 4,
 "nbformat_minor": 5
}
