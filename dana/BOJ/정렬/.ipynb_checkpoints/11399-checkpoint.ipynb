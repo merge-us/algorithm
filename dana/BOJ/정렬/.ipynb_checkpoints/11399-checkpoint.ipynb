{
 "cells": [
  {
   "cell_type": "code",
   "execution_count": 4,
   "id": "821df80e-0e5e-4b87-ab89-943d470b28a2",
   "metadata": {},
   "outputs": [
    {
     "name": "stdin",
     "output_type": "stream",
     "text": [
      " 5\n",
      " 3 1 4 3 2\n"
     ]
    },
    {
     "name": "stdout",
     "output_type": "stream",
     "text": [
      "32\n"
     ]
    }
   ],
   "source": [
    "#한번에 맞춤 크크\n",
    "\n",
    "#사람 수\n",
    "n = int(input())\n",
    "#각 시간 수 \n",
    "data = list(map(int,input().split()))\n",
    "sum = 0\n",
    "\n",
    "data.sort()\n",
    "\n",
    "for i in range(n):\n",
    "    sum+=data[i]*(n-i)\n",
    "print(sum)"
   ]
  },
  {
   "cell_type": "code",
   "execution_count": null,
   "id": "fa191e4b-5f53-4e9a-a451-689a52f66f6a",
   "metadata": {},
   "outputs": [],
   "source": [
    "#다른사람 답\n",
    "#비슷함 ㅋ\n"
   ]
  }
 ],
 "metadata": {
  "kernelspec": {
   "display_name": "Python 3 (ipykernel)",
   "language": "python",
   "name": "python3"
  },
  "language_info": {
   "codemirror_mode": {
    "name": "ipython",
    "version": 3
   },
   "file_extension": ".py",
   "mimetype": "text/x-python",
   "name": "python",
   "nbconvert_exporter": "python",
   "pygments_lexer": "ipython3",
   "version": "3.13.1"
  }
 },
 "nbformat": 4,
 "nbformat_minor": 5
}
