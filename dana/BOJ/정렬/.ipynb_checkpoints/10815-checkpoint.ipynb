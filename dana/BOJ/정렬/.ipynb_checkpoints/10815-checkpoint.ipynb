{
 "cells": [
  {
   "cell_type": "code",
   "execution_count": 3,
   "id": "c1942234-76c1-4c41-a7b6-68f157c7396f",
   "metadata": {},
   "outputs": [
    {
     "name": "stdin",
     "output_type": "stream",
     "text": [
      " 5\n",
      " 6 3 2 10 -10\n",
      " 8\n",
      " 10 9 -5 2 3 4 5 -10\n"
     ]
    },
    {
     "name": "stdout",
     "output_type": "stream",
     "text": [
      "1\n",
      "0\n",
      "0\n",
      "1\n",
      "1\n",
      "0\n",
      "0\n",
      "1\n"
     ]
    }
   ],
   "source": [
    "#아싸 맞음 ㅋ\n",
    "from collections import Counter\n",
    "\n",
    "n = int(input())\n",
    "nnumbers = list(map(int,input().split()))\n",
    "m = int(input())\n",
    "mnumbers = list(map(int,input().split()))\n",
    "\n",
    "counter = Counter(nnumbers)\n",
    "\n",
    "for mnum in mnumbers :\n",
    "    print(1 if mnum in counter else 0)"
   ]
  },
  {
   "cell_type": "code",
   "execution_count": null,
   "id": "3677250d-ce4a-47bf-8635-04dd5cfae3b4",
   "metadata": {},
   "outputs": [],
   "source": []
  }
 ],
 "metadata": {
  "kernelspec": {
   "display_name": "Python 3 (ipykernel)",
   "language": "python",
   "name": "python3"
  },
  "language_info": {
   "codemirror_mode": {
    "name": "ipython",
    "version": 3
   },
   "file_extension": ".py",
   "mimetype": "text/x-python",
   "name": "python",
   "nbconvert_exporter": "python",
   "pygments_lexer": "ipython3",
   "version": "3.13.1"
  }
 },
 "nbformat": 4,
 "nbformat_minor": 5
}
