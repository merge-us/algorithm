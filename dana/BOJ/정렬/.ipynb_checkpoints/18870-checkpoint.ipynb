{
 "cells": [
  {
   "cell_type": "code",
   "execution_count": 11,
   "id": "7b685b9b-19d8-4daf-b7c8-8b70efcb5e8c",
   "metadata": {},
   "outputs": [
    {
     "name": "stdin",
     "output_type": "stream",
     "text": [
      " 5\n",
      " 2 4 -10 4 -9\n"
     ]
    },
    {
     "name": "stdout",
     "output_type": "stream",
     "text": [
      "2 3 0 3 1\n"
     ]
    }
   ],
   "source": [
    "# 내 답 - 맞음\n",
    "n = int(input())\n",
    "numbers = list(map(int,input().split()))\n",
    "sorted_numbers = sorted(set(numbers))\n",
    "\n",
    "result = {number:index for index,number in enumerate(sorted_numbers)}\n",
    "result2 = [result[number] for number in numbers]\n",
    "\n",
    "print(' '.join(map(str,result2)))"
   ]
  },
  {
   "cell_type": "code",
   "execution_count": null,
   "id": "0b0d5488-f0e3-4ba5-bb32-82688a2b8fee",
   "metadata": {},
   "outputs": [],
   "source": [
    "#지피티\n",
    "import sys \n",
    "\n",
    "n = int(sys.stdin.readline().strip())\n",
    "numbers = list(map(int,sys.stdin.readline().split()))\n",
    "\n",
    "sorted_numbers = sorted(set(numbers))\n",
    "result = {num:idx for idx, num in enumerate(sorted_numbers)}\n",
    "\n",
    "print(\" \".join(map(str,result[number] for num in numbers)))"
   ]
  }
 ],
 "metadata": {
  "kernelspec": {
   "display_name": "Python 3 (ipykernel)",
   "language": "python",
   "name": "python3"
  },
  "language_info": {
   "codemirror_mode": {
    "name": "ipython",
    "version": 3
   },
   "file_extension": ".py",
   "mimetype": "text/x-python",
   "name": "python",
   "nbconvert_exporter": "python",
   "pygments_lexer": "ipython3",
   "version": "3.13.1"
  }
 },
 "nbformat": 4,
 "nbformat_minor": 5
}
