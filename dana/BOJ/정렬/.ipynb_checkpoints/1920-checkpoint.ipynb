{
 "cells": [
  {
   "cell_type": "code",
   "execution_count": 5,
   "id": "b2fdd29a-2cae-40a4-bca7-4ae8a640e9d9",
   "metadata": {},
   "outputs": [
    {
     "name": "stdin",
     "output_type": "stream",
     "text": [
      " 5\n",
      " 4 1 5 2 3\n",
      " 5\n",
      " 1 3 7 9 5\n"
     ]
    },
    {
     "name": "stdout",
     "output_type": "stream",
     "text": [
      "1\n",
      "1\n",
      "0\n",
      "0\n",
      "1\n"
     ]
    }
   ],
   "source": [
    "n = int(input())\n",
    "nnumbers = set(map(int, input().split()))  \n",
    "m = int(input())\n",
    "mnumbers = list(map(int, input().split()))\n",
    "\n",
    "for data in mnumbers : \n",
    "    print(1 if data in nnumbers else 0)"
   ]
  },
  {
   "cell_type": "code",
   "execution_count": 7,
   "id": "dbdf146a-6f65-4f4d-8069-e6423273c9bf",
   "metadata": {},
   "outputs": [
    {
     "name": "stdin",
     "output_type": "stream",
     "text": [
      " 5\n",
      " 4 1 5 2 3\n",
      " 5\n",
      " 1 3 7 9 5\n"
     ]
    },
    {
     "name": "stdout",
     "output_type": "stream",
     "text": [
      "1\n",
      "1\n",
      "0\n",
      "0\n",
      "1\n"
     ]
    }
   ],
   "source": [
    "#counter 내장함수 활용\n",
    "from collections import Counter\n",
    "n = int(input())\n",
    "nnumbers = set(map(int,input().split()))\n",
    "m = int(input())\n",
    "mnumbers = list(map(int,input().split()))\n",
    "counter = Counter(nnumbers)\n",
    "for i in mnumbers:\n",
    "    print(1 if counter[i]>0 else 0)"
   ]
  },
  {
   "cell_type": "code",
   "execution_count": null,
   "id": "bc6bef8d-0e2d-449f-bd9d-c70fa737fc2f",
   "metadata": {},
   "outputs": [],
   "source": []
  }
 ],
 "metadata": {
  "kernelspec": {
   "display_name": "Python 3 (ipykernel)",
   "language": "python",
   "name": "python3"
  },
  "language_info": {
   "codemirror_mode": {
    "name": "ipython",
    "version": 3
   },
   "file_extension": ".py",
   "mimetype": "text/x-python",
   "name": "python",
   "nbconvert_exporter": "python",
   "pygments_lexer": "ipython3",
   "version": "3.13.1"
  }
 },
 "nbformat": 4,
 "nbformat_minor": 5
}
