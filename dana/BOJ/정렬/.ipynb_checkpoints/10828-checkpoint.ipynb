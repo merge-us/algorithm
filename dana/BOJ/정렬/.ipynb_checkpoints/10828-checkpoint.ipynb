{
 "cells": [
  {
   "cell_type": "code",
   "execution_count": 4,
   "id": "07d0d53a-7817-436d-af8d-e8f16de6ddca",
   "metadata": {},
   "outputs": [
    {
     "name": "stdin",
     "output_type": "stream",
     "text": [
      " 7\n",
      " pop\n",
      " top\n",
      " push 123\n",
      " top\n",
      " pop\n",
      " top\n",
      " pop\n"
     ]
    },
    {
     "ename": "TypeError",
     "evalue": "int() argument must be a string, a bytes-like object or a real number, not 'list'",
     "output_type": "error",
     "traceback": [
      "\u001b[0;31m---------------------------------------------------------------------------\u001b[0m",
      "\u001b[0;31mTypeError\u001b[0m                                 Traceback (most recent call last)",
      "Cell \u001b[0;32mIn[4], line 6\u001b[0m\n\u001b[1;32m      4\u001b[0m \u001b[38;5;28;01mfor\u001b[39;00m data \u001b[38;5;129;01min\u001b[39;00m datas :\n\u001b[1;32m      5\u001b[0m     \u001b[38;5;28;01mif\u001b[39;00m \u001b[38;5;124m'\u001b[39m\u001b[38;5;124mpush\u001b[39m\u001b[38;5;124m'\u001b[39m \u001b[38;5;129;01min\u001b[39;00m data:\n\u001b[0;32m----> 6\u001b[0m         stack\u001b[38;5;241m.\u001b[39mappend(\u001b[38;5;28;43mint\u001b[39;49m\u001b[43m(\u001b[49m\u001b[43mdata\u001b[49m\u001b[43m[\u001b[49m\u001b[38;5;241;43m5\u001b[39;49m\u001b[43m:\u001b[49m\u001b[43m]\u001b[49m\u001b[43m)\u001b[49m)\n\u001b[1;32m      7\u001b[0m     \u001b[38;5;28;01melif\u001b[39;00m data \u001b[38;5;241m==\u001b[39m \u001b[38;5;124m'\u001b[39m\u001b[38;5;124mpop\u001b[39m\u001b[38;5;124m'\u001b[39m:\n\u001b[1;32m      8\u001b[0m         stack\u001b[38;5;241m.\u001b[39mpop()\n",
      "\u001b[0;31mTypeError\u001b[0m: int() argument must be a string, a bytes-like object or a real number, not 'list'"
     ]
    }
   ],
   "source": [
    "n = int(input())\n",
    "datas = [list(input().split()) for _ in range(n)]\n",
    "stack = []\n",
    "for data in datas :\n",
    "    if 'push' in data:\n",
    "        stack.append(int(data[5:]))\n",
    "    elif data == 'pop':\n",
    "        stack.pop()\n",
    "        print(stack.pop())\n",
    "    elif data == 'size':\n",
    "        print(len(stack))\n",
    "    elif data == 'empty':\n",
    "        if stack!=0 :\n",
    "            print(1)\n",
    "        else:\n",
    "            print(0)\n",
    "    elif data =='top':\n",
    "        if stack!=0:\n",
    "            print(-1)\n",
    "        else:\n",
    "            print(stack.pop())\n"
   ]
  },
  {
   "cell_type": "code",
   "execution_count": null,
   "id": "2fa196b6-49b0-43eb-8085-1bf9bb2123bc",
   "metadata": {},
   "outputs": [],
   "source": []
  }
 ],
 "metadata": {
  "kernelspec": {
   "display_name": "Python 3 (ipykernel)",
   "language": "python",
   "name": "python3"
  },
  "language_info": {
   "codemirror_mode": {
    "name": "ipython",
    "version": 3
   },
   "file_extension": ".py",
   "mimetype": "text/x-python",
   "name": "python",
   "nbconvert_exporter": "python",
   "pygments_lexer": "ipython3",
   "version": "3.13.1"
  }
 },
 "nbformat": 4,
 "nbformat_minor": 5
}
