{
 "cells": [
  {
   "cell_type": "code",
   "execution_count": 4,
   "id": "784b5c47-7a5c-4683-854b-52a8f06a1ae3",
   "metadata": {},
   "outputs": [
    {
     "name": "stdin",
     "output_type": "stream",
     "text": [
      " 9\n",
      " 5 15 100 31 39 0 0 3 26\n",
      " 11 12 13 2 3 4 5 9 1\n"
     ]
    },
    {
     "name": "stdout",
     "output_type": "stream",
     "text": [
      "528\n"
     ]
    }
   ],
   "source": [
    "n = int(input())\n",
    "anumbers = list(map(int,input().split()))\n",
    "bnumbers = list(map(int,input().split()))\n",
    "\n",
    "anumbers.sort()\n",
    "bnumbers.sort(reverse=True)\n",
    "\n",
    "sum = 0\n",
    "\n",
    "for i in range(n):\n",
    "    sum+=anumbers[i]*bnumbers[i]\n",
    "print(sum)"
   ]
  },
  {
   "cell_type": "code",
   "execution_count": null,
   "id": "a3334972-c586-4994-aa51-f0ef02c84d88",
   "metadata": {},
   "outputs": [],
   "source": []
  }
 ],
 "metadata": {
  "kernelspec": {
   "display_name": "Python 3 (ipykernel)",
   "language": "python",
   "name": "python3"
  },
  "language_info": {
   "codemirror_mode": {
    "name": "ipython",
    "version": 3
   },
   "file_extension": ".py",
   "mimetype": "text/x-python",
   "name": "python",
   "nbconvert_exporter": "python",
   "pygments_lexer": "ipython3",
   "version": "3.13.1"
  }
 },
 "nbformat": 4,
 "nbformat_minor": 5
}
