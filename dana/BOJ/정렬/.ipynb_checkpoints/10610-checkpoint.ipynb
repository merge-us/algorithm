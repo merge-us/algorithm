{
 "cells": [
  {
   "cell_type": "code",
   "execution_count": 23,
   "id": "17ae14cb-040d-4482-8210-32399e7caa08",
   "metadata": {},
   "outputs": [
    {
     "name": "stdin",
     "output_type": "stream",
     "text": [
      " 102\n"
     ]
    },
    {
     "name": "stdout",
     "output_type": "stream",
     "text": [
      "210\n"
     ]
    }
   ],
   "source": [
    "#시간초과 ..\n",
    "from itertools import permutations\n",
    "n = input()\n",
    "numbers = list(n)\n",
    "count = []\n",
    "\n",
    "for comb in permutations(numbers,len(numbers)):\n",
    "    number = int(''.join(comb))\n",
    "    if number%3 == 0 :\n",
    "        count.append(number)\n",
    "\n",
    "if count : \n",
    "    count.sort(reverse=True)\n",
    "    print(count[0])\n",
    "else :\n",
    "    print(-1)"
   ]
  },
  {
   "cell_type": "code",
   "execution_count": 5,
   "id": "52dccaea-7ca5-4ab1-aad3-087b9cb0e727",
   "metadata": {},
   "outputs": [
    {
     "name": "stdin",
     "output_type": "stream",
     "text": [
      " 80875542\n"
     ]
    },
    {
     "name": "stdout",
     "output_type": "stream",
     "text": [
      "88755420\n"
     ]
    }
   ],
   "source": [
    "#30 조건 : 합이 3의 배수, 0 포함\n",
    "n = input()\n",
    "numbers = list(map(int,n))\n",
    "numbers.sort(reverse=True)\n",
    "\n",
    "total = sum(numbers)\n",
    "    \n",
    "if total%3==0 and 0 in numbers:\n",
    "    print(''.join(map(str,numbers)))\n",
    "else :\n",
    "    print(-1)"
   ]
  },
  {
   "cell_type": "code",
   "execution_count": null,
   "id": "28fa836f-19cc-4198-b148-9131a13880e2",
   "metadata": {},
   "outputs": [],
   "source": []
  }
 ],
 "metadata": {
  "kernelspec": {
   "display_name": "Python 3 (ipykernel)",
   "language": "python",
   "name": "python3"
  },
  "language_info": {
   "codemirror_mode": {
    "name": "ipython",
    "version": 3
   },
   "file_extension": ".py",
   "mimetype": "text/x-python",
   "name": "python",
   "nbconvert_exporter": "python",
   "pygments_lexer": "ipython3",
   "version": "3.13.1"
  }
 },
 "nbformat": 4,
 "nbformat_minor": 5
}
