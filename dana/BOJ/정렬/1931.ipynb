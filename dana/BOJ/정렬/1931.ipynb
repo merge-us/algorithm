{
 "cells": [
  {
   "cell_type": "code",
   "execution_count": null,
   "id": "937598d0-c67e-4246-9769-4868d4b24773",
   "metadata": {},
   "outputs": [],
   "source": [
    "#내 답 - 맞음\n",
    "n = int(input())\n",
    "times = [list(map(int,input().split())) for _ in range(n)]\n",
    "times.sort(key = lambda x : (int(x[1]),int(x[0])))\n",
    "\n",
    "time = 0\n",
    "count = 0\n",
    "for i in range(n):\n",
    "    if time<=times[i][0]:\n",
    "        count+=1\n",
    "        time = times[i][1]\n",
    "print(count)"
   ]
  },
  {
   "cell_type": "code",
   "execution_count": null,
   "id": "fbf25c78-b18f-41bc-a2d2-a4e34532e1e0",
   "metadata": {},
   "outputs": [],
   "source": [
    "#지피티\n",
    "import sys\n",
    "input = sys.stdin.readline \n",
    "\n",
    "n = int(input())\n",
    "times = [tuple(map(int,input().split())) for _ in range(n)]\n",
    "\n",
    "times.sort(key = lambda x : (x[1],x[0]))\n",
    "\n",
    "end_time = 0\n",
    "count = 0\n",
    "\n",
    "for start, end in times : \n",
    "    if start>=end_time :\n",
    "        count+=1\n",
    "        end_time = end\n",
    "        \n",
    "print(count)"
   ]
  },
  {
   "cell_type": "code",
   "execution_count": null,
   "id": "8bea5770-94fb-4c4e-bd2c-3fb4698cf110",
   "metadata": {},
   "outputs": [],
   "source": []
  }
 ],
 "metadata": {
  "kernelspec": {
   "display_name": "Python 3 (ipykernel)",
   "language": "python",
   "name": "python3"
  },
  "language_info": {
   "codemirror_mode": {
    "name": "ipython",
    "version": 3
   },
   "file_extension": ".py",
   "mimetype": "text/x-python",
   "name": "python",
   "nbconvert_exporter": "python",
   "pygments_lexer": "ipython3",
   "version": "3.13.1"
  }
 },
 "nbformat": 4,
 "nbformat_minor": 5
}
