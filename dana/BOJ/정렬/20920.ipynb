{
 "cells": [
  {
   "cell_type": "code",
   "execution_count": 3,
   "id": "fa7e7a4f-d2c4-4b88-ab4b-0552f40d45e1",
   "metadata": {},
   "outputs": [
    {
     "name": "stdin",
     "output_type": "stream",
     "text": [
      " 12 5\n",
      " appearance\n",
      " append\n",
      " attendance\n",
      " swim\n",
      " swift\n",
      " swift\n",
      " swift\n",
      " mouse\n",
      " wallet\n",
      " mouse\n",
      " ice\n",
      " age\n"
     ]
    },
    {
     "name": "stdout",
     "output_type": "stream",
     "text": [
      "mouse\n",
      "swift\n",
      "append\n",
      "wallet\n",
      "attendance\n",
      "appearance\n"
     ]
    }
   ],
   "source": [
    "from collections import Counter\n",
    "n,m = map(int,input().split())\n",
    "words = [input() for _ in range(n)]\n",
    "\n",
    "wordlist = []\n",
    "for word in words :\n",
    "    if len(word)>=m:\n",
    "        wordlist.append(word)\n",
    "counter = Counter(wordlist)\n",
    "sortedCounter = sorted(counter, reverse=True)\n",
    "sortedCounter.sort(key = lambda x: (len(x),x[0]))\n",
    "print('\\n'.join(sortedCounter))"
   ]
  },
  {
   "cell_type": "code",
   "execution_count": null,
   "id": "a81e53d4-cf8d-41bd-b604-39d4bed864d5",
   "metadata": {},
   "outputs": [],
   "source": [
    "from collections import Counter\n",
    "\n",
    "n, m = map(int, input().split())\n",
    "words = [input().strip() for _ in range(n)]\n",
    "\n",
    "filtered_words = [word for word in words if len(word) >= m]\n",
    "counter = Counter(filtered_words)\n",
    "\n",
    "sorted_words = sorted(counter.keys(), key=lambda x: (-counter[x], -len(x), x))\n",
    "\n",
    "print(\"\\n\".join(sorted_words))"
   ]
  }
 ],
 "metadata": {
  "kernelspec": {
   "display_name": "Python 3 (ipykernel)",
   "language": "python",
   "name": "python3"
  },
  "language_info": {
   "codemirror_mode": {
    "name": "ipython",
    "version": 3
   },
   "file_extension": ".py",
   "mimetype": "text/x-python",
   "name": "python",
   "nbconvert_exporter": "python",
   "pygments_lexer": "ipython3",
   "version": "3.13.1"
  }
 },
 "nbformat": 4,
 "nbformat_minor": 5
}
