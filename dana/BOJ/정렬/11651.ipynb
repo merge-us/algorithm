{
 "cells": [
  {
   "cell_type": "code",
   "execution_count": 17,
   "id": "1f752d4a-c26c-474b-8e03-14ed3f4adf55",
   "metadata": {},
   "outputs": [
    {
     "name": "stdin",
     "output_type": "stream",
     "text": [
      " 5\n",
      " 0 4\n",
      " 1 2\n",
      " 1 -1\n",
      " 2 2\n",
      " 3 3\n"
     ]
    },
    {
     "name": "stdout",
     "output_type": "stream",
     "text": [
      "1 -1\n",
      "1 2\n",
      "2 2\n",
      "3 3\n",
      "0 4\n"
     ]
    }
   ],
   "source": [
    "n = int(input())\n",
    "grid = [list(map(int,input().split())) for _ in range(n)]\n",
    "\n",
    "grid.sort(key = lambda x: (x[1],x[0]))\n",
    "\n",
    "for data in grid:\n",
    "    print(\" \".join(map(str, data)))"
   ]
  },
  {
   "cell_type": "code",
   "execution_count": null,
   "id": "eac28ce7-aaaa-4445-a86f-2894ef2216d1",
   "metadata": {},
   "outputs": [],
   "source": []
  }
 ],
 "metadata": {
  "kernelspec": {
   "display_name": "Python 3 (ipykernel)",
   "language": "python",
   "name": "python3"
  },
  "language_info": {
   "codemirror_mode": {
    "name": "ipython",
    "version": 3
   },
   "file_extension": ".py",
   "mimetype": "text/x-python",
   "name": "python",
   "nbconvert_exporter": "python",
   "pygments_lexer": "ipython3",
   "version": "3.13.1"
  }
 },
 "nbformat": 4,
 "nbformat_minor": 5
}
