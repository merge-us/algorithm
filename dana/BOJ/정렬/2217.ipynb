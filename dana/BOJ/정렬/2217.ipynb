{
 "cells": [
  {
   "cell_type": "code",
   "execution_count": 20,
   "id": "a9330efd-83a9-4951-80b0-92faca436402",
   "metadata": {},
   "outputs": [
    {
     "name": "stdin",
     "output_type": "stream",
     "text": [
      " 2\n",
      " 10\n",
      " 15\n"
     ]
    },
    {
     "name": "stdout",
     "output_type": "stream",
     "text": [
      "20\n"
     ]
    }
   ],
   "source": [
    "#시간초과\n",
    "from itertools import combinations\n",
    "\n",
    "n = int(input())\n",
    "datas = [int(input()) for _ in range(n)]\n",
    "\n",
    "max_weight = 0\n",
    "for i in range(1,n+1):\n",
    "    for comb in combinations(datas,i):\n",
    "        sorted_comb = sorted(comb)\n",
    "        #몇개의 로프 골라서 사용했을때 들어올릴 수 있는 물체의 최대 중량\n",
    "        weight = len(sorted_comb)*sorted_comb[0]\n",
    "        max_weight = max(max_weight,weight)\n",
    "print(max_weight)"
   ]
  },
  {
   "cell_type": "code",
   "execution_count": 25,
   "id": "c51957ce-49fc-4224-b5aa-f430b71a4b8f",
   "metadata": {},
   "outputs": [
    {
     "name": "stdin",
     "output_type": "stream",
     "text": [
      " 2\n",
      " 10\n",
      " 15\n"
     ]
    },
    {
     "name": "stdout",
     "output_type": "stream",
     "text": [
      "20\n"
     ]
    }
   ],
   "source": [
    "#지피티 답 \n",
    "n = int(input())\n",
    "datas = sorted([int(input()) for _ in range(n)], reverse = True)\n",
    "\n",
    "max_weight = 0\n",
    "for i in range(n):\n",
    "    weight = (i+1) * datas[i]\n",
    "    max_weight = max(max_weight,weight)\n",
    "print(max_weight)"
   ]
  },
  {
   "cell_type": "code",
   "execution_count": null,
   "id": "48688ccd-c04d-41b9-b1ef-2fba14df7592",
   "metadata": {},
   "outputs": [],
   "source": []
  }
 ],
 "metadata": {
  "kernelspec": {
   "display_name": "Python 3 (ipykernel)",
   "language": "python",
   "name": "python3"
  },
  "language_info": {
   "codemirror_mode": {
    "name": "ipython",
    "version": 3
   },
   "file_extension": ".py",
   "mimetype": "text/x-python",
   "name": "python",
   "nbconvert_exporter": "python",
   "pygments_lexer": "ipython3",
   "version": "3.13.1"
  }
 },
 "nbformat": 4,
 "nbformat_minor": 5
}
