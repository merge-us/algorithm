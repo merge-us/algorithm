{
 "cells": [
  {
   "cell_type": "code",
   "execution_count": 3,
   "id": "527c5e90-a034-41a8-864c-710327512855",
   "metadata": {},
   "outputs": [
    {
     "name": "stdin",
     "output_type": "stream",
     "text": [
      " 9\n",
      " 0\n",
      " 12345678\n",
      " 1\n",
      " 2\n",
      " 0\n",
      " 0\n",
      " 0\n",
      " 0\n",
      " 32\n"
     ]
    },
    {
     "name": "stdout",
     "output_type": "stream",
     "text": [
      "0\n",
      "1\n",
      "2\n",
      "12345678\n",
      "0\n"
     ]
    }
   ],
   "source": [
    "import heapq\n",
    "\n",
    "n = int(input())\n",
    "numbers = [int(input()) for _ in range(n)]\n",
    "heap = []\n",
    "\n",
    "for num in numbers:\n",
    "    if num>0:\n",
    "        #배열에 추가\n",
    "        heapq.heappush(heap,num)\n",
    "    elif num == 0:\n",
    "        if heap:\n",
    "            min = heapq.heappop(heap)\n",
    "            print(min)\n",
    "        else:\n",
    "            print(0)"
   ]
  },
  {
   "cell_type": "code",
   "execution_count": null,
   "id": "eb61f7d4-cb9e-48f6-ac1e-5749ed696b61",
   "metadata": {},
   "outputs": [],
   "source": []
  }
 ],
 "metadata": {
  "kernelspec": {
   "display_name": "Python 3 (ipykernel)",
   "language": "python",
   "name": "python3"
  },
  "language_info": {
   "codemirror_mode": {
    "name": "ipython",
    "version": 3
   },
   "file_extension": ".py",
   "mimetype": "text/x-python",
   "name": "python",
   "nbconvert_exporter": "python",
   "pygments_lexer": "ipython3",
   "version": "3.13.1"
  }
 },
 "nbformat": 4,
 "nbformat_minor": 5
}
