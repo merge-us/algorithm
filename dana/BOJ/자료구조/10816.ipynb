{
 "cells": [
  {
   "cell_type": "code",
   "execution_count": null,
   "id": "bda8ca80-a4a5-41fa-8fac-9d7e84b21f00",
   "metadata": {},
   "outputs": [],
   "source": [
    "#시간초과\n",
    "from collections import Counter\n",
    "\n",
    "n = int(input())\n",
    "nlst = list(map(int,input().split()))\n",
    "m=int(input())\n",
    "mlst = list(map(int,input().split()))\n",
    "\n",
    "counter = Counter(nlst)\n",
    "stack = []\n",
    "for i in mlst:\n",
    "    if i in nlst : \n",
    "        stack.append(counter[i])\n",
    "    else:\n",
    "        stack.append(0)\n",
    "print(' '.join(map(str,stack)))"
   ]
  },
  {
   "cell_type": "code",
   "execution_count": 14,
   "id": "c0c2491d-79ee-44a4-b3d4-0cce132915be",
   "metadata": {},
   "outputs": [
    {
     "name": "stdin",
     "output_type": "stream",
     "text": [
      " 10\n",
      " 6 3 2 10 10 10 -10 -10 7 3\n",
      " 8\n",
      " 10 9 -5 2 3 4 5 -10\n"
     ]
    },
    {
     "name": "stdout",
     "output_type": "stream",
     "text": [
      "3 0 0 1 2 0 0 2\n"
     ]
    }
   ],
   "source": [
    "#카운터\n",
    "from collections import Counter\n",
    "\n",
    "n = int(input())\n",
    "nlst = list(map(int,input().split()))\n",
    "m=int(input())\n",
    "mlst = list(map(int,input().split()))\n",
    "\n",
    "counter = Counter(nlst)\n",
    "\n",
    "print(' '.join(str(counter[i]) if i in counter else '0' for i in mlst))"
   ]
  },
  {
   "cell_type": "code",
   "execution_count": null,
   "id": "4322761c-9614-451d-b705-d1def8c0437e",
   "metadata": {},
   "outputs": [],
   "source": [
    "#이진탐색 - 재귀함수\n",
    "def binary_search_recursive(arr,n,s,e):\n",
    "    if s>e:\n",
    "        return -1\n",
    "    mid = (s+e)//2\n",
    "    if arr[mid] == n :\n",
    "        return mid\n",
    "    elif arr[mid]>n:\n",
    "        return binary_search_recursive(arr,n,s,mid-1)\n",
    "    elif arr[mid]<n:\n",
    "        return binary_search_recursive(arr,n,mid+1,e)"
   ]
  },
  {
   "cell_type": "code",
   "execution_count": null,
   "id": "91143792-24dd-4fa4-844d-6a7a9529d17a",
   "metadata": {},
   "outputs": [],
   "source": [
    "#이진탐색 - 반복문\n",
    "def binary_search_iterative(arr,n):\n",
    "    s,e = 0,len(arr)-1\n",
    "\n",
    "    while s<=e:\n",
    "        mid = (s+e)//2\n",
    "        if arr[mid]==n:\n",
    "            return mid\n",
    "        elif arr[mid]>n:\n",
    "            e=mid-1\n",
    "        else:\n",
    "            s=mid+1\n",
    "    return -1"
   ]
  },
  {
   "cell_type": "code",
   "execution_count": 21,
   "id": "bca95a46-4811-4d21-8910-7a1059fd414f",
   "metadata": {},
   "outputs": [
    {
     "name": "stdin",
     "output_type": "stream",
     "text": [
      " 10\n",
      " 6 3 2 10 10 10 -10 -10 7 3\n",
      " 8\n",
      " 10 9 -5 2 3 4 5 -10\n"
     ]
    },
    {
     "name": "stdout",
     "output_type": "stream",
     "text": [
      "3 0 0 1 2 0 0 2\n"
     ]
    }
   ],
   "source": [
    "from bisect import bisect_left, bisect_right\n",
    "\n",
    "n = int(input())\n",
    "nlst = list(map(int,input().split()))\n",
    "nlst.sort()\n",
    "m=int(input())\n",
    "mlst = list(map(int,input().split()))\n",
    "\n",
    "def  count_by_binary(arr,x):\n",
    "    left = bisect_left(arr,x)\n",
    "    right=bisect_right(arr,x)\n",
    "    return right-left\n",
    "\n",
    "print(' '.join(str(count_by_binary(nlst,num)) for num in mlst))"
   ]
  },
  {
   "cell_type": "code",
   "execution_count": null,
   "id": "67e6fb2c-11a8-4bd3-8595-c3be46d15e15",
   "metadata": {},
   "outputs": [],
   "source": []
  }
 ],
 "metadata": {
  "kernelspec": {
   "display_name": "Python 3 (ipykernel)",
   "language": "python",
   "name": "python3"
  },
  "language_info": {
   "codemirror_mode": {
    "name": "ipython",
    "version": 3
   },
   "file_extension": ".py",
   "mimetype": "text/x-python",
   "name": "python",
   "nbconvert_exporter": "python",
   "pygments_lexer": "ipython3",
   "version": "3.13.1"
  }
 },
 "nbformat": 4,
 "nbformat_minor": 5
}
