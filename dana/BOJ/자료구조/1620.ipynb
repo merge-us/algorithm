{
 "cells": [
  {
   "cell_type": "code",
   "execution_count": null,
   "id": "a8d00f7c-5d9e-4624-b023-4fe906036adb",
   "metadata": {},
   "outputs": [
    {
     "ename": "",
     "evalue": "",
     "output_type": "error",
     "traceback": [
      "\u001b[1;31mRunning cells with 'Python 3.13.1' requires the ipykernel package.\n",
      "\u001b[1;31mRun the following command to install 'ipykernel' into the Python environment. \n",
      "\u001b[1;31mCommand: '/opt/homebrew/bin/python3 -m pip install ipykernel -U --user --force-reinstall'"
     ]
    }
   ],
   "source": [
    "#내답 - 시간초과 = get 안써서....... 계속 시간초과뜸\n",
    "n,m = map(int,input().split())\n",
    "pokemons = [input() for _ in range(n)]\n",
    "problems = [input() for _ in range(m)]\n",
    "\n",
    "pokemonsnum = {pokemon:idx+1 for idx,pokemon in enumerate(pokemons)}\n",
    "numtopokemon = {idx+1:pokemon for idx,pokemon in enumerate(pokemons)}\n",
    "for problem in problems : \n",
    "    if problem in pokemons :\n",
    "        print(pokemonsnum[problem])\n",
    "    else :\n",
    "        print(numtopokemon[int(problem)]) "
   ]
  },
  {
   "cell_type": "code",
   "execution_count": null,
   "id": "5ba23ba5-a4c0-4875-a49c-4436c271a1cc",
   "metadata": {},
   "outputs": [],
   "source": [
    "import sys\n",
    "n,m = map(int,sys.stdin.readline().split())\n",
    "pokemons = [sys.stdin.readline().strip() for _ in range(n)]\n",
    "problems = [sys.stdin.readline().strip() for _ in range(m)]\n",
    "\n",
    "pokemonsnum = {pokemons[i]: str(i+1) for i in range(n)}\n",
    "numtopokemon = {str(i+1): pokemons[i] for i in range(n)}\n",
    "for problem in problems : \n",
    "    if problem in pokemons :\n",
    "        print(pokemonsnum[problem])\n",
    "    else :\n",
    "        print(numtopokemon[problem]) "
   ]
  },
  {
   "cell_type": "code",
   "execution_count": null,
   "id": "ecffeba8-86f3-4850-bd19-26b8c90e0e12",
   "metadata": {},
   "outputs": [],
   "source": [
    "#해결방법 = 딕셔너리 get함수 쓰기\n",
    "import sys\n",
    "\n",
    "n, m = map(int, sys.stdin.readline().split())\n",
    "pokemons = [sys.stdin.readline().strip() for _ in range(n)]\n",
    "problems = [sys.stdin.readline().strip() for _ in range(m)]\n",
    "\n",
    "pokemonsnum = {pokemons[i]: str(i+1) for i in range(n)}\n",
    "numtopokemon = {str(i+1): pokemons[i] for i in range(n)}\n",
    "\n",
    "result = []\n",
    "for problem in problems:\n",
    "    result.append(pokemonsnum.get(problem, numtopokemon.get(problem)))\n",
    "\n",
    "sys.stdout.write(\"\\n\".join(result) + \"\\n\")"
   ]
  },
  {
   "cell_type": "code",
   "execution_count": null,
   "id": "79a7b81e-4bde-4006-a093-274894023390",
   "metadata": {},
   "outputs": [],
   "source": [
    "#이것도 맞음 \n",
    "import sys\n",
    "n,m = map(int,sys.stdin.readline().split())\n",
    "pokemons = [sys.stdin.readline().strip() for _ in range(n)]\n",
    "problems = [sys.stdin.readline().strip() for _ in range(m)]\n",
    "\n",
    "pokemonsnum = {pokemons[i]: str(i+1) for i in range(n)}\n",
    "numtopokemon = {str(i+1): pokemons[i] for i in range(n)}\n",
    "result = []\n",
    "for problem in problems:\n",
    "    result.append(pokemonsnum.get(problem, numtopokemon.get(problem)))\n",
    "\n",
    "print('\\n'.join(result))"
   ]
  },
  {
   "cell_type": "code",
   "execution_count": null,
   "id": "ba40fc2b-1169-4b55-9b5a-a20f60b26bb1",
   "metadata": {},
   "outputs": [],
   "source": [
    "#이것도 맞음\n",
    "n,m = map(int,input().split())\n",
    "pokemons = [input() for _ in range(n)]\n",
    "problems = [input() for _ in range(m)]\n",
    "\n",
    "pokemonsnum = {pokemon:str(idx+1) for idx,pokemon in enumerate(pokemons)}\n",
    "numtopokemon = {str(idx+1):pokemon for idx,pokemon in enumerate(pokemons)}\n",
    "result = []\n",
    "for problem in problems:\n",
    "    result.append(pokemonsnum.get(problem, numtopokemon.get(problem)))\n",
    "\n",
    "print('\\n'.join(result))"
   ]
  },
  {
   "cell_type": "code",
   "execution_count": null,
   "id": "ac1b4d68-3f6d-4504-9b4d-6f350f09cdc7",
   "metadata": {},
   "outputs": [],
   "source": [
    "\n",
    "n,m = map(int,input().split())\n",
    "pokemons = [input() for _ in range(n)]\n",
    "problems = [input() for _ in range(m)]\n",
    "\n",
    "pokemonsnum = {pokemons[i]: str(i+1) for i in range(n)}\n",
    "numtopokemon = {str(i+1): pokemons[i] for i in range(n)}\n",
    "result = []\n",
    "for problem in problems:\n",
    "    result.append(pokemonsnum.get(problem, numtopokemon.get(problem)))\n",
    "\n",
    "print('\\n'.join(result))"
   ]
  }
 ],
 "metadata": {
  "kernelspec": {
   "display_name": "Python 3",
   "language": "python",
   "name": "python3"
  },
  "language_info": {
   "codemirror_mode": {
    "name": "ipython",
    "version": 3
   },
   "file_extension": ".py",
   "mimetype": "text/x-python",
   "name": "python",
   "nbconvert_exporter": "python",
   "pygments_lexer": "ipython3",
   "version": "3.13.1"
  }
 },
 "nbformat": 4,
 "nbformat_minor": 5
}
