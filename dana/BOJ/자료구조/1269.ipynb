{
 "cells": [
  {
   "cell_type": "code",
   "execution_count": 19,
   "id": "8e212e34-43c4-4965-b729-6e31dcff07e2",
   "metadata": {},
   "outputs": [
    {
     "name": "stdin",
     "output_type": "stream",
     "text": [
      " 3 5\n",
      " 1 2 4\n",
      " 2 3 4 5 6\n"
     ]
    },
    {
     "name": "stdout",
     "output_type": "stream",
     "text": [
      "2\n",
      "2\n",
      "4\n"
     ]
    }
   ],
   "source": [
    "anum,bnum = map(int,input().split())\n",
    "\n",
    "a = set(map(int,input().split()))\n",
    "b = set(map(int,input().split()))\n",
    "\n",
    "count1 = 0\n",
    "count2 = 0\n",
    "\n",
    "for num in a :\n",
    "    if num in b :\n",
    "        count1+=1\n",
    "for num in b :\n",
    "    if num in a :\n",
    "        count2+=1\n",
    "print(len(b)-count2+len(a)-count1)"
   ]
  },
  {
   "cell_type": "code",
   "execution_count": null,
   "id": "dc5c564f-20a4-4f69-a0c9-36825a8aa654",
   "metadata": {},
   "outputs": [],
   "source": [
    "anum, bnum = map(int, input().split())\n",
    "\n",
    "a = set(map(int, input().split()))\n",
    "b = set(map(int, input().split()))\n",
    "\n",
    "print(len(a ^ b))  # 대칭 차집합의 크기 출력"
   ]
  }
 ],
 "metadata": {
  "kernelspec": {
   "display_name": "Python 3 (ipykernel)",
   "language": "python",
   "name": "python3"
  },
  "language_info": {
   "codemirror_mode": {
    "name": "ipython",
    "version": 3
   },
   "file_extension": ".py",
   "mimetype": "text/x-python",
   "name": "python",
   "nbconvert_exporter": "python",
   "pygments_lexer": "ipython3",
   "version": "3.13.1"
  }
 },
 "nbformat": 4,
 "nbformat_minor": 5
}
