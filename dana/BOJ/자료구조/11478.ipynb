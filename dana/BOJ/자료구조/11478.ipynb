{
 "cells": [
  {
   "cell_type": "code",
   "execution_count": 1,
   "id": "c2494db0-230b-44c1-ac0d-d74bb4e41e3d",
   "metadata": {},
   "outputs": [
    {
     "name": "stdin",
     "output_type": "stream",
     "text": [
      " ababc\n"
     ]
    },
    {
     "name": "stdout",
     "output_type": "stream",
     "text": [
      "12\n"
     ]
    }
   ],
   "source": [
    "s = list(input())\n",
    "result = set()\n",
    "\n",
    "for i in range(0,len(s)):\n",
    "    for j in range(i,len(s)):\n",
    "        result.add(''.join(s[i:j+1]))\n",
    "print(len(result))"
   ]
  },
  {
   "cell_type": "code",
   "execution_count": null,
   "id": "ece36f2d-fb3d-453f-a737-38f497e6a55a",
   "metadata": {},
   "outputs": [],
   "source": [
    "#지피티답\n",
    "s = input()\n",
    "result = set()\n",
    "\n",
    "for i in range(len(s)):\n",
    "    for j in range(i+1, len(s)+1):  # 슬라이싱을 활용하여 부분 문자열 추출\n",
    "        result.add(s[i:j])\n",
    "\n",
    "print(len(result))"
   ]
  }
 ],
 "metadata": {
  "kernelspec": {
   "display_name": "Python 3 (ipykernel)",
   "language": "python",
   "name": "python3"
  },
  "language_info": {
   "codemirror_mode": {
    "name": "ipython",
    "version": 3
   },
   "file_extension": ".py",
   "mimetype": "text/x-python",
   "name": "python",
   "nbconvert_exporter": "python",
   "pygments_lexer": "ipython3",
   "version": "3.13.1"
  }
 },
 "nbformat": 4,
 "nbformat_minor": 5
}
