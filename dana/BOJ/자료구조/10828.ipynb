{
 "cells": [
  {
   "cell_type": "code",
   "execution_count": 8,
   "id": "1898fd6b-c66f-46d7-b837-b6bd2098b177",
   "metadata": {},
   "outputs": [
    {
     "name": "stdin",
     "output_type": "stream",
     "text": [
      " 14\n",
      " push 1\n",
      " push 2\n",
      " top\n",
      " size\n",
      " empty\n",
      " pop\n",
      " pop\n",
      " pop\n",
      " size\n",
      " empty\n",
      " pop\n",
      " push 3\n",
      " empty\n",
      " pop\n"
     ]
    },
    {
     "name": "stdout",
     "output_type": "stream",
     "text": [
      "1\n",
      "2\n",
      "0\n",
      "-1\n",
      "0\n",
      "1\n",
      "-1\n",
      "0\n"
     ]
    }
   ],
   "source": [
    "n = int(input())\n",
    "datas = [input() for _ in range(n)]\n",
    "stack = []\n",
    "for data in datas :\n",
    "    if data == 'size':\n",
    "        print(len(stack))\n",
    "    elif data == 'pop':\n",
    "        if stack :\n",
    "            print(stack[0])\n",
    "            stack.pop()\n",
    "        else:\n",
    "            print(-1)\n",
    "    elif data == 'empty':\n",
    "        if stack:\n",
    "            print(0)\n",
    "        else:\n",
    "            print(1)\n",
    "    elif data == 'top':\n",
    "        if stack:\n",
    "            print(stack[0])\n",
    "        else:\n",
    "            print(-1)\n",
    "    elif 'push' in data :\n",
    "        x = int(data[5:])\n",
    "        stack.append(x)\n",
    "\n",
    "        "
   ]
  },
  {
   "cell_type": "code",
   "execution_count": 11,
   "id": "ec22f96c-d453-43f2-9746-119a1d4743e9",
   "metadata": {},
   "outputs": [
    {
     "name": "stdin",
     "output_type": "stream",
     "text": [
      " 14\n",
      " push 1\n",
      " push 2\n",
      " top\n",
      " size\n",
      " empty\n",
      " pop\n",
      " pop\n",
      " pop\n",
      " size\n",
      " empty\n",
      " pop\n",
      " push 3\n",
      " empty\n",
      " top\n"
     ]
    },
    {
     "name": "stdout",
     "output_type": "stream",
     "text": [
      "2\n",
      "2\n",
      "0\n",
      "2\n",
      "1\n",
      "-1\n",
      "0\n",
      "1\n",
      "-1\n",
      "0\n",
      "3\n"
     ]
    }
   ],
   "source": [
    "n = int(input())\n",
    "datas = [input() for _ in range(n)]\n",
    "stack = []\n",
    "for data in datas :\n",
    "    if data == 'size':\n",
    "        print(len(stack))\n",
    "    elif data == 'pop':\n",
    "        if stack :\n",
    "            print(stack[-1])\n",
    "            stack.pop()\n",
    "        else:\n",
    "            print(-1)\n",
    "    elif data == 'empty':\n",
    "        if stack:\n",
    "            print(0)\n",
    "        else:\n",
    "            print(1)\n",
    "    elif data == 'top':\n",
    "        if stack:\n",
    "            print(stack[-1])\n",
    "        else:\n",
    "            print(-1)\n",
    "    elif 'push' in data :\n",
    "        x = int(data[5:])\n",
    "        stack.append(x)\n",
    "       "
   ]
  },
  {
   "cell_type": "code",
   "execution_count": null,
   "id": "86ebbdc2-6be3-4c89-80a6-7dba41a9d0a6",
   "metadata": {},
   "outputs": [],
   "source": [
    "#지피티방법 - 가독성굳\n",
    "import sys\n",
    "input = sys.stdin.readline\n",
    "\n",
    "n = int(input().rstrip())\n",
    "datas = [input().rstrip() for _ in range(n)]\n",
    "stack = []\n",
    "for data in datas :\n",
    "    if data == 'size':\n",
    "        print(len(stack))\n",
    "    elif data == 'pop':\n",
    "        print(-1 if not stack else stack.pop())\n",
    "    elif data == 'empty':\n",
    "        print(1 if not stack else 0)\n",
    "    elif data == 'top':\n",
    "        print(-1 if not stack else stack[-1])\n",
    "    elif 'push' in data :\n",
    "        x = int(data[5:])\n",
    "        stack.append(x)\n",
    "       "
   ]
  },
  {
   "cell_type": "code",
   "execution_count": null,
   "id": "a94b3ce6-aa69-4ab4-bbce-781cc017218c",
   "metadata": {},
   "outputs": [],
   "source": [
    "#다른사람들이 푼방법\n",
    "\n",
    "n = int(input())\n",
    "datas = [input().split() for _ in range(n)]\n",
    "stack = []\n",
    "for data in datas :\n",
    "    if data == 'size':\n",
    "        print(len(stack))\n",
    "    elif data == 'pop':\n",
    "        if stack :\n",
    "            print(stack[-1])\n",
    "            stack.pop()\n",
    "        else:\n",
    "            print(-1)\n",
    "    elif data == 'empty':\n",
    "        if stack:\n",
    "            print(0)\n",
    "        else:\n",
    "            print(1)\n",
    "    elif data == 'top':\n",
    "        if stack:\n",
    "            print(stack[-1])\n",
    "        else:\n",
    "            print(-1)\n",
    "    elif 'push' in data :\n",
    "        x = int(data[])\n",
    "        stack.append(x)\n"
   ]
  }
 ],
 "metadata": {
  "kernelspec": {
   "display_name": "Python 3 (ipykernel)",
   "language": "python",
   "name": "python3"
  },
  "language_info": {
   "codemirror_mode": {
    "name": "ipython",
    "version": 3
   },
   "file_extension": ".py",
   "mimetype": "text/x-python",
   "name": "python",
   "nbconvert_exporter": "python",
   "pygments_lexer": "ipython3",
   "version": "3.13.1"
  }
 },
 "nbformat": 4,
 "nbformat_minor": 5
}
