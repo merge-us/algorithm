{
 "cells": [
  {
   "cell_type": "code",
   "execution_count": 9,
   "id": "55a2d701-36ff-4bcd-8e97-33f9298e5dd3",
   "metadata": {},
   "outputs": [
    {
     "name": "stdin",
     "output_type": "stream",
     "text": [
      " 3\n",
      " ((\n",
      " ))\n",
      " ())(()\n"
     ]
    },
    {
     "name": "stdout",
     "output_type": "stream",
     "text": [
      "NO\n",
      "YES\n",
      "NO\n"
     ]
    }
   ],
   "source": [
    "#내 첫번째 오답 \n",
    "n = int(input())\n",
    "data = []\n",
    "for _ in range(n):\n",
    "    data.append(input().strip())\n",
    "for datas in data : \n",
    "    stack = []\n",
    "    for char in datas:\n",
    "        if char=='(':\n",
    "            stack.append('(')\n",
    "        else:\n",
    "            if stack:\n",
    "                stack.pop()\n",
    "            else:\n",
    "                stack.append(')')\n",
    "            \n",
    "    if not stack:\n",
    "        print(\"YES\")\n",
    "    else:\n",
    "        print(\"NO\")"
   ]
  },
  {
   "cell_type": "code",
   "execution_count": 8,
   "id": "677aa442-9ce0-455a-a707-070a928b336d",
   "metadata": {},
   "outputs": [
    {
     "name": "stdin",
     "output_type": "stream",
     "text": [
      " 3\n",
      " ((\n",
      " ))\n",
      " ())(()\n"
     ]
    },
    {
     "name": "stdout",
     "output_type": "stream",
     "text": [
      "NO\n",
      "NO\n",
      "NO\n"
     ]
    }
   ],
   "source": [
    "#내 정답\n",
    "n = int(input())\n",
    "data = []\n",
    "for _ in range(n):\n",
    "    data.append(input().strip())\n",
    "for datas in data : \n",
    "    stack = []\n",
    "    for char in datas:\n",
    "        if char=='(':\n",
    "            stack.append('(')\n",
    "        else:\n",
    "            if stack:\n",
    "                stack.pop()\n",
    "            else:\n",
    "                stack.append(')')\n",
    "                break #break 문 추가했더니 해결됨\n",
    "            \n",
    "    if not stack:\n",
    "        print(\"YES\")\n",
    "    else:\n",
    "        print(\"NO\")"
   ]
  },
  {
   "cell_type": "code",
   "execution_count": null,
   "id": "31247205-aa86-4477-9aa7-9691612c0075",
   "metadata": {},
   "outputs": [],
   "source": [
    "#남 정답\n",
    "import sys\n",
    "T = int(sys.stdin.readline())\n",
    "\n",
    "for _ in range(T):\n",
    "    ps = sys.stdin.readline().strip() #한 줄 입력받고 좌우 공백 제거\n",
    "    stack = [] #괄호를 저장할 스택 \n",
    "    tf = 'YES' #기본값 YES\n",
    "    \n",
    "    for i in ps:\n",
    "        if i == '(':\n",
    "            stack.append(1) # 열린 괄호 '('는 스택에 추가\n",
    "        else:\n",
    "            if not stack:\n",
    "                tf = 'NO'# 닫는 괄호 ')'인데 스택이 비어 있으면 오류\n",
    "                break\n",
    "            stack.pop() # 열린 괄호 '(' 제거\n",
    "    if stack: #스택 있으면 NO, 비어있으면 그대로 YES\n",
    "        tf = 'NO'\n",
    "    print(tf)"
   ]
  }
 ],
 "metadata": {
  "kernelspec": {
   "display_name": "Python 3 (ipykernel)",
   "language": "python",
   "name": "python3"
  },
  "language_info": {
   "codemirror_mode": {
    "name": "ipython",
    "version": 3
   },
   "file_extension": ".py",
   "mimetype": "text/x-python",
   "name": "python",
   "nbconvert_exporter": "python",
   "pygments_lexer": "ipython3",
   "version": "3.13.1"
  }
 },
 "nbformat": 4,
 "nbformat_minor": 5
}
