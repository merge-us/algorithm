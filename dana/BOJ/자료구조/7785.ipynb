{
 "cells": [
  {
   "cell_type": "code",
   "execution_count": 8,
   "id": "6623a2e7-359f-4255-bedc-72d5679e8a75",
   "metadata": {},
   "outputs": [
    {
     "name": "stdin",
     "output_type": "stream",
     "text": [
      " 4\n",
      " Baha enter\n",
      " Askar enter\n",
      " Baha leave\n",
      " Artem enter\n"
     ]
    },
    {
     "name": "stdout",
     "output_type": "stream",
     "text": [
      "Askar\n",
      "Artem\n"
     ]
    }
   ],
   "source": [
    "n = int(input())\n",
    "logs = list(input().split() for _ in range(n))\n",
    "\n",
    "stack = []\n",
    "for log in logs :\n",
    "    name, status = log\n",
    "    if status == \"enter\":\n",
    "        stack.append(name)\n",
    "    if status == \"leave\":\n",
    "        stack.remove(name)\n",
    "stack.sort(reverse=True)\n",
    "print(\"\\n\".join(stack))"
   ]
  },
  {
   "cell_type": "code",
   "execution_count": null,
   "id": "8c3d05fe-e84e-497b-ab4b-43eac8895d71",
   "metadata": {},
   "outputs": [],
   "source": [
    "n = int(input())\n",
    "logs = {input().split()[0]: input().split()[1] for _ in range(n)}\n",
    "\n",
    "employees = set()\n",
    "\n",
    "for name, status in logs.items():\n",
    "    if status == \"enter\":\n",
    "        employees.add(name)\n",
    "    else:\n",
    "        employees.discard(name) \n",
    "\n",
    "print(\"\\n\".join(sorted(employees, reverse=True))) "
   ]
  }
 ],
 "metadata": {
  "kernelspec": {
   "display_name": "Python 3 (ipykernel)",
   "language": "python",
   "name": "python3"
  },
  "language_info": {
   "codemirror_mode": {
    "name": "ipython",
    "version": 3
   },
   "file_extension": ".py",
   "mimetype": "text/x-python",
   "name": "python",
   "nbconvert_exporter": "python",
   "pygments_lexer": "ipython3",
   "version": "3.13.1"
  }
 },
 "nbformat": 4,
 "nbformat_minor": 5
}
