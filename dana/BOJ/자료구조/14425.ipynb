{
 "cells": [
  {
   "cell_type": "code",
   "execution_count": 7,
   "id": "acd68b86-2721-46ab-8045-7c90254be16d",
   "metadata": {},
   "outputs": [
    {
     "name": "stdin",
     "output_type": "stream",
     "text": [
      " 5 11\n",
      " baekjoononlinejudge\n",
      " startlink\n",
      " codeplus\n",
      " sundaycoding\n",
      " codingsh\n",
      " baekjoon\n",
      " codeplus\n",
      " codeminus\n",
      " startlink\n",
      " starlink\n",
      " sundaycoding\n",
      " codinghs\n",
      " codingsh\n",
      " sondaycoding\n",
      " icerink\n",
      " startrink\n"
     ]
    },
    {
     "name": "stdout",
     "output_type": "stream",
     "text": [
      "4\n"
     ]
    }
   ],
   "source": [
    "from collections import Counter\n",
    "n,m = map(int,input().split())\n",
    "\n",
    "s = set(input() for _ in range(n))\n",
    "datas = [input() for _ in range(m)]\n",
    "counter = Counter(s)\n",
    "count = 0\n",
    "for data in datas:\n",
    "    if data in counter :\n",
    "        count+=1\n",
    "print(count)"
   ]
  },
  {
   "cell_type": "code",
   "execution_count": null,
   "id": "feac2783-5334-4794-89fc-cec98dc50e48",
   "metadata": {},
   "outputs": [],
   "source": [
    "n, m = map(int, input().split())\n",
    "\n",
    "s = set(input() for _ in range(n))  # 리스트 대신 집합(set) 사용\n",
    "count = sum(1 for _ in range(m) if input() in s)  # 한 줄로 개수 계산\n",
    "\n",
    "print(count)"
   ]
  }
 ],
 "metadata": {
  "kernelspec": {
   "display_name": "Python 3 (ipykernel)",
   "language": "python",
   "name": "python3"
  },
  "language_info": {
   "codemirror_mode": {
    "name": "ipython",
    "version": 3
   },
   "file_extension": ".py",
   "mimetype": "text/x-python",
   "name": "python",
   "nbconvert_exporter": "python",
   "pygments_lexer": "ipython3",
   "version": "3.13.1"
  }
 },
 "nbformat": 4,
 "nbformat_minor": 5
}
