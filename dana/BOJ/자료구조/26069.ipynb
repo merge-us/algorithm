{
 "cells": [
  {
   "cell_type": "code",
   "execution_count": 9,
   "id": "522757ae-8ba5-4739-8089-77a728fe1ccf",
   "metadata": {},
   "outputs": [
    {
     "name": "stdin",
     "output_type": "stream",
     "text": [
      " 12\n",
      " bnb2011 chansol\n",
      " chansol chogahui05\n",
      " chogahui05 jthis\n",
      " jthis ChongChong\n",
      " jthis jyheo98\n",
      " jyheo98 lms0806\n",
      " lms0806 pichulia\n",
      " pichulia pjshwa\n",
      " pjshwa r4pidstart\n",
      " r4pidstart swoon\n",
      " swoon tony9402\n",
      " tony9402 bnb2011\n"
     ]
    },
    {
     "name": "stdout",
     "output_type": "stream",
     "text": [
      "10\n"
     ]
    }
   ],
   "source": [
    "n = int(input())\n",
    "people = [input().split() for _ in range(n)]\n",
    "dancing = set()\n",
    "\n",
    "for person in people :\n",
    "    a,b = person\n",
    "    if a in dancing or b in dancing:\n",
    "        dancing.add(a)\n",
    "        dancing.add(b)\n",
    "    if a =='ChongChong' or b == 'ChongChong':\n",
    "        dancing.add(a)\n",
    "        dancing.add(b)\n",
    "print(len(dancing))"
   ]
  },
  {
   "cell_type": "code",
   "execution_count": null,
   "id": "1bd2ac6d-4e04-4081-96c4-5ade823f4d00",
   "metadata": {},
   "outputs": [],
   "source": []
  }
 ],
 "metadata": {
  "kernelspec": {
   "display_name": "Python 3 (ipykernel)",
   "language": "python",
   "name": "python3"
  },
  "language_info": {
   "codemirror_mode": {
    "name": "ipython",
    "version": 3
   },
   "file_extension": ".py",
   "mimetype": "text/x-python",
   "name": "python",
   "nbconvert_exporter": "python",
   "pygments_lexer": "ipython3",
   "version": "3.13.1"
  }
 },
 "nbformat": 4,
 "nbformat_minor": 5
}
