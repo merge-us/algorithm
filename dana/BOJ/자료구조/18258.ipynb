{
 "cells": [
  {
   "cell_type": "code",
   "execution_count": 10,
   "id": "2a2f42a0-583e-46a9-8318-85945a7072f4",
   "metadata": {},
   "outputs": [
    {
     "name": "stdin",
     "output_type": "stream",
     "text": [
      " 15\n",
      " push 1\n",
      " push 2\n",
      " front\n",
      " back\n",
      " size\n",
      " empty\n",
      " pop\n",
      " pop\n",
      " pop\n",
      " size\n",
      " empty\n",
      " pop\n",
      " push 3\n",
      " empty\n",
      " front\n"
     ]
    },
    {
     "name": "stdout",
     "output_type": "stream",
     "text": [
      "1\n",
      "2\n",
      "2\n",
      "0\n",
      "1\n",
      "2\n",
      "-1\n",
      "0\n",
      "1\n",
      "-1\n",
      "0\n",
      "3\n"
     ]
    }
   ],
   "source": [
    "from collections import deque\n",
    "\n",
    "n = int(input())\n",
    "cmds = [input().split() for _ in range(n)]\n",
    "\n",
    "queue = deque()\n",
    "\n",
    "for cmd in cmds :\n",
    "    c = cmd[0]\n",
    "    if c=='push':\n",
    "        queue.append(cmd[1])\n",
    "    elif c=='pop':\n",
    "        print(queue.popleft() if queue else -1)\n",
    "    elif c=='size':\n",
    "        print(len(queue))\n",
    "    elif c=='empty':\n",
    "        print(0 if queue else 1)\n",
    "    elif c=='front':\n",
    "        print(queue[0] if queue else -1)\n",
    "    elif c=='back':\n",
    "        print(queue[-1] if queue else -1)"
   ]
  },
  {
   "cell_type": "markdown",
   "id": "14427a6e-31ae-4fdc-953e-78c254dbc7b5",
   "metadata": {},
   "source": [
    "### "
   ]
  }
 ],
 "metadata": {
  "kernelspec": {
   "display_name": "Python 3 (ipykernel)",
   "language": "python",
   "name": "python3"
  },
  "language_info": {
   "codemirror_mode": {
    "name": "ipython",
    "version": 3
   },
   "file_extension": ".py",
   "mimetype": "text/x-python",
   "name": "python",
   "nbconvert_exporter": "python",
   "pygments_lexer": "ipython3",
   "version": "3.13.1"
  }
 },
 "nbformat": 4,
 "nbformat_minor": 5
}
