{
 "cells": [
  {
   "cell_type": "code",
   "execution_count": 3,
   "id": "82bf7d90-ba75-4425-9d72-9612f57bfdea",
   "metadata": {},
   "outputs": [
    {
     "name": "stdin",
     "output_type": "stream",
     "text": [
      " 13\n",
      " 0\n",
      " 1\n",
      " 2\n",
      " 0\n",
      " 0\n",
      " 3\n",
      " 2\n",
      " 1\n",
      " 0\n",
      " 0\n",
      " 0\n",
      " 0\n",
      " 0\n"
     ]
    },
    {
     "name": "stdout",
     "output_type": "stream",
     "text": [
      "0\n",
      "2\n",
      "1\n",
      "3\n",
      "2\n",
      "1\n",
      "0\n",
      "0\n"
     ]
    }
   ],
   "source": [
    "#내 답\n",
    "import heapq\n",
    "\n",
    "n = int(input())\n",
    "datas = [int(input()) for _ in range(n)]\n",
    "heap = []\n",
    "\n",
    "for data in datas :\n",
    "    if data>0:\n",
    "        heapq.heappush(heap,-data)\n",
    "    elif data ==0:\n",
    "        if heap:\n",
    "            max = heapq.heappop(heap)\n",
    "            print(-max)\n",
    "        else :\n",
    "            print(0)"
   ]
  },
  {
   "cell_type": "code",
   "execution_count": null,
   "id": "81cae199-8dde-439d-9cb7-759f66ca5985",
   "metadata": {},
   "outputs": [],
   "source": [
    "#지피티\n",
    "import heapq\n",
    "import sys\n",
    "\n",
    "input = sys.stdin.readline  # 🚀 빠른 입력 처리 (최적화)\n",
    "n = int(input())\n",
    "heap = []\n",
    "\n",
    "for _ in range(n):\n",
    "    data = int(input().strip())  # 🚀 `strip()`으로 공백 제거\n",
    "    if data > 0:\n",
    "        heapq.heappush(heap, -data)  # 🚀 최대 힙 (음수 변환)\n",
    "    elif data == 0:\n",
    "        print(-heapq.heappop(heap) if heap else 0)  # 🚀 `if-else` 간결화"
   ]
  }
 ],
 "metadata": {
  "kernelspec": {
   "display_name": "Python 3 (ipykernel)",
   "language": "python",
   "name": "python3"
  },
  "language_info": {
   "codemirror_mode": {
    "name": "ipython",
    "version": 3
   },
   "file_extension": ".py",
   "mimetype": "text/x-python",
   "name": "python",
   "nbconvert_exporter": "python",
   "pygments_lexer": "ipython3",
   "version": "3.13.1"
  }
 },
 "nbformat": 4,
 "nbformat_minor": 5
}
