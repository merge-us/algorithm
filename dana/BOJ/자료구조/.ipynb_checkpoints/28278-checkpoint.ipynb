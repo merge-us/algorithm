{
 "cells": [
  {
   "cell_type": "code",
   "execution_count": 12,
   "id": "63b00070-9546-4ca4-9d12-e2aae55032fd",
   "metadata": {},
   "outputs": [
    {
     "name": "stdin",
     "output_type": "stream",
     "text": [
      " 9\n",
      " 4\n",
      " 1 3\n",
      " 1 5\n",
      " 3\n",
      " 2\n",
      " 5\n",
      " 2\n",
      " 2\n",
      " 5\n"
     ]
    },
    {
     "name": "stdout",
     "output_type": "stream",
     "text": [
      "1\n",
      "2\n",
      "5\n",
      "3\n",
      "3\n",
      "-1\n",
      "-1\n"
     ]
    }
   ],
   "source": [
    "#내 정답 - 맞음\n",
    "n = int(input())\n",
    "cmds = [list(map(int,input().split())) for _ in range(n)]\n",
    "\n",
    "stack = []\n",
    "\n",
    "for cmd in cmds : \n",
    "    if cmd[0]==1:\n",
    "        stack.append(cmd[1])\n",
    "    elif cmd[0]==2:\n",
    "        print(stack.pop() if stack else -1)\n",
    "    elif cmd[0]==3:\n",
    "        print(len(stack))\n",
    "    elif cmd[0]==4:\n",
    "        print(0 if stack else 1)\n",
    "    elif cmd[0]==5:\n",
    "        print(stack[-1] if stack else -1)"
   ]
  },
  {
   "cell_type": "code",
   "execution_count": null,
   "id": "a460a7cf-2368-4df4-99bd-814c8146ec4c",
   "metadata": {},
   "outputs": [],
   "source": [
    "import sys\n",
    "\n",
    "n = int(sys.stdin.readline())  # 입력 최적화\n",
    "cmds = sys.stdin.read().splitlines()  # 입력을 한 번에 읽기\n",
    "\n",
    "stack = []\n",
    "output = []  # 결과 저장 리스트\n",
    "\n",
    "for cmd in cmds:\n",
    "    c = cmd.split()\n",
    "    if c[0] == '1':\n",
    "        stack.append(int(c[1]))  # 숫자 추가\n",
    "    elif c[0] == '2':\n",
    "        output.append(str(stack.pop()) if stack else '-1')  # 맨 위 값 제거 & 출력 저장\n",
    "    elif c[0] == '3':\n",
    "        output.append(str(len(stack)))  # 스택 크기 출력 저장\n",
    "    elif c[0] == '4':\n",
    "        output.append('0' if stack else '1')  # 비어있는지 여부 저장\n",
    "    elif c[0] == '5':\n",
    "        output.append(str(stack[-1]) if stack else '-1')  # 맨 위 값 조회 & 출력 저장\n",
    "\n",
    "sys.stdout.write(\"\\n\".join(output) + \"\\n\")  # 결과 한 번에 출력"
   ]
  }
 ],
 "metadata": {
  "kernelspec": {
   "display_name": "Python 3 (ipykernel)",
   "language": "python",
   "name": "python3"
  },
  "language_info": {
   "codemirror_mode": {
    "name": "ipython",
    "version": 3
   },
   "file_extension": ".py",
   "mimetype": "text/x-python",
   "name": "python",
   "nbconvert_exporter": "python",
   "pygments_lexer": "ipython3",
   "version": "3.13.1"
  }
 },
 "nbformat": 4,
 "nbformat_minor": 5
}
