{
 "cells": [
  {
   "cell_type": "code",
   "execution_count": 9,
   "id": "41614f8b-1beb-45ff-88bf-6d99eee9a9cf",
   "metadata": {},
   "outputs": [
    {
     "name": "stdin",
     "output_type": "stream",
     "text": [
      " 500\n"
     ]
    },
    {
     "name": "stdout",
     "output_type": "stream",
     "text": [
      "166699\n"
     ]
    }
   ],
   "source": [
    "#오 !\n",
    "n = int(input())\n",
    "data = []\n",
    "num=0\n",
    "\n",
    "while len(data)<= n:\n",
    "    if '666' in str(num):\n",
    "        data.append(num)\n",
    "    num+=1\n",
    "\n",
    "print(data[n-1])"
   ]
  }
 ],
 "metadata": {
  "kernelspec": {
   "display_name": "Python 3 (ipykernel)",
   "language": "python",
   "name": "python3"
  },
  "language_info": {
   "codemirror_mode": {
    "name": "ipython",
    "version": 3
   },
   "file_extension": ".py",
   "mimetype": "text/x-python",
   "name": "python",
   "nbconvert_exporter": "python",
   "pygments_lexer": "ipython3",
   "version": "3.13.1"
  }
 },
 "nbformat": 4,
 "nbformat_minor": 5
}
