{
 "cells": [
  {
   "cell_type": "code",
   "execution_count": null,
   "id": "574e76f7-5a21-4ef6-a394-64875eea5a92",
   "metadata": {},
   "outputs": [],
   "source": [
    "#내 답 - 맞음\n",
    "from collections import deque\n",
    "\n",
    "n = int(input())\n",
    "cmds = [list(map(int,input().split())) for _ in range(n)]\n",
    "result = deque()\n",
    "\n",
    "for cmd in cmds :\n",
    "    if cmd[0] == 1:\n",
    "        result.appendleft(cmd[1])\n",
    "    elif cmd[0]==2:\n",
    "        result.append(cmd[1])\n",
    "    elif cmd[0]==3:\n",
    "        print(result.popleft() if result else -1)\n",
    "    elif cmd[0]==4:\n",
    "        print(result.pop() if result else -1)\n",
    "    elif cmd[0]==5:\n",
    "        print(len(result))\n",
    "    elif cmd[0]==6:\n",
    "        print(0 if result else 1)\n",
    "    elif cmd[0]==7:\n",
    "        print(result[0] if result else -1)\n",
    "    elif cmd[0]==8:\n",
    "        print(result[-1] if result else -1)"
   ]
  },
  {
   "cell_type": "code",
   "execution_count": null,
   "id": "9e39833f-cee1-475f-9a4a-7662ffcfef20",
   "metadata": {},
   "outputs": [],
   "source": [
    "#지피티\n",
    "import sys\n",
    "from collections import deque\n",
    "\n",
    "n = int(sys.stdin.readline())  # 입력 최적화\n",
    "cmds = sys.stdin.read().splitlines()  # 입력을 한 번에 처리\n",
    "result = deque()\n",
    "output = []  # 출력 최적화\n",
    "\n",
    "for cmd in cmds:\n",
    "    c = cmd.split()\n",
    "    op = int(c[0])\n",
    "\n",
    "    if op == 1:\n",
    "        result.appendleft(int(c[1]))  # 앞쪽 삽입\n",
    "    elif op == 2:\n",
    "        result.append(int(c[1]))  # 뒤쪽 삽입\n",
    "    elif op == 3:\n",
    "        output.append(str(result.popleft()) if result else '-1')  # 앞쪽 제거\n",
    "    elif op == 4:\n",
    "        output.append(str(result.pop()) if result else '-1')  # 뒤쪽 제거\n",
    "    elif op == 5:\n",
    "        output.append(str(len(result)))  # 길이 출력\n",
    "    elif op == 6:\n",
    "        output.append('0' if result else '1')  # 비어있는지 확인\n",
    "    elif op == 7:\n",
    "        output.append(str(result[0]) if result else '-1')  # 앞쪽 원소 출력\n",
    "    elif op == 8:\n",
    "        output.append(str(result[-1]) if result else '-1')  # 뒤쪽 원소 출력\n",
    "\n",
    "sys.stdout.write(\"\\n\".join(output) + \"\\n\")  # 결과 한 번에 출력\n"
   ]
  }
 ],
 "metadata": {
  "kernelspec": {
   "display_name": "Python 3 (ipykernel)",
   "language": "python",
   "name": "python3"
  },
  "language_info": {
   "codemirror_mode": {
    "name": "ipython",
    "version": 3
   },
   "file_extension": ".py",
   "mimetype": "text/x-python",
   "name": "python",
   "nbconvert_exporter": "python",
   "pygments_lexer": "ipython3",
   "version": "3.13.1"
  }
 },
 "nbformat": 4,
 "nbformat_minor": 5
}
