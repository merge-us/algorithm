{
 "cells": [
  {
   "cell_type": "code",
   "execution_count": 26,
   "id": "9f179da5-2529-4cc1-9d82-29bb6b78f5f7",
   "metadata": {},
   "outputs": [
    {
     "name": "stdin",
     "output_type": "stream",
     "text": [
      " 6\n"
     ]
    },
    {
     "name": "stdout",
     "output_type": "stream",
     "text": [
      "4\n"
     ]
    }
   ],
   "source": [
    "#내 정답 - 런타임 에러\n",
    "from collections import deque\n",
    "n = int(input())\n",
    "queue = deque()\n",
    "for i in range(1,n+1):\n",
    "   queue.append(i)\n",
    "queue.popleft() # 첫 번째 요소 제거\n",
    "while len(queue) > 1 : # 큐의 길이가 1이 될 때까지 반복\n",
    "    k = queue.popleft() # 첫 번째 요소 꺼내기\n",
    "    queue.append(k) # 꺼낸 요소를 다시 뒤에 추가\n",
    "    queue.popleft() # 첫 번째 요소 제거\n",
    "print(queue[0])"
   ]
  },
  {
   "cell_type": "code",
   "execution_count": 27,
   "id": "f50d05dd-4939-4ea2-b41e-c276b74462bd",
   "metadata": {},
   "outputs": [
    {
     "name": "stdin",
     "output_type": "stream",
     "text": [
      " 6\n"
     ]
    },
    {
     "name": "stdout",
     "output_type": "stream",
     "text": [
      "4\n"
     ]
    }
   ],
   "source": [
    "#내 정답 - 두번째 정답 \n",
    "from collections import deque\n",
    "n = int(input())\n",
    "queue = deque()\n",
    "for i in range(1,n+1):\n",
    "   queue.append(i)\n",
    "while len(queue) > 1 : # 큐에 1개만 남을 때까지 반복\n",
    "    queue.popleft() # 첫 번째 요소 버림\n",
    "    queue.append(queue.popleft()) # 두 번째 요소를 맨 뒤로 이동\n",
    "print(queue[0])"
   ]
  },
  {
   "cell_type": "code",
   "execution_count": 28,
   "id": "3d42ac28-2894-4641-b288-2d70e0366aec",
   "metadata": {},
   "outputs": [
    {
     "name": "stdin",
     "output_type": "stream",
     "text": [
      " 6\n"
     ]
    },
    {
     "name": "stdout",
     "output_type": "stream",
     "text": [
      "4\n"
     ]
    }
   ],
   "source": [
    "# 남의 코드 \n",
    "n = int(input())\n",
    "if n ==1 : #카드 한장이면 바로 1 출력하고 종료 \n",
    "    print(1)\n",
    "else : #n이 2보다 클동안 계속 2로 나눔 \n",
    "    count = 0 #2를 계속 나눴을때의 횟수 저장 \n",
    "    temp = n \n",
    "    while temp > 2:\n",
    "        temp/=2 #temp를 2로 나누면서 \n",
    "        count +=1\n",
    "    print((n-2**count) *2) #2**count는 n 이하의 가장 큰 2의 거듭제곱 "
   ]
  },
  {
   "cell_type": "code",
   "execution_count": null,
   "id": "ff238f2f-9bec-4e28-981c-464cdd7c9963",
   "metadata": {},
   "outputs": [],
   "source": []
  }
 ],
 "metadata": {
  "kernelspec": {
   "display_name": "Python 3 (ipykernel)",
   "language": "python",
   "name": "python3"
  },
  "language_info": {
   "codemirror_mode": {
    "name": "ipython",
    "version": 3
   },
   "file_extension": ".py",
   "mimetype": "text/x-python",
   "name": "python",
   "nbconvert_exporter": "python",
   "pygments_lexer": "ipython3",
   "version": "3.13.1"
  }
 },
 "nbformat": 4,
 "nbformat_minor": 5
}
