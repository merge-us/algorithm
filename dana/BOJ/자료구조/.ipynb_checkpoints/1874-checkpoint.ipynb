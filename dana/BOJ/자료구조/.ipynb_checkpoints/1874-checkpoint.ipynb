{
 "cells": [
  {
   "cell_type": "code",
   "execution_count": null,
   "id": "6bf385c6-79f3-4ceb-b80c-ced11ad3a89b",
   "metadata": {},
   "outputs": [],
   "source": [
    "n = int(input())\n",
    "datas = [int(input()) for _ in range(n)]\n",
    "\n",
    "stack=[]\n",
    "result = []\n",
    "current = 1\n",
    "\n",
    "for i in datas : #i는 수열의 수\n",
    "    while current<=i:\n",
    "        stack.append(current)\n",
    "        result.append(\"+\")\n",
    "        current+=1\n",
    "    if stack[-1]==i:\n",
    "        stack.pop()\n",
    "        result.append(\"-\")\n",
    "    else:\n",
    "        del result[:]\n",
    "        break\n",
    "\n",
    "if result:\n",
    "    print(\"\\n\".join(result))\n",
    "else:\n",
    "    print(\"NO\")"
   ]
  },
  {
   "cell_type": "code",
   "execution_count": null,
   "id": "026a2a29-60a2-43a1-9b9b-e992923a3ece",
   "metadata": {},
   "outputs": [],
   "source": [
    "n = int(input())\n",
    "datas = [int(input()) for _ in range(n)]\n",
    "\n",
    "stack = [] \n",
    "result = [] #+,- 저장\n",
    "current = 1\n",
    "\n",
    "for i in datas:\n",
    "    while current<=i:\n",
    "        stack.append(current)\n",
    "        result.append(\"+\")\n",
    "        current+=1\n",
    "    if stack[-1]==i:\n",
    "        stack.pop()\n",
    "        result.append(\"-\")\n",
    "    else:\n",
    "        del result[:]\n",
    "        break\n",
    "\n",
    "if result:\n",
    "    print(\"\\n\".join(result))\n",
    "else:\n",
    "    print(\"NO\")"
   ]
  }
 ],
 "metadata": {
  "kernelspec": {
   "display_name": "Python 3 (ipykernel)",
   "language": "python",
   "name": "python3"
  },
  "language_info": {
   "codemirror_mode": {
    "name": "ipython",
    "version": 3
   },
   "file_extension": ".py",
   "mimetype": "text/x-python",
   "name": "python",
   "nbconvert_exporter": "python",
   "pygments_lexer": "ipython3",
   "version": "3.13.1"
  }
 },
 "nbformat": 4,
 "nbformat_minor": 5
}
