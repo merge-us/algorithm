{
 "cells": [
  {
   "cell_type": "code",
   "execution_count": 18,
   "id": "9b5167f1-962a-4f2a-9ba0-cf805f62e421",
   "metadata": {},
   "outputs": [
    {
     "name": "stdin",
     "output_type": "stream",
     "text": [
      " 15\n",
      " push 1\n",
      " push 2\n",
      " front\n",
      " back\n",
      " size\n",
      " empty\n",
      " pop\n",
      " pop\n",
      " pop\n",
      " size\n",
      " empty\n",
      " pop\n",
      " push 3\n",
      " empty\n",
      " front\n"
     ]
    },
    {
     "name": "stdout",
     "output_type": "stream",
     "text": [
      "1\n",
      "2\n",
      "2\n",
      "0\n",
      "1\n",
      "2\n",
      "-1\n",
      "0\n",
      "1\n",
      "-1\n",
      "0\n",
      "3\n"
     ]
    }
   ],
   "source": [
    "#내 답\n",
    "from collections import deque\n",
    "n = int(input())\n",
    "data = [input() for _ in range(n)]\n",
    "dq = deque()\n",
    "\n",
    "for d in data :\n",
    "    if d =='back':\n",
    "        print(-1 if not dq else dq[-1])\n",
    "    elif d == 'front':\n",
    "        print(-1 if not dq else dq[0])\n",
    "    elif d =='empty':\n",
    "        print(1 if not dq else 0)\n",
    "    elif d =='size':\n",
    "        print(len(dq))\n",
    "    elif d =='pop':\n",
    "        print(-1 if not dq else dq.popleft())\n",
    "    elif 'push' in d :\n",
    "        dq.append(d[5:])"
   ]
  },
  {
   "cell_type": "code",
   "execution_count": null,
   "id": "e5111825-b3e8-4a25-8151-79d5cdd9056a",
   "metadata": {},
   "outputs": [],
   "source": [
    "#지피티가 알려준거\n",
    "from collections import deque\n",
    "\n",
    "n = int(input())  # 명령 개수 입력\n",
    "dq = deque()\n",
    "\n",
    "for _ in range(n):\n",
    "    d = input()\n",
    "    if d.startswith('push'):\n",
    "        dq.append(d.split()[1])  # push X에서 X 값 추가\n",
    "    elif d == 'pop':\n",
    "        print(dq.popleft() if dq else -1)\n",
    "    elif d == 'size':\n",
    "        print(len(dq))\n",
    "    elif d == 'empty':\n",
    "        print(0 if dq else 1)\n",
    "    elif d == 'front':\n",
    "        print(dq[0] if dq else -1)\n",
    "    elif d == 'back':\n",
    "        print(dq[-1] if dq else -1)"
   ]
  }
 ],
 "metadata": {
  "kernelspec": {
   "display_name": "Python 3 (ipykernel)",
   "language": "python",
   "name": "python3"
  },
  "language_info": {
   "codemirror_mode": {
    "name": "ipython",
    "version": 3
   },
   "file_extension": ".py",
   "mimetype": "text/x-python",
   "name": "python",
   "nbconvert_exporter": "python",
   "pygments_lexer": "ipython3",
   "version": "3.13.1"
  }
 },
 "nbformat": 4,
 "nbformat_minor": 5
}
