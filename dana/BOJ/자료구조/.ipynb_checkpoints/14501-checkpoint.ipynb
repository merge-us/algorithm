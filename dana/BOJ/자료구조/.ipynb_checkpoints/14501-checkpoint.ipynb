{
 "cells": [
  {
   "cell_type": "code",
   "execution_count": 28,
   "id": "f9d2ff4b-aa40-46d1-95be-86102707b12c",
   "metadata": {},
   "outputs": [
    {
     "name": "stdin",
     "output_type": "stream",
     "text": [
      " 7\n",
      " 3 10\n",
      " 5 20\n",
      " 1 10\n",
      " 1 20\n",
      " 2 15\n",
      " 4 40\n",
      " 2 200\n"
     ]
    },
    {
     "name": "stdout",
     "output_type": "stream",
     "text": [
      "800\n"
     ]
    }
   ],
   "source": [
    "n = int(input())\n",
    "data = [list(map(int,input().split())) for _ in range(n)]\n",
    "\n",
    "maxsum = 0\n",
    "#시작일 i\n",
    "for i in range(n):\n",
    "    today = data[i][0]\n",
    "    sum = data[i][1]\n",
    "    while today<n:\n",
    "        today+= data[i][0]\n",
    "        sum += data[i][1]\n",
    "    if sum>=maxsum :\n",
    "        maxsum = sum\n",
    "print(maxsum)"
   ]
  },
  {
   "cell_type": "code",
   "execution_count": 29,
   "id": "c8336fa1-ba19-4447-8154-ea19f6ea91ce",
   "metadata": {},
   "outputs": [
    {
     "name": "stdin",
     "output_type": "stream",
     "text": [
      " 7\n",
      " 3 10\n",
      " 5 20\n",
      " 1 10\n",
      " 1 20\n",
      " 2 15\n",
      " 4 40\n",
      " 2 200\n"
     ]
    },
    {
     "name": "stdout",
     "output_type": "stream",
     "text": [
      "45\n"
     ]
    }
   ],
   "source": [
    "#백트래킹 (모든 경우의 수를 다 돌기)\n",
    "n = int(input())\n",
    "data = [list(map(int,input().split())) for _ in range(n)]\n",
    "\n",
    "maxsum = 0\n",
    "\n",
    "def dfs(day,total):\n",
    "    global maxsum\n",
    "    if day>=n :\n",
    "        maxsum = max(maxsum,total)\n",
    "        return\n",
    "    if day + data[day][0] <=n :\n",
    "        dfs(day+data[day][0],total+data[day][1])\n",
    "\n",
    "    dfs(day+1,total)\n",
    "dfs(0,0)\n",
    "print(maxsum)"
   ]
  },
  {
   "cell_type": "code",
   "execution_count": null,
   "id": "0756b214-c066-4b37-b0bb-bc6f18b8f331",
   "metadata": {},
   "outputs": [],
   "source": [
    "#상담하는 일 ~까지\n",
    "n = int(input())\n",
    "#상담일정\n",
    "data = [list(map(int,input().split())) for _ in range(n)]\n",
    "#최대수익\n",
    "maxsum = 0\n",
    "\n",
    "#day = 현재 날짜 (0부터 시작) , total = 현재까지의 총 수ㅌ\n",
    "def dfs(day,total):\n",
    "    #함수 내부에서 전역변수 수정하려면 global 써야함\n",
    "    global maxsum\n",
    "    #n일이 넘으면 종료\n",
    "    if day>=n:\n",
    "        maxsum = max(maxsum,total)\n",
    "        return\n",
    "    #현재 상담이 퇴사일 전에 끝나는지 확인 = 상담 선택\n",
    "    if day+data[day][0]<=n:\n",
    "        dfs(day+data[day][0],total+data[day][1])\n",
    "    #현재 상담을 선택하지 않고 다음 날짜로 넘어감\n",
    "    dfs(day+1,total)\n",
    "    \n",
    "dfs(0,0)\n",
    "print(maxsum)"
   ]
  }
 ],
 "metadata": {
  "kernelspec": {
   "display_name": "Python 3 (ipykernel)",
   "language": "python",
   "name": "python3"
  },
  "language_info": {
   "codemirror_mode": {
    "name": "ipython",
    "version": 3
   },
   "file_extension": ".py",
   "mimetype": "text/x-python",
   "name": "python",
   "nbconvert_exporter": "python",
   "pygments_lexer": "ipython3",
   "version": "3.13.1"
  }
 },
 "nbformat": 4,
 "nbformat_minor": 5
}
