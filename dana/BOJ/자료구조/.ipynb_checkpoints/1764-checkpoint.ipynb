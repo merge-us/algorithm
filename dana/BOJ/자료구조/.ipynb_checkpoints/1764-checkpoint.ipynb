{
 "cells": [
  {
   "cell_type": "code",
   "execution_count": 7,
   "id": "95d54969-351f-4bf1-92eb-c5979b1ad1b3",
   "metadata": {},
   "outputs": [
    {
     "name": "stdin",
     "output_type": "stream",
     "text": [
      " 3 4\n",
      " ohhenrie\n",
      " charlie\n",
      " baesangwook\n",
      " obama\n",
      " baesangwook\n",
      " ohhenrie\n",
      " clinton\n"
     ]
    },
    {
     "name": "stdout",
     "output_type": "stream",
     "text": [
      "2\n",
      "ohhenrie\n",
      "baesangwook\n"
     ]
    }
   ],
   "source": [
    "#내 코드 - 시간초과\n",
    "n,m = map(int,input().split())\n",
    "dnames = [input() for _ in range(n)]\n",
    "bnames = [input() for _ in range(m)]\n",
    "dbnames = []\n",
    "\n",
    "for name in dnames :\n",
    "    if name in bnames :\n",
    "        dbnames.append(name)\n",
    "\n",
    "dbnames.sort()\n",
    "    \n",
    "print(len(dbnames))\n",
    "print('\\n'.join(dbnames))"
   ]
  },
  {
   "cell_type": "code",
   "execution_count": 9,
   "id": "098e9dcf-b463-43d9-a231-bf6478646f39",
   "metadata": {},
   "outputs": [
    {
     "name": "stdin",
     "output_type": "stream",
     "text": [
      " 3 4\n",
      " ohhenrie\n",
      " charlie\n",
      " baesangwook\n",
      " obama\n",
      " baesangwook\n",
      " ohhenrie\n",
      " clinton\n"
     ]
    },
    {
     "name": "stdout",
     "output_type": "stream",
     "text": [
      "2\n",
      "baesangwook\n",
      "ohhenrie\n"
     ]
    }
   ],
   "source": [
    "# 교집합 연산자  = set에서만 사용가능 \n",
    "n,m = map(int,input().split())\n",
    "dnames = {input() for _ in range(n)}\n",
    "bnames = {input() for _ in range(m)}\n",
    "dbnames = sorted(dnames&bnames)\n",
    "\n",
    "print(len(dbnames))\n",
    "print('\\n'.join(dbnames))"
   ]
  },
  {
   "cell_type": "code",
   "execution_count": null,
   "id": "2dec2fb2-7dc1-4412-8b91-f6b4131c0bed",
   "metadata": {},
   "outputs": [],
   "source": []
  }
 ],
 "metadata": {
  "kernelspec": {
   "display_name": "Python 3 (ipykernel)",
   "language": "python",
   "name": "python3"
  },
  "language_info": {
   "codemirror_mode": {
    "name": "ipython",
    "version": 3
   },
   "file_extension": ".py",
   "mimetype": "text/x-python",
   "name": "python",
   "nbconvert_exporter": "python",
   "pygments_lexer": "ipython3",
   "version": "3.13.1"
  }
 },
 "nbformat": 4,
 "nbformat_minor": 5
}
