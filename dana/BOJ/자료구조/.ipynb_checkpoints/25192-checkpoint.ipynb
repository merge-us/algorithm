{
 "cells": [
  {
   "cell_type": "code",
   "execution_count": 7,
   "id": "c3374666-2bda-4602-9ed7-f3715e906d27",
   "metadata": {},
   "outputs": [
    {
     "name": "stdin",
     "output_type": "stream",
     "text": [
      " 3\n",
      " ENTER\n",
      " lms\n",
      " lms\n"
     ]
    },
    {
     "name": "stdout",
     "output_type": "stream",
     "text": [
      "set()\n",
      "{'lms'}\n",
      "1\n"
     ]
    }
   ],
   "source": [
    "n = int(input())\n",
    "datas = [input() for _ in range(n)]\n",
    "\n",
    "result = set()\n",
    "count = 0\n",
    "for data in datas:\n",
    "    if data == 'ENTER':\n",
    "        count+=len(result)\n",
    "        result.clear()\n",
    "        continue\n",
    "    result.add(data)\n",
    "print(count+len(result))"
   ]
  },
  {
   "cell_type": "code",
   "execution_count": null,
   "id": "5ead822b-5f31-4ce0-b27c-27e14e634a51",
   "metadata": {},
   "outputs": [],
   "source": []
  }
 ],
 "metadata": {
  "kernelspec": {
   "display_name": "Python 3 (ipykernel)",
   "language": "python",
   "name": "python3"
  },
  "language_info": {
   "codemirror_mode": {
    "name": "ipython",
    "version": 3
   },
   "file_extension": ".py",
   "mimetype": "text/x-python",
   "name": "python",
   "nbconvert_exporter": "python",
   "pygments_lexer": "ipython3",
   "version": "3.13.1"
  }
 },
 "nbformat": 4,
 "nbformat_minor": 5
}
