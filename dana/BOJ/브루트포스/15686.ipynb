{
 "cells": [
  {
   "cell_type": "code",
   "execution_count": 38,
   "id": "fa5bc3c9-56c3-453e-bf50-961c37e4603c",
   "metadata": {},
   "outputs": [
    {
     "name": "stdin",
     "output_type": "stream",
     "text": [
      " 5 2\n",
      " 0 2 0 1 0\n",
      " 1 0 1 0 0\n",
      " 0 0 0 0 0\n",
      " 2 0 0 1 1\n",
      " 2 2 0 1 2\n"
     ]
    },
    {
     "name": "stdout",
     "output_type": "stream",
     "text": [
      "10\n"
     ]
    }
   ],
   "source": [
    "from itertools import combinations \n",
    "\n",
    "n,m = map(int,input().split())\n",
    "data = [list(map(int,input().split())) for _ in range(n)]\n",
    "\n",
    "#집 좌표 저장\n",
    "house = [(i,j) for i in range(n) for j in range(n) if data[i][j] == 1]\n",
    "#치킨집 좌표 저장 \n",
    "chicken = [(i, j) for i in range(n) for j in range(n) if data[i][j] == 2]\n",
    "\n",
    "#도시의 치킨거리 (모든 집의 치킨 거리의 합)\n",
    "result = float('inf')\n",
    "\n",
    "#집의 치킨 거리 계산하는 함수\n",
    "def calculate_distance(chicken):\n",
    "    total_distance = 0\n",
    "    for i, j in house:\n",
    "        min_distance = float('inf')\n",
    "        for k,h in chicken : \n",
    "            distance = abs(i-k)+abs(j-h)    \n",
    "            #min_distance = 한 집의 치킨거리\n",
    "            min_distance = min(min_distance,distance)\n",
    "        total_distance+=min_distance\n",
    "    return total_distance\n",
    "\n",
    "#치킨집에서 m개 치킨집 추출\n",
    "for c in combinations(chicken,m):\n",
    "    result = min(result,calculate_distance(c))\n",
    "    \n",
    "print(result)"
   ]
  },
  {
   "cell_type": "code",
   "execution_count": null,
   "id": "8674bdbb-87cf-4742-8bed-eebc902636fe",
   "metadata": {},
   "outputs": [],
   "source": []
  }
 ],
 "metadata": {
  "kernelspec": {
   "display_name": "Python 3 (ipykernel)",
   "language": "python",
   "name": "python3"
  },
  "language_info": {
   "codemirror_mode": {
    "name": "ipython",
    "version": 3
   },
   "file_extension": ".py",
   "mimetype": "text/x-python",
   "name": "python",
   "nbconvert_exporter": "python",
   "pygments_lexer": "ipython3",
   "version": "3.13.1"
  }
 },
 "nbformat": 4,
 "nbformat_minor": 5
}
