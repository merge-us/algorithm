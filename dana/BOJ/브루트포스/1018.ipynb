{
 "cells": [
  {
   "cell_type": "code",
   "execution_count": 19,
   "id": "8bf6a649-b923-461f-83f5-b62dee59a4a9",
   "metadata": {},
   "outputs": [
    {
     "name": "stdin",
     "output_type": "stream",
     "text": [
      " 2 2\n",
      " WB\n",
      " BW\n"
     ]
    },
    {
     "name": "stdout",
     "output_type": "stream",
     "text": [
      "[]\n"
     ]
    }
   ],
   "source": [
    "#첫 코드\n",
    "m,n = map(int,input().split())\n",
    "data = []\n",
    "for _ in range(m):\n",
    "    data.append(list(input()))\n",
    "count=[]\n",
    "#i,j = 시작점 설정\n",
    "for i in range(m-7):\n",
    "    for j in range(n-7):\n",
    "        num = 0 #새로 칠해야되는 수\n",
    "        #맨 위, 왼쪽이 B일때\n",
    "        if data[i][j] == 'B':\n",
    "            #data[i][j]부터 8*8까지 돌기\n",
    "            for k in range(i,i+8):\n",
    "                for p in range(j,j+8):\n",
    "                    if data[k][p]=='B':\n",
    "                        if k==p:\n",
    "                            continue\n",
    "                        else:\n",
    "                            num+=1\n",
    "                    else:\n",
    "                        if k==p:\n",
    "                            num+=1\n",
    "                        else:\n",
    "                            continue\n",
    "            count.append(num)\n",
    "                \n",
    "        else : #맨 위, 왼쪽이 W일때 \n",
    "            for k in range(i,i+8):\n",
    "                for p in range(j,j+8):\n",
    "                    if data[k][p]=='W':\n",
    "                        if k==p:\n",
    "                            num+=1\n",
    "                        else:\n",
    "                            continue\n",
    "                    else:\n",
    "                        if k==p:\n",
    "                            continue\n",
    "                        else:\n",
    "                            num+=1\n",
    "            count.append(num)\n",
    "print(count)"
   ]
  },
  {
   "cell_type": "code",
   "execution_count": 23,
   "id": "4258b766-c282-4637-9b38-3ce2063e9210",
   "metadata": {},
   "outputs": [
    {
     "name": "stdin",
     "output_type": "stream",
     "text": [
      " 8 8\n",
      " WBWBWBWB\n",
      " BWBWBWBW\n",
      " WBWBWBWB\n",
      " BWBBBWBW\n",
      " WBWBWBWB\n",
      " BWBWBWBW\n",
      " WBWBWBWB\n",
      " BWBWBWBW\n"
     ]
    },
    {
     "name": "stdout",
     "output_type": "stream",
     "text": [
      "1\n"
     ]
    }
   ],
   "source": [
    "#지피티가 고쳐준 코드 \n",
    "m,n = map(int,input().split())\n",
    "\n",
    "data = []\n",
    "for _ in range(m):\n",
    "    data.append(list(input())) #이거 list 안쓰고도 data[i][j] 쓸 수 있음\n",
    "    \n",
    "count=[]\n",
    "#i,j = 시작점 설정\n",
    "for i in range(m-7):\n",
    "    for j in range(n-7):\n",
    "        num1, num2 = 0, 0  # 각각 'B'로 시작하는 경우와 'W'로 시작하는 경우의 개수\n",
    "        for k in range(i,i+8):\n",
    "            for p in range(j,j+8):\n",
    "                #짝수 좌표는 시작점과 같은 색이어야함\n",
    "                if (k+p)%2==0:\n",
    "                    if data[k][p]!='B':\n",
    "                        num1+=1\n",
    "                    if data[k][p]!='W':\n",
    "                        num2+=1\n",
    "                #홀수 좌표는 시작점과 반대 색이어야함\n",
    "                else:\n",
    "                    if data[k][p]!='W':\n",
    "                        num1+=1\n",
    "                    if data[k][p]!='B':\n",
    "                        num2+=1\n",
    "        count.append(min(num1,num2))\n",
    "print(min(count))"
   ]
  },
  {
   "cell_type": "code",
   "execution_count": 24,
   "id": "dbcee4ac-a337-4243-97cb-a15d584b4259",
   "metadata": {},
   "outputs": [
    {
     "name": "stdin",
     "output_type": "stream",
     "text": [
      " 8 8\n",
      " WBWBWBWB\n",
      " BWBWBWBW\n",
      " WBWBWBWB\n",
      " BWBBBWBW\n",
      " WBWBWBWB\n",
      " BWBWBWBW\n",
      " WBWBWBWB\n",
      " BWBWBWBW\n"
     ]
    },
    {
     "name": "stdout",
     "output_type": "stream",
     "text": [
      "1\n"
     ]
    }
   ],
   "source": [
    "# 더 최적화된? 코드\n",
    "m,n = map(int,input().split())\n",
    "\n",
    "data = [input() for _ in range(m)]\n",
    "\n",
    "for i in range(m-7):\n",
    "    for j in range(n-7):\n",
    "        num1, num2 = 0, 0\n",
    "\n",
    "        for k in range(8):\n",
    "            for p in range(8):\n",
    "                if (k+p)%2==0:\n",
    "                    if data[i+k][j+p] != 'B':\n",
    "                        num1+=1\n",
    "                    if data[i+k][j+p] != 'W':\n",
    "                        num2+=1\n",
    "                else:\n",
    "                    if data[i+k][j+p] != 'B':\n",
    "                        num2+=1\n",
    "                    if data[i+k][j+p] != 'W':\n",
    "                        num1+=1\n",
    "        min = min(num1,num2)\n",
    "print(min)"
   ]
  },
  {
   "cell_type": "code",
   "execution_count": null,
   "id": "d06a322e-ecb2-487c-9b4f-30ea08d94811",
   "metadata": {},
   "outputs": [],
   "source": []
  }
 ],
 "metadata": {
  "kernelspec": {
   "display_name": "Python 3 (ipykernel)",
   "language": "python",
   "name": "python3"
  },
  "language_info": {
   "codemirror_mode": {
    "name": "ipython",
    "version": 3
   },
   "file_extension": ".py",
   "mimetype": "text/x-python",
   "name": "python",
   "nbconvert_exporter": "python",
   "pygments_lexer": "ipython3",
   "version": "3.13.1"
  }
 },
 "nbformat": 4,
 "nbformat_minor": 5
}
