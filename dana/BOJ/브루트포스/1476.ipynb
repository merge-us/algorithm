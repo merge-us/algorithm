{
 "cells": [
  {
   "cell_type": "code",
   "execution_count": 34,
   "id": "948ee429-1725-48c1-8f5b-3c5f95b60fc9",
   "metadata": {},
   "outputs": [
    {
     "name": "stdin",
     "output_type": "stream",
     "text": [
      " 1 2 3\n"
     ]
    },
    {
     "ename": "RecursionError",
     "evalue": "maximum recursion depth exceeded",
     "output_type": "error",
     "traceback": [
      "\u001b[0;31m---------------------------------------------------------------------------\u001b[0m",
      "\u001b[0;31mRecursionError\u001b[0m                            Traceback (most recent call last)",
      "Cell \u001b[0;32mIn[34], line 13\u001b[0m\n\u001b[1;32m     10\u001b[0m     year\u001b[38;5;241m+\u001b[39m\u001b[38;5;241m=\u001b[39m\u001b[38;5;241m28\u001b[39m\n\u001b[1;32m     11\u001b[0m     calculate_yr()\n\u001b[0;32m---> 13\u001b[0m \u001b[43mcalculate_yr\u001b[49m\u001b[43m(\u001b[49m\u001b[43m)\u001b[49m\n\u001b[1;32m     14\u001b[0m \u001b[38;5;28mprint\u001b[39m(year)\n",
      "Cell \u001b[0;32mIn[34], line 11\u001b[0m, in \u001b[0;36mcalculate_yr\u001b[0;34m()\u001b[0m\n\u001b[1;32m      9\u001b[0m     \u001b[38;5;28;01mreturn\u001b[39;00m year\n\u001b[1;32m     10\u001b[0m year\u001b[38;5;241m+\u001b[39m\u001b[38;5;241m=\u001b[39m\u001b[38;5;241m28\u001b[39m\n\u001b[0;32m---> 11\u001b[0m \u001b[43mcalculate_yr\u001b[49m\u001b[43m(\u001b[49m\u001b[43m)\u001b[49m\n",
      "Cell \u001b[0;32mIn[34], line 11\u001b[0m, in \u001b[0;36mcalculate_yr\u001b[0;34m()\u001b[0m\n\u001b[1;32m      9\u001b[0m     \u001b[38;5;28;01mreturn\u001b[39;00m year\n\u001b[1;32m     10\u001b[0m year\u001b[38;5;241m+\u001b[39m\u001b[38;5;241m=\u001b[39m\u001b[38;5;241m28\u001b[39m\n\u001b[0;32m---> 11\u001b[0m \u001b[43mcalculate_yr\u001b[49m\u001b[43m(\u001b[49m\u001b[43m)\u001b[49m\n",
      "    \u001b[0;31m[... skipping similar frames: calculate_yr at line 11 (2974 times)]\u001b[0m\n",
      "Cell \u001b[0;32mIn[34], line 11\u001b[0m, in \u001b[0;36mcalculate_yr\u001b[0;34m()\u001b[0m\n\u001b[1;32m      9\u001b[0m     \u001b[38;5;28;01mreturn\u001b[39;00m year\n\u001b[1;32m     10\u001b[0m year\u001b[38;5;241m+\u001b[39m\u001b[38;5;241m=\u001b[39m\u001b[38;5;241m28\u001b[39m\n\u001b[0;32m---> 11\u001b[0m \u001b[43mcalculate_yr\u001b[49m\u001b[43m(\u001b[49m\u001b[43m)\u001b[49m\n",
      "\u001b[0;31mRecursionError\u001b[0m: maximum recursion depth exceeded"
     ]
    }
   ],
   "source": [
    "#dfs\n",
    "e,s,m = map(int,input().split())\n",
    "\n",
    "year = 1\n",
    "\n",
    "def calculate_yr():\n",
    "    global year\n",
    "    #종료조건\n",
    "    if year%15 ==e and year%28 == s and year%19 == m :\n",
    "        return year\n",
    "    year+=1\n",
    "    calculate_yr()\n",
    "\n",
    "calculate_yr()\n",
    "print(year)"
   ]
  },
  {
   "cell_type": "code",
   "execution_count": 37,
   "id": "84ab2fa7-32d0-4d51-8bde-78ce33a35152",
   "metadata": {},
   "outputs": [
    {
     "name": "stdin",
     "output_type": "stream",
     "text": [
      " 15 28 19\n"
     ]
    },
    {
     "name": "stdout",
     "output_type": "stream",
     "text": [
      "7980\n"
     ]
    }
   ],
   "source": [
    "#while 문 사용 \n",
    "e,s,m = map(int,input().split())\n",
    "year = s\n",
    "\n",
    "while True :\n",
    "    if (year%15)==(e%15) and (year%28)==(s%28) and (year%19)==(m%19):\n",
    "        print(year)\n",
    "        break\n",
    "    year+=28"
   ]
  },
  {
   "cell_type": "code",
   "execution_count": null,
   "id": "5fa31f30-de5f-4b93-af3a-b22633b17641",
   "metadata": {},
   "outputs": [],
   "source": []
  }
 ],
 "metadata": {
  "kernelspec": {
   "display_name": "Python 3 (ipykernel)",
   "language": "python",
   "name": "python3"
  },
  "language_info": {
   "codemirror_mode": {
    "name": "ipython",
    "version": 3
   },
   "file_extension": ".py",
   "mimetype": "text/x-python",
   "name": "python",
   "nbconvert_exporter": "python",
   "pygments_lexer": "ipython3",
   "version": "3.13.1"
  }
 },
 "nbformat": 4,
 "nbformat_minor": 5
}
