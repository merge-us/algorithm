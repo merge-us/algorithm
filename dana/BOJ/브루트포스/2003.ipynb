{
 "cells": [
  {
   "cell_type": "code",
   "execution_count": 27,
   "id": "9b53550e-7f42-4427-b9fc-2cda44402abd",
   "metadata": {},
   "outputs": [
    {
     "name": "stdin",
     "output_type": "stream",
     "text": [
      " 10 5\n",
      "  1 2 3 4 2 5 3 1 1 2\n"
     ]
    },
    {
     "name": "stdout",
     "output_type": "stream",
     "text": [
      "3\n"
     ]
    }
   ],
   "source": [
    "n,m = map(int,input().split())\n",
    "numbers = list(map(int,input().split()))\n",
    "\n",
    "count = 0\n",
    "left,right = 0,0\n",
    "total =0\n",
    "\n",
    "while right<n:\n",
    "    total += numbers[right]\n",
    "    while total>m and left<=right:\n",
    "        total-=numbers[left]\n",
    "        left+=1\n",
    "    if total == m :\n",
    "        count+=1\n",
    "    right+=1\n",
    "\n",
    "print(count)"
   ]
  },
  {
   "cell_type": "code",
   "execution_count": null,
   "id": "bc5cc177-c719-4f57-8b96-84069c097852",
   "metadata": {},
   "outputs": [],
   "source": [
    "n,m = map(int,input().split())\n",
    "numbers = list(map(int,input().split()))\n",
    "\n",
    "count = 0\n",
    "left,right = 0,0\n",
    "total = 0\n",
    "\n",
    "while right<n:\n",
    "    total+=numbers[right]\n",
    "    while total>m and left<=right:\n",
    "        total-=numbers[left]\n",
    "        left+=1\n",
    "    if total==m:\n",
    "        count+=1\n",
    "    right+=1\n",
    "    \n",
    "print(count)"
   ]
  },
  {
   "cell_type": "code",
   "execution_count": null,
   "id": "fb0e27a1-ea98-4fcf-82a9-4325669b7dab",
   "metadata": {},
   "outputs": [],
   "source": []
  }
 ],
 "metadata": {
  "kernelspec": {
   "display_name": "Python 3 (ipykernel)",
   "language": "python",
   "name": "python3"
  },
  "language_info": {
   "codemirror_mode": {
    "name": "ipython",
    "version": 3
   },
   "file_extension": ".py",
   "mimetype": "text/x-python",
   "name": "python",
   "nbconvert_exporter": "python",
   "pygments_lexer": "ipython3",
   "version": "3.13.1"
  }
 },
 "nbformat": 4,
 "nbformat_minor": 5
}
