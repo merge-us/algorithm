{
 "cells": [
  {
   "cell_type": "code",
   "execution_count": 22,
   "id": "ba113205-ec02-4616-9218-48a46ce4bdad",
   "metadata": {},
   "outputs": [
    {
     "name": "stdin",
     "output_type": "stream",
     "text": [
      " 8\n",
      " 0 5 4 5 4 5 4 5\n",
      " 4 0 5 1 2 3 4 5\n",
      " 9 8 0 1 2 3 1 2\n",
      " 9 9 9 0 9 9 9 9\n",
      " 1 1 1 1 0 1 1 1\n",
      " 8 7 6 5 4 0 3 2\n",
      " 9 1 9 1 9 1 0 9\n",
      " 6 5 4 3 2 1 9 0\n"
     ]
    },
    {
     "name": "stdout",
     "output_type": "stream",
     "text": [
      "1\n"
     ]
    }
   ],
   "source": [
    "from itertools import combinations \n",
    "\n",
    "n = int(input())\n",
    "data = [list(map(int,input().split())) for _ in range(n)]\n",
    "\n",
    "result = float('inf')\n",
    "\n",
    "#팀원 나눌 수 있는 모든 경우 수\n",
    "for start in combinations(range(n),n//2) :\n",
    "    link = list(set(range(n))-set(start))\n",
    "\n",
    "    #백트래킹\n",
    "    def calculate(team):\n",
    "        total = 0\n",
    "        #가능한 모든 선택 시도\n",
    "        for i in range(len(team)):\n",
    "            for j in range(i+1, len(team)):\n",
    "                total += data[team[i]][team[j]] + data[team[j]][team[i]]\n",
    "        return total\n",
    "    start_score = calculate(start)\n",
    "    link_score = calculate(link)\n",
    "\n",
    "    result = min(result,abs(start_score-link_score))\n",
    "print(result)"
   ]
  },
  {
   "cell_type": "code",
   "execution_count": null,
   "id": "24e7b6a1-84c7-4872-9b0c-25de6a5e865c",
   "metadata": {},
   "outputs": [],
   "source": [
    "from itertools import combinations\n",
    "n = int(input())\n",
    "data =[list(map(int,input().split())) for _ in range(n)]\n",
    "\n",
    "players = list(range(n))\n",
    "result = float('inf')\n",
    "\n",
    "#팀원 나눌수 있는 경우의 수\n",
    "for start in combinations(range(n),n//2):\n",
    "    link = [ x for x in players if x not in start]\n",
    "\n",
    "    def calculate(team):\n",
    "        total = 0 \n",
    "        for i,j in combinations(team,2):\n",
    "            total+=data[i][j] + data[j][i]\n",
    "        return total\n",
    "    starts = calculate(start)\n",
    "    links = calculate(link)\n",
    "    result = min(result,abs(starts-links))\n",
    "\n",
    "    if result == 0 :\n",
    "        break\n",
    "        \n",
    "print(result)"
   ]
  },
  {
   "cell_type": "code",
   "execution_count": null,
   "id": "c844755d-1b7f-4e95-bc36-19ddd55db180",
   "metadata": {},
   "outputs": [],
   "source": [
    "from itertools import combinations\n",
    "n = int(input())\n",
    "data = [list(map(int,input().split())) for _ in range(n)]\n",
    "\n",
    "players = list(range(n))\n",
    "result = float('inf')\n",
    "\n",
    "for start in combinations(range(n),n//2):\n",
    "    link = [ x for x in player if not in start]\n",
    "\n",
    "    def calculate(team):\n",
    "        total = 0\n",
    "        for i,j in combinations(team,2):\n",
    "            total+=data[i][j]+data[j][i]\n",
    "        return total\n",
    "    ss = calculate(start)\n",
    "    ls = calculate(link)\n",
    "    result = min(result,abs(ss-ls))\n",
    "\n",
    "    if result ==0:\n",
    "        break\n",
    "print(result)"
   ]
  }
 ],
 "metadata": {
  "kernelspec": {
   "display_name": "Python 3 (ipykernel)",
   "language": "python",
   "name": "python3"
  },
  "language_info": {
   "codemirror_mode": {
    "name": "ipython",
    "version": 3
   },
   "file_extension": ".py",
   "mimetype": "text/x-python",
   "name": "python",
   "nbconvert_exporter": "python",
   "pygments_lexer": "ipython3",
   "version": "3.13.1"
  }
 },
 "nbformat": 4,
 "nbformat_minor": 5
}
