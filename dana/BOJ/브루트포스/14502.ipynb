{
 "cells": [
  {
   "cell_type": "code",
   "execution_count": 13,
   "id": "33738660-3a0e-4ca7-9433-faa9fdb248b3",
   "metadata": {},
   "outputs": [
    {
     "ename": "KeyboardInterrupt",
     "evalue": "Interrupted by user",
     "output_type": "error",
     "traceback": [
      "\u001b[0;31m---------------------------------------------------------------------------\u001b[0m",
      "\u001b[0;31mKeyboardInterrupt\u001b[0m                         Traceback (most recent call last)",
      "Cell \u001b[0;32mIn[13], line 3\u001b[0m\n\u001b[1;32m      1\u001b[0m \u001b[38;5;28;01mfrom\u001b[39;00m\u001b[38;5;250m \u001b[39m\u001b[38;5;21;01mitertools\u001b[39;00m\u001b[38;5;250m \u001b[39m\u001b[38;5;28;01mimport\u001b[39;00m combinations\n\u001b[1;32m      2\u001b[0m \u001b[38;5;28;01mfrom\u001b[39;00m\u001b[38;5;250m \u001b[39m\u001b[38;5;21;01mcollections\u001b[39;00m\u001b[38;5;250m \u001b[39m\u001b[38;5;28;01mimport\u001b[39;00m deque\n\u001b[0;32m----> 3\u001b[0m n,m \u001b[38;5;241m=\u001b[39m \u001b[38;5;28mmap\u001b[39m(\u001b[38;5;28mint\u001b[39m,\u001b[38;5;28;43minput\u001b[39;49m\u001b[43m(\u001b[49m\u001b[43m)\u001b[49m\u001b[38;5;241m.\u001b[39msplit())\n\u001b[1;32m      4\u001b[0m arr \u001b[38;5;241m=\u001b[39m [\u001b[38;5;28mlist\u001b[39m(\u001b[38;5;28mmap\u001b[39m(\u001b[38;5;28mint\u001b[39m, \u001b[38;5;28minput\u001b[39m()\u001b[38;5;241m.\u001b[39msplit())) \u001b[38;5;28;01mfor\u001b[39;00m _ \u001b[38;5;129;01min\u001b[39;00m \u001b[38;5;28mrange\u001b[39m(n)]\n\u001b[1;32m      6\u001b[0m \u001b[38;5;66;03m#빈칸 배열 좌표 찾기\u001b[39;00m\n",
      "File \u001b[0;32m/opt/homebrew/Cellar/jupyterlab/4.3.5/libexec/lib/python3.13/site-packages/ipykernel/kernelbase.py:1282\u001b[0m, in \u001b[0;36mKernel.raw_input\u001b[0;34m(self, prompt)\u001b[0m\n\u001b[1;32m   1280\u001b[0m     msg \u001b[38;5;241m=\u001b[39m \u001b[38;5;124m\"\u001b[39m\u001b[38;5;124mraw_input was called, but this frontend does not support input requests.\u001b[39m\u001b[38;5;124m\"\u001b[39m\n\u001b[1;32m   1281\u001b[0m     \u001b[38;5;28;01mraise\u001b[39;00m StdinNotImplementedError(msg)\n\u001b[0;32m-> 1282\u001b[0m \u001b[38;5;28;01mreturn\u001b[39;00m \u001b[38;5;28;43mself\u001b[39;49m\u001b[38;5;241;43m.\u001b[39;49m\u001b[43m_input_request\u001b[49m\u001b[43m(\u001b[49m\n\u001b[1;32m   1283\u001b[0m \u001b[43m    \u001b[49m\u001b[38;5;28;43mstr\u001b[39;49m\u001b[43m(\u001b[49m\u001b[43mprompt\u001b[49m\u001b[43m)\u001b[49m\u001b[43m,\u001b[49m\n\u001b[1;32m   1284\u001b[0m \u001b[43m    \u001b[49m\u001b[38;5;28;43mself\u001b[39;49m\u001b[38;5;241;43m.\u001b[39;49m\u001b[43m_parent_ident\u001b[49m\u001b[43m[\u001b[49m\u001b[38;5;124;43m\"\u001b[39;49m\u001b[38;5;124;43mshell\u001b[39;49m\u001b[38;5;124;43m\"\u001b[39;49m\u001b[43m]\u001b[49m\u001b[43m,\u001b[49m\n\u001b[1;32m   1285\u001b[0m \u001b[43m    \u001b[49m\u001b[38;5;28;43mself\u001b[39;49m\u001b[38;5;241;43m.\u001b[39;49m\u001b[43mget_parent\u001b[49m\u001b[43m(\u001b[49m\u001b[38;5;124;43m\"\u001b[39;49m\u001b[38;5;124;43mshell\u001b[39;49m\u001b[38;5;124;43m\"\u001b[39;49m\u001b[43m)\u001b[49m\u001b[43m,\u001b[49m\n\u001b[1;32m   1286\u001b[0m \u001b[43m    \u001b[49m\u001b[43mpassword\u001b[49m\u001b[38;5;241;43m=\u001b[39;49m\u001b[38;5;28;43;01mFalse\u001b[39;49;00m\u001b[43m,\u001b[49m\n\u001b[1;32m   1287\u001b[0m \u001b[43m\u001b[49m\u001b[43m)\u001b[49m\n",
      "File \u001b[0;32m/opt/homebrew/Cellar/jupyterlab/4.3.5/libexec/lib/python3.13/site-packages/ipykernel/kernelbase.py:1325\u001b[0m, in \u001b[0;36mKernel._input_request\u001b[0;34m(self, prompt, ident, parent, password)\u001b[0m\n\u001b[1;32m   1322\u001b[0m \u001b[38;5;28;01mexcept\u001b[39;00m \u001b[38;5;167;01mKeyboardInterrupt\u001b[39;00m:\n\u001b[1;32m   1323\u001b[0m     \u001b[38;5;66;03m# re-raise KeyboardInterrupt, to truncate traceback\u001b[39;00m\n\u001b[1;32m   1324\u001b[0m     msg \u001b[38;5;241m=\u001b[39m \u001b[38;5;124m\"\u001b[39m\u001b[38;5;124mInterrupted by user\u001b[39m\u001b[38;5;124m\"\u001b[39m\n\u001b[0;32m-> 1325\u001b[0m     \u001b[38;5;28;01mraise\u001b[39;00m \u001b[38;5;167;01mKeyboardInterrupt\u001b[39;00m(msg) \u001b[38;5;28;01mfrom\u001b[39;00m\u001b[38;5;250m \u001b[39m\u001b[38;5;28;01mNone\u001b[39;00m\n\u001b[1;32m   1326\u001b[0m \u001b[38;5;28;01mexcept\u001b[39;00m \u001b[38;5;167;01mException\u001b[39;00m:\n\u001b[1;32m   1327\u001b[0m     \u001b[38;5;28mself\u001b[39m\u001b[38;5;241m.\u001b[39mlog\u001b[38;5;241m.\u001b[39mwarning(\u001b[38;5;124m\"\u001b[39m\u001b[38;5;124mInvalid Message:\u001b[39m\u001b[38;5;124m\"\u001b[39m, exc_info\u001b[38;5;241m=\u001b[39m\u001b[38;5;28;01mTrue\u001b[39;00m)\n",
      "\u001b[0;31mKeyboardInterrupt\u001b[0m: Interrupted by user"
     ]
    }
   ],
   "source": [
    "from itertools import combinations\n",
    "from collections import deque\n",
    "n,m = map(int,input().split())\n",
    "arr = [list(map(int, input().split())) for _ in range(n)]\n",
    "\n",
    "#빈칸 배열 좌표 찾기\n",
    "empty = [(i,j) for i in range(n) for j in range(m) if arr[i][j]==0]\n",
    "#바이러스 위치 찾기\n",
    "virus = [(i,j) for i in range(n) for j in range(m) if arr[i][j]==2]\n",
    "#최대 안전영역 \n",
    "max_safe = 0\n",
    "\n",
    "#왼, 오, 위, 아래 방향벡터\n",
    "dx = [0,0,-1,1]\n",
    "dy = [-1,1,0,0]\n",
    "\n",
    "#안전영역 계산하는 함수 : 0의 개수 세기\n",
    "def bfs():\n",
    "    temp = [row[:] for row in arr] #원본 배열 복사\n",
    "    queue = deque(virus)\n",
    "    \n",
    "    #바이러스 퍼뜨리기\n",
    "    while queue:\n",
    "        x,y = queue.popleft()\n",
    "        for i in range(4):\n",
    "            nx,ny = x+dx[i],y+dy[i]\n",
    "            if 0<=nx<n and 0<=ny<m and temp[nx][ny]==0:\n",
    "                temp[nx][ny]=2\n",
    "                queue.append((nx,ny))\n",
    "    return sum(row.count(0) for row in temp)\n",
    "\n",
    "#벽 3개 세우기 : 조합 사용해서 \n",
    "for walls in combinations(empty,3):\n",
    "    for x,y in walls:\n",
    "        arr[x][y]=1 #벽 세우기\n",
    "    #바이러스 확산, 안전영역 계산 \n",
    "    max_safe = max(max_safe, bfs())  # 안전 영역 최댓값 갱신\n",
    "    #벽 원래대로 복구\n",
    "    for x,y in walls :\n",
    "        arr[x][y]=0\n",
    "\n",
    "print(max_safe)\n"
   ]
  },
  {
   "cell_type": "code",
   "execution_count": null,
   "id": "54d6c354-6146-4bf8-8cdf-52606400dcc4",
   "metadata": {},
   "outputs": [
    {
     "name": "stdin",
     "output_type": "stream",
     "text": [
      " 4 6\n",
      " 0 0 0 0 0 0\n",
      " 1 0 0 0 0 2\n",
      " 1 1 1 0 0 2\n",
      " 0 0 0 0 0 2\n"
     ]
    },
    {
     "name": "stdout",
     "output_type": "stream",
     "text": [
      "[(1, 5), (2, 5), (3, 5)]\n"
     ]
    }
   ],
   "source": [
    "from itertools import combinations\n",
    "from collections import deque\n",
    "\n",
    "n,m = map(int,input().split())\n",
    "arr = [list(map(int,input().split())) for _ in range(n)]\n",
    "\n",
    "empty = [(i,j) for i in range(n) for j in range(m) if arr[i][j]==0]\n",
    "virus = [(i,j) for i in range(n) for j in range(m) if arr[i][j] ==2]\n",
    "print(virus)\n",
    "max_safe = 0\n",
    "\n",
    "#위아래왼오\n",
    "dx=[-1,1,0,0]\n",
    "dy= [0,0,-1,1]\n",
    "\n",
    "def bfs():\n",
    "    #복사\n",
    "    temp = [row[:] for row in arr]\n",
    "    queue = deque(virus)\n",
    "\n",
    "    while queue:\n",
    "        #현재 위치 꺼내기\n",
    "        x,y = queue.popleft()\n",
    "        #네방향으로 이동\n",
    "        for i in range(4):\n",
    "            nx,ny = x+dx[i], y+dy[i]\n",
    "            if 0<=nx<n and 0<=ny<m and temp[nx][ny]==0:\n",
    "                temp[nx][ny]==2\n",
    "                queue.append((nx,ny))\n",
    "    return sum(row.count(0) for row in temp)\n",
    "\n",
    "for walls in combinations(empty,3):\n",
    "    for x,y in walls :\n",
    "        arr[x][y]=1\n",
    "    max_safe = max(max_safe,bfs())\n",
    "    for x,y in walls :\n",
    "        arr[x][y]=0\n",
    "print(max_safe)"
   ]
  },
  {
   "cell_type": "code",
   "execution_count": null,
   "id": "381ff83f-4385-4614-9a05-0dab1a64d6c1",
   "metadata": {},
   "outputs": [],
   "source": [
    "from itertools import combinations\n",
    "from collections import deque\n",
    "\n",
    "n,m = map(int, input().split())\n",
    "arr = [list(map(int,input().split())) for _ in range(n)]\n",
    "\n",
    "empty = [(i,j) for i in range(n) for j in range(m) if arr[i][j]==0]\n",
    "virus = [(i,j) for i in range(n) for j in range(m) if arr[i][j]==2]\n",
    "print(virus)\n",
    "max_safe = 0\n",
    "\n",
    "dx=[-1,1,0,0]\n",
    "dy=[0,0,-1,1]\n",
    "\n",
    "def bfs():\n",
    "    temp = [row[:] for row in arr]\n",
    "    queue = deque(virus)\n",
    "    while queue:\n",
    "        x,y = queue.popleft()\n",
    "        for i in range(4):\n",
    "            nx,ny = x+dx[i],y+dy[i]\n",
    "            if 0<=nx<n and 0<=ny<m and temp[nx][ny]==0:\n",
    "                temp[nx][ny]==2\n",
    "                queue.append((nx,ny))\n",
    "\n",
    "    return sum(row.count(0) for row in temp)\n",
    "\n",
    "for walls in combinations(empty,3):\n",
    "    for x,y in walls:\n",
    "        arr[x][y]=1\n",
    "    "
   ]
  },
  {
   "cell_type": "code",
   "execution_count": null,
   "id": "93e0abd5-99c5-430f-8bbd-e308347e307b",
   "metadata": {},
   "outputs": [],
   "source": []
  }
 ],
 "metadata": {
  "kernelspec": {
   "display_name": "Python 3 (ipykernel)",
   "language": "python",
   "name": "python3"
  },
  "language_info": {
   "codemirror_mode": {
    "name": "ipython",
    "version": 3
   },
   "file_extension": ".py",
   "mimetype": "text/x-python",
   "name": "python",
   "nbconvert_exporter": "python",
   "pygments_lexer": "ipython3",
   "version": "3.13.1"
  }
 },
 "nbformat": 4,
 "nbformat_minor": 5
}
