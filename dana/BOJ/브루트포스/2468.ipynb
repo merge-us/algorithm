{
 "cells": [
  {
   "cell_type": "code",
   "execution_count": 3,
   "id": "b79a684f-cd11-429b-ae13-01471701c8a1",
   "metadata": {},
   "outputs": [
    {
     "name": "stdin",
     "output_type": "stream",
     "text": [
      " 7\n",
      " 9 9 9 9 9 9 9\n",
      " 9 2 1 2 1 2 9\n",
      " 9 1 8 7 8 1 9\n",
      " 9 2 7 9 7 2 9\n",
      " 9 1 8 7 8 1 9\n",
      " 9 2 1 2 1 2 9\n",
      " 9 9 9 9 9 9 9\n"
     ]
    },
    {
     "name": "stdout",
     "output_type": "stream",
     "text": [
      "6\n"
     ]
    }
   ],
   "source": [
    "#recursion error\n",
    "n = int(input())\n",
    "grid = [list(map(int,input().split())) for _ in range(n)]\n",
    "\n",
    "def dfs(x,y,k,visited,grid):\n",
    "    visited[x][y] = True\n",
    "    #상하좌우\n",
    "    dx = [-1,1,0,0]\n",
    "    dy = [0,0,-1,1]\n",
    "    for i in range(4):\n",
    "        nx = x + dx[i]\n",
    "        ny = y + dy[i]\n",
    "\n",
    "        if 0<=nx<len(grid) and 0<=ny<len(grid[0]):\n",
    "            if not visited[nx][ny] and grid[nx][ny]>k:\n",
    "                dfs(nx,ny,k,visited,grid)\n",
    "    \n",
    "\n",
    "def find_safe_area(n,grid):\n",
    "    max_count = 0 #안전영역 최대 갯수\n",
    "    max_height = max(max(row) for row in grid)\n",
    "    for k in range(1,max_height+1):\n",
    "        visited = [[False] * n for _ in range(n)] \n",
    "        count = 0\n",
    "        for i in range(n):\n",
    "            for j in range(n):\n",
    "                if grid[i][j]>k and not visited[i][j]:\n",
    "                    dfs(i,j,k,visited,grid)\n",
    "                    count+=1\n",
    "        max_count = max(max_count,count)\n",
    "    return max_count\n",
    "\n",
    "print(find_safe_area(n,grid))"
   ]
  },
  {
   "cell_type": "code",
   "execution_count": 8,
   "id": "7585f332-6a6b-4f4e-ac57-9104edbaf833",
   "metadata": {},
   "outputs": [
    {
     "name": "stdin",
     "output_type": "stream",
     "text": [
      " 7\n",
      " 9 9 9 9 9 9 9\n",
      " 9 2 1 2 1 2 9\n",
      " 9 1 8 7 8 1 9\n",
      " 9 2 7 9 7 2 9\n",
      " 9 1 8 7 8 1 9\n",
      " 9 2 1 2 1 2 9\n",
      " 9 9 9 9 9 9 9\n"
     ]
    },
    {
     "name": "stdout",
     "output_type": "stream",
     "text": [
      "6\n"
     ]
    }
   ],
   "source": [
    "#DFS를 스택을 활용한 반복문으로 변경 \n",
    "\n",
    "#from collections import deque\n",
    "\n",
    "def dfs_iterative(x,y,k,visited,grid):\n",
    "    stack = [(x,y)]\n",
    "    visited[x][y] = True\n",
    "\n",
    "    dx = [-1,1,0,0]\n",
    "    dy = [0,0,-1,1]\n",
    "\n",
    "    while stack:\n",
    "        x,y = stack.pop()\n",
    "        for i in range(4):\n",
    "            nx,ny = x+dx[i], y+dy[i]\n",
    "            if 0<=nx < len(grid) and 0<=ny<len(grid[0]):\n",
    "                if not visited[nx][ny] and grid[nx][ny] > k:\n",
    "                    visited[nx][ny]=True\n",
    "                    stack.append((nx,ny))\n",
    "\n",
    "def find_safe_area(n,grid):\n",
    "    max_count = 0\n",
    "    max_height = max(max(row) for row in grid)\n",
    "\n",
    "    for k in range(0,max_height+1):\n",
    "        visited = [[False] * n for _ in range(n)]\n",
    "        count = 0\n",
    "        for i in range(n):\n",
    "            for j in range(n):\n",
    "                if grid[i][j]>k and not visited[i][j]:\n",
    "                    dfs_iterative(i,j,k,visited,grid)\n",
    "                    count+=1\n",
    "        max_count=max(count,max_count)\n",
    "    return max_count\n",
    "\n",
    "n = int(input())\n",
    "grid = [list(map(int,input().split())) for _ in range(n)]\n",
    "\n",
    "print(find_safe_area(n,grid))"
   ]
  },
  {
   "cell_type": "markdown",
   "id": "6c68e38c-5994-4e4f-af3f-ad2a3a5d959a",
   "metadata": {},
   "source": [
    "import sys\n",
    "\n",
    "n = int(sys.stdin.readline().strip())\n",
    "grid = [list(map(int, sys.stdin.readline().split())) for _ in range(n)]\n",
    "\n",
    "def dfs(x,y,k,visited,grid):\n",
    "    visited[x][y] = True\n",
    "    #상하좌우\n",
    "    dx = [-1,1,0,0]\n",
    "    dy = [0,0,-1,1]\n",
    "    for i in range(4):\n",
    "        nx = x + dx[i]\n",
    "        ny = y + dy[i]\n",
    "\n",
    "        if 0<=nx<len(grid) and 0<=ny<len(grid[0]):\n",
    "            if not visited[nx][ny] and grid[nx][ny]>k:\n",
    "                dfs(nx,ny,k,visited,grid)\n",
    "    \n",
    "\n",
    "def find_safe_area(n,grid):\n",
    "    max_count = 0 #안전영역 최대 갯수\n",
    "    max_height = max(max(row) for row in grid)\n",
    "    for k in range(1,max_height+1):\n",
    "        visited = [[False] * n for _ in range(n)] \n",
    "        count = 0\n",
    "        for i in range(n):\n",
    "            for j in range(n):\n",
    "                if grid[i][j]>k and not visited[i][j]:\n",
    "                    dfs(i,j,k,visited,grid)\n",
    "                    count+=1\n",
    "        max_count = max(max_count,count)\n",
    "    return max_count\n",
    "\n",
    "print(find_safe_area(n,grid))"
   ]
  },
  {
   "cell_type": "code",
   "execution_count": null,
   "id": "ca9fd154-beda-43d7-997e-dd5acfdf2de8",
   "metadata": {},
   "outputs": [],
   "source": [
    "n = float('inf')\n",
    "n = float('-inf')"
   ]
  }
 ],
 "metadata": {
  "kernelspec": {
   "display_name": "Python 3 (ipykernel)",
   "language": "python",
   "name": "python3"
  },
  "language_info": {
   "codemirror_mode": {
    "name": "ipython",
    "version": 3
   },
   "file_extension": ".py",
   "mimetype": "text/x-python",
   "name": "python",
   "nbconvert_exporter": "python",
   "pygments_lexer": "ipython3",
   "version": "3.13.1"
  }
 },
 "nbformat": 4,
 "nbformat_minor": 5
}
