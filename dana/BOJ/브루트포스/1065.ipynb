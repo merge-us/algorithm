{
 "cells": [
  {
   "cell_type": "code",
   "execution_count": 3,
   "id": "77b6f573-6762-4913-9a7b-b5af395e55cc",
   "metadata": {},
   "outputs": [
    {
     "ename": "SyntaxError",
     "evalue": "invalid syntax (3809780686.py, line 5)",
     "output_type": "error",
     "traceback": [
      "\u001b[0;36m  Cell \u001b[0;32mIn[3], line 5\u001b[0;36m\u001b[0m\n\u001b[0;31m    if int(char[i+1])-int(char[i])==\u001b[0m\n\u001b[0m                                    ^\u001b[0m\n\u001b[0;31mSyntaxError\u001b[0m\u001b[0;31m:\u001b[0m invalid syntax\n"
     ]
    }
   ],
   "source": [
    "#처음 정답 : 완전 꽝\n",
    "n = int(input())\n",
    "count = 0\n",
    "for i in range(n+1):\n",
    "    for char in str(i):\n",
    "        if int(char[i+1])-int(char[i])==\n",
    "            print(i)\n",
    "            count+=1\n",
    "print(count)"
   ]
  },
  {
   "cell_type": "code",
   "execution_count": 8,
   "id": "7745729e-95de-4586-a7c1-d416c5d8cf39",
   "metadata": {},
   "outputs": [
    {
     "name": "stdin",
     "output_type": "stream",
     "text": [
      " 500\n"
     ]
    },
    {
     "name": "stdout",
     "output_type": "stream",
     "text": [
      "119\n"
     ]
    }
   ],
   "source": [
    "#지피티의 힘을 빌린 정답\n",
    "n = int(input()) #사용자 입력값 \n",
    "count = 0 #한수 개수\n",
    "\n",
    "for i in range(1,n+1):\n",
    "    if i<100: #1~99는 모두 한수\n",
    "        count+=1\n",
    "    else:\n",
    "        digits = list(map(int,str(i))) #숫자를 리스트로 변환\n",
    "        if digits[0]-digits[1] == digits[1] - digits[2] :\n",
    "            count+=1\n",
    "print(count)"
   ]
  },
  {
   "cell_type": "code",
   "execution_count": 19,
   "id": "51a27b38-bd26-4938-84c1-5f3854b9af55",
   "metadata": {},
   "outputs": [
    {
     "name": "stdin",
     "output_type": "stream",
     "text": [
      " 531\n"
     ]
    },
    {
     "name": "stdout",
     "output_type": "stream",
     "text": [
      "120\n"
     ]
    }
   ],
   "source": [
    "n = int(input())\n",
    "count = 0\n",
    "\n",
    "for i in range(1,n+1):\n",
    "    if i<100:\n",
    "        count+=1\n",
    "    else :\n",
    "        digits = list(map(int,str(i))) #\n",
    "        if digits[0] - digits [1] == digits [1] - digits[2] :\n",
    "            count+=1\n",
    "print(count)"
   ]
  },
  {
   "cell_type": "code",
   "execution_count": 9,
   "id": "340e0547-ef18-4c74-b79b-08a96e069f30",
   "metadata": {},
   "outputs": [
    {
     "name": "stdin",
     "output_type": "stream",
     "text": [
      " 1000\n"
     ]
    },
    {
     "name": "stdout",
     "output_type": "stream",
     "text": [
      "144\n"
     ]
    }
   ],
   "source": [
    "#남의 좋은 정답\n",
    "n = int(input())\n",
    "count = 0\n",
    "if n<=110:\n",
    "    if n == 0:\n",
    "        print(\"1\")\n",
    "    elif n>=99:\n",
    "        print(\"99\")\n",
    "    else:\n",
    "        print(n)\n",
    "if n>110:\n",
    "    for i in range(111,n+1):\n",
    "        i = str(i)\n",
    "        if int(i[0]) - int(i[1]) == int(i[1]) - int(i[2]) :\n",
    "            count+=1\n",
    "    print(count+99)"
   ]
  }
 ],
 "metadata": {
  "kernelspec": {
   "display_name": "Python 3 (ipykernel)",
   "language": "python",
   "name": "python3"
  },
  "language_info": {
   "codemirror_mode": {
    "name": "ipython",
    "version": 3
   },
   "file_extension": ".py",
   "mimetype": "text/x-python",
   "name": "python",
   "nbconvert_exporter": "python",
   "pygments_lexer": "ipython3",
   "version": "3.13.1"
  }
 },
 "nbformat": 4,
 "nbformat_minor": 5
}
