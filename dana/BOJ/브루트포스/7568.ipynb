{
 "cells": [
  {
   "cell_type": "code",
   "execution_count": 9,
   "id": "33fa131c-9b84-44e0-9ee8-d4aa3e691f99",
   "metadata": {},
   "outputs": [
    {
     "name": "stdin",
     "output_type": "stream",
     "text": [
      " 5\n",
      " 55 185\n",
      " 58 183\n",
      " 88 186\n",
      " 60 175\n",
      " 46 155\n"
     ]
    },
    {
     "name": "stdout",
     "output_type": "stream",
     "text": [
      "2 2 1 2 5\n"
     ]
    }
   ],
   "source": [
    "# 첫번째 정답 : 출력은 잘나왔음 \n",
    "#전체 사람 수 n\n",
    "n = int(input())\n",
    "#몸무게, 키 받아오기\n",
    "data = [list(map(int,input().split())) for _ in range(n)]\n",
    "rank = []\n",
    "\n",
    "for i in range (n):\n",
    "    num = 0\n",
    "    for j in range(n):\n",
    "        if data[i][0]<=data[j][0] and data[i][1]<=data[j][1]:\n",
    "            num+=1\n",
    "    rank.append(num)\n",
    "print(*rank) #리스트 요소를 공백으로 구분해 출력"
   ]
  },
  {
   "cell_type": "code",
   "execution_count": null,
   "id": "c20943b5-9e91-4cbb-b15d-66f4d728bb97",
   "metadata": {},
   "outputs": [],
   "source": [
    "#두번째 정답\n",
    "#전체 사람 수 n\n",
    "n = int(input())\n",
    "#몸무게, 키 받아오기\n",
    "data = [list(map(int,input().split())) for _ in range(n)]\n",
    "rank = []\n",
    "\n",
    "for i in range (n):\n",
    "    num = 0\n",
    "    for j in range(n):\n",
    "        if data[i][0] < data[j][0] and data[i][1] < data[j][1]: #조건이 틀렸음 \n",
    "            num+=1\n",
    "    rank.append(num+1) #하나 더해줘야됨\n",
    "print(*rank) #리스트 요소를 공백으로 구분해 출력"
   ]
  }
 ],
 "metadata": {
  "kernelspec": {
   "display_name": "Python 3 (ipykernel)",
   "language": "python",
   "name": "python3"
  },
  "language_info": {
   "codemirror_mode": {
    "name": "ipython",
    "version": 3
   },
   "file_extension": ".py",
   "mimetype": "text/x-python",
   "name": "python",
   "nbconvert_exporter": "python",
   "pygments_lexer": "ipython3",
   "version": "3.13.1"
  }
 },
 "nbformat": 4,
 "nbformat_minor": 5
}
