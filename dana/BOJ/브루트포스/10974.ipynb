{
 "cells": [
  {
   "cell_type": "code",
   "execution_count": 8,
   "id": "b3cc1949-34ef-4541-a784-89182c44b03e",
   "metadata": {},
   "outputs": [
    {
     "name": "stdin",
     "output_type": "stream",
     "text": [
      " 3\n"
     ]
    },
    {
     "name": "stdout",
     "output_type": "stream",
     "text": [
      "1 2 3\n",
      "1 3 2\n",
      "2 1 3\n",
      "2 3 1\n",
      "3 1 2\n",
      "3 2 1\n"
     ]
    }
   ],
   "source": [
    "#맞음\n",
    "from itertools import permutations\n",
    "\n",
    "n = int(input())\n",
    "datas = [i for i in range(1,n+1)]\n",
    "\n",
    "for perm in permutations(datas,n):\n",
    "    print(' '.join(map(str,perm)))"
   ]
  },
  {
   "cell_type": "code",
   "execution_count": null,
   "id": "40a148cf-26b5-40be-8178-aecbea6f3a83",
   "metadata": {},
   "outputs": [],
   "source": [
    "#지피티 최적화\n",
    "from itertools import permutations\n",
    "\n",
    "n = int(input())\n",
    "\n",
    "#datas 없애고 바로 range 설정해주기\n",
    "for perm in permutations(range(1,n+1),n):\n",
    "    print(*perm) #이렇게 하면 공백으로 출력 "
   ]
  }
 ],
 "metadata": {
  "kernelspec": {
   "display_name": "Python 3 (ipykernel)",
   "language": "python",
   "name": "python3"
  },
  "language_info": {
   "codemirror_mode": {
    "name": "ipython",
    "version": 3
   },
   "file_extension": ".py",
   "mimetype": "text/x-python",
   "name": "python",
   "nbconvert_exporter": "python",
   "pygments_lexer": "ipython3",
   "version": "3.13.1"
  }
 },
 "nbformat": 4,
 "nbformat_minor": 5
}
