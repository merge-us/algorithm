{
 "cells": [
  {
   "cell_type": "code",
   "execution_count": 5,
   "id": "fa5bc3c9-56c3-453e-bf50-961c37e4603c",
   "metadata": {},
   "outputs": [
    {
     "name": "stdin",
     "output_type": "stream",
     "text": [
      " 5 3\n",
      " 0 0 1 0 0\n",
      " 0 0 2 0 1\n",
      " 0 1 2 0 0\n",
      " 0 0 1 0 0\n",
      " 0 0 0 0 2\n"
     ]
    },
    {
     "ename": "UnboundLocalError",
     "evalue": "cannot access local variable 'total_distance' where it is not associated with a value",
     "output_type": "error",
     "traceback": [
      "\u001b[0;31m---------------------------------------------------------------------------\u001b[0m",
      "\u001b[0;31mUnboundLocalError\u001b[0m                         Traceback (most recent call last)",
      "Cell \u001b[0;32mIn[5], line 22\u001b[0m\n\u001b[1;32m     20\u001b[0m                 min_distance \u001b[38;5;241m=\u001b[39m \u001b[38;5;28mmin\u001b[39m(min_distance,distance)\n\u001b[1;32m     21\u001b[0m             total_distance \u001b[38;5;241m+\u001b[39m\u001b[38;5;241m=\u001b[39m min_distance\n\u001b[0;32m---> 22\u001b[0m     \u001b[43mcalculate_distance\u001b[49m\u001b[43m(\u001b[49m\u001b[43mc\u001b[49m\u001b[43m)\u001b[49m\n\u001b[1;32m     24\u001b[0m \u001b[38;5;28mprint\u001b[39m(total_distance)\n",
      "Cell \u001b[0;32mIn[5], line 21\u001b[0m, in \u001b[0;36mcalculate_distance\u001b[0;34m(chicken)\u001b[0m\n\u001b[1;32m     19\u001b[0m     distance \u001b[38;5;241m=\u001b[39m \u001b[38;5;28mabs\u001b[39m(i\u001b[38;5;241m-\u001b[39mk)\u001b[38;5;241m+\u001b[39m\u001b[38;5;28mabs\u001b[39m(j\u001b[38;5;241m-\u001b[39mh)\n\u001b[1;32m     20\u001b[0m     min_distance \u001b[38;5;241m=\u001b[39m \u001b[38;5;28mmin\u001b[39m(min_distance,distance)\n\u001b[0;32m---> 21\u001b[0m \u001b[43mtotal_distance\u001b[49m \u001b[38;5;241m+\u001b[39m\u001b[38;5;241m=\u001b[39m min_distance\n",
      "\u001b[0;31mUnboundLocalError\u001b[0m: cannot access local variable 'total_distance' where it is not associated with a value"
     ]
    }
   ],
   "source": [
    "from itertools import combinations \n",
    "\n",
    "n,m = map(int,input().split())\n",
    "data = [list(map(int,input().split())) for _ in range(n)]\n",
    "\n",
    "#집 좌표 저장\n",
    "house = [(i,j) for i in range(n) for j in range(n) if data[i][j]==1]\n",
    "#치킨집 좌표 저장 \n",
    "chicken = [(i, j) for i in range(n) for j in range(n) if data[i][j] == 2]\n",
    "#최솟값\n",
    "\n",
    "total_distance = 0\n",
    "\n",
    "for c in combinations(chicken,m):\n",
    "    #집의 치킨 거리 계산하는 함수\n",
    "    def calculate_distance(chicken):\n",
    "        min_distance = float('inf')\n",
    "        for i, j in house:\n",
    "            for k,h in chicken : \n",
    "                distance = abs(i-k)+abs(j-h)\n",
    "                min_distance = min(min_distance,distance)\n",
    "            total_distance += min_distance\n",
    "    calculate_distance(c)\n",
    "\n",
    "print(total_distance)"
   ]
  },
  {
   "cell_type": "code",
   "execution_count": null,
   "id": "8674bdbb-87cf-4742-8bed-eebc902636fe",
   "metadata": {},
   "outputs": [],
   "source": []
  }
 ],
 "metadata": {
  "kernelspec": {
   "display_name": "Python 3 (ipykernel)",
   "language": "python",
   "name": "python3"
  },
  "language_info": {
   "codemirror_mode": {
    "name": "ipython",
    "version": 3
   },
   "file_extension": ".py",
   "mimetype": "text/x-python",
   "name": "python",
   "nbconvert_exporter": "python",
   "pygments_lexer": "ipython3",
   "version": "3.13.1"
  }
 },
 "nbformat": 4,
 "nbformat_minor": 5
}
