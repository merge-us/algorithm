{
 "cells": [
  {
   "cell_type": "code",
   "execution_count": 8,
   "id": "c29f84da-426e-48f5-84de-04771c64c47f",
   "metadata": {},
   "outputs": [
    {
     "name": "stdin",
     "output_type": "stream",
     "text": [
      " 6\n",
      " 20 1 15 8 4 10\n"
     ]
    },
    {
     "name": "stdout",
     "output_type": "stream",
     "text": [
      "62\n"
     ]
    }
   ],
   "source": [
    "#맞음 ! 내 답 ! \n",
    "from  itertools import permutations\n",
    "\n",
    "n = int(input())\n",
    "numbers = list(map(int,input().split()))\n",
    "max_sum = 0\n",
    "\n",
    "for comb in permutations(numbers,n):\n",
    "    i = 0\n",
    "    sum = 0\n",
    "    while i<n-1:\n",
    "        sum+=abs(comb[i]-comb[i+1])\n",
    "        i+=1\n",
    "\n",
    "    max_sum = max(sum,max_sum)\n",
    "print(max_sum)"
   ]
  },
  {
   "cell_type": "code",
   "execution_count": null,
   "id": "e27715d7-eb50-48f7-bd31-75e6651f7add",
   "metadata": {},
   "outputs": [],
   "source": [
    "#지피티가 최적화해준거\n",
    "from itertools import permutations\n",
    "\n",
    "n = int(input())\n",
    "numbers = list(map(int,input().split()))\n",
    "max_sum = 0\n",
    "\n",
    "for perm in permutations(numbers,n):\n",
    "    current_sum = sum(abs(perm[i] - perm[i+1]))\n",
    "    if current_sum > max_sum : \n",
    "        max_sum = current_sum\n",
    "print(max_sum)"
   ]
  }
 ],
 "metadata": {
  "kernelspec": {
   "display_name": "Python 3 (ipykernel)",
   "language": "python",
   "name": "python3"
  },
  "language_info": {
   "codemirror_mode": {
    "name": "ipython",
    "version": 3
   },
   "file_extension": ".py",
   "mimetype": "text/x-python",
   "name": "python",
   "nbconvert_exporter": "python",
   "pygments_lexer": "ipython3",
   "version": "3.13.1"
  }
 },
 "nbformat": 4,
 "nbformat_minor": 5
}
