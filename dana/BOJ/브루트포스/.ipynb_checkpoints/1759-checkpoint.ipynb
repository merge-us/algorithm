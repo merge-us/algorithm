{
 "cells": [
  {
   "cell_type": "code",
   "execution_count": 18,
   "id": "11e8b95f-a594-42b4-9b97-d3fadaf94f70",
   "metadata": {},
   "outputs": [
    {
     "name": "stdin",
     "output_type": "stream",
     "text": [
      " 4 6\n",
      " a t c i s w\n"
     ]
    },
    {
     "name": "stdout",
     "output_type": "stream",
     "text": [
      "acis\n",
      "acit\n",
      "aciw\n",
      "acst\n",
      "acsw\n",
      "actw\n",
      "aist\n",
      "aisw\n",
      "aitw\n",
      "astw\n",
      "cist\n",
      "cisw\n",
      "citw\n",
      "istw\n"
     ]
    }
   ],
   "source": [
    "#내답\n",
    "from itertools import combinations\n",
    "\n",
    "l,c = map(int,input().split())\n",
    "chars = list(input().split())\n",
    "result = set()\n",
    "moeum = ['a','e','i','o','u']\n",
    "\n",
    "\n",
    "for comb in combinations(chars,l):\n",
    "    #최소 한개의 모음, 최소 두개의 자음\n",
    "    for i in comb : \n",
    "        moeum_count = sum(1 for i in comb if i in moeum)\n",
    "        jaeum_count = len(comb)-moeum_count\n",
    "        if moeum_count>=1 and jaeum_count>=2 :\n",
    "            sorted_comb = sorted(comb)\n",
    "            key = ''.join(sorted_comb)\n",
    "            result.add(key)\n",
    "sorted_result = sorted(result)\n",
    "print('\\n'.join(sorted_result))"
   ]
  },
  {
   "cell_type": "code",
   "execution_count": null,
   "id": "aea67581-68fe-4c38-9e50-05ef6cf24930",
   "metadata": {},
   "outputs": [],
   "source": [
    "#지피티 최적화\n",
    "from itertools import combinations\n",
    "\n",
    "l,c = map(int,input().split())\n",
    "chars = sorted(input().split()) #미리 정렬하여 조합이 항상 사전순 되도록\n",
    "moeum = {'a','e','i','o','u'} #리스트 대신 집합으로 \n",
    "\n",
    "for comb in combinations(chars,l):\n",
    "    moeum_count = sum(1 for char in comb if char in moeum)\n",
    "    jaeum_count = l - moeum_count\n",
    "\n",
    "    if moeum_count >= 1 and jaeum_count >=2 :\n",
    "        print(\"\".join(comb))"
   ]
  }
 ],
 "metadata": {
  "kernelspec": {
   "display_name": "Python 3 (ipykernel)",
   "language": "python",
   "name": "python3"
  },
  "language_info": {
   "codemirror_mode": {
    "name": "ipython",
    "version": 3
   },
   "file_extension": ".py",
   "mimetype": "text/x-python",
   "name": "python",
   "nbconvert_exporter": "python",
   "pygments_lexer": "ipython3",
   "version": "3.13.1"
  }
 },
 "nbformat": 4,
 "nbformat_minor": 5
}
