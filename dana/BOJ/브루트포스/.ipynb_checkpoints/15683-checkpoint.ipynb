{
 "cells": [
  {
   "cell_type": "code",
   "execution_count": 31,
   "id": "f93f1bcc-8bad-4837-a903-5ffa40197930",
   "metadata": {},
   "outputs": [
    {
     "name": "stdin",
     "output_type": "stream",
     "text": [
      " 4 6\n",
      " 0 0 0 0 0 0\n",
      " 0 0 0 0 0 0\n",
      " 0 0 1 0 6 0\n",
      " 0 0 0 0 0 0\n"
     ]
    },
    {
     "name": "stdout",
     "output_type": "stream",
     "text": [
      "4\n",
      "22\n"
     ]
    }
   ],
   "source": [
    "n,m = map(int,input().split())\n",
    "grid = [list(map(int,input().split())) for _ in range(n)]\n",
    "\n",
    "walls = [(i,j) for i in range(n) for j in range(m) if grid[i][j]==6]\n",
    "cctvs = [(i,j) for i in range(n) for j in range(m) if 1<=grid[i][j]<=5]\n",
    "visited = [[False]*m for _ in range(n)]\n",
    "\n",
    "max_count = 0\n",
    "dx = [-1,1,0,0]\n",
    "dy = [0,0,-1,1]\n",
    "\n",
    "def safearea(arr) :\n",
    "    global max_count\n",
    "    #종료조건 : 탐색할 cctv 없음\n",
    "    if not arr :\n",
    "        return \n",
    "\n",
    "    #cctv 한개 좌표 방향별로 0 영역 최소 되는거 찾기 - cctv로 보여지는곳은 -1로 해놓기\n",
    "    #cctv 좌표 x,y 탐색\n",
    "    x,y = arr.pop()\n",
    "    #cctv 종류 d\n",
    "    d = grid[x][y]\n",
    "    \n",
    "    if d == 1 :\n",
    "        calculate1(x,y)\n",
    "    elif d == 2 :\n",
    "        calculate2(x,y)\n",
    "    elif d == 3 :\n",
    "        calculate3(x,y)\n",
    "    elif d == 4 :\n",
    "        calculate4(x,y)\n",
    "    else:\n",
    "        calculate5(x,y)\n",
    "    \n",
    "    #stack pop 하고 재귀호출,,\n",
    "    safearea(arr)\n",
    "    #max_count = max(count,max_count)\n",
    "\n",
    "def calculate1(x,y):\n",
    "    maxcount = 0\n",
    "    #네 방향 탐색\n",
    "    for i in range(4):\n",
    "        nx,ny = x,y\n",
    "        count = 0\n",
    "        #cctv나 벽 만날때까지 탐색\n",
    "        while True:\n",
    "            nx+=dx[i]\n",
    "            ny+=dy[i]\n",
    "\n",
    "            #범위 벗어나거나\n",
    "            if not 0<=nx<n and 0<=ny<m :\n",
    "                break\n",
    "            #벽 만나면 빠져나감\n",
    "            if grid[nx][ny]== 6 :\n",
    "                break\n",
    "            if 0<=nx<n and 0<=ny<m and grid[nx][ny] == 0:\n",
    "                visited[nx][ny]= True\n",
    "                count+=1\n",
    "        maxcount = max(count,maxcount)\n",
    "    return maxcount\n",
    "\n",
    "def calculate2(x,y):\n",
    "    maxcount = 0\n",
    "    #네 방향 탐색\n",
    "    for i in range(4):\n",
    "        nx,ny = x,y\n",
    "        count = 0\n",
    "        #cctv나 벽 만날때까지 탐색\n",
    "        #while True:\n",
    "            \n",
    "\n",
    "safearea(cctvs)\n",
    "print()"
   ]
  },
  {
   "cell_type": "code",
   "execution_count": null,
   "id": "bb417bc2-014c-40c6-8cc7-9740fe8995f2",
   "metadata": {},
   "outputs": [],
   "source": []
  }
 ],
 "metadata": {
  "kernelspec": {
   "display_name": "Python 3 (ipykernel)",
   "language": "python",
   "name": "python3"
  },
  "language_info": {
   "codemirror_mode": {
    "name": "ipython",
    "version": 3
   },
   "file_extension": ".py",
   "mimetype": "text/x-python",
   "name": "python",
   "nbconvert_exporter": "python",
   "pygments_lexer": "ipython3",
   "version": "3.13.1"
  }
 },
 "nbformat": 4,
 "nbformat_minor": 5
}
