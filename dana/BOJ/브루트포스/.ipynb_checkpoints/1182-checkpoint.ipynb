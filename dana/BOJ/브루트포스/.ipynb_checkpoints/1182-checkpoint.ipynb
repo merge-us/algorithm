{
 "cells": [
  {
   "cell_type": "code",
   "execution_count": 10,
   "id": "7d4b48b2-abeb-44a2-96a4-aab9e65fccf7",
   "metadata": {},
   "outputs": [
    {
     "name": "stdin",
     "output_type": "stream",
     "text": [
      " 5 0\n",
      " -7 -3 -2 5 8\n"
     ]
    },
    {
     "name": "stdout",
     "output_type": "stream",
     "text": [
      "1\n"
     ]
    }
   ],
   "source": [
    "#combination으로 풀기\n",
    "from itertools import combinations\n",
    "\n",
    "n,s = map(int,input().split())\n",
    "numbers = list(map(int,input().split()))\n",
    "count = 0\n",
    "\n",
    "for i in range(1,len(numbers)+1):\n",
    "    for sub in combinations(numbers,i):\n",
    "        if sum(sub) == s :\n",
    "            count+=1\n",
    "print(count)"
   ]
  },
  {
   "cell_type": "code",
   "execution_count": null,
   "id": "b14f6b81-c9d3-4250-8ac9-07704c182106",
   "metadata": {},
   "outputs": [],
   "source": [
    "#백트랙킹으로 풀기\n",
    "\n",
    "n,s = map(int,input().split())\n",
    "numbers = list(map(int,input().split()))\n",
    "count = 0\n",
    "\n",
    "def dfs(index,total):\n",
    "    global count\n",
    "    \n",
    "    #종료조건 = 모든 원소를 다 탐색 \n",
    "    if index == n:\n",
    "        return\n",
    "\n",
    "    #total = 현재까지 선택한 숫자들의 합\n",
    "    total+=numbers[index]\n",
    "    if total == s :\n",
    "        count+=1\n",
    "\n",
    "    #현재 숫자를 선택하는 경우와 그렇지 않은 경우 둘다 고려해야함\n",
    "    dfs(index+1,total) # 현재 index의 숫자를 선택하지 않고 다음으로 이동\n",
    "    dfs(index+1,total-numbers[index]) # 현재 index의 숫자를 선택한 후 다음으로 이동\n",
    "\n",
    "dfs(0,0)\n",
    "print(count)"
   ]
  }
 ],
 "metadata": {
  "kernelspec": {
   "display_name": "Python 3 (ipykernel)",
   "language": "python",
   "name": "python3"
  },
  "language_info": {
   "codemirror_mode": {
    "name": "ipython",
    "version": 3
   },
   "file_extension": ".py",
   "mimetype": "text/x-python",
   "name": "python",
   "nbconvert_exporter": "python",
   "pygments_lexer": "ipython3",
   "version": "3.13.1"
  }
 },
 "nbformat": 4,
 "nbformat_minor": 5
}
