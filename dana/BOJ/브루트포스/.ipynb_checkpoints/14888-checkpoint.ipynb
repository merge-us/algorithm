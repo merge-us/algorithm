{
 "cells": [
  {
   "cell_type": "code",
   "execution_count": 20,
   "id": "5dc3b51b-91c9-40c8-8cec-768f5c94d796",
   "metadata": {},
   "outputs": [
    {
     "name": "stdin",
     "output_type": "stream",
     "text": [
      " 2\n",
      " 5 6\n",
      " 0 0 1 0\n"
     ]
    },
    {
     "name": "stdout",
     "output_type": "stream",
     "text": [
      "30\n",
      "30\n"
     ]
    }
   ],
   "source": [
    "n = int(input())\n",
    "numbers = list(map(int,input().split()))\n",
    "p,s,m,d = map(int,input().split())\n",
    "\n",
    "max_result = -float('inf')\n",
    "min_result = float('inf')\n",
    "\n",
    "def plus(n,m):\n",
    "    return n+m\n",
    "def subtract(n,m):\n",
    "    return n-m\n",
    "def multiply(n,m):\n",
    "    return n*m\n",
    "def divide(n,m):\n",
    "    if n<0:\n",
    "        return -((-n)//m)\n",
    "    else:\n",
    "        return n//m\n",
    "\n",
    "#depth = numbers에서 몇번째 숫자인지 \n",
    "def dfs(depth,total,p,s,m,d):\n",
    "    global max_result,min_result\n",
    "\n",
    "    if depth==n:\n",
    "        max_result = max(max_result,total)\n",
    "        min_result = min(min_result,total)\n",
    "        return\n",
    "\n",
    "    if p>0:\n",
    "        dfs(depth+1,plus(total, numbers[depth]),p-1,s,m,d)\n",
    "    if s>0:\n",
    "        dfs(depth+1,subtract(total,numbers[depth]),p,s-1,m,d)\n",
    "    if m>0:\n",
    "        dfs(depth+1,multiply(total,numbers[depth]),p,s,m-1,d)\n",
    "    if d>0:\n",
    "        dfs(depth+1,divide(total,numbers[depth]),p,s,m,d-1)\n",
    "\n",
    "dfs(1,numbers[0],p,s,m,d)\n",
    "print(max_result)\n",
    "print(min_result)"
   ]
  },
  {
   "cell_type": "code",
   "execution_count": null,
   "id": "cb749fb3-5152-4879-98a8-efcd2592c463",
   "metadata": {},
   "outputs": [],
   "source": [
    "#지피티 코드\n",
    "n = int(input())\n",
    "numbers = list(map(int, input().split()))\n",
    "p, s, m, d = map(int, input().split())\n",
    "\n",
    "max_result = -float('inf')\n",
    "min_result = float('inf')\n",
    "\n",
    "def dfs(depth, total, p, s, m, d):\n",
    "    global max_result, min_result\n",
    "\n",
    "    if depth == n:\n",
    "        max_result = max(max_result, total)\n",
    "        min_result = min(min_result, total)\n",
    "        return\n",
    "\n",
    "    if p > 0:\n",
    "        dfs(depth + 1, total + numbers[depth], p - 1, s, m, d)\n",
    "    if s > 0:\n",
    "        dfs(depth + 1, total - numbers[depth], p, s - 1, m, d)\n",
    "    if m > 0:\n",
    "        dfs(depth + 1, total * numbers[depth], p, s, m - 1, d)\n",
    "    if d > 0:\n",
    "        # 나눗셈은 파이썬의 `//`을 활용하며, 음수 나눗셈 처리\n",
    "        dfs(depth + 1, int(total / numbers[depth]), p, s, m, d - 1)\n",
    "\n",
    "dfs(1, numbers[0], p, s, m, d)\n",
    "\n",
    "print(max_result)\n",
    "print(min_result)"
   ]
  }
 ],
 "metadata": {
  "kernelspec": {
   "display_name": "Python 3 (ipykernel)",
   "language": "python",
   "name": "python3"
  },
  "language_info": {
   "codemirror_mode": {
    "name": "ipython",
    "version": 3
   },
   "file_extension": ".py",
   "mimetype": "text/x-python",
   "name": "python",
   "nbconvert_exporter": "python",
   "pygments_lexer": "ipython3",
   "version": "3.13.1"
  }
 },
 "nbformat": 4,
 "nbformat_minor": 5
}
