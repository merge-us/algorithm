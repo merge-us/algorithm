{
 "cells": [
  {
   "cell_type": "code",
   "execution_count": 8,
   "id": "0dec68c7-c8e0-405e-aa8b-425eac4b073b",
   "metadata": {},
   "outputs": [],
   "source": [
    "n = 1000\n",
    "data = [0] * (n + 1)\n",
    "for i in range(n):\n",
    "    for j in range(len(str(n))):\n",
    "        temp = i\n",
    "        temp+=int(str(n)[j])\n",
    "        if temp < len(data):  \n",
    "            data[temp] = 1\n",
    "for i in range(len(data)):\n",
    "    if data[i]==0:\n",
    "        print(i)"
   ]
  }
 ],
 "metadata": {
  "kernelspec": {
   "display_name": "Python 3 (ipykernel)",
   "language": "python",
   "name": "python3"
  },
  "language_info": {
   "codemirror_mode": {
    "name": "ipython",
    "version": 3
   },
   "file_extension": ".py",
   "mimetype": "text/x-python",
   "name": "python",
   "nbconvert_exporter": "python",
   "pygments_lexer": "ipython3",
   "version": "3.13.1"
  }
 },
 "nbformat": 4,
 "nbformat_minor": 5
}
