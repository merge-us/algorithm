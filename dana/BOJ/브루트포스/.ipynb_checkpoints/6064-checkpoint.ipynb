{
 "cells": [
  {
   "cell_type": "code",
   "execution_count": 4,
   "id": "e7408d7b-f4a4-4cbb-a447-3f89c3c78b1d",
   "metadata": {},
   "outputs": [
    {
     "name": "stdin",
     "output_type": "stream",
     "text": [
      " 3\n",
      " 10 12 3 9\n",
      " 10 12 3 9\n",
      " 10 12 3 9\n"
     ]
    },
    {
     "name": "stdout",
     "output_type": "stream",
     "text": [
      "33\n",
      "33\n",
      "33\n"
     ]
    }
   ],
   "source": [
    "import math\n",
    "\n",
    "n = int(input())\n",
    "datas = [list(map(int,input().split())) for _ in range(n)]\n",
    "\n",
    "def calculate_k(m,n,x,y):\n",
    "    #최소공배수\n",
    "    lcm = math.lcm(m, n)\n",
    "    k = x\n",
    "\n",
    "    while k <= lcm:\n",
    "        if (k - 1) % n + 1 == y: \n",
    "            print(k)\n",
    "            return\n",
    "        k += m\n",
    "    print(-1)\n",
    "    return\n",
    "\n",
    "for data in datas :\n",
    "    m,n,x,y = data\n",
    "    calculate_k(m,n,x,y)"
   ]
  },
  {
   "cell_type": "code",
   "execution_count": null,
   "id": "1e646e84-e7a1-4bce-904e-072a1fe399f2",
   "metadata": {},
   "outputs": [],
   "source": []
  }
 ],
 "metadata": {
  "kernelspec": {
   "display_name": "Python 3 (ipykernel)",
   "language": "python",
   "name": "python3"
  },
  "language_info": {
   "codemirror_mode": {
    "name": "ipython",
    "version": 3
   },
   "file_extension": ".py",
   "mimetype": "text/x-python",
   "name": "python",
   "nbconvert_exporter": "python",
   "pygments_lexer": "ipython3",
   "version": "3.13.1"
  }
 },
 "nbformat": 4,
 "nbformat_minor": 5
}
