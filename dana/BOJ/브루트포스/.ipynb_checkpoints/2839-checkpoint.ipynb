{
 "cells": [
  {
   "cell_type": "code",
   "execution_count": 23,
   "id": "9df21fa2-5594-4c26-8f81-4c6fd3f02ef2",
   "metadata": {},
   "outputs": [
    {
     "name": "stdout",
     "output_type": "stream",
     "text": [
      "3\n"
     ]
    }
   ],
   "source": [
    "#내 답 - 맞음\n",
    "n = int(input())\n",
    "\n",
    "result = []\n",
    "\n",
    "for i in range((n//5)+1):\n",
    "    if (n-(5*i))%3==0:\n",
    "        result.append(i+(n-(5*i))//3)\n",
    "result.sort()\n",
    "print(result[0] if result else -1)"
   ]
  },
  {
   "cell_type": "code",
   "execution_count": null,
   "id": "438fb863-421c-4563-8ac2-3b5fc0c3dee7",
   "metadata": {},
   "outputs": [],
   "source": [
    "#지피티 최적화\n",
    "n = int(input())\n",
    "\n",
    "# 5kg 봉지를 최대한 많이 사용\n",
    "for i in range(n // 5, -1, -1):  # 5kg을 최대한 많이 사용하고 줄여가면서 확인\n",
    "    remainder = n - (5 * i)  # 남은 무게 계산\n",
    "    if remainder % 3 == 0:  # 3kg으로 나눠지는 경우\n",
    "        print(i + remainder // 3)  # 봉지 개수 출력\n",
    "        break\n",
    "else:\n",
    "    print(-1)  # 3kg으로 나눌 수 없는 경우"
   ]
  },
  {
   "cell_type": "code",
   "execution_count": null,
   "id": "52249d87-41f9-4bb2-89cf-bc5976bac16e",
   "metadata": {},
   "outputs": [],
   "source": []
  }
 ],
 "metadata": {
  "kernelspec": {
   "display_name": "Python 3 (ipykernel)",
   "language": "python",
   "name": "python3"
  },
  "language_info": {
   "codemirror_mode": {
    "name": "ipython",
    "version": 3
   },
   "file_extension": ".py",
   "mimetype": "text/x-python",
   "name": "python",
   "nbconvert_exporter": "python",
   "pygments_lexer": "ipython3",
   "version": "3.13.1"
  }
 },
 "nbformat": 4,
 "nbformat_minor": 5
}
