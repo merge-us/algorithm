{
 "cells": [
  {
   "cell_type": "code",
   "execution_count": 10,
   "id": "757bfd88-5d17-47bf-ae39-ae4deb4622c6",
   "metadata": {},
   "outputs": [
    {
     "name": "stdin",
     "output_type": "stream",
     "text": [
      " 5 5\n",
      " 1 2 3 4 5\n",
      " 5 4 3 2 1\n",
      " 2 3 4 5 6\n",
      " 6 5 4 3 2\n",
      " 1 2 1 2 1\n"
     ]
    },
    {
     "name": "stdout",
     "output_type": "stream",
     "text": [
      "19\n"
     ]
    }
   ],
   "source": [
    "n,m = map(int,input().split())\n",
    "grid = [list(map(int,input().split())) for _ in range(n)]\n",
    "\n",
    "max_sum = 0\n",
    "visited = [[False]*m for _ in range(n)]\n",
    "\n",
    "def calculate_sum(x,y,total,count):\n",
    "    global max_sum\n",
    "\n",
    "    #종료조건 \n",
    "    if count == 4:\n",
    "        max_sum = max(total,max_sum)\n",
    "        return\n",
    "        \n",
    "    #방향\n",
    "    dx = [-1,1,0,0]\n",
    "    dy = [0,0,-1,1]\n",
    "\n",
    "    for i in range(4):\n",
    "        nx, ny = x+dx[i], y+dy[i]\n",
    "        if 0<=nx<n and 0<=ny<m and not visited[nx][ny] :\n",
    "            visited[nx][ny] = True\n",
    "            calculate_sum(nx,ny,total+grid[nx][ny],count+1)\n",
    "            visited[nx][ny]=False\n",
    "\n",
    "for i in range(n):\n",
    "    for j in range(m):\n",
    "        visited[i][j]=True\n",
    "        calculate_sum(i,j,grid[i][j],1)\n",
    "        visited[i][j]=False\n",
    "print(max_sum)"
   ]
  },
  {
   "cell_type": "code",
   "execution_count": null,
   "id": "44ceb887-7aa3-422a-88c2-36b24f736282",
   "metadata": {},
   "outputs": [
    {
     "name": "stdin",
     "output_type": "stream",
     "text": [
      " 4 10\n"
     ]
    }
   ],
   "source": [
    "n,m = map(int,input().split())\n",
    "grid = [list(map(int,input().split())) for _ in range(n)]\n",
    "\n",
    "max_sum = 0\n",
    "visited = [[False]*m for _ in range(n)]\n",
    "\n",
    "dx = [-1,1,0,0]\n",
    "dy = [0,0,-1,1]\n",
    "\n",
    "def calculate_sum(x,y,total,count):\n",
    "    global max_sum\n",
    "    \n",
    "    #종료조건\n",
    "    if count == 4:\n",
    "        max_sum = max(total,max_sum)\n",
    "        return\n",
    "    for i in range(4):\n",
    "        nx,ny = x+dx[i],y+dy[i]\n",
    "        if 0<=nx<n and 0<=ny<m and not visited[nx][ny]:\n",
    "            visited[nx][ny] = True\n",
    "            calculate_sum(nx,ny,total+grid[nx][ny],count+1)\n",
    "            visited[nx][ny]=False\n",
    "\n",
    "def check_extra_shape(x, y):\n",
    "    global max_sum\n",
    "    for i in range(4):  \n",
    "        temp_sum = grid[x][y]\n",
    "        count = 0\n",
    "        for j in range(4):  \n",
    "            if i == j:\n",
    "                continue\n",
    "            nx, ny = x + dx[j], y + dy[j]\n",
    "            if 0 <= nx < n and 0 <= ny < m:\n",
    "                temp_sum += grid[nx][ny]\n",
    "                count += 1\n",
    "        if count == 3:\n",
    "            max_sum = max(max_sum, temp_sum)\n",
    "\n",
    "for i in range(n):\n",
    "    for j in range(m):\n",
    "        visited[i][j]=True\n",
    "        calculate_sum(i,j,grid[i][j],1)\n",
    "        visited[i][j]=False\n",
    "        check_extra_shape(i,j)\n",
    "print(max_sum)"
   ]
  },
  {
   "cell_type": "code",
   "execution_count": null,
   "id": "37295642-1516-42b9-aedb-dae23f7d2add",
   "metadata": {},
   "outputs": [],
   "source": []
  }
 ],
 "metadata": {
  "kernelspec": {
   "display_name": "Python 3 (ipykernel)",
   "language": "python",
   "name": "python3"
  },
  "language_info": {
   "codemirror_mode": {
    "name": "ipython",
    "version": 3
   },
   "file_extension": ".py",
   "mimetype": "text/x-python",
   "name": "python",
   "nbconvert_exporter": "python",
   "pygments_lexer": "ipython3",
   "version": "3.13.1"
  }
 },
 "nbformat": 4,
 "nbformat_minor": 5
}
